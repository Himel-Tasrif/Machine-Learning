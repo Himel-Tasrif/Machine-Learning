{
 "cells": [
  {
   "cell_type": "code",
   "execution_count": 1,
   "id": "c60dbc29",
   "metadata": {},
   "outputs": [],
   "source": [
    "import numpy as np \n",
    "import matplotlib.pyplot as plt\n",
    "import pandas as pd\n",
    "%matplotlib inline"
   ]
  },
  {
   "cell_type": "code",
   "execution_count": 2,
   "id": "3265795b",
   "metadata": {},
   "outputs": [
    {
     "data": {
      "text/html": [
       "<div>\n",
       "<style scoped>\n",
       "    .dataframe tbody tr th:only-of-type {\n",
       "        vertical-align: middle;\n",
       "    }\n",
       "\n",
       "    .dataframe tbody tr th {\n",
       "        vertical-align: top;\n",
       "    }\n",
       "\n",
       "    .dataframe thead th {\n",
       "        text-align: right;\n",
       "    }\n",
       "</style>\n",
       "<table border=\"1\" class=\"dataframe\">\n",
       "  <thead>\n",
       "    <tr style=\"text-align: right;\">\n",
       "      <th></th>\n",
       "      <th>Tag</th>\n",
       "      <th>Text</th>\n",
       "    </tr>\n",
       "  </thead>\n",
       "  <tbody>\n",
       "    <tr>\n",
       "      <th>0</th>\n",
       "      <td>Negative</td>\n",
       "      <td>মাদ্রিদ হারার পর পুরা মনটাই ভাইঙ্গা গেছে :( কি...</td>\n",
       "    </tr>\n",
       "    <tr>\n",
       "      <th>1</th>\n",
       "      <td>Negative</td>\n",
       "      <td>আমি মানুষটা খুব একটা ভালো না। আসলে ভালো থেকে ক...</td>\n",
       "    </tr>\n",
       "    <tr>\n",
       "      <th>2</th>\n",
       "      <td>Negative</td>\n",
       "      <td>নোয়াখালীতে একজন মারা গেছে পিকেটারদের ইটের আঘাত...</td>\n",
       "    </tr>\n",
       "    <tr>\n",
       "      <th>3</th>\n",
       "      <td>Negative</td>\n",
       "      <td>﻿মন দিতে না পারলে মন ভেঙো না। সুখ দিতে না পারল...</td>\n",
       "    </tr>\n",
       "    <tr>\n",
       "      <th>4</th>\n",
       "      <td>Negative</td>\n",
       "      <td>আজাইরা কামে যে প্রচুর সময় নষ্ট করি তা আজকেও আর...</td>\n",
       "    </tr>\n",
       "    <tr>\n",
       "      <th>...</th>\n",
       "      <td>...</td>\n",
       "      <td>...</td>\n",
       "    </tr>\n",
       "    <tr>\n",
       "      <th>15520</th>\n",
       "      <td>Negative</td>\n",
       "      <td>হিল্লোল ভাইয়ের আরেকটা ভিডিও দেখেন । কাচ্চির সে...</td>\n",
       "    </tr>\n",
       "    <tr>\n",
       "      <th>15521</th>\n",
       "      <td>Negative</td>\n",
       "      <td>দাদা ডাব চিংড়ির বিষয়ে কিসু বললেন না</td>\n",
       "    </tr>\n",
       "    <tr>\n",
       "      <th>15522</th>\n",
       "      <td>Negative</td>\n",
       "      <td>ভাই আপনার খাওয়া দেইখা আমারও খালি খাইতে মুঞ্চাই</td>\n",
       "    </tr>\n",
       "    <tr>\n",
       "      <th>15523</th>\n",
       "      <td>Negative</td>\n",
       "      <td>ভাই আপনি ফুড ব্লগ না করে , শুধু ট্রাভেল ব্লগই ...</td>\n",
       "    </tr>\n",
       "    <tr>\n",
       "      <th>15524</th>\n",
       "      <td>Negative</td>\n",
       "      <td>5 । নবী করীম ( সাঃ ) এর আনিত বিধানের কোন একটিক...</td>\n",
       "    </tr>\n",
       "  </tbody>\n",
       "</table>\n",
       "<p>15525 rows × 2 columns</p>\n",
       "</div>"
      ],
      "text/plain": [
       "            Tag                                               Text\n",
       "0      Negative  মাদ্রিদ হারার পর পুরা মনটাই ভাইঙ্গা গেছে :( কি...\n",
       "1      Negative  আমি মানুষটা খুব একটা ভালো না। আসলে ভালো থেকে ক...\n",
       "2      Negative  নোয়াখালীতে একজন মারা গেছে পিকেটারদের ইটের আঘাত...\n",
       "3      Negative  ﻿মন দিতে না পারলে মন ভেঙো না। সুখ দিতে না পারল...\n",
       "4      Negative  আজাইরা কামে যে প্রচুর সময় নষ্ট করি তা আজকেও আর...\n",
       "...         ...                                                ...\n",
       "15520  Negative  হিল্লোল ভাইয়ের আরেকটা ভিডিও দেখেন । কাচ্চির সে...\n",
       "15521  Negative                দাদা ডাব চিংড়ির বিষয়ে কিসু বললেন না\n",
       "15522  Negative     ভাই আপনার খাওয়া দেইখা আমারও খালি খাইতে মুঞ্চাই\n",
       "15523  Negative  ভাই আপনি ফুড ব্লগ না করে , শুধু ট্রাভেল ব্লগই ...\n",
       "15524  Negative  5 । নবী করীম ( সাঃ ) এর আনিত বিধানের কোন একটিক...\n",
       "\n",
       "[15525 rows x 2 columns]"
      ]
     },
     "execution_count": 2,
     "metadata": {},
     "output_type": "execute_result"
    }
   ],
   "source": [
    "df = pd.read_excel(\"Social Media Data.xlsx\")\n",
    "df"
   ]
  },
  {
   "cell_type": "code",
   "execution_count": 3,
   "id": "01a861c8",
   "metadata": {},
   "outputs": [
    {
     "data": {
      "text/plain": [
       "(15525, 2)"
      ]
     },
     "execution_count": 3,
     "metadata": {},
     "output_type": "execute_result"
    }
   ],
   "source": [
    "df.shape"
   ]
  },
  {
   "cell_type": "code",
   "execution_count": 4,
   "id": "8ecaab1e",
   "metadata": {},
   "outputs": [
    {
     "data": {
      "text/html": [
       "<div>\n",
       "<style scoped>\n",
       "    .dataframe tbody tr th:only-of-type {\n",
       "        vertical-align: middle;\n",
       "    }\n",
       "\n",
       "    .dataframe tbody tr th {\n",
       "        vertical-align: top;\n",
       "    }\n",
       "\n",
       "    .dataframe thead th {\n",
       "        text-align: right;\n",
       "    }\n",
       "</style>\n",
       "<table border=\"1\" class=\"dataframe\">\n",
       "  <thead>\n",
       "    <tr style=\"text-align: right;\">\n",
       "      <th></th>\n",
       "      <th>Tag</th>\n",
       "      <th>Text</th>\n",
       "    </tr>\n",
       "  </thead>\n",
       "  <tbody>\n",
       "    <tr>\n",
       "      <th>0</th>\n",
       "      <td>False</td>\n",
       "      <td>False</td>\n",
       "    </tr>\n",
       "    <tr>\n",
       "      <th>1</th>\n",
       "      <td>False</td>\n",
       "      <td>False</td>\n",
       "    </tr>\n",
       "    <tr>\n",
       "      <th>2</th>\n",
       "      <td>False</td>\n",
       "      <td>False</td>\n",
       "    </tr>\n",
       "    <tr>\n",
       "      <th>3</th>\n",
       "      <td>False</td>\n",
       "      <td>False</td>\n",
       "    </tr>\n",
       "    <tr>\n",
       "      <th>4</th>\n",
       "      <td>False</td>\n",
       "      <td>False</td>\n",
       "    </tr>\n",
       "    <tr>\n",
       "      <th>...</th>\n",
       "      <td>...</td>\n",
       "      <td>...</td>\n",
       "    </tr>\n",
       "    <tr>\n",
       "      <th>15520</th>\n",
       "      <td>False</td>\n",
       "      <td>False</td>\n",
       "    </tr>\n",
       "    <tr>\n",
       "      <th>15521</th>\n",
       "      <td>False</td>\n",
       "      <td>False</td>\n",
       "    </tr>\n",
       "    <tr>\n",
       "      <th>15522</th>\n",
       "      <td>False</td>\n",
       "      <td>False</td>\n",
       "    </tr>\n",
       "    <tr>\n",
       "      <th>15523</th>\n",
       "      <td>False</td>\n",
       "      <td>False</td>\n",
       "    </tr>\n",
       "    <tr>\n",
       "      <th>15524</th>\n",
       "      <td>False</td>\n",
       "      <td>False</td>\n",
       "    </tr>\n",
       "  </tbody>\n",
       "</table>\n",
       "<p>15525 rows × 2 columns</p>\n",
       "</div>"
      ],
      "text/plain": [
       "         Tag   Text\n",
       "0      False  False\n",
       "1      False  False\n",
       "2      False  False\n",
       "3      False  False\n",
       "4      False  False\n",
       "...      ...    ...\n",
       "15520  False  False\n",
       "15521  False  False\n",
       "15522  False  False\n",
       "15523  False  False\n",
       "15524  False  False\n",
       "\n",
       "[15525 rows x 2 columns]"
      ]
     },
     "execution_count": 4,
     "metadata": {},
     "output_type": "execute_result"
    }
   ],
   "source": [
    "df.isna()"
   ]
  },
  {
   "cell_type": "code",
   "execution_count": 5,
   "id": "282139d7",
   "metadata": {},
   "outputs": [
    {
     "data": {
      "text/plain": [
       "Tag     0\n",
       "Text    1\n",
       "dtype: int64"
      ]
     },
     "execution_count": 5,
     "metadata": {},
     "output_type": "execute_result"
    }
   ],
   "source": [
    "df.isna().sum()"
   ]
  },
  {
   "cell_type": "code",
   "execution_count": 6,
   "id": "1003f65e",
   "metadata": {},
   "outputs": [],
   "source": [
    "df.dropna(inplace = True)"
   ]
  },
  {
   "cell_type": "code",
   "execution_count": 7,
   "id": "9081c7d6",
   "metadata": {},
   "outputs": [
    {
     "data": {
      "text/plain": [
       "Tag     0\n",
       "Text    0\n",
       "dtype: int64"
      ]
     },
     "execution_count": 7,
     "metadata": {},
     "output_type": "execute_result"
    }
   ],
   "source": [
    "df.isna().sum()"
   ]
  },
  {
   "cell_type": "code",
   "execution_count": 8,
   "id": "e628e0fe",
   "metadata": {},
   "outputs": [
    {
     "data": {
      "text/plain": [
       "(15524, 2)"
      ]
     },
     "execution_count": 8,
     "metadata": {},
     "output_type": "execute_result"
    }
   ],
   "source": [
    "df.shape"
   ]
  },
  {
   "cell_type": "code",
   "execution_count": 9,
   "id": "404fe466",
   "metadata": {},
   "outputs": [
    {
     "data": {
      "text/plain": [
       "array(['মাদ্রিদ হারার পর পুরা মনটাই ভাইঙ্গা গেছে :( কিছুই ভালো লাগেনা ... ২ তারিখ কোপেনহেগেন এর সাথে হোম ম্যাচ .... http://fb.me/2MIEwzs4Z',\n",
       "       'আমি মানুষটা খুব একটা ভালো না। আসলে ভালো থেকে কি কোন বিশেষ সুবিধা আছে? না, নাই! ভালো থেকে অনেক দেখেছি, এটার কোন দামই নাই।।।',\n",
       "       'নোয়াখালীতে একজন মারা গেছে পিকেটারদের ইটের আঘাতে :(((', ...,\n",
       "       'ভাই আপনার খাওয়া দেইখা আমারও খালি খাইতে মুঞ্চাই',\n",
       "       'ভাই আপনি ফুড ব্লগ না করে , শুধু ট্রাভেল ব্লগই করেন !',\n",
       "       '5 । নবী করীম ( সাঃ ) এর আনিত বিধানের কোন একটিকে অপসন্দ করা । যদিও সে ঐ বিষয়ের উপর আমল করে'],\n",
       "      dtype=object)"
      ]
     },
     "execution_count": 9,
     "metadata": {},
     "output_type": "execute_result"
    }
   ],
   "source": [
    "df.Text.unique()"
   ]
  },
  {
   "cell_type": "code",
   "execution_count": 10,
   "id": "a827e2cf",
   "metadata": {},
   "outputs": [
    {
     "data": {
      "text/plain": [
       "array(['Negative', 'Positive'], dtype=object)"
      ]
     },
     "execution_count": 10,
     "metadata": {},
     "output_type": "execute_result"
    }
   ],
   "source": [
    "df.Tag.unique()"
   ]
  },
  {
   "cell_type": "code",
   "execution_count": 11,
   "id": "de7380eb",
   "metadata": {},
   "outputs": [],
   "source": [
    "df['Label'] = df['Tag'].map({\n",
    "    'Positive': 1,\n",
    "    'Negative' : 0\n",
    "}).astype(int)"
   ]
  },
  {
   "cell_type": "code",
   "execution_count": 12,
   "id": "1d77b779",
   "metadata": {},
   "outputs": [
    {
     "data": {
      "text/html": [
       "<div>\n",
       "<style scoped>\n",
       "    .dataframe tbody tr th:only-of-type {\n",
       "        vertical-align: middle;\n",
       "    }\n",
       "\n",
       "    .dataframe tbody tr th {\n",
       "        vertical-align: top;\n",
       "    }\n",
       "\n",
       "    .dataframe thead th {\n",
       "        text-align: right;\n",
       "    }\n",
       "</style>\n",
       "<table border=\"1\" class=\"dataframe\">\n",
       "  <thead>\n",
       "    <tr style=\"text-align: right;\">\n",
       "      <th></th>\n",
       "      <th>Tag</th>\n",
       "      <th>Text</th>\n",
       "      <th>Label</th>\n",
       "    </tr>\n",
       "  </thead>\n",
       "  <tbody>\n",
       "    <tr>\n",
       "      <th>0</th>\n",
       "      <td>Negative</td>\n",
       "      <td>মাদ্রিদ হারার পর পুরা মনটাই ভাইঙ্গা গেছে :( কি...</td>\n",
       "      <td>0</td>\n",
       "    </tr>\n",
       "    <tr>\n",
       "      <th>1</th>\n",
       "      <td>Negative</td>\n",
       "      <td>আমি মানুষটা খুব একটা ভালো না। আসলে ভালো থেকে ক...</td>\n",
       "      <td>0</td>\n",
       "    </tr>\n",
       "    <tr>\n",
       "      <th>2</th>\n",
       "      <td>Negative</td>\n",
       "      <td>নোয়াখালীতে একজন মারা গেছে পিকেটারদের ইটের আঘাত...</td>\n",
       "      <td>0</td>\n",
       "    </tr>\n",
       "    <tr>\n",
       "      <th>3</th>\n",
       "      <td>Negative</td>\n",
       "      <td>﻿মন দিতে না পারলে মন ভেঙো না। সুখ দিতে না পারল...</td>\n",
       "      <td>0</td>\n",
       "    </tr>\n",
       "    <tr>\n",
       "      <th>4</th>\n",
       "      <td>Negative</td>\n",
       "      <td>আজাইরা কামে যে প্রচুর সময় নষ্ট করি তা আজকেও আর...</td>\n",
       "      <td>0</td>\n",
       "    </tr>\n",
       "  </tbody>\n",
       "</table>\n",
       "</div>"
      ],
      "text/plain": [
       "        Tag                                               Text  Label\n",
       "0  Negative  মাদ্রিদ হারার পর পুরা মনটাই ভাইঙ্গা গেছে :( কি...      0\n",
       "1  Negative  আমি মানুষটা খুব একটা ভালো না। আসলে ভালো থেকে ক...      0\n",
       "2  Negative  নোয়াখালীতে একজন মারা গেছে পিকেটারদের ইটের আঘাত...      0\n",
       "3  Negative  ﻿মন দিতে না পারলে মন ভেঙো না। সুখ দিতে না পারল...      0\n",
       "4  Negative  আজাইরা কামে যে প্রচুর সময় নষ্ট করি তা আজকেও আর...      0"
      ]
     },
     "execution_count": 12,
     "metadata": {},
     "output_type": "execute_result"
    }
   ],
   "source": [
    "df.head()"
   ]
  },
  {
   "cell_type": "code",
   "execution_count": 13,
   "id": "a448613a",
   "metadata": {},
   "outputs": [
    {
     "data": {
      "text/plain": [
       "array([0, 1])"
      ]
     },
     "execution_count": 13,
     "metadata": {},
     "output_type": "execute_result"
    }
   ],
   "source": [
    "df.Label.unique()"
   ]
  },
  {
   "cell_type": "code",
   "execution_count": 14,
   "id": "1ff3c63d",
   "metadata": {},
   "outputs": [
    {
     "data": {
      "text/plain": [
       "pandas.core.series.Series"
      ]
     },
     "execution_count": 14,
     "metadata": {},
     "output_type": "execute_result"
    }
   ],
   "source": [
    "type(df.Label)"
   ]
  },
  {
   "cell_type": "code",
   "execution_count": 15,
   "id": "72751079",
   "metadata": {},
   "outputs": [
    {
     "name": "stdout",
     "output_type": "stream",
     "text": [
      "<class 'pandas.core.frame.DataFrame'>\n",
      "Int64Index: 15524 entries, 0 to 15524\n",
      "Data columns (total 3 columns):\n",
      " #   Column  Non-Null Count  Dtype \n",
      "---  ------  --------------  ----- \n",
      " 0   Tag     15524 non-null  object\n",
      " 1   Text    15524 non-null  object\n",
      " 2   Label   15524 non-null  int32 \n",
      "dtypes: int32(1), object(2)\n",
      "memory usage: 424.5+ KB\n"
     ]
    }
   ],
   "source": [
    "df.info()"
   ]
  },
  {
   "cell_type": "code",
   "execution_count": 16,
   "id": "713405a9",
   "metadata": {},
   "outputs": [
    {
     "data": {
      "text/plain": [
       "1    8015\n",
       "0    7509\n",
       "Name: Label, dtype: int64"
      ]
     },
     "execution_count": 16,
     "metadata": {},
     "output_type": "execute_result"
    }
   ],
   "source": [
    "df['Label'].value_counts()"
   ]
  },
  {
   "cell_type": "code",
   "execution_count": 28,
   "id": "f6c6d49b",
   "metadata": {},
   "outputs": [
    {
     "name": "stderr",
     "output_type": "stream",
     "text": [
      "[nltk_data] Downloading package punkt to\n",
      "[nltk_data]     C:\\Users\\User\\AppData\\Roaming\\nltk_data...\n",
      "[nltk_data]   Unzipping tokenizers\\punkt.zip.\n"
     ]
    },
    {
     "data": {
      "text/plain": [
       "True"
      ]
     },
     "execution_count": 28,
     "metadata": {},
     "output_type": "execute_result"
    }
   ],
   "source": [
    "# i am using spacy library you can also do that:\n",
    "'''import nltk\n",
    "nltk.download('punkt')\n",
    "df['num_characters'] = df['Text'].apply(len)\n",
    "df['num_words'] = df['Text'].apply(lambda x:len(nltk.word_tokenize(x)))\n",
    "df['num_sentences'] = df['Text'].apply(lambda x:len(nltk.sent_tokenize(x)))'''"
   ]
  },
  {
   "cell_type": "code",
   "execution_count": 17,
   "id": "2e45c4a1",
   "metadata": {},
   "outputs": [
    {
     "name": "stdout",
     "output_type": "stream",
     "text": [
      "Defaulting to user installation because normal site-packages is not writeable\n",
      "Collecting spacy\n",
      "  Downloading spacy-3.7.2-cp39-cp39-win_amd64.whl.metadata (26 kB)\n",
      "Collecting spacy-legacy<3.1.0,>=3.0.11 (from spacy)\n",
      "  Downloading spacy_legacy-3.0.12-py2.py3-none-any.whl (29 kB)\n",
      "Collecting spacy-loggers<2.0.0,>=1.0.0 (from spacy)\n",
      "  Downloading spacy_loggers-1.0.5-py3-none-any.whl.metadata (23 kB)\n",
      "Collecting murmurhash<1.1.0,>=0.28.0 (from spacy)\n",
      "  Downloading murmurhash-1.0.10-cp39-cp39-win_amd64.whl.metadata (2.0 kB)\n",
      "Collecting cymem<2.1.0,>=2.0.2 (from spacy)\n",
      "  Downloading cymem-2.0.8-cp39-cp39-win_amd64.whl.metadata (8.6 kB)\n",
      "Collecting preshed<3.1.0,>=3.0.2 (from spacy)\n",
      "  Downloading preshed-3.0.9-cp39-cp39-win_amd64.whl.metadata (2.2 kB)\n",
      "Collecting thinc<8.3.0,>=8.1.8 (from spacy)\n",
      "  Downloading thinc-8.2.2-cp39-cp39-win_amd64.whl.metadata (15 kB)\n",
      "Collecting wasabi<1.2.0,>=0.9.1 (from spacy)\n",
      "  Downloading wasabi-1.1.2-py3-none-any.whl.metadata (28 kB)\n",
      "Collecting srsly<3.0.0,>=2.4.3 (from spacy)\n",
      "  Downloading srsly-2.4.8-cp39-cp39-win_amd64.whl.metadata (20 kB)\n",
      "Collecting catalogue<2.1.0,>=2.0.6 (from spacy)\n",
      "  Downloading catalogue-2.0.10-py3-none-any.whl.metadata (14 kB)\n",
      "Collecting weasel<0.4.0,>=0.1.0 (from spacy)\n",
      "  Downloading weasel-0.3.4-py3-none-any.whl.metadata (4.7 kB)\n",
      "Collecting typer<0.10.0,>=0.3.0 (from spacy)\n",
      "  Downloading typer-0.9.0-py3-none-any.whl (45 kB)\n",
      "     -------------------------------------- 45.9/45.9 kB 252.6 kB/s eta 0:00:00\n",
      "Collecting smart-open<7.0.0,>=5.2.1 (from spacy)\n",
      "  Downloading smart_open-6.4.0-py3-none-any.whl.metadata (21 kB)\n",
      "Requirement already satisfied: tqdm<5.0.0,>=4.38.0 in g:\\himel.conda\\lib\\site-packages (from spacy) (4.64.0)\n",
      "Requirement already satisfied: requests<3.0.0,>=2.13.0 in g:\\himel.conda\\lib\\site-packages (from spacy) (2.27.1)\n",
      "Requirement already satisfied: pydantic!=1.8,!=1.8.1,<3.0.0,>=1.7.4 in c:\\users\\himel\\appdata\\roaming\\python\\python39\\site-packages (from spacy) (1.10.13)\n",
      "Requirement already satisfied: jinja2 in c:\\users\\himel\\appdata\\roaming\\python\\python39\\site-packages (from spacy) (3.0.3)\n",
      "Requirement already satisfied: setuptools in g:\\himel.conda\\lib\\site-packages (from spacy) (61.2.0)\n",
      "Requirement already satisfied: packaging>=20.0 in g:\\himel.conda\\lib\\site-packages (from spacy) (21.3)\n",
      "Collecting langcodes<4.0.0,>=3.2.0 (from spacy)\n",
      "  Downloading langcodes-3.3.0-py3-none-any.whl (181 kB)\n",
      "     ------------------------------------ 181.6/181.6 kB 610.0 kB/s eta 0:00:00\n",
      "Requirement already satisfied: numpy>=1.19.0 in c:\\users\\himel\\appdata\\roaming\\python\\python39\\site-packages (from spacy) (1.22.4)\n",
      "Requirement already satisfied: pyparsing!=3.0.5,>=2.0.2 in g:\\himel.conda\\lib\\site-packages (from packaging>=20.0->spacy) (3.0.4)\n",
      "Requirement already satisfied: typing-extensions>=4.2.0 in c:\\users\\himel\\appdata\\roaming\\python\\python39\\site-packages (from pydantic!=1.8,!=1.8.1,<3.0.0,>=1.7.4->spacy) (4.7.1)"
     ]
    },
    {
     "name": "stderr",
     "output_type": "stream",
     "text": [
      "  WARNING: The script weasel.exe is installed in 'C:\\Users\\Himel\\AppData\\Roaming\\Python\\Python39\\Scripts' which is not on PATH.\n",
      "  Consider adding this directory to PATH or, if you prefer to suppress this warning, use --no-warn-script-location.\n",
      "  WARNING: The script spacy.exe is installed in 'C:\\Users\\Himel\\AppData\\Roaming\\Python\\Python39\\Scripts' which is not on PATH.\n",
      "  Consider adding this directory to PATH or, if you prefer to suppress this warning, use --no-warn-script-location.\n",
      "ERROR: pip's dependency resolver does not currently take into account all the packages that are installed. This behaviour is the source of the following dependency conflicts.\n",
      "spyder 5.1.5 requires pyqt5<5.13, which is not installed.\n",
      "spyder 5.1.5 requires pyqtwebengine<5.13, which is not installed.\n",
      "distributed 2022.2.1 requires dask==2022.02.1, but you have dask 2023.10.1 which is incompatible.\n",
      "\n",
      "[notice] A new release of pip is available: 23.3.1 -> 23.3.2\n",
      "[notice] To update, run: python.exe -m pip install --upgrade pip\n"
     ]
    },
    {
     "name": "stdout",
     "output_type": "stream",
     "text": [
      "\n",
      "Requirement already satisfied: urllib3<1.27,>=1.21.1 in g:\\himel.conda\\lib\\site-packages (from requests<3.0.0,>=2.13.0->spacy) (1.26.9)\n",
      "Requirement already satisfied: certifi>=2017.4.17 in g:\\himel.conda\\lib\\site-packages (from requests<3.0.0,>=2.13.0->spacy) (2021.10.8)\n",
      "Requirement already satisfied: charset-normalizer~=2.0.0 in g:\\himel.conda\\lib\\site-packages (from requests<3.0.0,>=2.13.0->spacy) (2.0.4)\n",
      "Requirement already satisfied: idna<4,>=2.5 in g:\\himel.conda\\lib\\site-packages (from requests<3.0.0,>=2.13.0->spacy) (3.3)\n",
      "Collecting blis<0.8.0,>=0.7.8 (from thinc<8.3.0,>=8.1.8->spacy)\n",
      "  Downloading blis-0.7.11-cp39-cp39-win_amd64.whl.metadata (7.6 kB)\n",
      "Collecting confection<1.0.0,>=0.0.1 (from thinc<8.3.0,>=8.1.8->spacy)\n",
      "  Downloading confection-0.1.4-py3-none-any.whl.metadata (19 kB)\n",
      "Requirement already satisfied: colorama in g:\\himel.conda\\lib\\site-packages (from tqdm<5.0.0,>=4.38.0->spacy) (0.4.4)\n",
      "Requirement already satisfied: click<9.0.0,>=7.1.1 in g:\\himel.conda\\lib\\site-packages (from typer<0.10.0,>=0.3.0->spacy) (8.0.4)\n",
      "Collecting colorama (from tqdm<5.0.0,>=4.38.0->spacy)\n",
      "  Downloading colorama-0.4.6-py2.py3-none-any.whl (25 kB)\n",
      "Collecting cloudpathlib<0.17.0,>=0.7.0 (from weasel<0.4.0,>=0.1.0->spacy)\n",
      "  Downloading cloudpathlib-0.16.0-py3-none-any.whl.metadata (14 kB)\n",
      "Requirement already satisfied: MarkupSafe>=2.0 in c:\\users\\himel\\appdata\\roaming\\python\\python39\\site-packages (from jinja2->spacy) (2.1.3)\n",
      "Downloading spacy-3.7.2-cp39-cp39-win_amd64.whl (12.2 MB)\n",
      "   ---------------------------------------- 12.2/12.2 MB 962.4 kB/s eta 0:00:00\n",
      "Downloading catalogue-2.0.10-py3-none-any.whl (17 kB)\n",
      "Downloading cymem-2.0.8-cp39-cp39-win_amd64.whl (39 kB)\n",
      "Downloading murmurhash-1.0.10-cp39-cp39-win_amd64.whl (25 kB)\n",
      "Downloading preshed-3.0.9-cp39-cp39-win_amd64.whl (122 kB)\n",
      "   ---------------------------------------- 122.7/122.7 kB 1.2 MB/s eta 0:00:00\n",
      "Downloading smart_open-6.4.0-py3-none-any.whl (57 kB)\n",
      "   ---------------------------------------- 57.0/57.0 kB 755.0 kB/s eta 0:00:00\n",
      "Downloading spacy_loggers-1.0.5-py3-none-any.whl (22 kB)\n",
      "Downloading srsly-2.4.8-cp39-cp39-win_amd64.whl (483 kB)\n",
      "   ---------------------------------------- 483.8/483.8 kB 1.4 MB/s eta 0:00:00\n",
      "Downloading thinc-8.2.2-cp39-cp39-win_amd64.whl (1.5 MB)\n",
      "   ---------------------------------------- 1.5/1.5 MB 1.4 MB/s eta 0:00:00\n",
      "Downloading wasabi-1.1.2-py3-none-any.whl (27 kB)\n",
      "Downloading weasel-0.3.4-py3-none-any.whl (50 kB)\n",
      "   ---------------------------------------- 50.1/50.1 kB 282.8 kB/s eta 0:00:00\n",
      "Downloading blis-0.7.11-cp39-cp39-win_amd64.whl (6.6 MB)\n",
      "   ---------------------------------------- 6.6/6.6 MB 1.2 MB/s eta 0:00:00\n",
      "Downloading cloudpathlib-0.16.0-py3-none-any.whl (45 kB)\n",
      "   ---------------------------------------- 45.0/45.0 kB 319.1 kB/s eta 0:00:00\n",
      "Downloading confection-0.1.4-py3-none-any.whl (35 kB)\n",
      "Installing collected packages: cymem, spacy-loggers, spacy-legacy, smart-open, murmurhash, langcodes, colorama, cloudpathlib, catalogue, blis, wasabi, srsly, preshed, typer, confection, weasel, thinc, spacy\n",
      "Successfully installed blis-0.7.11 catalogue-2.0.10 cloudpathlib-0.16.0 colorama-0.4.6 confection-0.1.4 cymem-2.0.8 langcodes-3.3.0 murmurhash-1.0.10 preshed-3.0.9 smart-open-6.4.0 spacy-3.7.2 spacy-legacy-3.0.12 spacy-loggers-1.0.5 srsly-2.4.8 thinc-8.2.2 typer-0.9.0 wasabi-1.1.2 weasel-0.3.4\n"
     ]
    }
   ],
   "source": [
    "!pip install spacy"
   ]
  },
  {
   "cell_type": "code",
   "execution_count": 17,
   "id": "ee82a8d9",
   "metadata": {},
   "outputs": [],
   "source": [
    "import spacy"
   ]
  },
  {
   "cell_type": "code",
   "execution_count": 19,
   "id": "d608a41e",
   "metadata": {},
   "outputs": [
    {
     "name": "stdout",
     "output_type": "stream",
     "text": [
      "Defaulting to user installation because normal site-packages is not writeable\n",
      "Collecting en-core-web-sm==3.7.1\n",
      "  Downloading https://github.com/explosion/spacy-models/releases/download/en_core_web_sm-3.7.1/en_core_web_sm-3.7.1-py3-none-any.whl (12.8 MB)\n",
      "     ---------------------------------------- 12.8/12.8 MB 1.1 MB/s eta 0:00:00\n",
      "Requirement already satisfied: spacy<3.8.0,>=3.7.2 in c:\\users\\himel\\appdata\\roaming\\python\\python39\\site-packages (from en-core-web-sm==3.7.1) (3.7.2)\n",
      "Requirement already satisfied: spacy-legacy<3.1.0,>=3.0.11 in c:\\users\\himel\\appdata\\roaming\\python\\python39\\site-packages (from spacy<3.8.0,>=3.7.2->en-core-web-sm==3.7.1) (3.0.12)\n",
      "Requirement already satisfied: spacy-loggers<2.0.0,>=1.0.0 in c:\\users\\himel\\appdata\\roaming\\python\\python39\\site-packages (from spacy<3.8.0,>=3.7.2->en-core-web-sm==3.7.1) (1.0.5)\n",
      "Requirement already satisfied: murmurhash<1.1.0,>=0.28.0 in c:\\users\\himel\\appdata\\roaming\\python\\python39\\site-packages (from spacy<3.8.0,>=3.7.2->en-core-web-sm==3.7.1) (1.0.10)\n",
      "Requirement already satisfied: cymem<2.1.0,>=2.0.2 in c:\\users\\himel\\appdata\\roaming\\python\\python39\\site-packages (from spacy<3.8.0,>=3.7.2->en-core-web-sm==3.7.1) (2.0.8)\n",
      "Requirement already satisfied: preshed<3.1.0,>=3.0.2 in c:\\users\\himel\\appdata\\roaming\\python\\python39\\site-packages (from spacy<3.8.0,>=3.7.2->en-core-web-sm==3.7.1) (3.0.9)\n",
      "Requirement already satisfied: thinc<8.3.0,>=8.1.8 in c:\\users\\himel\\appdata\\roaming\\python\\python39\\site-packages (from spacy<3.8.0,>=3.7.2->en-core-web-sm==3.7.1) (8.2.2)\n",
      "Requirement already satisfied: wasabi<1.2.0,>=0.9.1 in c:\\users\\himel\\appdata\\roaming\\python\\python39\\site-packages (from spacy<3.8.0,>=3.7.2->en-core-web-sm==3.7.1) (1.1.2)\n",
      "Requirement already satisfied: srsly<3.0.0,>=2.4.3 in c:\\users\\himel\\appdata\\roaming\\python\\python39\\site-packages (from spacy<3.8.0,>=3.7.2->en-core-web-sm==3.7.1) (2.4.8)\n",
      "Requirement already satisfied: catalogue<2.1.0,>=2.0.6 in c:\\users\\himel\\appdata\\roaming\\python\\python39\\site-packages (from spacy<3.8.0,>=3.7.2->en-core-web-sm==3.7.1) (2.0.10)\n",
      "Requirement already satisfied: weasel<0.4.0,>=0.1.0 in c:\\users\\himel\\appdata\\roaming\\python\\python39\\site-packages (from spacy<3.8.0,>=3.7.2->en-core-web-sm==3.7.1) (0.3.4)\n",
      "Requirement already satisfied: typer<0.10.0,>=0.3.0 in c:\\users\\himel\\appdata\\roaming\\python\\python39\\site-packages (from spacy<3.8.0,>=3.7.2->en-core-web-sm==3.7.1) (0.9.0)\n",
      "Requirement already satisfied: smart-open<7.0.0,>=5.2.1 in c:\\users\\himel\\appdata\\roaming\\python\\python39\\site-packages (from spacy<3.8.0,>=3.7.2->en-core-web-sm==3.7.1) (6.4.0)\n",
      "Requirement already satisfied: tqdm<5.0.0,>=4.38.0 in g:\\himel.conda\\lib\\site-packages (from spacy<3.8.0,>=3.7.2->en-core-web-sm==3.7.1) (4.64.0)\n",
      "Requirement already satisfied: requests<3.0.0,>=2.13.0 in g:\\himel.conda\\lib\\site-packages (from spacy<3.8.0,>=3.7.2->en-core-web-sm==3.7.1) (2.27.1)\n",
      "Requirement already satisfied: pydantic!=1.8,!=1.8.1,<3.0.0,>=1.7.4 in c:\\users\\himel\\appdata\\roaming\\python\\python39\\site-packages (from spacy<3.8.0,>=3.7.2->en-core-web-sm==3.7.1) (1.10.13)\n",
      "Requirement already satisfied: jinja2 in c:\\users\\himel\\appdata\\roaming\\python\\python39\\site-packages (from spacy<3.8.0,>=3.7.2->en-core-web-sm==3.7.1) (3.0.3)\n",
      "Requirement already satisfied: setuptools in g:\\himel.conda\\lib\\site-packages (from spacy<3.8.0,>=3.7.2->en-core-web-sm==3.7.1) (61.2.0)\n",
      "Requirement already satisfied: packaging>=20.0 in g:\\himel.conda\\lib\\site-packages (from spacy<3.8.0,>=3.7.2->en-core-web-sm==3.7.1) (21.3)\n",
      "Requirement already satisfied: langcodes<4.0.0,>=3.2.0 in c:\\users\\himel\\appdata\\roaming\\python\\python39\\site-packages (from spacy<3.8.0,>=3.7.2->en-core-web-sm==3.7.1) (3.3.0)\n",
      "Requirement already satisfied: numpy>=1.19.0 in c:\\users\\himel\\appdata\\roaming\\python\\python39\\site-packages (from spacy<3.8.0,>=3.7.2->en-core-web-sm==3.7.1) (1.22.4)\n",
      "Requirement already satisfied: pyparsing!=3.0.5,>=2.0.2 in g:\\himel.conda\\lib\\site-packages (from packaging>=20.0->spacy<3.8.0,>=3.7.2->en-core-web-sm==3.7.1) (3.0.4)\n",
      "Requirement already satisfied: typing-extensions>=4.2.0 in c:\\users\\himel\\appdata\\roaming\\python\\python39\\site-packages (from pydantic!=1.8,!=1.8.1,<3.0.0,>=1.7.4->spacy<3.8.0,>=3.7.2->en-core-web-sm==3.7.1) (4.7.1)\n",
      "Requirement already satisfied: urllib3<1.27,>=1.21.1 in g:\\himel.conda\\lib\\site-packages (from requests<3.0.0,>=2.13.0->spacy<3.8.0,>=3.7.2->en-core-web-sm==3.7.1) (1.26.9)\n",
      "Requirement already satisfied: certifi>=2017.4.17 in g:\\himel.conda\\lib\\site-packages (from requests<3.0.0,>=2.13.0->spacy<3.8.0,>=3.7.2->en-core-web-sm==3.7.1) (2021.10.8)\n",
      "Requirement already satisfied: charset-normalizer~=2.0.0 in g:\\himel.conda\\lib\\site-packages (from requests<3.0.0,>=2.13.0->spacy<3.8.0,>=3.7.2->en-core-web-sm==3.7.1) (2.0.4)\n",
      "Requirement already satisfied: idna<4,>=2.5 in g:\\himel.conda\\lib\\site-packages (from requests<3.0.0,>=2.13.0->spacy<3.8.0,>=3.7.2->en-core-web-sm==3.7.1) (3.3)\n",
      "Requirement already satisfied: blis<0.8.0,>=0.7.8 in c:\\users\\himel\\appdata\\roaming\\python\\python39\\site-packages (from thinc<8.3.0,>=8.1.8->spacy<3.8.0,>=3.7.2->en-core-web-sm==3.7.1) (0.7.11)\n",
      "Requirement already satisfied: confection<1.0.0,>=0.0.1 in c:\\users\\himel\\appdata\\roaming\\python\\python39\\site-packages (from thinc<8.3.0,>=8.1.8->spacy<3.8.0,>=3.7.2->en-core-web-sm==3.7.1) (0.1.4)\n",
      "Requirement already satisfied: colorama in c:\\users\\himel\\appdata\\roaming\\python\\python39\\site-packages (from tqdm<5.0.0,>=4.38.0->spacy<3.8.0,>=3.7.2->en-core-web-sm==3.7.1) (0.4.6)\n",
      "Requirement already satisfied: click<9.0.0,>=7.1.1 in g:\\himel.conda\\lib\\site-packages (from typer<0.10.0,>=0.3.0->spacy<3.8.0,>=3.7.2->en-core-web-sm==3.7.1) (8.0.4)\n",
      "Requirement already satisfied: cloudpathlib<0.17.0,>=0.7.0 in c:\\users\\himel\\appdata\\roaming\\python\\python39\\site-packages (from weasel<0.4.0,>=0.1.0->spacy<3.8.0,>=3.7.2->en-core-web-sm==3.7.1) (0.16.0)\n",
      "Requirement already satisfied: MarkupSafe>=2.0 in c:\\users\\himel\\appdata\\roaming\\python\\python39\\site-packages (from jinja2->spacy<3.8.0,>=3.7.2->en-core-web-sm==3.7.1) (2.1.3)\n",
      "Installing collected packages: en-core-web-sm\n",
      "Successfully installed en-core-web-sm-3.7.1\n",
      "\u001b[38;5;2m[+] Download and installation successful\u001b[0m\n",
      "You can now load the package via spacy.load('en_core_web_sm')\n"
     ]
    },
    {
     "name": "stderr",
     "output_type": "stream",
     "text": [
      "\n",
      "[notice] A new release of pip is available: 23.3.1 -> 23.3.2\n",
      "[notice] To update, run: python.exe -m pip install --upgrade pip\n"
     ]
    }
   ],
   "source": [
    "!python -m spacy download en_core_web_sm"
   ]
  },
  {
   "cell_type": "code",
   "execution_count": 18,
   "id": "406bda05",
   "metadata": {},
   "outputs": [],
   "source": [
    "nlp = spacy.load('en_core_web_sm')"
   ]
  },
  {
   "cell_type": "code",
   "execution_count": 19,
   "id": "61c06254",
   "metadata": {},
   "outputs": [],
   "source": [
    "def calculate_stats(text):\n",
    "    doc = nlp(text)\n",
    "    num_characters = len(text)\n",
    "    num_words = len([token for token in doc if not token.is_punct and not token.is_space])\n",
    "    num_sentences = len(list(doc.sents))\n",
    "    return num_characters, num_words, num_sentences\n",
    "\n",
    "df[['num_characters', 'num_words', 'num_sentences']] = df['Text'].apply(calculate_stats).apply(pd.Series)"
   ]
  },
  {
   "cell_type": "code",
   "execution_count": 20,
   "id": "df823604",
   "metadata": {},
   "outputs": [
    {
     "data": {
      "text/html": [
       "<div>\n",
       "<style scoped>\n",
       "    .dataframe tbody tr th:only-of-type {\n",
       "        vertical-align: middle;\n",
       "    }\n",
       "\n",
       "    .dataframe tbody tr th {\n",
       "        vertical-align: top;\n",
       "    }\n",
       "\n",
       "    .dataframe thead th {\n",
       "        text-align: right;\n",
       "    }\n",
       "</style>\n",
       "<table border=\"1\" class=\"dataframe\">\n",
       "  <thead>\n",
       "    <tr style=\"text-align: right;\">\n",
       "      <th></th>\n",
       "      <th>Tag</th>\n",
       "      <th>Text</th>\n",
       "      <th>Label</th>\n",
       "      <th>num_characters</th>\n",
       "      <th>num_words</th>\n",
       "      <th>num_sentences</th>\n",
       "    </tr>\n",
       "  </thead>\n",
       "  <tbody>\n",
       "    <tr>\n",
       "      <th>0</th>\n",
       "      <td>Negative</td>\n",
       "      <td>মাদ্রিদ হারার পর পুরা মনটাই ভাইঙ্গা গেছে :( কি...</td>\n",
       "      <td>0</td>\n",
       "      <td>130</td>\n",
       "      <td>18</td>\n",
       "      <td>4</td>\n",
       "    </tr>\n",
       "    <tr>\n",
       "      <th>1</th>\n",
       "      <td>Negative</td>\n",
       "      <td>আমি মানুষটা খুব একটা ভালো না। আসলে ভালো থেকে ক...</td>\n",
       "      <td>0</td>\n",
       "      <td>122</td>\n",
       "      <td>24</td>\n",
       "      <td>3</td>\n",
       "    </tr>\n",
       "    <tr>\n",
       "      <th>2</th>\n",
       "      <td>Negative</td>\n",
       "      <td>নোয়াখালীতে একজন মারা গেছে পিকেটারদের ইটের আঘাত...</td>\n",
       "      <td>0</td>\n",
       "      <td>52</td>\n",
       "      <td>7</td>\n",
       "      <td>3</td>\n",
       "    </tr>\n",
       "    <tr>\n",
       "      <th>3</th>\n",
       "      <td>Negative</td>\n",
       "      <td>﻿মন দিতে না পারলে মন ভেঙো না। সুখ দিতে না পারল...</td>\n",
       "      <td>0</td>\n",
       "      <td>128</td>\n",
       "      <td>26</td>\n",
       "      <td>4</td>\n",
       "    </tr>\n",
       "    <tr>\n",
       "      <th>4</th>\n",
       "      <td>Negative</td>\n",
       "      <td>আজাইরা কামে যে প্রচুর সময় নষ্ট করি তা আজকেও আর...</td>\n",
       "      <td>0</td>\n",
       "      <td>132</td>\n",
       "      <td>21</td>\n",
       "      <td>5</td>\n",
       "    </tr>\n",
       "  </tbody>\n",
       "</table>\n",
       "</div>"
      ],
      "text/plain": [
       "        Tag                                               Text  Label  \\\n",
       "0  Negative  মাদ্রিদ হারার পর পুরা মনটাই ভাইঙ্গা গেছে :( কি...      0   \n",
       "1  Negative  আমি মানুষটা খুব একটা ভালো না। আসলে ভালো থেকে ক...      0   \n",
       "2  Negative  নোয়াখালীতে একজন মারা গেছে পিকেটারদের ইটের আঘাত...      0   \n",
       "3  Negative  ﻿মন দিতে না পারলে মন ভেঙো না। সুখ দিতে না পারল...      0   \n",
       "4  Negative  আজাইরা কামে যে প্রচুর সময় নষ্ট করি তা আজকেও আর...      0   \n",
       "\n",
       "   num_characters  num_words  num_sentences  \n",
       "0             130         18              4  \n",
       "1             122         24              3  \n",
       "2              52          7              3  \n",
       "3             128         26              4  \n",
       "4             132         21              5  "
      ]
     },
     "execution_count": 20,
     "metadata": {},
     "output_type": "execute_result"
    }
   ],
   "source": [
    "df.head()"
   ]
  },
  {
   "cell_type": "code",
   "execution_count": 21,
   "id": "91362d14",
   "metadata": {},
   "outputs": [
    {
     "data": {
      "text/plain": [
       "Tag                                                        Negative\n",
       "Text              মাদ্রিদ হারার পর পুরা মনটাই ভাইঙ্গা গেছে :( কি...\n",
       "Label                                                             0\n",
       "num_characters                                                  130\n",
       "num_words                                                        18\n",
       "num_sentences                                                     4\n",
       "Name: 0, dtype: object"
      ]
     },
     "execution_count": 21,
     "metadata": {},
     "output_type": "execute_result"
    }
   ],
   "source": [
    "df.loc[0]"
   ]
  },
  {
   "cell_type": "code",
   "execution_count": 22,
   "id": "29c17a58",
   "metadata": {},
   "outputs": [
    {
     "name": "stdout",
     "output_type": "stream",
     "text": [
      "মাদ্রিদ হারার পর পুরা মনটাই ভাইঙ্গা গেছে :( কিছুই ভালো লাগেনা ... ২ তারিখ কোপেনহেগেন এর সাথে হোম ম্যাচ .... http://fb.me/2MIEwzs4Z\n"
     ]
    }
   ],
   "source": [
    "index = 0 \n",
    "sentence = df.loc[index, 'Text']\n",
    "print(sentence)"
   ]
  },
  {
   "cell_type": "code",
   "execution_count": 23,
   "id": "6c615e62",
   "metadata": {},
   "outputs": [
    {
     "data": {
      "text/html": [
       "<div>\n",
       "<style scoped>\n",
       "    .dataframe tbody tr th:only-of-type {\n",
       "        vertical-align: middle;\n",
       "    }\n",
       "\n",
       "    .dataframe tbody tr th {\n",
       "        vertical-align: top;\n",
       "    }\n",
       "\n",
       "    .dataframe thead th {\n",
       "        text-align: right;\n",
       "    }\n",
       "</style>\n",
       "<table border=\"1\" class=\"dataframe\">\n",
       "  <thead>\n",
       "    <tr style=\"text-align: right;\">\n",
       "      <th></th>\n",
       "      <th>num_characters</th>\n",
       "      <th>num_words</th>\n",
       "      <th>num_sentences</th>\n",
       "    </tr>\n",
       "  </thead>\n",
       "  <tbody>\n",
       "    <tr>\n",
       "      <th>count</th>\n",
       "      <td>15524.000000</td>\n",
       "      <td>15524.000000</td>\n",
       "      <td>15524.000000</td>\n",
       "    </tr>\n",
       "    <tr>\n",
       "      <th>mean</th>\n",
       "      <td>70.498647</td>\n",
       "      <td>12.314932</td>\n",
       "      <td>1.754380</td>\n",
       "    </tr>\n",
       "    <tr>\n",
       "      <th>std</th>\n",
       "      <td>82.493151</td>\n",
       "      <td>13.847769</td>\n",
       "      <td>1.445135</td>\n",
       "    </tr>\n",
       "    <tr>\n",
       "      <th>min</th>\n",
       "      <td>2.000000</td>\n",
       "      <td>1.000000</td>\n",
       "      <td>1.000000</td>\n",
       "    </tr>\n",
       "    <tr>\n",
       "      <th>25%</th>\n",
       "      <td>27.000000</td>\n",
       "      <td>5.000000</td>\n",
       "      <td>1.000000</td>\n",
       "    </tr>\n",
       "    <tr>\n",
       "      <th>50%</th>\n",
       "      <td>50.000000</td>\n",
       "      <td>9.000000</td>\n",
       "      <td>1.000000</td>\n",
       "    </tr>\n",
       "    <tr>\n",
       "      <th>75%</th>\n",
       "      <td>89.000000</td>\n",
       "      <td>16.000000</td>\n",
       "      <td>2.000000</td>\n",
       "    </tr>\n",
       "    <tr>\n",
       "      <th>max</th>\n",
       "      <td>2900.000000</td>\n",
       "      <td>427.000000</td>\n",
       "      <td>35.000000</td>\n",
       "    </tr>\n",
       "  </tbody>\n",
       "</table>\n",
       "</div>"
      ],
      "text/plain": [
       "       num_characters     num_words  num_sentences\n",
       "count    15524.000000  15524.000000   15524.000000\n",
       "mean        70.498647     12.314932       1.754380\n",
       "std         82.493151     13.847769       1.445135\n",
       "min          2.000000      1.000000       1.000000\n",
       "25%         27.000000      5.000000       1.000000\n",
       "50%         50.000000      9.000000       1.000000\n",
       "75%         89.000000     16.000000       2.000000\n",
       "max       2900.000000    427.000000      35.000000"
      ]
     },
     "execution_count": 23,
     "metadata": {},
     "output_type": "execute_result"
    }
   ],
   "source": [
    "df[['num_characters','num_words','num_sentences']].describe()"
   ]
  },
  {
   "cell_type": "code",
   "execution_count": 30,
   "id": "4168d5bf",
   "metadata": {},
   "outputs": [],
   "source": [
    "import seaborn as sns"
   ]
  },
  {
   "cell_type": "code",
   "execution_count": 31,
   "id": "03e51437",
   "metadata": {},
   "outputs": [
    {
     "name": "stderr",
     "output_type": "stream",
     "text": [
      "C:\\Users\\User\\anaconda3\\Lib\\site-packages\\seaborn\\axisgrid.py:118: UserWarning: The figure layout has changed to tight\n",
      "  self._figure.tight_layout(*args, **kwargs)\n"
     ]
    },
    {
     "data": {
      "text/plain": [
       "<seaborn.axisgrid.PairGrid at 0x23b21c9b4d0>"
      ]
     },
     "execution_count": 31,
     "metadata": {},
     "output_type": "execute_result"
    },
    {
     "data": {
      "image/png": "[encoded data removed]",
      "text/plain": [
       "<Figure size 808.875x750 with 12 Axes>"
      ]
     },
     "metadata": {},
     "output_type": "display_data"
    }
   ],
   "source": [
    "sns.pairplot(df,hue='Label')"
   ]
  },
  {
   "cell_type": "code",
   "execution_count": 24,
   "id": "2224f62f",
   "metadata": {},
   "outputs": [
    {
     "data": {
      "text/plain": [
       "\"@RainnyMemories: অনেক দেখলাম, বুঝলাম এই পৃথিবীতে আমাকে বোঝার মতো কেউ নেই। আফসোস :(you don't know youself.\""
      ]
     },
     "execution_count": 24,
     "metadata": {},
     "output_type": "execute_result"
    }
   ],
   "source": [
    "df['Text'][225]"
   ]
  },
  {
   "cell_type": "code",
   "execution_count": 25,
   "id": "2fd0e244",
   "metadata": {},
   "outputs": [
    {
     "name": "stdout",
     "output_type": "stream",
     "text": [
      "The text at index 225 is labeled 0:  @RainnyMemories: অনেক দেখলাম, বুঝলাম এই পৃথিবীতে আমাকে বোঝার মতো কেউ নেই। আফসোস :(you don't know youself.\n"
     ]
    }
   ],
   "source": [
    "label = df.loc[225, 'Label']\n",
    "text = df.loc[225, 'Text']\n",
    "\n",
    "if label == 0:\n",
    "    print(\"The text at index 225 is labeled 0: \",text)\n",
    "elif label == 1:\n",
    "    print(\"The text at index 225 is labeled 1: \",text)"
   ]
  },
  {
   "cell_type": "markdown",
   "id": "af86cd37",
   "metadata": {},
   "source": [
    "## Processing Data"
   ]
  },
  {
   "cell_type": "code",
   "execution_count": 26,
   "id": "6c6d8aac",
   "metadata": {},
   "outputs": [],
   "source": [
    "import re"
   ]
  },
  {
   "cell_type": "code",
   "execution_count": 29,
   "id": "787fdf4b",
   "metadata": {},
   "outputs": [
    {
     "name": "stdout",
     "output_type": "stream",
     "text": [
      "\n",
      "\u001b[38;5;1m[x] No compatible package found for 'bn_core_news_sm' (spaCy\n",
      "v3.7.2)\u001b[0m\n",
      "\n"
     ]
    }
   ],
   "source": [
    "!python -m spacy download bn_core_news_sm"
   ]
  },
  {
   "cell_type": "code",
   "execution_count": 58,
   "id": "6ac20437",
   "metadata": {},
   "outputs": [
    {
     "data": {
      "text/plain": [
       "\"from spacy.lang.bn.stop_words import STOP_WORDS\\n\\nnlp = spacy.load('en_core_web_sm')\\n\\ndef preprocess_text(text):\\n    text = re.sub(r'#\\\\w+', '', text)\\n    text = re.sub(r'http[s]?://\\\\S+', '', text)\\n    text = re.sub(r'<.*?>', '', text)\\n\\n    text = re.sub('[^ঀ-\\u09ff]', ' ', str(text))\\n\\n    text = re.sub(r'[0-9০-৯]+', '', text)\\n\\n    doc = nlp(text)\\n    words = [token.text for token in doc]\\n\\n    words = [word for word in words if word not in STOP_WORDS]\\n\\n    unique_words = []\\n    for word in words:\\n        if word not in unique_words:\\n            unique_words.append(word)\\n\\n    return ' '.join(unique_words)\""
      ]
     },
     "execution_count": 58,
     "metadata": {},
     "output_type": "execute_result"
    }
   ],
   "source": [
    "'''from spacy.lang.bn.stop_words import STOP_WORDS\n",
    "\n",
    "nlp = spacy.load('en_core_web_sm')\n",
    "\n",
    "def preprocess_text(text):\n",
    "    text = re.sub(r'#\\w+', '', text)\n",
    "    text = re.sub(r'http[s]?://\\S+', '', text)\n",
    "    text = re.sub(r'<.*?>', '', text)\n",
    "\n",
    "    text = re.sub('[^\\u0980-\\u09FF]', ' ', str(text))\n",
    "\n",
    "    text = re.sub(r'[0-9০-৯]+', '', text)\n",
    "\n",
    "    doc = nlp(text)\n",
    "    words = [token.text for token in doc]\n",
    "\n",
    "    words = [word for word in words if word not in STOP_WORDS]\n",
    "\n",
    "    unique_words = []\n",
    "    for word in words:\n",
    "        if word not in unique_words:\n",
    "            unique_words.append(word)\n",
    "\n",
    "    return ' '.join(unique_words)'''"
   ]
  },
  {
   "cell_type": "code",
   "execution_count": 28,
   "id": "63432b13",
   "metadata": {},
   "outputs": [
    {
     "name": "stderr",
     "output_type": "stream",
     "text": [
      "[nltk_data] Downloading package stopwords to\n",
      "[nltk_data]     C:\\Users\\User\\AppData\\Roaming\\nltk_data...\n",
      "[nltk_data]   Package stopwords is already up-to-date!\n",
      "[nltk_data] Downloading package punkt to\n",
      "[nltk_data]     C:\\Users\\User\\AppData\\Roaming\\nltk_data...\n",
      "[nltk_data]   Package punkt is already up-to-date!\n"
     ]
    }
   ],
   "source": [
    "import nltk\n",
    "from nltk.corpus import stopwords\n",
    "nltk.download('stopwords')\n",
    "nltk.download('punkt')\n",
    "\n",
    "def preprocess_text(text):\n",
    "\n",
    "    text = re.sub(r'#\\w+', '', text)\n",
    "    text = re.sub(r'http[s]?://\\S+', '', text)\n",
    "    text = re.sub(r'<.*?>', '', text)\n",
    "\n",
    "    text = re.sub('[^\\u0980-\\u09FF]', ' ', str(text))\n",
    "\n",
    "\n",
    "    text = re.sub(r'[0-9০-৯]+', '', text)\n",
    "\n",
    "\n",
    "    words = nltk.word_tokenize(text)\n",
    "\n",
    "\n",
    "    stop_words = set(stopwords.words('bengali'))\n",
    "    words = [word for word in words if word not in stop_words]\n",
    "\n",
    "    unique_words = []\n",
    "    for word in words:\n",
    "        if word not in unique_words:\n",
    "            unique_words.append(word)\n",
    "\n",
    "    return ' '.join(unique_words)"
   ]
  },
  {
   "cell_type": "code",
   "execution_count": 60,
   "id": "f46a4b7f",
   "metadata": {},
   "outputs": [
    {
     "data": {
      "text/plain": [
       "'দেখলাম বুঝলাম পৃথিবীতে বোঝার আফসোস'"
      ]
     },
     "execution_count": 60,
     "metadata": {},
     "output_type": "execute_result"
    }
   ],
   "source": [
    "preprocess_text(\"@RainnyMemories: অনেক দেখলাম, বুঝলাম এই পৃথিবীতে আমাকে বোঝার মতো কেউ নেই। আফসোস :(you don't know youself.\")"
   ]
  },
  {
   "cell_type": "code",
   "execution_count": 61,
   "id": "3c725718",
   "metadata": {},
   "outputs": [
    {
     "data": {
      "text/plain": [
       "'কিউবির মডেম রিটার্ন গেলাম মাগার আফসোস ডঙ্গল হবার কারনে আমারটা নিলো মায়রে বাপ ডিসকো'"
      ]
     },
     "execution_count": 61,
     "metadata": {},
     "output_type": "execute_result"
    }
   ],
   "source": [
    "preprocess_text(\"কিউবির মডেম রিটার্ন করতে গেলাম, মাগার আফসোস ডঙ্গল হবার কারনে আমারটা নিলো না :( কিউবির মায়রে বাপ কি ডিসকো কি ডিসকো >:(\")"
   ]
  },
  {
   "cell_type": "code",
   "execution_count": 51,
   "id": "6976f230",
   "metadata": {},
   "outputs": [
    {
     "name": "stdout",
     "output_type": "stream",
     "text": [
      "কিউবির মডেম রিটার্ন করতে গেলাম, মাগার আফসোস ডঙ্গল হবার কারনে আমারটা নিলো না :( কিউবির মায়রে বাপ কি ডিসকো কি ডিসকো >:(\n"
     ]
    }
   ],
   "source": [
    "print(\"কিউবির মডেম রিটার্ন করতে গেলাম, মাগার আফসোস ডঙ্গল হবার কারনে আমারটা নিলো না :( কিউবির মায়রে বাপ কি ডিসকো কি ডিসকো >:(\")"
   ]
  },
  {
   "cell_type": "code",
   "execution_count": 30,
   "id": "c4520984",
   "metadata": {},
   "outputs": [
    {
     "name": "stdout",
     "output_type": "stream",
     "text": [
      "Defaulting to user installation because normal site-packages is not writeable\n",
      "Collecting indic-nlp-library\n",
      "  Downloading indic_nlp_library-0.92-py3-none-any.whl.metadata (5.7 kB)\n",
      "Collecting sphinx-argparse (from indic-nlp-library)\n",
      "  Downloading sphinx_argparse-0.4.0-py3-none-any.whl (12 kB)\n",
      "Collecting sphinx-rtd-theme (from indic-nlp-library)\n",
      "  Downloading sphinx_rtd_theme-2.0.0-py2.py3-none-any.whl.metadata (4.4 kB)\n",
      "Collecting morfessor (from indic-nlp-library)\n",
      "  Downloading Morfessor-2.0.6-py3-none-any.whl (35 kB)\n",
      "Requirement already satisfied: pandas in g:\\himel.conda\\lib\\site-packages (from indic-nlp-library) (1.4.2)\n",
      "Requirement already satisfied: numpy in c:\\users\\himel\\appdata\\roaming\\python\\python39\\site-packages (from indic-nlp-library) (1.22.4)\n",
      "Requirement already satisfied: python-dateutil>=2.8.1 in g:\\himel.conda\\lib\\site-packages (from pandas->indic-nlp-library) (2.8.2)\n",
      "Requirement already satisfied: pytz>=2020.1 in g:\\himel.conda\\lib\\site-packages (from pandas->indic-nlp-library) (2021.3)\n",
      "Requirement already satisfied: sphinx>=1.2.0 in g:\\himel.conda\\lib\\site-packages (from sphinx-argparse->indic-nlp-library) (4.4.0)\n",
      "Collecting sphinx>=1.2.0 (from sphinx-argparse->indic-nlp-library)\n",
      "  Downloading sphinx-7.2.6-py3-none-any.whl.metadata (5.9 kB)\n",
      "Requirement already satisfied: docutils<0.21 in g:\\himel.conda\\lib\\site-packages (from sphinx-rtd-theme->indic-nlp-library) (0.17.1)\n",
      "Collecting sphinxcontrib-jquery<5,>=4 (from sphinx-rtd-theme->indic-nlp-library)\n",
      "  Downloading sphinxcontrib_jquery-4.1-py2.py3-none-any.whl (121 kB)\n",
      "     ------------------------------------ 121.1/121.1 kB 203.0 kB/s eta 0:00:00\n",
      "Requirement already satisfied: six>=1.5 in g:\\himel.conda\\lib\\site-packages (from python-dateutil>=2.8.1->pandas->indic-nlp-library) (1.16.0)\n",
      "Requirement already satisfied: sphinxcontrib-applehelp in g:\\himel.conda\\lib\\site-packages (from sphinx>=1.2.0->sphinx-argparse->indic-nlp-library) (1.0.2)\n",
      "Requirement already satisfied: sphinxcontrib-devhelp in g:\\himel.conda\\lib\\site-packages (from sphinx>=1.2.0->sphinx-argparse->indic-nlp-library) (1.0.2)\n",
      "Requirement already satisfied: sphinxcontrib-jsmath in g:\\himel.conda\\lib\\site-packages (from sphinx>=1.2.0->sphinx-argparse->indic-nlp-library) (1.0.1)\n",
      "Requirement already satisfied: sphinxcontrib-htmlhelp>=2.0.0 in g:\\himel.conda\\lib\\site-packages (from sphinx>=1.2.0->sphinx-argparse->indic-nlp-library) (2.0.0)\n",
      "Collecting sphinxcontrib-serializinghtml>=1.1.9 (from sphinx>=1.2.0->sphinx-argparse->indic-nlp-library)\n",
      "  Downloading sphinxcontrib_serializinghtml-1.1.9-py3-none-any.whl.metadata (2.3 kB)\n",
      "Requirement already satisfied: sphinxcontrib-qthelp in g:\\himel.conda\\lib\\site-packages (from sphinx>=1.2.0->sphinx-argparse->indic-nlp-library) (1.0.3)\n",
      "Requirement already satisfied: Jinja2>=3.0 in c:\\users\\himel\\appdata\\roaming\\python\\python39\\site-packages (from sphinx>=1.2.0->sphinx-argparse->indic-nlp-library) (3.0.3)\n",
      "Collecting Pygments>=2.14 (from sphinx>=1.2.0->sphinx-argparse->indic-nlp-library)\n",
      "  Downloading pygments-2.17.2-py3-none-any.whl.metadata (2.6 kB)\n",
      "Collecting docutils<0.21 (from sphinx-rtd-theme->indic-nlp-library)\n",
      "  Downloading docutils-0.20.1-py3-none-any.whl.metadata (2.8 kB)\n",
      "Requirement already satisfied: snowballstemmer>=2.0 in g:\\himel.conda\\lib\\site-packages (from sphinx>=1.2.0->sphinx-argparse->indic-nlp-library) (2.2.0)\n",
      "Requirement already satisfied: babel>=2.9 in g:\\himel.conda\\lib\\site-packages (from sphinx>=1.2.0->sphinx-argparse->indic-nlp-library) (2.9.1)\n",
      "Requirement already satisfied: alabaster<0.8,>=0.7 in g:\\himel.conda\\lib\\site-packages (from sphinx>=1.2.0->sphinx-argparse->indic-nlp-library) (0.7.12)\n",
      "Requirement already satisfied: imagesize>=1.3 in g:\\himel.conda\\lib\\site-packages (from sphinx>=1.2.0->sphinx-argparse->indic-nlp-library) (1.3.0)\n",
      "Requirement already satisfied: requests>=2.25.0 in g:\\himel.conda\\lib\\site-packages (from sphinx>=1.2.0->sphinx-argparse->indic-nlp-library) (2.27.1)\n",
      "Requirement already satisfied: packaging>=21.0 in g:\\himel.conda\\lib\\site-packages (from sphinx>=1.2.0->sphinx-argparse->indic-nlp-library) (21.3)\n",
      "Requirement already satisfied: importlib-metadata>=4.8 in c:\\users\\himel\\appdata\\roaming\\python\\python39\\site-packages (from sphinx>=1.2.0->sphinx-argparse->indic-nlp-library) (6.8.0)\n",
      "Requirement already satisfied: colorama>=0.4.5 in c:\\users\\himel\\appdata\\roaming\\python\\python39\\site-packages (from sphinx>=1.2.0->sphinx-argparse->indic-nlp-library) (0.4.6)\n",
      "Requirement already satisfied: zipp>=0.5 in g:\\himel.conda\\lib\\site-packages (from importlib-metadata>=4.8->sphinx>=1.2.0->sphinx-argparse->indic-nlp-library) (3.7.0)\n",
      "Requirement already satisfied: MarkupSafe>=2.0 in c:\\users\\himel\\appdata\\roaming\\python\\python39\\site-packages (from Jinja2>=3.0->sphinx>=1.2.0->sphinx-argparse->indic-nlp-library) (2.1.3)\n",
      "Requirement already satisfied: pyparsing!=3.0.5,>=2.0.2 in g:\\himel.conda\\lib\\site-packages (from packaging>=21.0->sphinx>=1.2.0->sphinx-argparse->indic-nlp-library) (3.0.4)\n",
      "Requirement already satisfied: urllib3<1.27,>=1.21.1 in g:\\himel.conda\\lib\\site-packages (from requests>=2.25.0->sphinx>=1.2.0->sphinx-argparse->indic-nlp-library) (1.26.9)\n",
      "Requirement already satisfied: certifi>=2017.4.17 in g:\\himel.conda\\lib\\site-packages (from requests>=2.25.0->sphinx>=1.2.0->sphinx-argparse->indic-nlp-library) (2021.10.8)\n",
      "Requirement already satisfied: charset-normalizer~=2.0.0 in g:\\himel.conda\\lib\\site-packages (from requests>=2.25.0->sphinx>=1.2.0->sphinx-argparse->indic-nlp-library) (2.0.4)\n",
      "Requirement already satisfied: idna<4,>=2.5 in g:\\himel.conda\\lib\\site-packages (from requests>=2.25.0->sphinx>=1.2.0->sphinx-argparse->indic-nlp-library) (3.3)\n",
      "Downloading indic_nlp_library-0.92-py3-none-any.whl (40 kB)\n",
      "   ---------------------------------------- 40.3/40.3 kB 212.9 kB/s eta 0:00:00\n",
      "Downloading sphinx_rtd_theme-2.0.0-py2.py3-none-any.whl (2.8 MB)\n",
      "   ---------------------------------------- 2.8/2.8 MB 1.1 MB/s eta 0:00:00\n",
      "Downloading sphinx-7.2.6-py3-none-any.whl (3.2 MB)\n",
      "   ---------------------------------------- 3.2/3.2 MB 930.4 kB/s eta 0:00:00\n",
      "Downloading docutils-0.20.1-py3-none-any.whl (572 kB)\n",
      "   -------------------------------------- 572.7/572.7 kB 800.0 kB/s eta 0:00:00\n",
      "Downloading pygments-2.17.2-py3-none-any.whl (1.2 MB)\n",
      "   ---------------------------------------- 1.2/1.2 MB 1.1 MB/s eta 0:00:00\n",
      "Downloading sphinxcontrib_serializinghtml-1.1.9-py3-none-any.whl (92 kB)\n",
      "   ---------------------------------------- 92.7/92.7 kB 525.1 kB/s eta 0:00:00\n",
      "Installing collected packages: morfessor, Pygments, docutils, sphinxcontrib-serializinghtml, sphinx, sphinxcontrib-jquery, sphinx-rtd-theme, sphinx-argparse, indic-nlp-library\n",
      "Successfully installed Pygments-2.17.2 docutils-0.20.1 indic-nlp-library-0.92 morfessor-2.0.6 sphinx-7.2.6 sphinx-argparse-0.4.0 sphinx-rtd-theme-2.0.0 sphinxcontrib-jquery-4.1 sphinxcontrib-serializinghtml-1.1.9\n"
     ]
    },
    {
     "name": "stderr",
     "output_type": "stream",
     "text": [
      "  WARNING: The script pygmentize.exe is installed in 'C:\\Users\\Himel\\AppData\\Roaming\\Python\\Python39\\Scripts' which is not on PATH.\n",
      "  Consider adding this directory to PATH or, if you prefer to suppress this warning, use --no-warn-script-location.\n",
      "  WARNING: The script docutils.exe is installed in 'C:\\Users\\Himel\\AppData\\Roaming\\Python\\Python39\\Scripts' which is not on PATH.\n",
      "  Consider adding this directory to PATH or, if you prefer to suppress this warning, use --no-warn-script-location.\n",
      "  WARNING: The scripts sphinx-apidoc.exe, sphinx-autogen.exe, sphinx-build.exe and sphinx-quickstart.exe are installed in 'C:\\Users\\Himel\\AppData\\Roaming\\Python\\Python39\\Scripts' which is not on PATH.\n",
      "  Consider adding this directory to PATH or, if you prefer to suppress this warning, use --no-warn-script-location.\n",
      "ERROR: pip's dependency resolver does not currently take into account all the packages that are installed. This behaviour is the source of the following dependency conflicts.\n",
      "spyder 5.1.5 requires pyqt5<5.13, which is not installed.\n",
      "spyder 5.1.5 requires pyqtwebengine<5.13, which is not installed.\n",
      "\n",
      "[notice] A new release of pip is available: 23.3.1 -> 23.3.2\n",
      "[notice] To update, run: python.exe -m pip install --upgrade pip\n"
     ]
    }
   ],
   "source": [
    "!pip install indic-nlp-library"
   ]
  },
  {
   "cell_type": "markdown",
   "id": "da434489",
   "metadata": {},
   "source": [
    "## Previous one not that mush accurate so i am try to do more accurate result"
   ]
  },
  {
   "cell_type": "code",
   "execution_count": 27,
   "id": "66060056",
   "metadata": {},
   "outputs": [
    {
     "name": "stderr",
     "output_type": "stream",
     "text": [
      "[nltk_data] Downloading package stopwords to\n",
      "[nltk_data]     C:\\Users\\Himel\\AppData\\Roaming\\nltk_data...\n"
     ]
    },
    {
     "name": "stdout",
     "output_type": "stream",
     "text": [
      "অনেক দেখলাম বুঝলাম এই পৃথিবীতে আমাকে বোঝার মতো কেউ নেই আফসোস\n"
     ]
    },
    {
     "name": "stderr",
     "output_type": "stream",
     "text": [
      "[nltk_data]   Package stopwords is already up-to-date!\n"
     ]
    }
   ],
   "source": [
    "import re\n",
    "import nltk\n",
    "from nltk.corpus import stopwords\n",
    "from indicnlp.tokenize import indic_tokenize\n",
    "nltk.download('stopwords')\n",
    "\n",
    "def preprocess_text1(text):\n",
    "    text = re.sub(r'#\\w+', '', text)\n",
    "    text = re.sub(r'http[s]?://\\S+', '', text)\n",
    "    text = re.sub(r'<.*?>', '', text)\n",
    "\n",
    "    text = re.sub('[^\\u0980-\\u09FF]', ' ', str(text))\n",
    "    text = re.sub(r'[0-9০-৯]+', '', text)\n",
    "\n",
    "    words = indic_tokenize.trivial_tokenize(text, lang='bn')\n",
    "\n",
    "    stop_words = set(stopwords.words('bengali'))\n",
    "    \n",
    "    result = []\n",
    "    \n",
    "    for word in words:\n",
    "        result.append(word)\n",
    "\n",
    "    return ' '.join(result)\n",
    "\n",
    "result = preprocess_text1(\"@RainnyMemories: অনেক দেখলাম, বুঝলাম এই পৃথিবীতে আমাকে বোঝার মতো কেউ নেই। আফসোস :(you don't know youself.)\")\n",
    "\n",
    "print(result)"
   ]
  },
  {
   "cell_type": "code",
   "execution_count": 28,
   "id": "f63d1e06",
   "metadata": {},
   "outputs": [
    {
     "data": {
      "text/plain": [
       "'অনেক দেখলাম বুঝলাম এই পৃথিবীতে আমাকে বোঝার মতো কেউ নেই আফসোস'"
      ]
     },
     "execution_count": 28,
     "metadata": {},
     "output_type": "execute_result"
    }
   ],
   "source": [
    "preprocess_text1(\"@RainnyMemories: অনেক দেখলাম, বুঝলাম এই পৃথিবীতে আমাকে বোঝার মতো কেউ নেই। আফসোস :(you don't know youself.\")"
   ]
  },
  {
   "cell_type": "code",
   "execution_count": 29,
   "id": "d8d17e8c",
   "metadata": {},
   "outputs": [
    {
     "data": {
      "text/plain": [
       "'কিউবির মডেম রিটার্ন করতে গেলাম মাগার আফসোস ডঙ্গল হবার কারনে আমারটা নিলো না কিউবির মায়রে বাপ কি ডিসকো কি ডিসকো'"
      ]
     },
     "execution_count": 29,
     "metadata": {},
     "output_type": "execute_result"
    }
   ],
   "source": [
    "preprocess_text1(\"কিউবির মডেম রিটার্ন করতে গেলাম, মাগার আফসোস ডঙ্গল হবার কারনে আমারটা নিলো না :( কিউবির মায়রে বাপ কি ডিসকো কি ডিসকো >:(\")"
   ]
  },
  {
   "cell_type": "code",
   "execution_count": 30,
   "id": "11f93e2e",
   "metadata": {},
   "outputs": [],
   "source": [
    "df['Cleaned'] = df['Text'].apply(preprocess_text1)"
   ]
  },
  {
   "cell_type": "code",
   "execution_count": 31,
   "id": "58073de8",
   "metadata": {},
   "outputs": [
    {
     "data": {
      "text/html": [
       "<div>\n",
       "<style scoped>\n",
       "    .dataframe tbody tr th:only-of-type {\n",
       "        vertical-align: middle;\n",
       "    }\n",
       "\n",
       "    .dataframe tbody tr th {\n",
       "        vertical-align: top;\n",
       "    }\n",
       "\n",
       "    .dataframe thead th {\n",
       "        text-align: right;\n",
       "    }\n",
       "</style>\n",
       "<table border=\"1\" class=\"dataframe\">\n",
       "  <thead>\n",
       "    <tr style=\"text-align: right;\">\n",
       "      <th></th>\n",
       "      <th>Tag</th>\n",
       "      <th>Text</th>\n",
       "      <th>Label</th>\n",
       "      <th>num_characters</th>\n",
       "      <th>num_words</th>\n",
       "      <th>num_sentences</th>\n",
       "      <th>Cleaned</th>\n",
       "    </tr>\n",
       "  </thead>\n",
       "  <tbody>\n",
       "    <tr>\n",
       "      <th>0</th>\n",
       "      <td>Negative</td>\n",
       "      <td>মাদ্রিদ হারার পর পুরা মনটাই ভাইঙ্গা গেছে :( কি...</td>\n",
       "      <td>0</td>\n",
       "      <td>130</td>\n",
       "      <td>18</td>\n",
       "      <td>4</td>\n",
       "      <td>মাদ্রিদ হারার পর পুরা মনটাই ভাইঙ্গা গেছে কিছুই...</td>\n",
       "    </tr>\n",
       "    <tr>\n",
       "      <th>1</th>\n",
       "      <td>Negative</td>\n",
       "      <td>আমি মানুষটা খুব একটা ভালো না। আসলে ভালো থেকে ক...</td>\n",
       "      <td>0</td>\n",
       "      <td>122</td>\n",
       "      <td>24</td>\n",
       "      <td>3</td>\n",
       "      <td>আমি মানুষটা খুব একটা ভালো না আসলে ভালো থেকে কি...</td>\n",
       "    </tr>\n",
       "    <tr>\n",
       "      <th>2</th>\n",
       "      <td>Negative</td>\n",
       "      <td>নোয়াখালীতে একজন মারা গেছে পিকেটারদের ইটের আঘাত...</td>\n",
       "      <td>0</td>\n",
       "      <td>52</td>\n",
       "      <td>7</td>\n",
       "      <td>3</td>\n",
       "      <td>নোয়াখালীতে একজন মারা গেছে পিকেটারদের ইটের আঘাতে</td>\n",
       "    </tr>\n",
       "    <tr>\n",
       "      <th>3</th>\n",
       "      <td>Negative</td>\n",
       "      <td>﻿মন দিতে না পারলে মন ভেঙো না। সুখ দিতে না পারল...</td>\n",
       "      <td>0</td>\n",
       "      <td>128</td>\n",
       "      <td>26</td>\n",
       "      <td>4</td>\n",
       "      <td>মন দিতে না পারলে মন ভেঙো না সুখ দিতে না পারলে ...</td>\n",
       "    </tr>\n",
       "    <tr>\n",
       "      <th>4</th>\n",
       "      <td>Negative</td>\n",
       "      <td>আজাইরা কামে যে প্রচুর সময় নষ্ট করি তা আজকেও আর...</td>\n",
       "      <td>0</td>\n",
       "      <td>132</td>\n",
       "      <td>21</td>\n",
       "      <td>5</td>\n",
       "      <td>আজাইরা কামে যে প্রচুর সময় নষ্ট করি তা আজকেও আর...</td>\n",
       "    </tr>\n",
       "    <tr>\n",
       "      <th>...</th>\n",
       "      <td>...</td>\n",
       "      <td>...</td>\n",
       "      <td>...</td>\n",
       "      <td>...</td>\n",
       "      <td>...</td>\n",
       "      <td>...</td>\n",
       "      <td>...</td>\n",
       "    </tr>\n",
       "    <tr>\n",
       "      <th>15520</th>\n",
       "      <td>Negative</td>\n",
       "      <td>হিল্লোল ভাইয়ের আরেকটা ভিডিও দেখেন । কাচ্চির সে...</td>\n",
       "      <td>0</td>\n",
       "      <td>178</td>\n",
       "      <td>27</td>\n",
       "      <td>4</td>\n",
       "      <td>হিল্লোল ভাইয়ের আরেকটা ভিডিও দেখেন কাচ্চির সেই ...</td>\n",
       "    </tr>\n",
       "    <tr>\n",
       "      <th>15521</th>\n",
       "      <td>Negative</td>\n",
       "      <td>দাদা ডাব চিংড়ির বিষয়ে কিসু বললেন না</td>\n",
       "      <td>0</td>\n",
       "      <td>35</td>\n",
       "      <td>7</td>\n",
       "      <td>3</td>\n",
       "      <td>দাদা ডাব চিংড়ির বিষয়ে কিসু বললেন না</td>\n",
       "    </tr>\n",
       "    <tr>\n",
       "      <th>15522</th>\n",
       "      <td>Negative</td>\n",
       "      <td>ভাই আপনার খাওয়া দেইখা আমারও খালি খাইতে মুঞ্চাই</td>\n",
       "      <td>0</td>\n",
       "      <td>46</td>\n",
       "      <td>8</td>\n",
       "      <td>1</td>\n",
       "      <td>ভাই আপনার খাওয়া দেইখা আমারও খালি খাইতে মুঞ্চাই</td>\n",
       "    </tr>\n",
       "    <tr>\n",
       "      <th>15523</th>\n",
       "      <td>Negative</td>\n",
       "      <td>ভাই আপনি ফুড ব্লগ না করে , শুধু ট্রাভেল ব্লগই ...</td>\n",
       "      <td>0</td>\n",
       "      <td>52</td>\n",
       "      <td>10</td>\n",
       "      <td>1</td>\n",
       "      <td>ভাই আপনি ফুড ব্লগ না করে শুধু ট্রাভেল ব্লগই করেন</td>\n",
       "    </tr>\n",
       "    <tr>\n",
       "      <th>15524</th>\n",
       "      <td>Negative</td>\n",
       "      <td>5 । নবী করীম ( সাঃ ) এর আনিত বিধানের কোন একটিক...</td>\n",
       "      <td>0</td>\n",
       "      <td>89</td>\n",
       "      <td>18</td>\n",
       "      <td>2</td>\n",
       "      <td>নবী করীম সাঃ এর আনিত বিধানের কোন একটিকে অপসন্দ...</td>\n",
       "    </tr>\n",
       "  </tbody>\n",
       "</table>\n",
       "<p>15524 rows × 7 columns</p>\n",
       "</div>"
      ],
      "text/plain": [
       "            Tag                                               Text  Label  \\\n",
       "0      Negative  মাদ্রিদ হারার পর পুরা মনটাই ভাইঙ্গা গেছে :( কি...      0   \n",
       "1      Negative  আমি মানুষটা খুব একটা ভালো না। আসলে ভালো থেকে ক...      0   \n",
       "2      Negative  নোয়াখালীতে একজন মারা গেছে পিকেটারদের ইটের আঘাত...      0   \n",
       "3      Negative  ﻿মন দিতে না পারলে মন ভেঙো না। সুখ দিতে না পারল...      0   \n",
       "4      Negative  আজাইরা কামে যে প্রচুর সময় নষ্ট করি তা আজকেও আর...      0   \n",
       "...         ...                                                ...    ...   \n",
       "15520  Negative  হিল্লোল ভাইয়ের আরেকটা ভিডিও দেখেন । কাচ্চির সে...      0   \n",
       "15521  Negative                দাদা ডাব চিংড়ির বিষয়ে কিসু বললেন না      0   \n",
       "15522  Negative     ভাই আপনার খাওয়া দেইখা আমারও খালি খাইতে মুঞ্চাই      0   \n",
       "15523  Negative  ভাই আপনি ফুড ব্লগ না করে , শুধু ট্রাভেল ব্লগই ...      0   \n",
       "15524  Negative  5 । নবী করীম ( সাঃ ) এর আনিত বিধানের কোন একটিক...      0   \n",
       "\n",
       "       num_characters  num_words  num_sentences  \\\n",
       "0                 130         18              4   \n",
       "1                 122         24              3   \n",
       "2                  52          7              3   \n",
       "3                 128         26              4   \n",
       "4                 132         21              5   \n",
       "...               ...        ...            ...   \n",
       "15520             178         27              4   \n",
       "15521              35          7              3   \n",
       "15522              46          8              1   \n",
       "15523              52         10              1   \n",
       "15524              89         18              2   \n",
       "\n",
       "                                                 Cleaned  \n",
       "0      মাদ্রিদ হারার পর পুরা মনটাই ভাইঙ্গা গেছে কিছুই...  \n",
       "1      আমি মানুষটা খুব একটা ভালো না আসলে ভালো থেকে কি...  \n",
       "2        নোয়াখালীতে একজন মারা গেছে পিকেটারদের ইটের আঘাতে  \n",
       "3      মন দিতে না পারলে মন ভেঙো না সুখ দিতে না পারলে ...  \n",
       "4      আজাইরা কামে যে প্রচুর সময় নষ্ট করি তা আজকেও আর...  \n",
       "...                                                  ...  \n",
       "15520  হিল্লোল ভাইয়ের আরেকটা ভিডিও দেখেন কাচ্চির সেই ...  \n",
       "15521                দাদা ডাব চিংড়ির বিষয়ে কিসু বললেন না  \n",
       "15522     ভাই আপনার খাওয়া দেইখা আমারও খালি খাইতে মুঞ্চাই  \n",
       "15523   ভাই আপনি ফুড ব্লগ না করে শুধু ট্রাভেল ব্লগই করেন  \n",
       "15524  নবী করীম সাঃ এর আনিত বিধানের কোন একটিকে অপসন্দ...  \n",
       "\n",
       "[15524 rows x 7 columns]"
      ]
     },
     "execution_count": 31,
     "metadata": {},
     "output_type": "execute_result"
    }
   ],
   "source": [
    "df"
   ]
  },
  {
   "cell_type": "code",
   "execution_count": 32,
   "id": "42709f41",
   "metadata": {},
   "outputs": [],
   "source": [
    "from sklearn.feature_extraction.text import TfidfVectorizer, CountVectorizer"
   ]
  },
  {
   "cell_type": "code",
   "execution_count": 33,
   "id": "608b8843",
   "metadata": {},
   "outputs": [],
   "source": [
    "cv = CountVectorizer()"
   ]
  },
  {
   "cell_type": "code",
   "execution_count": 34,
   "id": "fda8d816",
   "metadata": {},
   "outputs": [],
   "source": [
    "from sklearn.model_selection import train_test_split"
   ]
  },
  {
   "cell_type": "code",
   "execution_count": 35,
   "id": "2b9e2fd4",
   "metadata": {},
   "outputs": [],
   "source": [
    "x = cv.fit_transform(df['Cleaned']).toarray()\n",
    "y = df['Label']"
   ]
  },
  {
   "cell_type": "code",
   "execution_count": 36,
   "id": "294716d4",
   "metadata": {},
   "outputs": [],
   "source": [
    "x_train, x_test, y_train, y_test = train_test_split(x, y, test_size=0.2, random_state=42)"
   ]
  },
  {
   "cell_type": "code",
   "execution_count": 37,
   "id": "18827745",
   "metadata": {},
   "outputs": [],
   "source": [
    "from sklearn.metrics import accuracy_score, precision_score, recall_score, f1_score, classification_report"
   ]
  },
  {
   "cell_type": "code",
   "execution_count": 38,
   "id": "051cc114",
   "metadata": {},
   "outputs": [],
   "source": [
    "from sklearn.svm import SVC"
   ]
  },
  {
   "cell_type": "code",
   "execution_count": 39,
   "id": "36999cdf",
   "metadata": {},
   "outputs": [
    {
     "name": "stdout",
     "output_type": "stream",
     "text": [
      "Result for SVM\n",
      "\n",
      "Accuracy: 0.83\n",
      "Precision: 0.90\n"
     ]
    }
   ],
   "source": [
    "svc = SVC()\n",
    "svc.fit(x_train, y_train)\n",
    "pred_svc = svc.predict(x_test)\n",
    "\n",
    "accuracy = accuracy_score(y_test, pred_svc)\n",
    "precision = precision_score(y_test, pred_svc)\n",
    "\n",
    "print(f'Result for SVM\\n')\n",
    "print(f'Accuracy: {accuracy:.2f}')\n",
    "print(f'Precision: {precision:.2f}')"
   ]
  },
  {
   "cell_type": "code",
   "execution_count": 40,
   "id": "7294d08f",
   "metadata": {},
   "outputs": [
    {
     "data": {
      "text/plain": [
       "['svc_model.sav']"
      ]
     },
     "execution_count": 40,
     "metadata": {},
     "output_type": "execute_result"
    }
   ],
   "source": [
    "import joblib\n",
    "\n",
    "joblib.dump(svc,'svc_model.sav')"
   ]
  },
  {
   "cell_type": "code",
   "execution_count": 41,
   "id": "8a5b79b9",
   "metadata": {},
   "outputs": [
    {
     "name": "stdout",
     "output_type": "stream",
     "text": [
      "Predicted Class: [0]\n"
     ]
    }
   ],
   "source": [
    "import joblib\n",
    "\n",
    "loaded_svc_model = joblib.load('svc_model.sav')\n",
    "\n",
    "new_text = \"আমি মানুষটা খুব একটা ভালো না। আসলে ভালো থেকে কি কোন বিশেষ সুবিধা আছে? না, নাই!ভালো থেকে অনেক দেখেছি, এটার কোন দামই নাই।।।\"\n",
    "new_text_vectorized = cv.transform([new_text]).toarray()\n",
    "\n",
    "prediction = loaded_svc_model.predict(new_text_vectorized)\n",
    "\n",
    "print(\"Predicted Class:\", prediction)"
   ]
  },
  {
   "cell_type": "code",
   "execution_count": 42,
   "id": "3eefc15a",
   "metadata": {},
   "outputs": [],
   "source": [
    "import pickle\n",
    "\n",
    "with open('vectorizer.pkl', 'wb') as file:\n",
    "    pickle.dump(cv, file)"
   ]
  },
  {
   "cell_type": "code",
   "execution_count": null,
   "id": "b12a960f",
   "metadata": {},
   "outputs": [],
   "source": []
  },
  {
   "cell_type": "code",
   "execution_count": null,
   "id": "7eb3d126",
   "metadata": {},
   "outputs": [],
   "source": []
  },
  {
   "cell_type": "code",
   "execution_count": null,
   "id": "4e33b365",
   "metadata": {},
   "outputs": [],
   "source": []
  }
 ],
 "metadata": {
  "kernelspec": {
   "display_name": "Python 3 (ipykernel)",
   "language": "python",
   "name": "python3"
  },
  "language_info": {
   "codemirror_mode": {
    "name": "ipython",
    "version": 3
   },
   "file_extension": ".py",
   "mimetype": "text/x-python",
   "name": "python",
   "nbconvert_exporter": "python",
   "pygments_lexer": "ipython3",
   "version": "3.9.12"
  }
 },
 "nbformat": 4,
 "nbformat_minor": 5
}
