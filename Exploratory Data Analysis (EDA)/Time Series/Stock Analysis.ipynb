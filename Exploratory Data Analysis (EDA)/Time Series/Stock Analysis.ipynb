{
 "cells": [
  {
   "cell_type": "markdown",
   "id": "f602c580",
   "metadata": {},
   "source": [
    "## Stock Analysis with Time Series data"
   ]
  },
  {
   "cell_type": "code",
   "execution_count": 2,
   "id": "b5100da2",
   "metadata": {},
   "outputs": [],
   "source": [
    "import pandas as pd\n",
    "import numpy as np \n",
    "import seaborn as sns\n",
    "import matplotlib.pyplot as plt\n",
    "%matplotlib inline"
   ]
  },
  {
   "cell_type": "markdown",
   "id": "67e6bfe5",
   "metadata": {},
   "source": [
    "## First Install pandas-datareader"
   ]
  },
  {
   "cell_type": "code",
   "execution_count": 3,
   "id": "20b5f5b9",
   "metadata": {},
   "outputs": [
    {
     "name": "stdout",
     "output_type": "stream",
     "text": [
      "Defaulting to user installation because normal site-packages is not writeable\n",
      "Collecting pandas-datareader\n",
      "  Downloading pandas_datareader-0.10.0-py3-none-any.whl (109 kB)\n",
      "     ------------------------------------ 109.5/109.5 kB 288.4 kB/s eta 0:00:00\n",
      "Requirement already satisfied: lxml in g:\\himel.conda\\lib\\site-packages (from pandas-datareader) (4.8.0)\n",
      "Requirement already satisfied: pandas>=0.23 in g:\\himel.conda\\lib\\site-packages (from pandas-datareader) (1.4.2)\n",
      "Requirement already satisfied: requests>=2.19.0 in g:\\himel.conda\\lib\\site-packages (from pandas-datareader) (2.27.1)\n",
      "Requirement already satisfied: python-dateutil>=2.8.1 in g:\\himel.conda\\lib\\site-packages (from pandas>=0.23->pandas-datareader) (2.8.2)\n",
      "Requirement already satisfied: pytz>=2020.1 in g:\\himel.conda\\lib\\site-packages (from pandas>=0.23->pandas-datareader) (2021.3)\n",
      "Requirement already satisfied: numpy>=1.18.5 in c:\\users\\himel\\appdata\\roaming\\python\\python39\\site-packages (from pandas>=0.23->pandas-datareader) (1.22.4)\n",
      "Requirement already satisfied: urllib3<1.27,>=1.21.1 in g:\\himel.conda\\lib\\site-packages (from requests>=2.19.0->pandas-datareader) (1.26.9)\n",
      "Requirement already satisfied: certifi>=2017.4.17 in g:\\himel.conda\\lib\\site-packages (from requests>=2.19.0->pandas-datareader) (2021.10.8)\n",
      "Requirement already satisfied: charset-normalizer~=2.0.0 in g:\\himel.conda\\lib\\site-packages (from requests>=2.19.0->pandas-datareader) (2.0.4)\n",
      "Requirement already satisfied: idna<4,>=2.5 in g:\\himel.conda\\lib\\site-packages (from requests>=2.19.0->pandas-datareader) (3.3)\n",
      "Requirement already satisfied: six>=1.5 in g:\\himel.conda\\lib\\site-packages (from python-dateutil>=2.8.1->pandas>=0.23->pandas-datareader) (1.16.0)\n",
      "Installing collected packages: pandas-datareader\n",
      "Successfully installed pandas-datareader-0.10.0\n"
     ]
    }
   ],
   "source": [
    "!pip install pandas-datareader"
   ]
  },
  {
   "cell_type": "code",
   "execution_count": 4,
   "id": "cd288271",
   "metadata": {},
   "outputs": [],
   "source": [
    "import pandas_datareader as pdr\n",
    "from datetime import datetime"
   ]
  },
  {
   "cell_type": "markdown",
   "id": "c38df598",
   "metadata": {},
   "source": [
    "## Stock Analysis"
   ]
  },
  {
   "cell_type": "markdown",
   "id": "327b0043",
   "metadata": {},
   "source": [
    "## you can also try pdr.get_data_yahoo()\n",
    "how can you get API?\n",
    "just sign up (polygon.io) and then login \n",
    "it gives you a API keys."
   ]
  },
  {
   "cell_type": "code",
   "execution_count": null,
   "id": "31cf6f91",
   "metadata": {},
   "outputs": [],
   "source": []
  },
  {
   "cell_type": "code",
   "execution_count": 9,
   "id": "d5f8f451",
   "metadata": {},
   "outputs": [],
   "source": [
    "df = pdr.get_data_alphavantage('TSLA',api_key='gdi6RV7GeU_SikJ4hZgOerx1bUHpVT7O')"
   ]
  },
  {
   "cell_type": "code",
   "execution_count": 10,
   "id": "dfa43aeb",
   "metadata": {},
   "outputs": [
    {
     "data": {
      "text/html": [
       "<div>\n",
       "<style scoped>\n",
       "    .dataframe tbody tr th:only-of-type {\n",
       "        vertical-align: middle;\n",
       "    }\n",
       "\n",
       "    .dataframe tbody tr th {\n",
       "        vertical-align: top;\n",
       "    }\n",
       "\n",
       "    .dataframe thead th {\n",
       "        text-align: right;\n",
       "    }\n",
       "</style>\n",
       "<table border=\"1\" class=\"dataframe\">\n",
       "  <thead>\n",
       "    <tr style=\"text-align: right;\">\n",
       "      <th></th>\n",
       "      <th>open</th>\n",
       "      <th>high</th>\n",
       "      <th>low</th>\n",
       "      <th>close</th>\n",
       "      <th>volume</th>\n",
       "    </tr>\n",
       "  </thead>\n",
       "  <tbody>\n",
       "    <tr>\n",
       "      <th>2010-06-29</th>\n",
       "      <td>19.00</td>\n",
       "      <td>25.0000</td>\n",
       "      <td>17.54</td>\n",
       "      <td>23.89</td>\n",
       "      <td>18766300</td>\n",
       "    </tr>\n",
       "    <tr>\n",
       "      <th>2010-06-30</th>\n",
       "      <td>25.79</td>\n",
       "      <td>30.4192</td>\n",
       "      <td>23.30</td>\n",
       "      <td>23.83</td>\n",
       "      <td>17187100</td>\n",
       "    </tr>\n",
       "    <tr>\n",
       "      <th>2010-07-01</th>\n",
       "      <td>25.00</td>\n",
       "      <td>25.9200</td>\n",
       "      <td>20.27</td>\n",
       "      <td>21.96</td>\n",
       "      <td>8218800</td>\n",
       "    </tr>\n",
       "    <tr>\n",
       "      <th>2010-07-02</th>\n",
       "      <td>23.00</td>\n",
       "      <td>23.1000</td>\n",
       "      <td>18.71</td>\n",
       "      <td>19.20</td>\n",
       "      <td>5139800</td>\n",
       "    </tr>\n",
       "    <tr>\n",
       "      <th>2010-07-06</th>\n",
       "      <td>20.00</td>\n",
       "      <td>20.0000</td>\n",
       "      <td>15.83</td>\n",
       "      <td>16.11</td>\n",
       "      <td>6866900</td>\n",
       "    </tr>\n",
       "  </tbody>\n",
       "</table>\n",
       "</div>"
      ],
      "text/plain": [
       "             open     high    low  close    volume\n",
       "2010-06-29  19.00  25.0000  17.54  23.89  18766300\n",
       "2010-06-30  25.79  30.4192  23.30  23.83  17187100\n",
       "2010-07-01  25.00  25.9200  20.27  21.96   8218800\n",
       "2010-07-02  23.00  23.1000  18.71  19.20   5139800\n",
       "2010-07-06  20.00  20.0000  15.83  16.11   6866900"
      ]
     },
     "execution_count": 10,
     "metadata": {},
     "output_type": "execute_result"
    }
   ],
   "source": [
    "df.head()"
   ]
  },
  {
   "cell_type": "code",
   "execution_count": 14,
   "id": "cb68a403",
   "metadata": {},
   "outputs": [
    {
     "data": {
      "text/plain": [
       "<AxesSubplot:>"
      ]
     },
     "execution_count": 14,
     "metadata": {},
     "output_type": "execute_result"
    },
    {
     "data": {
      "image/png": "[encoded data removed]",
      "text/plain": [
       "<Figure size 864x432 with 1 Axes>"
      ]
     },
     "metadata": {
      "needs_background": "light"
     },
     "output_type": "display_data"
    }
   ],
   "source": [
    "df.plot(figsize = (12,6))"
   ]
  },
  {
   "cell_type": "code",
   "execution_count": 36,
   "id": "63aaf625",
   "metadata": {},
   "outputs": [
    {
     "data": {
      "text/plain": [
       "<AxesSubplot:>"
      ]
     },
     "execution_count": 36,
     "metadata": {},
     "output_type": "execute_result"
    },
    {
     "data": {
      "image/png": "[encoded data removed]",
      "text/plain": [
       "<Figure size 864x432 with 1 Axes>"
      ]
     },
     "metadata": {
      "needs_background": "light"
     },
     "output_type": "display_data"
    }
   ],
   "source": [
    "df['high'].plot(figsize = (12,6), color = 'Green', ls='--') # ls mean line style\n",
    "# df['high'].plot(xlim=['2019-01-01','2022-05-27'],ylim=[0,900],figsize = (12,6))"
   ]
  },
  {
   "cell_type": "code",
   "execution_count": 37,
   "id": "9892ff23",
   "metadata": {},
   "outputs": [
    {
     "data": {
      "text/plain": [
       "Index(['2010-06-29', '2010-06-30', '2010-07-01', '2010-07-02', '2010-07-06',\n",
       "       '2010-07-07', '2010-07-08', '2010-07-09', '2010-07-12', '2010-07-13',\n",
       "       ...\n",
       "       '2023-10-18', '2023-10-19', '2023-10-20', '2023-10-23', '2023-10-24',\n",
       "       '2023-10-25', '2023-10-26', '2023-10-27', '2023-10-30', '2023-10-31'],\n",
       "      dtype='object', length=3359)"
      ]
     },
     "execution_count": 37,
     "metadata": {},
     "output_type": "execute_result"
    }
   ],
   "source": [
    "df.index"
   ]
  },
  {
   "cell_type": "code",
   "execution_count": 44,
   "id": "2791d9a0",
   "metadata": {},
   "outputs": [],
   "source": [
    "df_in = df.loc['2010-06-29':'2010-07-13'].index\n",
    "share = df.loc['2010-06-29':'2010-07-13']['open']"
   ]
  },
  {
   "cell_type": "code",
   "execution_count": 43,
   "id": "cd3520b6",
   "metadata": {},
   "outputs": [
    {
     "data": {
      "text/plain": [
       "2010-06-29    19.0000\n",
       "2010-06-30    25.7900\n",
       "2010-07-01    25.0000\n",
       "2010-07-02    23.0000\n",
       "2010-07-06    20.0000\n",
       "2010-07-07    16.4000\n",
       "2010-07-08    16.1400\n",
       "2010-07-09    17.5800\n",
       "2010-07-12    17.9500\n",
       "2010-07-13    17.3938\n",
       "Name: open, dtype: float64"
      ]
     },
     "execution_count": 43,
     "metadata": {},
     "output_type": "execute_result"
    }
   ],
   "source": [
    "share"
   ]
  },
  {
   "cell_type": "code",
   "execution_count": 45,
   "id": "b93f85b7",
   "metadata": {},
   "outputs": [
    {
     "data": {
      "text/plain": [
       "Index(['2010-06-29', '2010-06-30', '2010-07-01', '2010-07-02', '2010-07-06',\n",
       "       '2010-07-07', '2010-07-08', '2010-07-09', '2010-07-12', '2010-07-13'],\n",
       "      dtype='object')"
      ]
     },
     "execution_count": 45,
     "metadata": {},
     "output_type": "execute_result"
    }
   ],
   "source": [
    "df_in"
   ]
  },
  {
   "cell_type": "code",
   "execution_count": 59,
   "id": "180f285d",
   "metadata": {},
   "outputs": [
    {
     "data": {
      "text/plain": [
       "[<matplotlib.lines.Line2D at 0x2c480e950a0>]"
      ]
     },
     "execution_count": 59,
     "metadata": {},
     "output_type": "execute_result"
    },
    {
     "data": {
      "image/png": "[encoded data removed]",
      "text/plain": [
       "<Figure size 864x432 with 1 Axes>"
      ]
     },
     "metadata": {
      "needs_background": "light"
     },
     "output_type": "display_data"
    }
   ],
   "source": [
    "figure,axis = plt.subplots()\n",
    "plt.tight_layout()\n",
    "#figure.autofmt_xdata()\n",
    "axis.plot(df_in,share)"
   ]
  },
  {
   "cell_type": "markdown",
   "id": "a91d2654",
   "metadata": {},
   "source": [
    "## DateTime index "
   ]
  },
  {
   "cell_type": "code",
   "execution_count": 101,
   "id": "a7681696",
   "metadata": {},
   "outputs": [],
   "source": [
    "df1 = df.reset_index() # for this part here create a 'index' column here all the date are placed\n",
    "\n",
    "# renamed it for proper understanding\n",
    "df1.rename(columns={\n",
    "    'index': 'date'\n",
    "}, inplace = True)"
   ]
  },
  {
   "cell_type": "code",
   "execution_count": 102,
   "id": "b42c4bd0",
   "metadata": {},
   "outputs": [
    {
     "data": {
      "text/html": [
       "<div>\n",
       "<style scoped>\n",
       "    .dataframe tbody tr th:only-of-type {\n",
       "        vertical-align: middle;\n",
       "    }\n",
       "\n",
       "    .dataframe tbody tr th {\n",
       "        vertical-align: top;\n",
       "    }\n",
       "\n",
       "    .dataframe thead th {\n",
       "        text-align: right;\n",
       "    }\n",
       "</style>\n",
       "<table border=\"1\" class=\"dataframe\">\n",
       "  <thead>\n",
       "    <tr style=\"text-align: right;\">\n",
       "      <th></th>\n",
       "      <th>date</th>\n",
       "      <th>open</th>\n",
       "      <th>high</th>\n",
       "      <th>low</th>\n",
       "      <th>close</th>\n",
       "      <th>volume</th>\n",
       "    </tr>\n",
       "  </thead>\n",
       "  <tbody>\n",
       "    <tr>\n",
       "      <th>0</th>\n",
       "      <td>2010-06-29</td>\n",
       "      <td>19.00</td>\n",
       "      <td>25.0000</td>\n",
       "      <td>17.54</td>\n",
       "      <td>23.89</td>\n",
       "      <td>18766300</td>\n",
       "    </tr>\n",
       "    <tr>\n",
       "      <th>1</th>\n",
       "      <td>2010-06-30</td>\n",
       "      <td>25.79</td>\n",
       "      <td>30.4192</td>\n",
       "      <td>23.30</td>\n",
       "      <td>23.83</td>\n",
       "      <td>17187100</td>\n",
       "    </tr>\n",
       "    <tr>\n",
       "      <th>2</th>\n",
       "      <td>2010-07-01</td>\n",
       "      <td>25.00</td>\n",
       "      <td>25.9200</td>\n",
       "      <td>20.27</td>\n",
       "      <td>21.96</td>\n",
       "      <td>8218800</td>\n",
       "    </tr>\n",
       "    <tr>\n",
       "      <th>3</th>\n",
       "      <td>2010-07-02</td>\n",
       "      <td>23.00</td>\n",
       "      <td>23.1000</td>\n",
       "      <td>18.71</td>\n",
       "      <td>19.20</td>\n",
       "      <td>5139800</td>\n",
       "    </tr>\n",
       "    <tr>\n",
       "      <th>4</th>\n",
       "      <td>2010-07-06</td>\n",
       "      <td>20.00</td>\n",
       "      <td>20.0000</td>\n",
       "      <td>15.83</td>\n",
       "      <td>16.11</td>\n",
       "      <td>6866900</td>\n",
       "    </tr>\n",
       "    <tr>\n",
       "      <th>...</th>\n",
       "      <td>...</td>\n",
       "      <td>...</td>\n",
       "      <td>...</td>\n",
       "      <td>...</td>\n",
       "      <td>...</td>\n",
       "      <td>...</td>\n",
       "    </tr>\n",
       "    <tr>\n",
       "      <th>3354</th>\n",
       "      <td>2023-10-25</td>\n",
       "      <td>215.88</td>\n",
       "      <td>220.1000</td>\n",
       "      <td>212.20</td>\n",
       "      <td>212.42</td>\n",
       "      <td>107065087</td>\n",
       "    </tr>\n",
       "    <tr>\n",
       "      <th>3355</th>\n",
       "      <td>2023-10-26</td>\n",
       "      <td>211.32</td>\n",
       "      <td>214.8000</td>\n",
       "      <td>204.88</td>\n",
       "      <td>205.76</td>\n",
       "      <td>115112635</td>\n",
       "    </tr>\n",
       "    <tr>\n",
       "      <th>3356</th>\n",
       "      <td>2023-10-27</td>\n",
       "      <td>210.60</td>\n",
       "      <td>212.4100</td>\n",
       "      <td>205.77</td>\n",
       "      <td>207.30</td>\n",
       "      <td>94881173</td>\n",
       "    </tr>\n",
       "    <tr>\n",
       "      <th>3357</th>\n",
       "      <td>2023-10-30</td>\n",
       "      <td>209.28</td>\n",
       "      <td>210.8800</td>\n",
       "      <td>194.67</td>\n",
       "      <td>197.36</td>\n",
       "      <td>136448167</td>\n",
       "    </tr>\n",
       "    <tr>\n",
       "      <th>3358</th>\n",
       "      <td>2023-10-31</td>\n",
       "      <td>196.12</td>\n",
       "      <td>202.8000</td>\n",
       "      <td>194.07</td>\n",
       "      <td>200.84</td>\n",
       "      <td>118068273</td>\n",
       "    </tr>\n",
       "  </tbody>\n",
       "</table>\n",
       "<p>3359 rows × 6 columns</p>\n",
       "</div>"
      ],
      "text/plain": [
       "            date    open      high     low   close     volume\n",
       "0     2010-06-29   19.00   25.0000   17.54   23.89   18766300\n",
       "1     2010-06-30   25.79   30.4192   23.30   23.83   17187100\n",
       "2     2010-07-01   25.00   25.9200   20.27   21.96    8218800\n",
       "3     2010-07-02   23.00   23.1000   18.71   19.20    5139800\n",
       "4     2010-07-06   20.00   20.0000   15.83   16.11    6866900\n",
       "...          ...     ...       ...     ...     ...        ...\n",
       "3354  2023-10-25  215.88  220.1000  212.20  212.42  107065087\n",
       "3355  2023-10-26  211.32  214.8000  204.88  205.76  115112635\n",
       "3356  2023-10-27  210.60  212.4100  205.77  207.30   94881173\n",
       "3357  2023-10-30  209.28  210.8800  194.67  197.36  136448167\n",
       "3358  2023-10-31  196.12  202.8000  194.07  200.84  118068273\n",
       "\n",
       "[3359 rows x 6 columns]"
      ]
     },
     "execution_count": 102,
     "metadata": {},
     "output_type": "execute_result"
    }
   ],
   "source": [
    "df1"
   ]
  },
  {
   "cell_type": "markdown",
   "id": "486f5a41",
   "metadata": {},
   "source": [
    "we can see that my date column already in datetime formate \n",
    "but if it was not in date time formate then just type\n",
    "pd.to_datetime(df1['date'])\n",
    "\n",
    "\n",
    " it gives a datetime formate\n"
   ]
  },
  {
   "cell_type": "code",
   "execution_count": 103,
   "id": "99ea132d",
   "metadata": {},
   "outputs": [
    {
     "name": "stdout",
     "output_type": "stream",
     "text": [
      "<class 'pandas.core.frame.DataFrame'>\n",
      "RangeIndex: 3359 entries, 0 to 3358\n",
      "Data columns (total 6 columns):\n",
      " #   Column  Non-Null Count  Dtype  \n",
      "---  ------  --------------  -----  \n",
      " 0   date    3359 non-null   object \n",
      " 1   open    3359 non-null   float64\n",
      " 2   high    3359 non-null   float64\n",
      " 3   low     3359 non-null   float64\n",
      " 4   close   3359 non-null   float64\n",
      " 5   volume  3359 non-null   int64  \n",
      "dtypes: float64(4), int64(1), object(1)\n",
      "memory usage: 157.6+ KB\n"
     ]
    }
   ],
   "source": [
    "df1.info()"
   ]
  },
  {
   "cell_type": "code",
   "execution_count": 104,
   "id": "e18b80f7",
   "metadata": {},
   "outputs": [],
   "source": [
    "from datetime import datetime"
   ]
  },
  {
   "cell_type": "code",
   "execution_count": 105,
   "id": "f0b5b107",
   "metadata": {},
   "outputs": [],
   "source": [
    "date = datetime(2023,11,2)"
   ]
  },
  {
   "cell_type": "code",
   "execution_count": 106,
   "id": "a9f348b0",
   "metadata": {},
   "outputs": [
    {
     "data": {
      "text/plain": [
       "datetime.datetime(2023, 11, 2, 0, 0)"
      ]
     },
     "execution_count": 106,
     "metadata": {},
     "output_type": "execute_result"
    }
   ],
   "source": [
    "date"
   ]
  },
  {
   "cell_type": "code",
   "execution_count": 107,
   "id": "00421c81",
   "metadata": {},
   "outputs": [
    {
     "data": {
      "text/plain": [
       "datetime.date(2023, 11, 2)"
      ]
     },
     "execution_count": 107,
     "metadata": {},
     "output_type": "execute_result"
    }
   ],
   "source": [
    "date.date()"
   ]
  },
  {
   "cell_type": "code",
   "execution_count": 108,
   "id": "042ef60e",
   "metadata": {},
   "outputs": [
    {
     "data": {
      "text/plain": [
       "2"
      ]
     },
     "execution_count": 108,
     "metadata": {},
     "output_type": "execute_result"
    }
   ],
   "source": [
    "date.day"
   ]
  },
  {
   "cell_type": "code",
   "execution_count": 109,
   "id": "04b115f8",
   "metadata": {},
   "outputs": [
    {
     "data": {
      "text/plain": [
       "11"
      ]
     },
     "execution_count": 109,
     "metadata": {},
     "output_type": "execute_result"
    }
   ],
   "source": [
    "date.month"
   ]
  },
  {
   "cell_type": "code",
   "execution_count": 110,
   "id": "c0f99c3f",
   "metadata": {},
   "outputs": [
    {
     "data": {
      "text/plain": [
       "datetime.datetime(2023, 11, 2, 22, 26, 58, 148576)"
      ]
     },
     "execution_count": 110,
     "metadata": {},
     "output_type": "execute_result"
    }
   ],
   "source": [
    "datetime.now()"
   ]
  },
  {
   "cell_type": "markdown",
   "id": "8e000275",
   "metadata": {},
   "source": [
    "### let's find runtime using date time"
   ]
  },
  {
   "cell_type": "code",
   "execution_count": 111,
   "id": "8c50b93d",
   "metadata": {},
   "outputs": [
    {
     "name": "stdout",
     "output_type": "stream",
     "text": [
      "0:00:00.001000\n"
     ]
    }
   ],
   "source": [
    "def add_num(num1,num2):\n",
    "    return num1+num2\n",
    "\n",
    "start_t = datetime.now()\n",
    "num1 = 20\n",
    "num2 = 30\n",
    "add_num(num1,num2)\n",
    "end_t = datetime.now()\n",
    "print(end_t - start_t)"
   ]
  },
  {
   "cell_type": "markdown",
   "id": "408544eb",
   "metadata": {},
   "source": [
    "it means it's execute time less then 1 sec"
   ]
  },
  {
   "cell_type": "code",
   "execution_count": null,
   "id": "f7bdd3ec",
   "metadata": {},
   "outputs": [],
   "source": []
  },
  {
   "cell_type": "markdown",
   "id": "4c3a9882",
   "metadata": {},
   "source": [
    "## Time Resampling"
   ]
  },
  {
   "cell_type": "code",
   "execution_count": 112,
   "id": "945701d3",
   "metadata": {},
   "outputs": [
    {
     "data": {
      "text/html": [
       "<div>\n",
       "<style scoped>\n",
       "    .dataframe tbody tr th:only-of-type {\n",
       "        vertical-align: middle;\n",
       "    }\n",
       "\n",
       "    .dataframe tbody tr th {\n",
       "        vertical-align: top;\n",
       "    }\n",
       "\n",
       "    .dataframe thead th {\n",
       "        text-align: right;\n",
       "    }\n",
       "</style>\n",
       "<table border=\"1\" class=\"dataframe\">\n",
       "  <thead>\n",
       "    <tr style=\"text-align: right;\">\n",
       "      <th></th>\n",
       "      <th>date</th>\n",
       "      <th>open</th>\n",
       "      <th>high</th>\n",
       "      <th>low</th>\n",
       "      <th>close</th>\n",
       "      <th>volume</th>\n",
       "    </tr>\n",
       "  </thead>\n",
       "  <tbody>\n",
       "    <tr>\n",
       "      <th>0</th>\n",
       "      <td>2010-06-29</td>\n",
       "      <td>19.00</td>\n",
       "      <td>25.0000</td>\n",
       "      <td>17.54</td>\n",
       "      <td>23.89</td>\n",
       "      <td>18766300</td>\n",
       "    </tr>\n",
       "    <tr>\n",
       "      <th>1</th>\n",
       "      <td>2010-06-30</td>\n",
       "      <td>25.79</td>\n",
       "      <td>30.4192</td>\n",
       "      <td>23.30</td>\n",
       "      <td>23.83</td>\n",
       "      <td>17187100</td>\n",
       "    </tr>\n",
       "    <tr>\n",
       "      <th>2</th>\n",
       "      <td>2010-07-01</td>\n",
       "      <td>25.00</td>\n",
       "      <td>25.9200</td>\n",
       "      <td>20.27</td>\n",
       "      <td>21.96</td>\n",
       "      <td>8218800</td>\n",
       "    </tr>\n",
       "    <tr>\n",
       "      <th>3</th>\n",
       "      <td>2010-07-02</td>\n",
       "      <td>23.00</td>\n",
       "      <td>23.1000</td>\n",
       "      <td>18.71</td>\n",
       "      <td>19.20</td>\n",
       "      <td>5139800</td>\n",
       "    </tr>\n",
       "    <tr>\n",
       "      <th>4</th>\n",
       "      <td>2010-07-06</td>\n",
       "      <td>20.00</td>\n",
       "      <td>20.0000</td>\n",
       "      <td>15.83</td>\n",
       "      <td>16.11</td>\n",
       "      <td>6866900</td>\n",
       "    </tr>\n",
       "    <tr>\n",
       "      <th>...</th>\n",
       "      <td>...</td>\n",
       "      <td>...</td>\n",
       "      <td>...</td>\n",
       "      <td>...</td>\n",
       "      <td>...</td>\n",
       "      <td>...</td>\n",
       "    </tr>\n",
       "    <tr>\n",
       "      <th>3354</th>\n",
       "      <td>2023-10-25</td>\n",
       "      <td>215.88</td>\n",
       "      <td>220.1000</td>\n",
       "      <td>212.20</td>\n",
       "      <td>212.42</td>\n",
       "      <td>107065087</td>\n",
       "    </tr>\n",
       "    <tr>\n",
       "      <th>3355</th>\n",
       "      <td>2023-10-26</td>\n",
       "      <td>211.32</td>\n",
       "      <td>214.8000</td>\n",
       "      <td>204.88</td>\n",
       "      <td>205.76</td>\n",
       "      <td>115112635</td>\n",
       "    </tr>\n",
       "    <tr>\n",
       "      <th>3356</th>\n",
       "      <td>2023-10-27</td>\n",
       "      <td>210.60</td>\n",
       "      <td>212.4100</td>\n",
       "      <td>205.77</td>\n",
       "      <td>207.30</td>\n",
       "      <td>94881173</td>\n",
       "    </tr>\n",
       "    <tr>\n",
       "      <th>3357</th>\n",
       "      <td>2023-10-30</td>\n",
       "      <td>209.28</td>\n",
       "      <td>210.8800</td>\n",
       "      <td>194.67</td>\n",
       "      <td>197.36</td>\n",
       "      <td>136448167</td>\n",
       "    </tr>\n",
       "    <tr>\n",
       "      <th>3358</th>\n",
       "      <td>2023-10-31</td>\n",
       "      <td>196.12</td>\n",
       "      <td>202.8000</td>\n",
       "      <td>194.07</td>\n",
       "      <td>200.84</td>\n",
       "      <td>118068273</td>\n",
       "    </tr>\n",
       "  </tbody>\n",
       "</table>\n",
       "<p>3359 rows × 6 columns</p>\n",
       "</div>"
      ],
      "text/plain": [
       "            date    open      high     low   close     volume\n",
       "0     2010-06-29   19.00   25.0000   17.54   23.89   18766300\n",
       "1     2010-06-30   25.79   30.4192   23.30   23.83   17187100\n",
       "2     2010-07-01   25.00   25.9200   20.27   21.96    8218800\n",
       "3     2010-07-02   23.00   23.1000   18.71   19.20    5139800\n",
       "4     2010-07-06   20.00   20.0000   15.83   16.11    6866900\n",
       "...          ...     ...       ...     ...     ...        ...\n",
       "3354  2023-10-25  215.88  220.1000  212.20  212.42  107065087\n",
       "3355  2023-10-26  211.32  214.8000  204.88  205.76  115112635\n",
       "3356  2023-10-27  210.60  212.4100  205.77  207.30   94881173\n",
       "3357  2023-10-30  209.28  210.8800  194.67  197.36  136448167\n",
       "3358  2023-10-31  196.12  202.8000  194.07  200.84  118068273\n",
       "\n",
       "[3359 rows x 6 columns]"
      ]
     },
     "execution_count": 112,
     "metadata": {},
     "output_type": "execute_result"
    }
   ],
   "source": [
    "df1"
   ]
  },
  {
   "cell_type": "code",
   "execution_count": 113,
   "id": "2832f9e8",
   "metadata": {},
   "outputs": [],
   "source": [
    "df1 = df1.set_index('date')"
   ]
  },
  {
   "cell_type": "code",
   "execution_count": 114,
   "id": "f11a7137",
   "metadata": {},
   "outputs": [
    {
     "data": {
      "text/html": [
       "<div>\n",
       "<style scoped>\n",
       "    .dataframe tbody tr th:only-of-type {\n",
       "        vertical-align: middle;\n",
       "    }\n",
       "\n",
       "    .dataframe tbody tr th {\n",
       "        vertical-align: top;\n",
       "    }\n",
       "\n",
       "    .dataframe thead th {\n",
       "        text-align: right;\n",
       "    }\n",
       "</style>\n",
       "<table border=\"1\" class=\"dataframe\">\n",
       "  <thead>\n",
       "    <tr style=\"text-align: right;\">\n",
       "      <th></th>\n",
       "      <th>open</th>\n",
       "      <th>high</th>\n",
       "      <th>low</th>\n",
       "      <th>close</th>\n",
       "      <th>volume</th>\n",
       "    </tr>\n",
       "    <tr>\n",
       "      <th>date</th>\n",
       "      <th></th>\n",
       "      <th></th>\n",
       "      <th></th>\n",
       "      <th></th>\n",
       "      <th></th>\n",
       "    </tr>\n",
       "  </thead>\n",
       "  <tbody>\n",
       "    <tr>\n",
       "      <th>2010-06-29</th>\n",
       "      <td>19.00</td>\n",
       "      <td>25.0000</td>\n",
       "      <td>17.54</td>\n",
       "      <td>23.89</td>\n",
       "      <td>18766300</td>\n",
       "    </tr>\n",
       "    <tr>\n",
       "      <th>2010-06-30</th>\n",
       "      <td>25.79</td>\n",
       "      <td>30.4192</td>\n",
       "      <td>23.30</td>\n",
       "      <td>23.83</td>\n",
       "      <td>17187100</td>\n",
       "    </tr>\n",
       "    <tr>\n",
       "      <th>2010-07-01</th>\n",
       "      <td>25.00</td>\n",
       "      <td>25.9200</td>\n",
       "      <td>20.27</td>\n",
       "      <td>21.96</td>\n",
       "      <td>8218800</td>\n",
       "    </tr>\n",
       "    <tr>\n",
       "      <th>2010-07-02</th>\n",
       "      <td>23.00</td>\n",
       "      <td>23.1000</td>\n",
       "      <td>18.71</td>\n",
       "      <td>19.20</td>\n",
       "      <td>5139800</td>\n",
       "    </tr>\n",
       "    <tr>\n",
       "      <th>2010-07-06</th>\n",
       "      <td>20.00</td>\n",
       "      <td>20.0000</td>\n",
       "      <td>15.83</td>\n",
       "      <td>16.11</td>\n",
       "      <td>6866900</td>\n",
       "    </tr>\n",
       "    <tr>\n",
       "      <th>...</th>\n",
       "      <td>...</td>\n",
       "      <td>...</td>\n",
       "      <td>...</td>\n",
       "      <td>...</td>\n",
       "      <td>...</td>\n",
       "    </tr>\n",
       "    <tr>\n",
       "      <th>2023-10-25</th>\n",
       "      <td>215.88</td>\n",
       "      <td>220.1000</td>\n",
       "      <td>212.20</td>\n",
       "      <td>212.42</td>\n",
       "      <td>107065087</td>\n",
       "    </tr>\n",
       "    <tr>\n",
       "      <th>2023-10-26</th>\n",
       "      <td>211.32</td>\n",
       "      <td>214.8000</td>\n",
       "      <td>204.88</td>\n",
       "      <td>205.76</td>\n",
       "      <td>115112635</td>\n",
       "    </tr>\n",
       "    <tr>\n",
       "      <th>2023-10-27</th>\n",
       "      <td>210.60</td>\n",
       "      <td>212.4100</td>\n",
       "      <td>205.77</td>\n",
       "      <td>207.30</td>\n",
       "      <td>94881173</td>\n",
       "    </tr>\n",
       "    <tr>\n",
       "      <th>2023-10-30</th>\n",
       "      <td>209.28</td>\n",
       "      <td>210.8800</td>\n",
       "      <td>194.67</td>\n",
       "      <td>197.36</td>\n",
       "      <td>136448167</td>\n",
       "    </tr>\n",
       "    <tr>\n",
       "      <th>2023-10-31</th>\n",
       "      <td>196.12</td>\n",
       "      <td>202.8000</td>\n",
       "      <td>194.07</td>\n",
       "      <td>200.84</td>\n",
       "      <td>118068273</td>\n",
       "    </tr>\n",
       "  </tbody>\n",
       "</table>\n",
       "<p>3359 rows × 5 columns</p>\n",
       "</div>"
      ],
      "text/plain": [
       "              open      high     low   close     volume\n",
       "date                                                   \n",
       "2010-06-29   19.00   25.0000   17.54   23.89   18766300\n",
       "2010-06-30   25.79   30.4192   23.30   23.83   17187100\n",
       "2010-07-01   25.00   25.9200   20.27   21.96    8218800\n",
       "2010-07-02   23.00   23.1000   18.71   19.20    5139800\n",
       "2010-07-06   20.00   20.0000   15.83   16.11    6866900\n",
       "...            ...       ...     ...     ...        ...\n",
       "2023-10-25  215.88  220.1000  212.20  212.42  107065087\n",
       "2023-10-26  211.32  214.8000  204.88  205.76  115112635\n",
       "2023-10-27  210.60  212.4100  205.77  207.30   94881173\n",
       "2023-10-30  209.28  210.8800  194.67  197.36  136448167\n",
       "2023-10-31  196.12  202.8000  194.07  200.84  118068273\n",
       "\n",
       "[3359 rows x 5 columns]"
      ]
     },
     "execution_count": 114,
     "metadata": {},
     "output_type": "execute_result"
    }
   ],
   "source": [
    "df1"
   ]
  },
  {
   "cell_type": "code",
   "execution_count": 115,
   "id": "4febece7",
   "metadata": {},
   "outputs": [
    {
     "data": {
      "text/plain": [
       "Index(['2010-06-29', '2010-06-30', '2010-07-01', '2010-07-02', '2010-07-06',\n",
       "       '2010-07-07', '2010-07-08', '2010-07-09', '2010-07-12', '2010-07-13',\n",
       "       ...\n",
       "       '2023-10-18', '2023-10-19', '2023-10-20', '2023-10-23', '2023-10-24',\n",
       "       '2023-10-25', '2023-10-26', '2023-10-27', '2023-10-30', '2023-10-31'],\n",
       "      dtype='object', name='date', length=3359)"
      ]
     },
     "execution_count": 115,
     "metadata": {},
     "output_type": "execute_result"
    }
   ],
   "source": [
    "df1.index"
   ]
  },
  {
   "cell_type": "code",
   "execution_count": 116,
   "id": "0b196c6f",
   "metadata": {},
   "outputs": [],
   "source": [
    "df1.index = pd.to_datetime(df1.index) # for date time formate"
   ]
  },
  {
   "cell_type": "code",
   "execution_count": 118,
   "id": "8ad6ada3",
   "metadata": {},
   "outputs": [],
   "source": [
    "df2 = df1.resample('A').min()"
   ]
  },
  {
   "cell_type": "code",
   "execution_count": 119,
   "id": "79832e53",
   "metadata": {},
   "outputs": [
    {
     "data": {
      "text/html": [
       "<div>\n",
       "<style scoped>\n",
       "    .dataframe tbody tr th:only-of-type {\n",
       "        vertical-align: middle;\n",
       "    }\n",
       "\n",
       "    .dataframe tbody tr th {\n",
       "        vertical-align: top;\n",
       "    }\n",
       "\n",
       "    .dataframe thead th {\n",
       "        text-align: right;\n",
       "    }\n",
       "</style>\n",
       "<table border=\"1\" class=\"dataframe\">\n",
       "  <thead>\n",
       "    <tr style=\"text-align: right;\">\n",
       "      <th></th>\n",
       "      <th>open</th>\n",
       "      <th>high</th>\n",
       "      <th>low</th>\n",
       "      <th>close</th>\n",
       "      <th>volume</th>\n",
       "    </tr>\n",
       "    <tr>\n",
       "      <th>date</th>\n",
       "      <th></th>\n",
       "      <th></th>\n",
       "      <th></th>\n",
       "      <th></th>\n",
       "      <th></th>\n",
       "    </tr>\n",
       "  </thead>\n",
       "  <tbody>\n",
       "    <tr>\n",
       "      <th>2010-12-31</th>\n",
       "      <td>16.14</td>\n",
       "      <td>16.6300</td>\n",
       "      <td>14.980</td>\n",
       "      <td>15.80</td>\n",
       "      <td>118500</td>\n",
       "    </tr>\n",
       "    <tr>\n",
       "      <th>2011-12-31</th>\n",
       "      <td>21.78</td>\n",
       "      <td>22.2700</td>\n",
       "      <td>21.110</td>\n",
       "      <td>21.83</td>\n",
       "      <td>239600</td>\n",
       "    </tr>\n",
       "    <tr>\n",
       "      <th>2012-12-31</th>\n",
       "      <td>26.62</td>\n",
       "      <td>26.8500</td>\n",
       "      <td>22.640</td>\n",
       "      <td>22.79</td>\n",
       "      <td>364900</td>\n",
       "    </tr>\n",
       "    <tr>\n",
       "      <th>2013-12-31</th>\n",
       "      <td>33.08</td>\n",
       "      <td>33.3800</td>\n",
       "      <td>32.110</td>\n",
       "      <td>32.91</td>\n",
       "      <td>440200</td>\n",
       "    </tr>\n",
       "    <tr>\n",
       "      <th>2014-12-31</th>\n",
       "      <td>140.50</td>\n",
       "      <td>147.0000</td>\n",
       "      <td>136.671</td>\n",
       "      <td>139.34</td>\n",
       "      <td>1333518</td>\n",
       "    </tr>\n",
       "    <tr>\n",
       "      <th>2015-12-31</th>\n",
       "      <td>185.83</td>\n",
       "      <td>189.2899</td>\n",
       "      <td>181.400</td>\n",
       "      <td>185.00</td>\n",
       "      <td>710277</td>\n",
       "    </tr>\n",
       "    <tr>\n",
       "      <th>2016-12-31</th>\n",
       "      <td>142.32</td>\n",
       "      <td>154.9700</td>\n",
       "      <td>141.050</td>\n",
       "      <td>143.67</td>\n",
       "      <td>1659530</td>\n",
       "    </tr>\n",
       "    <tr>\n",
       "      <th>2017-12-31</th>\n",
       "      <td>214.75</td>\n",
       "      <td>220.3300</td>\n",
       "      <td>210.960</td>\n",
       "      <td>216.99</td>\n",
       "      <td>2186723</td>\n",
       "    </tr>\n",
       "    <tr>\n",
       "      <th>2018-12-31</th>\n",
       "      <td>252.78</td>\n",
       "      <td>260.3300</td>\n",
       "      <td>244.590</td>\n",
       "      <td>250.56</td>\n",
       "      <td>3080724</td>\n",
       "    </tr>\n",
       "    <tr>\n",
       "      <th>2019-12-31</th>\n",
       "      <td>181.10</td>\n",
       "      <td>186.6800</td>\n",
       "      <td>176.990</td>\n",
       "      <td>178.97</td>\n",
       "      <td>2465629</td>\n",
       "    </tr>\n",
       "    <tr>\n",
       "      <th>2020-12-31</th>\n",
       "      <td>356.00</td>\n",
       "      <td>368.7400</td>\n",
       "      <td>329.880</td>\n",
       "      <td>330.21</td>\n",
       "      <td>4978015</td>\n",
       "    </tr>\n",
       "    <tr>\n",
       "      <th>2021-12-31</th>\n",
       "      <td>552.55</td>\n",
       "      <td>566.2100</td>\n",
       "      <td>539.490</td>\n",
       "      <td>563.00</td>\n",
       "      <td>9800558</td>\n",
       "    </tr>\n",
       "    <tr>\n",
       "      <th>2022-12-31</th>\n",
       "      <td>110.35</td>\n",
       "      <td>116.2700</td>\n",
       "      <td>108.240</td>\n",
       "      <td>109.10</td>\n",
       "      <td>15833512</td>\n",
       "    </tr>\n",
       "    <tr>\n",
       "      <th>2023-12-31</th>\n",
       "      <td>103.00</td>\n",
       "      <td>111.7500</td>\n",
       "      <td>101.810</td>\n",
       "      <td>108.10</td>\n",
       "      <td>83645720</td>\n",
       "    </tr>\n",
       "  </tbody>\n",
       "</table>\n",
       "</div>"
      ],
      "text/plain": [
       "              open      high      low   close    volume\n",
       "date                                                   \n",
       "2010-12-31   16.14   16.6300   14.980   15.80    118500\n",
       "2011-12-31   21.78   22.2700   21.110   21.83    239600\n",
       "2012-12-31   26.62   26.8500   22.640   22.79    364900\n",
       "2013-12-31   33.08   33.3800   32.110   32.91    440200\n",
       "2014-12-31  140.50  147.0000  136.671  139.34   1333518\n",
       "2015-12-31  185.83  189.2899  181.400  185.00    710277\n",
       "2016-12-31  142.32  154.9700  141.050  143.67   1659530\n",
       "2017-12-31  214.75  220.3300  210.960  216.99   2186723\n",
       "2018-12-31  252.78  260.3300  244.590  250.56   3080724\n",
       "2019-12-31  181.10  186.6800  176.990  178.97   2465629\n",
       "2020-12-31  356.00  368.7400  329.880  330.21   4978015\n",
       "2021-12-31  552.55  566.2100  539.490  563.00   9800558\n",
       "2022-12-31  110.35  116.2700  108.240  109.10  15833512\n",
       "2023-12-31  103.00  111.7500  101.810  108.10  83645720"
      ]
     },
     "execution_count": 119,
     "metadata": {},
     "output_type": "execute_result"
    }
   ],
   "source": [
    "df2"
   ]
  },
  {
   "cell_type": "code",
   "execution_count": 120,
   "id": "d741c078",
   "metadata": {},
   "outputs": [
    {
     "data": {
      "text/html": [
       "<div>\n",
       "<style scoped>\n",
       "    .dataframe tbody tr th:only-of-type {\n",
       "        vertical-align: middle;\n",
       "    }\n",
       "\n",
       "    .dataframe tbody tr th {\n",
       "        vertical-align: top;\n",
       "    }\n",
       "\n",
       "    .dataframe thead th {\n",
       "        text-align: right;\n",
       "    }\n",
       "</style>\n",
       "<table border=\"1\" class=\"dataframe\">\n",
       "  <thead>\n",
       "    <tr style=\"text-align: right;\">\n",
       "      <th></th>\n",
       "      <th>open</th>\n",
       "      <th>high</th>\n",
       "      <th>low</th>\n",
       "      <th>close</th>\n",
       "      <th>volume</th>\n",
       "    </tr>\n",
       "    <tr>\n",
       "      <th>date</th>\n",
       "      <th></th>\n",
       "      <th></th>\n",
       "      <th></th>\n",
       "      <th></th>\n",
       "      <th></th>\n",
       "    </tr>\n",
       "  </thead>\n",
       "  <tbody>\n",
       "    <tr>\n",
       "      <th>2010-12-31</th>\n",
       "      <td>35.870</td>\n",
       "      <td>36.42</td>\n",
       "      <td>34.7500</td>\n",
       "      <td>35.47</td>\n",
       "      <td>18766300</td>\n",
       "    </tr>\n",
       "    <tr>\n",
       "      <th>2011-12-31</th>\n",
       "      <td>34.630</td>\n",
       "      <td>35.00</td>\n",
       "      <td>34.0310</td>\n",
       "      <td>34.94</td>\n",
       "      <td>11517800</td>\n",
       "    </tr>\n",
       "    <tr>\n",
       "      <th>2012-12-31</th>\n",
       "      <td>38.190</td>\n",
       "      <td>39.95</td>\n",
       "      <td>37.1104</td>\n",
       "      <td>38.01</td>\n",
       "      <td>5680400</td>\n",
       "    </tr>\n",
       "    <tr>\n",
       "      <th>2013-12-31</th>\n",
       "      <td>193.960</td>\n",
       "      <td>194.50</td>\n",
       "      <td>188.3700</td>\n",
       "      <td>193.37</td>\n",
       "      <td>37163900</td>\n",
       "    </tr>\n",
       "    <tr>\n",
       "      <th>2014-12-31</th>\n",
       "      <td>287.670</td>\n",
       "      <td>291.42</td>\n",
       "      <td>280.4000</td>\n",
       "      <td>286.04</td>\n",
       "      <td>32681700</td>\n",
       "    </tr>\n",
       "    <tr>\n",
       "      <th>2015-12-31</th>\n",
       "      <td>280.195</td>\n",
       "      <td>286.65</td>\n",
       "      <td>276.3000</td>\n",
       "      <td>282.26</td>\n",
       "      <td>15649607</td>\n",
       "    </tr>\n",
       "    <tr>\n",
       "      <th>2016-12-31</th>\n",
       "      <td>266.450</td>\n",
       "      <td>269.34</td>\n",
       "      <td>254.5100</td>\n",
       "      <td>265.42</td>\n",
       "      <td>23742414</td>\n",
       "    </tr>\n",
       "    <tr>\n",
       "      <th>2017-12-31</th>\n",
       "      <td>386.690</td>\n",
       "      <td>389.61</td>\n",
       "      <td>379.3450</td>\n",
       "      <td>385.00</td>\n",
       "      <td>19731322</td>\n",
       "    </tr>\n",
       "    <tr>\n",
       "      <th>2018-12-31</th>\n",
       "      <td>375.000</td>\n",
       "      <td>387.46</td>\n",
       "      <td>367.1200</td>\n",
       "      <td>379.57</td>\n",
       "      <td>33649700</td>\n",
       "    </tr>\n",
       "    <tr>\n",
       "      <th>2019-12-31</th>\n",
       "      <td>435.000</td>\n",
       "      <td>435.31</td>\n",
       "      <td>426.3500</td>\n",
       "      <td>430.94</td>\n",
       "      <td>30006091</td>\n",
       "    </tr>\n",
       "    <tr>\n",
       "      <th>2020-12-31</th>\n",
       "      <td>2295.120</td>\n",
       "      <td>2318.49</td>\n",
       "      <td>2186.5200</td>\n",
       "      <td>2238.75</td>\n",
       "      <td>222126194</td>\n",
       "    </tr>\n",
       "    <tr>\n",
       "      <th>2021-12-31</th>\n",
       "      <td>1234.410</td>\n",
       "      <td>1243.49</td>\n",
       "      <td>1217.0000</td>\n",
       "      <td>1229.91</td>\n",
       "      <td>89396459</td>\n",
       "    </tr>\n",
       "    <tr>\n",
       "      <th>2022-12-31</th>\n",
       "      <td>1189.550</td>\n",
       "      <td>1208.00</td>\n",
       "      <td>1136.0400</td>\n",
       "      <td>1199.78</td>\n",
       "      <td>221923313</td>\n",
       "    </tr>\n",
       "    <tr>\n",
       "      <th>2023-12-31</th>\n",
       "      <td>296.040</td>\n",
       "      <td>299.29</td>\n",
       "      <td>289.5201</td>\n",
       "      <td>293.34</td>\n",
       "      <td>306590613</td>\n",
       "    </tr>\n",
       "  </tbody>\n",
       "</table>\n",
       "</div>"
      ],
      "text/plain": [
       "                open     high        low    close     volume\n",
       "date                                                        \n",
       "2010-12-31    35.870    36.42    34.7500    35.47   18766300\n",
       "2011-12-31    34.630    35.00    34.0310    34.94   11517800\n",
       "2012-12-31    38.190    39.95    37.1104    38.01    5680400\n",
       "2013-12-31   193.960   194.50   188.3700   193.37   37163900\n",
       "2014-12-31   287.670   291.42   280.4000   286.04   32681700\n",
       "2015-12-31   280.195   286.65   276.3000   282.26   15649607\n",
       "2016-12-31   266.450   269.34   254.5100   265.42   23742414\n",
       "2017-12-31   386.690   389.61   379.3450   385.00   19731322\n",
       "2018-12-31   375.000   387.46   367.1200   379.57   33649700\n",
       "2019-12-31   435.000   435.31   426.3500   430.94   30006091\n",
       "2020-12-31  2295.120  2318.49  2186.5200  2238.75  222126194\n",
       "2021-12-31  1234.410  1243.49  1217.0000  1229.91   89396459\n",
       "2022-12-31  1189.550  1208.00  1136.0400  1199.78  221923313\n",
       "2023-12-31   296.040   299.29   289.5201   293.34  306590613"
      ]
     },
     "execution_count": 120,
     "metadata": {},
     "output_type": "execute_result"
    }
   ],
   "source": [
    "df3 = df1.resample(rule = 'A').max()\n",
    "df3"
   ]
  },
  {
   "cell_type": "code",
   "execution_count": 123,
   "id": "76544ad3",
   "metadata": {},
   "outputs": [
    {
     "data": {
      "text/plain": [
       "<AxesSubplot:xlabel='date'>"
      ]
     },
     "execution_count": 123,
     "metadata": {},
     "output_type": "execute_result"
    },
    {
     "data": {
      "image/png": "[encoded data removed]",
      "text/plain": [
       "<Figure size 864x432 with 1 Axes>"
      ]
     },
     "metadata": {
      "needs_background": "light"
     },
     "output_type": "display_data"
    }
   ],
   "source": [
    "df1.resample(rule = 'A').max()['open'].plot(color = 'Red')"
   ]
  },
  {
   "cell_type": "markdown",
   "id": "fd9bb0d9",
   "metadata": {},
   "source": [
    "#### https://towardsdatascience.com/resample-function-of-pandas-79b17ec82a78\n",
    "check it out"
   ]
  },
  {
   "cell_type": "code",
   "execution_count": 125,
   "id": "1ca0aada",
   "metadata": {},
   "outputs": [
    {
     "data": {
      "text/plain": [
       "<AxesSubplot:xlabel='date'>"
      ]
     },
     "execution_count": 125,
     "metadata": {},
     "output_type": "execute_result"
    },
    {
     "data": {
      "image/png": "[encoded data removed]",
      "text/plain": [
       "<Figure size 864x432 with 1 Axes>"
      ]
     },
     "metadata": {
      "needs_background": "light"
     },
     "output_type": "display_data"
    }
   ],
   "source": [
    "# Business End Frequency\n",
    "df1.resample(rule = 'BA').max()['high'].plot(color = 'Red')"
   ]
  },
  {
   "cell_type": "code",
   "execution_count": 127,
   "id": "211bdf63",
   "metadata": {},
   "outputs": [
    {
     "data": {
      "text/plain": [
       "<AxesSubplot:xlabel='date'>"
      ]
     },
     "execution_count": 127,
     "metadata": {},
     "output_type": "execute_result"
    },
    {
     "data": {
      "image/png": "[encoded data removed]",
      "text/plain": [
       "<Figure size 864x432 with 1 Axes>"
      ]
     },
     "metadata": {
      "needs_background": "light"
     },
     "output_type": "display_data"
    }
   ],
   "source": [
    "df1.resample(rule = 'BA').max()['open'].plot(color = 'Green',kind = 'bar')"
   ]
  },
  {
   "cell_type": "code",
   "execution_count": 131,
   "id": "3dc5c395",
   "metadata": {},
   "outputs": [
    {
     "data": {
      "text/plain": [
       "<AxesSubplot:xlabel='date'>"
      ]
     },
     "execution_count": 131,
     "metadata": {},
     "output_type": "execute_result"
    },
    {
     "data": {
      "image/png": "[encoded data removed]",
      "text/plain": [
       "<Figure size 864x432 with 1 Axes>"
      ]
     },
     "metadata": {
      "needs_background": "light"
     },
     "output_type": "display_data"
    }
   ],
   "source": [
    "df1.resample(rule = 'M').max()['open'].plot(color = 'Green',kind = 'bar')"
   ]
  },
  {
   "cell_type": "code",
   "execution_count": 135,
   "id": "c24dc548",
   "metadata": {},
   "outputs": [
    {
     "data": {
      "text/plain": [
       "date\n",
       "2010-06-29         NaN\n",
       "2010-06-30         NaN\n",
       "2010-07-01         NaN\n",
       "2010-07-02         NaN\n",
       "2010-07-06         NaN\n",
       "2010-07-07         NaN\n",
       "2010-07-08         NaN\n",
       "2010-07-09         NaN\n",
       "2010-07-12         NaN\n",
       "2010-07-13    21.31992\n",
       "2010-07-14    20.83492\n",
       "2010-07-15    19.94300\n",
       "2010-07-16    19.48100\n",
       "2010-07-19    19.39600\n",
       "2010-07-20    19.58100\n",
       "2010-07-21    20.00800\n",
       "2010-07-22    20.38100\n",
       "2010-07-23    20.74700\n",
       "2010-07-26    21.09000\n",
       "2010-07-27    21.34400\n",
       "Name: high, dtype: float64"
      ]
     },
     "execution_count": 135,
     "metadata": {},
     "output_type": "execute_result"
    }
   ],
   "source": [
    "#df1.rolling(11)['open'].max()\n",
    "df1['high'].rolling(10).mean().head(20)"
   ]
  },
  {
   "cell_type": "code",
   "execution_count": 136,
   "id": "4ed25221",
   "metadata": {},
   "outputs": [],
   "source": [
    "df1['Open 20 days rolling'] = df1['open'].rolling(20).mean()"
   ]
  },
  {
   "cell_type": "code",
   "execution_count": 137,
   "id": "a4dd00de",
   "metadata": {},
   "outputs": [
    {
     "data": {
      "text/html": [
       "<div>\n",
       "<style scoped>\n",
       "    .dataframe tbody tr th:only-of-type {\n",
       "        vertical-align: middle;\n",
       "    }\n",
       "\n",
       "    .dataframe tbody tr th {\n",
       "        vertical-align: top;\n",
       "    }\n",
       "\n",
       "    .dataframe thead th {\n",
       "        text-align: right;\n",
       "    }\n",
       "</style>\n",
       "<table border=\"1\" class=\"dataframe\">\n",
       "  <thead>\n",
       "    <tr style=\"text-align: right;\">\n",
       "      <th></th>\n",
       "      <th>open</th>\n",
       "      <th>high</th>\n",
       "      <th>low</th>\n",
       "      <th>close</th>\n",
       "      <th>volume</th>\n",
       "      <th>Open 20 days rolling</th>\n",
       "    </tr>\n",
       "    <tr>\n",
       "      <th>date</th>\n",
       "      <th></th>\n",
       "      <th></th>\n",
       "      <th></th>\n",
       "      <th></th>\n",
       "      <th></th>\n",
       "      <th></th>\n",
       "    </tr>\n",
       "  </thead>\n",
       "  <tbody>\n",
       "    <tr>\n",
       "      <th>2010-06-29</th>\n",
       "      <td>19.00</td>\n",
       "      <td>25.0000</td>\n",
       "      <td>17.54</td>\n",
       "      <td>23.89</td>\n",
       "      <td>18766300</td>\n",
       "      <td>NaN</td>\n",
       "    </tr>\n",
       "    <tr>\n",
       "      <th>2010-06-30</th>\n",
       "      <td>25.79</td>\n",
       "      <td>30.4192</td>\n",
       "      <td>23.30</td>\n",
       "      <td>23.83</td>\n",
       "      <td>17187100</td>\n",
       "      <td>NaN</td>\n",
       "    </tr>\n",
       "    <tr>\n",
       "      <th>2010-07-01</th>\n",
       "      <td>25.00</td>\n",
       "      <td>25.9200</td>\n",
       "      <td>20.27</td>\n",
       "      <td>21.96</td>\n",
       "      <td>8218800</td>\n",
       "      <td>NaN</td>\n",
       "    </tr>\n",
       "    <tr>\n",
       "      <th>2010-07-02</th>\n",
       "      <td>23.00</td>\n",
       "      <td>23.1000</td>\n",
       "      <td>18.71</td>\n",
       "      <td>19.20</td>\n",
       "      <td>5139800</td>\n",
       "      <td>NaN</td>\n",
       "    </tr>\n",
       "    <tr>\n",
       "      <th>2010-07-06</th>\n",
       "      <td>20.00</td>\n",
       "      <td>20.0000</td>\n",
       "      <td>15.83</td>\n",
       "      <td>16.11</td>\n",
       "      <td>6866900</td>\n",
       "      <td>NaN</td>\n",
       "    </tr>\n",
       "    <tr>\n",
       "      <th>...</th>\n",
       "      <td>...</td>\n",
       "      <td>...</td>\n",
       "      <td>...</td>\n",
       "      <td>...</td>\n",
       "      <td>...</td>\n",
       "      <td>...</td>\n",
       "    </tr>\n",
       "    <tr>\n",
       "      <th>2023-10-25</th>\n",
       "      <td>215.88</td>\n",
       "      <td>220.1000</td>\n",
       "      <td>212.20</td>\n",
       "      <td>212.42</td>\n",
       "      <td>107065087</td>\n",
       "      <td>244.2415</td>\n",
       "    </tr>\n",
       "    <tr>\n",
       "      <th>2023-10-26</th>\n",
       "      <td>211.32</td>\n",
       "      <td>214.8000</td>\n",
       "      <td>204.88</td>\n",
       "      <td>205.76</td>\n",
       "      <td>115112635</td>\n",
       "      <td>242.8065</td>\n",
       "    </tr>\n",
       "    <tr>\n",
       "      <th>2023-10-27</th>\n",
       "      <td>210.60</td>\n",
       "      <td>212.4100</td>\n",
       "      <td>205.77</td>\n",
       "      <td>207.30</td>\n",
       "      <td>94881173</td>\n",
       "      <td>240.8365</td>\n",
       "    </tr>\n",
       "    <tr>\n",
       "      <th>2023-10-30</th>\n",
       "      <td>209.28</td>\n",
       "      <td>210.8800</td>\n",
       "      <td>194.67</td>\n",
       "      <td>197.36</td>\n",
       "      <td>136448167</td>\n",
       "      <td>239.0600</td>\n",
       "    </tr>\n",
       "    <tr>\n",
       "      <th>2023-10-31</th>\n",
       "      <td>196.12</td>\n",
       "      <td>202.8000</td>\n",
       "      <td>194.07</td>\n",
       "      <td>200.84</td>\n",
       "      <td>118068273</td>\n",
       "      <td>236.4355</td>\n",
       "    </tr>\n",
       "  </tbody>\n",
       "</table>\n",
       "<p>3359 rows × 6 columns</p>\n",
       "</div>"
      ],
      "text/plain": [
       "              open      high     low   close     volume  Open 20 days rolling\n",
       "date                                                                         \n",
       "2010-06-29   19.00   25.0000   17.54   23.89   18766300                   NaN\n",
       "2010-06-30   25.79   30.4192   23.30   23.83   17187100                   NaN\n",
       "2010-07-01   25.00   25.9200   20.27   21.96    8218800                   NaN\n",
       "2010-07-02   23.00   23.1000   18.71   19.20    5139800                   NaN\n",
       "2010-07-06   20.00   20.0000   15.83   16.11    6866900                   NaN\n",
       "...            ...       ...     ...     ...        ...                   ...\n",
       "2023-10-25  215.88  220.1000  212.20  212.42  107065087              244.2415\n",
       "2023-10-26  211.32  214.8000  204.88  205.76  115112635              242.8065\n",
       "2023-10-27  210.60  212.4100  205.77  207.30   94881173              240.8365\n",
       "2023-10-30  209.28  210.8800  194.67  197.36  136448167              239.0600\n",
       "2023-10-31  196.12  202.8000  194.07  200.84  118068273              236.4355\n",
       "\n",
       "[3359 rows x 6 columns]"
      ]
     },
     "execution_count": 137,
     "metadata": {},
     "output_type": "execute_result"
    }
   ],
   "source": [
    "df1"
   ]
  },
  {
   "cell_type": "code",
   "execution_count": 139,
   "id": "a6406ad1",
   "metadata": {},
   "outputs": [
    {
     "data": {
      "text/plain": [
       "<AxesSubplot:xlabel='date'>"
      ]
     },
     "execution_count": 139,
     "metadata": {},
     "output_type": "execute_result"
    },
    {
     "data": {
      "image/png": "[encoded data removed]",
      "text/plain": [
       "<Figure size 1080x432 with 1 Axes>"
      ]
     },
     "metadata": {
      "needs_background": "light"
     },
     "output_type": "display_data"
    }
   ],
   "source": [
    "df1[['open','Open 20 days rolling']].plot(figsize = (15,6))"
   ]
  },
  {
   "cell_type": "code",
   "execution_count": null,
   "id": "dc070351",
   "metadata": {},
   "outputs": [],
   "source": []
  }
 ],
 "metadata": {
  "kernelspec": {
   "display_name": "Python 3 (ipykernel)",
   "language": "python",
   "name": "python3"
  },
  "language_info": {
   "codemirror_mode": {
    "name": "ipython",
    "version": 3
   },
   "file_extension": ".py",
   "mimetype": "text/x-python",
   "name": "python",
   "nbconvert_exporter": "python",
   "pygments_lexer": "ipython3",
   "version": "3.9.12"
  }
 },
 "nbformat": 4,
 "nbformat_minor": 5
}
