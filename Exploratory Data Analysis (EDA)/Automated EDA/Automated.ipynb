{
 "cells": [
  {
   "cell_type": "markdown",
   "id": "d2e49571",
   "metadata": {},
   "source": [
    "## Automated EDA techniques"
   ]
  },
  {
   "cell_type": "markdown",
   "id": "f2774456",
   "metadata": {},
   "source": [
    "## First of all you need to install pandas profiling"
   ]
  },
  {
   "cell_type": "code",
   "execution_count": 17,
   "id": "5332a01e",
   "metadata": {},
   "outputs": [
    {
     "name": "stdout",
     "output_type": "stream",
     "text": [
      "Defaulting to user installation because normal site-packages is not writeable\n",
      "Requirement already satisfied: pandas_profiling in c:\\users\\himel\\appdata\\roaming\\python\\python39\\site-packages (3.6.6)\n",
      "Requirement already satisfied: ydata-profiling in c:\\users\\himel\\appdata\\roaming\\python\\python39\\site-packages (from pandas_profiling) (4.6.1)\n",
      "Requirement already satisfied: multimethod<2,>=1.4 in c:\\users\\himel\\appdata\\roaming\\python\\python39\\site-packages (from ydata-profiling->pandas_profiling) (1.10)\n",
      "Requirement already satisfied: matplotlib<=3.7.3,>=3.2 in g:\\himel.conda\\lib\\site-packages (from ydata-profiling->pandas_profiling) (3.5.1)\n",
      "Requirement already satisfied: numba<0.59.0,>=0.56.0 in c:\\users\\himel\\appdata\\roaming\\python\\python39\\site-packages (from ydata-profiling->pandas_profiling) (0.58.1)\n",
      "Requirement already satisfied: pydantic>=2 in c:\\users\\himel\\appdata\\roaming\\python\\python39\\site-packages (from ydata-profiling->pandas_profiling) (2.4.2)\n",
      "Requirement already satisfied: PyYAML<6.1,>=5.0.0 in g:\\himel.conda\\lib\\site-packages (from ydata-profiling->pandas_profiling) (6.0)\n",
      "Requirement already satisfied: pandas!=1.4.0,<2.1,>1.1 in g:\\himel.conda\\lib\\site-packages (from ydata-profiling->pandas_profiling) (1.4.2)\n",
      "Requirement already satisfied: imagehash==4.3.1 in c:\\users\\himel\\appdata\\roaming\\python\\python39\\site-packages (from ydata-profiling->pandas_profiling) (4.3.1)\n",
      "Requirement already satisfied: typeguard<5,>=4.1.2 in c:\\users\\himel\\appdata\\roaming\\python\\python39\\site-packages (from ydata-profiling->pandas_profiling) (4.1.5)\n",
      "Requirement already satisfied: numpy<1.26,>=1.16.0 in c:\\users\\himel\\appdata\\roaming\\python\\python39\\site-packages (from ydata-profiling->pandas_profiling) (1.22.4)\n",
      "Requirement already satisfied: wordcloud>=1.9.1 in c:\\users\\himel\\appdata\\roaming\\python\\python39\\site-packages (from ydata-profiling->pandas_profiling) (1.9.2)\n",
      "Requirement already satisfied: visions[type_image_path]==0.7.5 in c:\\users\\himel\\appdata\\roaming\\python\\python39\\site-packages (from ydata-profiling->pandas_profiling) (0.7.5)\n",
      "Requirement already satisfied: statsmodels<1,>=0.13.2 in g:\\himel.conda\\lib\\site-packages (from ydata-profiling->pandas_profiling) (0.13.2)\n",
      "Requirement already satisfied: seaborn<0.13,>=0.10.1 in g:\\himel.conda\\lib\\site-packages (from ydata-profiling->pandas_profiling) (0.11.2)\n",
      "Requirement already satisfied: dacite>=1.8 in c:\\users\\himel\\appdata\\roaming\\python\\python39\\site-packages (from ydata-profiling->pandas_profiling) (1.8.1)\n",
      "Requirement already satisfied: phik<0.13,>=0.11.1 in c:\\users\\himel\\appdata\\roaming\\python\\python39\\site-packages (from ydata-profiling->pandas_profiling) (0.12.3)\n",
      "Requirement already satisfied: tqdm<5,>=4.48.2 in g:\\himel.conda\\lib\\site-packages (from ydata-profiling->pandas_profiling) (4.64.0)\n",
      "Requirement already satisfied: scipy<1.12,>=1.4.1 in g:\\himel.conda\\lib\\site-packages (from ydata-profiling->pandas_profiling) (1.7.3)\n",
      "Requirement already satisfied: jinja2<3.2,>=2.11.1 in g:\\himel.conda\\lib\\site-packages (from ydata-profiling->pandas_profiling) (2.11.3)\n",
      "Requirement already satisfied: requests<3,>=2.24.0 in g:\\himel.conda\\lib\\site-packages (from ydata-profiling->pandas_profiling) (2.27.1)\n",
      "Requirement already satisfied: htmlmin==0.1.12 in c:\\users\\himel\\appdata\\roaming\\python\\python39\\site-packages (from ydata-profiling->pandas_profiling) (0.1.12)\n",
      "Requirement already satisfied: pillow in g:\\himel.conda\\lib\\site-packages (from imagehash==4.3.1->ydata-profiling->pandas_profiling) (9.0.1)\n",
      "Requirement already satisfied: PyWavelets in g:\\himel.conda\\lib\\site-packages (from imagehash==4.3.1->ydata-profiling->pandas_profiling) (1.3.0)\n",
      "Requirement already satisfied: attrs>=19.3.0 in g:\\himel.conda\\lib\\site-packages (from visions[type_image_path]==0.7.5->ydata-profiling->pandas_profiling) (21.4.0)\n",
      "Requirement already satisfied: tangled-up-in-unicode>=0.0.4 in c:\\users\\himel\\appdata\\roaming\\python\\python39\\site-packages (from visions[type_image_path]==0.7.5->ydata-profiling->pandas_profiling) (0.2.0)\n",
      "Requirement already satisfied: networkx>=2.4 in g:\\himel.conda\\lib\\site-packages (from visions[type_image_path]==0.7.5->ydata-profiling->pandas_profiling) (2.7.1)\n",
      "Requirement already satisfied: MarkupSafe>=0.23 in g:\\himel.conda\\lib\\site-packages (from jinja2<3.2,>=2.11.1->ydata-profiling->pandas_profiling) (2.0.1)\n",
      "Requirement already satisfied: python-dateutil>=2.7 in g:\\himel.conda\\lib\\site-packages (from matplotlib<=3.7.3,>=3.2->ydata-profiling->pandas_profiling) (2.8.2)\n",
      "Requirement already satisfied: packaging>=20.0 in g:\\himel.conda\\lib\\site-packages (from matplotlib<=3.7.3,>=3.2->ydata-profiling->pandas_profiling) (21.3)\n",
      "Requirement already satisfied: fonttools>=4.22.0 in g:\\himel.conda\\lib\\site-packages (from matplotlib<=3.7.3,>=3.2->ydata-profiling->pandas_profiling) (4.25.0)\n",
      "Requirement already satisfied: kiwisolver>=1.0.1 in g:\\himel.conda\\lib\\site-packages (from matplotlib<=3.7.3,>=3.2->ydata-profiling->pandas_profiling) (1.3.2)\n",
      "Requirement already satisfied: cycler>=0.10 in g:\\himel.conda\\lib\\site-packages (from matplotlib<=3.7.3,>=3.2->ydata-profiling->pandas_profiling) (0.11.0)\n",
      "Requirement already satisfied: pyparsing>=2.2.1 in g:\\himel.conda\\lib\\site-packages (from matplotlib<=3.7.3,>=3.2->ydata-profiling->pandas_profiling) (3.0.4)\n",
      "Requirement already satisfied: llvmlite<0.42,>=0.41.0dev0 in c:\\users\\himel\\appdata\\roaming\\python\\python39\\site-packages (from numba<0.59.0,>=0.56.0->ydata-profiling->pandas_profiling) (0.41.1)\n",
      "Requirement already satisfied: pytz>=2020.1 in g:\\himel.conda\\lib\\site-packages (from pandas!=1.4.0,<2.1,>1.1->ydata-profiling->pandas_profiling) (2021.3)\n",
      "Requirement already satisfied: joblib>=0.14.1 in g:\\himel.conda\\lib\\site-packages (from phik<0.13,>=0.11.1->ydata-profiling->pandas_profiling) (1.1.0)\n",
      "Requirement already satisfied: typing-extensions>=4.6.1 in c:\\users\\himel\\appdata\\roaming\\python\\python39\\site-packages (from pydantic>=2->ydata-profiling->pandas_profiling) (4.7.1)\n",
      "Requirement already satisfied: annotated-types>=0.4.0 in c:\\users\\himel\\appdata\\roaming\\python\\python39\\site-packages (from pydantic>=2->ydata-profiling->pandas_profiling) (0.6.0)\n",
      "Requirement already satisfied: pydantic-core==2.10.1 in c:\\users\\himel\\appdata\\roaming\\python\\python39\\site-packages (from pydantic>=2->ydata-profiling->pandas_profiling) (2.10.1)\n",
      "Requirement already satisfied: six>=1.5 in g:\\himel.conda\\lib\\site-packages (from python-dateutil>=2.7->matplotlib<=3.7.3,>=3.2->ydata-profiling->pandas_profiling) (1.16.0)\n",
      "Requirement already satisfied: certifi>=2017.4.17 in g:\\himel.conda\\lib\\site-packages (from requests<3,>=2.24.0->ydata-profiling->pandas_profiling) (2021.10.8)\n",
      "Requirement already satisfied: idna<4,>=2.5 in g:\\himel.conda\\lib\\site-packages (from requests<3,>=2.24.0->ydata-profiling->pandas_profiling) (3.3)\n",
      "Requirement already satisfied: charset-normalizer~=2.0.0 in g:\\himel.conda\\lib\\site-packages (from requests<3,>=2.24.0->ydata-profiling->pandas_profiling) (2.0.4)\n",
      "Requirement already satisfied: urllib3<1.27,>=1.21.1 in g:\\himel.conda\\lib\\site-packages (from requests<3,>=2.24.0->ydata-profiling->pandas_profiling) (1.26.9)\n",
      "Requirement already satisfied: patsy>=0.5.2 in g:\\himel.conda\\lib\\site-packages (from statsmodels<1,>=0.13.2->ydata-profiling->pandas_profiling) (0.5.2)\n",
      "Requirement already satisfied: colorama in g:\\himel.conda\\lib\\site-packages (from tqdm<5,>=4.48.2->ydata-profiling->pandas_profiling) (0.4.4)\n",
      "Requirement already satisfied: importlib-metadata>=3.6 in g:\\himel.conda\\lib\\site-packages (from typeguard<5,>=4.1.2->ydata-profiling->pandas_profiling) (4.11.3)\n",
      "Requirement already satisfied: zipp>=0.5 in g:\\himel.conda\\lib\\site-packages (from importlib-metadata>=3.6->typeguard<5,>=4.1.2->ydata-profiling->pandas_profiling) (3.7.0)\n"
     ]
    }
   ],
   "source": [
    "!pip install pandas_profiling"
   ]
  },
  {
   "cell_type": "code",
   "execution_count": 18,
   "id": "796f4415",
   "metadata": {},
   "outputs": [
    {
     "name": "stdout",
     "output_type": "stream",
     "text": [
      "Defaulting to user installation because normal site-packages is not writeable\n",
      "Requirement already satisfied: pydantic==2.* in c:\\users\\himel\\appdata\\roaming\\python\\python39\\site-packages (2.4.2)\n",
      "Requirement already satisfied: pydantic-core==2.10.1 in c:\\users\\himel\\appdata\\roaming\\python\\python39\\site-packages (from pydantic==2.*) (2.10.1)\n",
      "Requirement already satisfied: annotated-types>=0.4.0 in c:\\users\\himel\\appdata\\roaming\\python\\python39\\site-packages (from pydantic==2.*) (0.6.0)\n",
      "Requirement already satisfied: typing-extensions>=4.6.1 in c:\\users\\himel\\appdata\\roaming\\python\\python39\\site-packages (from pydantic==2.*) (4.7.1)\n"
     ]
    }
   ],
   "source": [
    "!pip install \"pydantic==2.*\""
   ]
  },
  {
   "cell_type": "code",
   "execution_count": 14,
   "id": "3e28ee18",
   "metadata": {},
   "outputs": [],
   "source": [
    "# i go for another way because of i face some error to import pandas_profiling\n",
    "# if you are not facing any error then try it\n",
    "\n",
    "# import seaborn as sns\n",
    "# df = sns.load_dataset('')\n",
    "# import pandas_profiling\n",
    "# from pandas_profiling import ProfileReport\n",
    "# p = ProfileReport(df,explorative=True)"
   ]
  },
  {
   "cell_type": "markdown",
   "id": "374a5b0f",
   "metadata": {},
   "source": [
    "## If pandas_profiling not work try this \n",
    "ydata-profiling"
   ]
  },
  {
   "cell_type": "code",
   "execution_count": 20,
   "id": "04123035",
   "metadata": {
    "scrolled": true
   },
   "outputs": [
    {
     "name": "stdout",
     "output_type": "stream",
     "text": [
      "Defaulting to user installation because normal site-packages is not writeable\n",
      "Requirement already satisfied: ydata-profiling in c:\\users\\himel\\appdata\\roaming\\python\\python39\\site-packages (4.6.1)\n",
      "Requirement already satisfied: jinja2<3.2,>=2.11.1 in g:\\himel.conda\\lib\\site-packages (from ydata-profiling) (2.11.3)\n",
      "Requirement already satisfied: wordcloud>=1.9.1 in c:\\users\\himel\\appdata\\roaming\\python\\python39\\site-packages (from ydata-profiling) (1.9.2)\n",
      "Requirement already satisfied: numba<0.59.0,>=0.56.0 in c:\\users\\himel\\appdata\\roaming\\python\\python39\\site-packages (from ydata-profiling) (0.58.1)\n",
      "Requirement already satisfied: phik<0.13,>=0.11.1 in c:\\users\\himel\\appdata\\roaming\\python\\python39\\site-packages (from ydata-profiling) (0.12.3)\n",
      "Requirement already satisfied: scipy<1.12,>=1.4.1 in g:\\himel.conda\\lib\\site-packages (from ydata-profiling) (1.7.3)\n",
      "Requirement already satisfied: htmlmin==0.1.12 in c:\\users\\himel\\appdata\\roaming\\python\\python39\\site-packages (from ydata-profiling) (0.1.12)\n",
      "Requirement already satisfied: visions[type_image_path]==0.7.5 in c:\\users\\himel\\appdata\\roaming\\python\\python39\\site-packages (from ydata-profiling) (0.7.5)\n",
      "Requirement already satisfied: statsmodels<1,>=0.13.2 in g:\\himel.conda\\lib\\site-packages (from ydata-profiling) (0.13.2)\n",
      "Requirement already satisfied: PyYAML<6.1,>=5.0.0 in g:\\himel.conda\\lib\\site-packages (from ydata-profiling) (6.0)\n",
      "Requirement already satisfied: multimethod<2,>=1.4 in c:\\users\\himel\\appdata\\roaming\\python\\python39\\site-packages (from ydata-profiling) (1.10)\n",
      "Requirement already satisfied: numpy<1.26,>=1.16.0 in c:\\users\\himel\\appdata\\roaming\\python\\python39\\site-packages (from ydata-profiling) (1.22.4)\n",
      "Requirement already satisfied: matplotlib<=3.7.3,>=3.2 in g:\\himel.conda\\lib\\site-packages (from ydata-profiling) (3.5.1)\n",
      "Requirement already satisfied: pandas!=1.4.0,<2.1,>1.1 in g:\\himel.conda\\lib\\site-packages (from ydata-profiling) (1.4.2)\n",
      "Requirement already satisfied: imagehash==4.3.1 in c:\\users\\himel\\appdata\\roaming\\python\\python39\\site-packages (from ydata-profiling) (4.3.1)\n",
      "Requirement already satisfied: pydantic>=2 in c:\\users\\himel\\appdata\\roaming\\python\\python39\\site-packages (from ydata-profiling) (2.4.2)\n",
      "Requirement already satisfied: requests<3,>=2.24.0 in g:\\himel.conda\\lib\\site-packages (from ydata-profiling) (2.27.1)\n",
      "Requirement already satisfied: tqdm<5,>=4.48.2 in g:\\himel.conda\\lib\\site-packages (from ydata-profiling) (4.64.0)\n",
      "Requirement already satisfied: dacite>=1.8 in c:\\users\\himel\\appdata\\roaming\\python\\python39\\site-packages (from ydata-profiling) (1.8.1)\n",
      "Requirement already satisfied: typeguard<5,>=4.1.2 in c:\\users\\himel\\appdata\\roaming\\python\\python39\\site-packages (from ydata-profiling) (4.1.5)\n",
      "Requirement already satisfied: seaborn<0.13,>=0.10.1 in g:\\himel.conda\\lib\\site-packages (from ydata-profiling) (0.11.2)\n",
      "Requirement already satisfied: PyWavelets in g:\\himel.conda\\lib\\site-packages (from imagehash==4.3.1->ydata-profiling) (1.3.0)\n",
      "Requirement already satisfied: pillow in g:\\himel.conda\\lib\\site-packages (from imagehash==4.3.1->ydata-profiling) (9.0.1)\n",
      "Requirement already satisfied: networkx>=2.4 in g:\\himel.conda\\lib\\site-packages (from visions[type_image_path]==0.7.5->ydata-profiling) (2.7.1)\n",
      "Requirement already satisfied: attrs>=19.3.0 in g:\\himel.conda\\lib\\site-packages (from visions[type_image_path]==0.7.5->ydata-profiling) (21.4.0)\n",
      "Requirement already satisfied: tangled-up-in-unicode>=0.0.4 in c:\\users\\himel\\appdata\\roaming\\python\\python39\\site-packages (from visions[type_image_path]==0.7.5->ydata-profiling) (0.2.0)\n",
      "Requirement already satisfied: MarkupSafe>=0.23 in g:\\himel.conda\\lib\\site-packages (from jinja2<3.2,>=2.11.1->ydata-profiling) (2.0.1)\n",
      "Requirement already satisfied: kiwisolver>=1.0.1 in g:\\himel.conda\\lib\\site-packages (from matplotlib<=3.7.3,>=3.2->ydata-profiling) (1.3.2)\n",
      "Requirement already satisfied: cycler>=0.10 in g:\\himel.conda\\lib\\site-packages (from matplotlib<=3.7.3,>=3.2->ydata-profiling) (0.11.0)\n",
      "Requirement already satisfied: pyparsing>=2.2.1 in g:\\himel.conda\\lib\\site-packages (from matplotlib<=3.7.3,>=3.2->ydata-profiling) (3.0.4)\n",
      "Requirement already satisfied: python-dateutil>=2.7 in g:\\himel.conda\\lib\\site-packages (from matplotlib<=3.7.3,>=3.2->ydata-profiling) (2.8.2)\n",
      "Requirement already satisfied: fonttools>=4.22.0 in g:\\himel.conda\\lib\\site-packages (from matplotlib<=3.7.3,>=3.2->ydata-profiling) (4.25.0)\n",
      "Requirement already satisfied: packaging>=20.0 in g:\\himel.conda\\lib\\site-packages (from matplotlib<=3.7.3,>=3.2->ydata-profiling) (21.3)\n",
      "Requirement already satisfied: llvmlite<0.42,>=0.41.0dev0 in c:\\users\\himel\\appdata\\roaming\\python\\python39\\site-packages (from numba<0.59.0,>=0.56.0->ydata-profiling) (0.41.1)\n",
      "Requirement already satisfied: pytz>=2020.1 in g:\\himel.conda\\lib\\site-packages (from pandas!=1.4.0,<2.1,>1.1->ydata-profiling) (2021.3)\n",
      "Requirement already satisfied: joblib>=0.14.1 in g:\\himel.conda\\lib\\site-packages (from phik<0.13,>=0.11.1->ydata-profiling) (1.1.0)\n",
      "Requirement already satisfied: pydantic-core==2.10.1 in c:\\users\\himel\\appdata\\roaming\\python\\python39\\site-packages (from pydantic>=2->ydata-profiling) (2.10.1)\n",
      "Requirement already satisfied: annotated-types>=0.4.0 in c:\\users\\himel\\appdata\\roaming\\python\\python39\\site-packages (from pydantic>=2->ydata-profiling) (0.6.0)\n",
      "Requirement already satisfied: typing-extensions>=4.6.1 in c:\\users\\himel\\appdata\\roaming\\python\\python39\\site-packages (from pydantic>=2->ydata-profiling) (4.7.1)\n",
      "Requirement already satisfied: six>=1.5 in g:\\himel.conda\\lib\\site-packages (from python-dateutil>=2.7->matplotlib<=3.7.3,>=3.2->ydata-profiling) (1.16.0)\n",
      "Requirement already satisfied: charset-normalizer~=2.0.0 in g:\\himel.conda\\lib\\site-packages (from requests<3,>=2.24.0->ydata-profiling) (2.0.4)\n",
      "Requirement already satisfied: idna<4,>=2.5 in g:\\himel.conda\\lib\\site-packages (from requests<3,>=2.24.0->ydata-profiling) (3.3)\n",
      "Requirement already satisfied: certifi>=2017.4.17 in g:\\himel.conda\\lib\\site-packages (from requests<3,>=2.24.0->ydata-profiling) (2021.10.8)\n",
      "Requirement already satisfied: urllib3<1.27,>=1.21.1 in g:\\himel.conda\\lib\\site-packages (from requests<3,>=2.24.0->ydata-profiling) (1.26.9)\n",
      "Requirement already satisfied: patsy>=0.5.2 in g:\\himel.conda\\lib\\site-packages (from statsmodels<1,>=0.13.2->ydata-profiling) (0.5.2)\n",
      "Requirement already satisfied: colorama in g:\\himel.conda\\lib\\site-packages (from tqdm<5,>=4.48.2->ydata-profiling) (0.4.4)\n",
      "Requirement already satisfied: importlib-metadata>=3.6 in g:\\himel.conda\\lib\\site-packages (from typeguard<5,>=4.1.2->ydata-profiling) (4.11.3)\n",
      "Requirement already satisfied: zipp>=0.5 in g:\\himel.conda\\lib\\site-packages (from importlib-metadata>=3.6->typeguard<5,>=4.1.2->ydata-profiling) (3.7.0)\n"
     ]
    }
   ],
   "source": [
    "!pip install ydata-profiling\n",
    "from ydata_profiling import ProfileReport"
   ]
  },
  {
   "cell_type": "code",
   "execution_count": 1,
   "id": "9035ff63",
   "metadata": {},
   "outputs": [],
   "source": [
    "import seaborn as sns"
   ]
  },
  {
   "cell_type": "code",
   "execution_count": 2,
   "id": "362893c5",
   "metadata": {},
   "outputs": [
    {
     "data": {
      "text/html": [
       "<div>\n",
       "<style scoped>\n",
       "    .dataframe tbody tr th:only-of-type {\n",
       "        vertical-align: middle;\n",
       "    }\n",
       "\n",
       "    .dataframe tbody tr th {\n",
       "        vertical-align: top;\n",
       "    }\n",
       "\n",
       "    .dataframe thead th {\n",
       "        text-align: right;\n",
       "    }\n",
       "</style>\n",
       "<table border=\"1\" class=\"dataframe\">\n",
       "  <thead>\n",
       "    <tr style=\"text-align: right;\">\n",
       "      <th></th>\n",
       "      <th>total_bill</th>\n",
       "      <th>tip</th>\n",
       "      <th>sex</th>\n",
       "      <th>smoker</th>\n",
       "      <th>day</th>\n",
       "      <th>time</th>\n",
       "      <th>size</th>\n",
       "    </tr>\n",
       "  </thead>\n",
       "  <tbody>\n",
       "    <tr>\n",
       "      <th>0</th>\n",
       "      <td>16.99</td>\n",
       "      <td>1.01</td>\n",
       "      <td>Female</td>\n",
       "      <td>No</td>\n",
       "      <td>Sun</td>\n",
       "      <td>Dinner</td>\n",
       "      <td>2</td>\n",
       "    </tr>\n",
       "    <tr>\n",
       "      <th>1</th>\n",
       "      <td>10.34</td>\n",
       "      <td>1.66</td>\n",
       "      <td>Male</td>\n",
       "      <td>No</td>\n",
       "      <td>Sun</td>\n",
       "      <td>Dinner</td>\n",
       "      <td>3</td>\n",
       "    </tr>\n",
       "    <tr>\n",
       "      <th>2</th>\n",
       "      <td>21.01</td>\n",
       "      <td>3.50</td>\n",
       "      <td>Male</td>\n",
       "      <td>No</td>\n",
       "      <td>Sun</td>\n",
       "      <td>Dinner</td>\n",
       "      <td>3</td>\n",
       "    </tr>\n",
       "    <tr>\n",
       "      <th>3</th>\n",
       "      <td>23.68</td>\n",
       "      <td>3.31</td>\n",
       "      <td>Male</td>\n",
       "      <td>No</td>\n",
       "      <td>Sun</td>\n",
       "      <td>Dinner</td>\n",
       "      <td>2</td>\n",
       "    </tr>\n",
       "    <tr>\n",
       "      <th>4</th>\n",
       "      <td>24.59</td>\n",
       "      <td>3.61</td>\n",
       "      <td>Female</td>\n",
       "      <td>No</td>\n",
       "      <td>Sun</td>\n",
       "      <td>Dinner</td>\n",
       "      <td>4</td>\n",
       "    </tr>\n",
       "  </tbody>\n",
       "</table>\n",
       "</div>"
      ],
      "text/plain": [
       "   total_bill   tip     sex smoker  day    time  size\n",
       "0       16.99  1.01  Female     No  Sun  Dinner     2\n",
       "1       10.34  1.66    Male     No  Sun  Dinner     3\n",
       "2       21.01  3.50    Male     No  Sun  Dinner     3\n",
       "3       23.68  3.31    Male     No  Sun  Dinner     2\n",
       "4       24.59  3.61  Female     No  Sun  Dinner     4"
      ]
     },
     "execution_count": 2,
     "metadata": {},
     "output_type": "execute_result"
    }
   ],
   "source": [
    "df = sns.load_dataset('tips')\n",
    "df.head()"
   ]
  },
  {
   "cell_type": "code",
   "execution_count": 24,
   "id": "d20dcc95",
   "metadata": {},
   "outputs": [
    {
     "name": "stdout",
     "output_type": "stream",
     "text": [
      "Defaulting to user installation because normal site-packages is not writeable"
     ]
    },
    {
     "name": "stderr",
     "output_type": "stream",
     "text": [
      "ERROR: pip's dependency resolver does not currently take into account all the packages that are installed. This behaviour is the source of the following dependency conflicts.\n",
      "anaconda-project 0.10.2 requires ruamel-yaml, which is not installed.\n",
      "jupyter-server 1.13.5 requires pywinpty<2; os_name == \"nt\", but you have pywinpty 2.0.2 which is incompatible.\n"
     ]
    },
    {
     "name": "stdout",
     "output_type": "stream",
     "text": [
      "\n",
      "Requirement already satisfied: Jinja2 in g:\\himel.conda\\lib\\site-packages (2.11.3)\n",
      "Collecting Jinja2\n",
      "  Using cached Jinja2-3.1.2-py3-none-any.whl (133 kB)\n",
      "Requirement already satisfied: MarkupSafe>=2.0 in g:\\himel.conda\\lib\\site-packages (from Jinja2) (2.0.1)\n",
      "Installing collected packages: Jinja2\n",
      "Successfully installed Jinja2-3.1.2\n"
     ]
    }
   ],
   "source": [
    "!pip install --upgrade Jinja2"
   ]
  },
  {
   "cell_type": "code",
   "execution_count": 25,
   "id": "4644dbb5",
   "metadata": {},
   "outputs": [],
   "source": [
    "profile = ProfileReport(df,explorative=True)\n",
    "# profile.to_file('output.html)"
   ]
  },
  {
   "cell_type": "markdown",
   "id": "f5ef8024",
   "metadata": {},
   "source": [
    "## if ydata also can't work then update it's version "
   ]
  },
  {
   "cell_type": "code",
   "execution_count": 4,
   "id": "acf247fc",
   "metadata": {},
   "outputs": [
    {
     "name": "stdout",
     "output_type": "stream",
     "text": [
      "Defaulting to user installation because normal site-packages is not writeable\n",
      "Requirement already satisfied: ydata-profiling==4.1.2 in c:\\users\\himel\\appdata\\roaming\\python\\python39\\site-packages (4.1.2)\n",
      "Requirement already satisfied: scipy<1.10,>=1.4.1 in c:\\users\\himel\\appdata\\roaming\\python\\python39\\site-packages (from ydata-profiling==4.1.2) (1.9.3)\n",
      "Requirement already satisfied: pandas!=1.4.0,<1.6,>1.1 in g:\\himel.conda\\lib\\site-packages (from ydata-profiling==4.1.2) (1.4.2)\n",
      "Requirement already satisfied: matplotlib<3.7,>=3.2 in g:\\himel.conda\\lib\\site-packages (from ydata-profiling==4.1.2) (3.5.1)\n",
      "Requirement already satisfied: pydantic<1.11,>=1.8.1 in c:\\users\\himel\\appdata\\roaming\\python\\python39\\site-packages (from ydata-profiling==4.1.2) (1.10.13)\n",
      "Requirement already satisfied: PyYAML<6.1,>=5.0.0 in g:\\himel.conda\\lib\\site-packages (from ydata-profiling==4.1.2) (6.0)\n",
      "Requirement already satisfied: jinja2<3.2,>=2.11.1 in c:\\users\\himel\\appdata\\roaming\\python\\python39\\site-packages (from ydata-profiling==4.1.2) (3.0.3)\n",
      "Requirement already satisfied: visions==0.7.5 in c:\\users\\himel\\appdata\\roaming\\python\\python39\\site-packages (from visions[type_image_path]==0.7.5->ydata-profiling==4.1.2) (0.7.5)\n",
      "Requirement already satisfied: numpy<1.24,>=1.16.0 in c:\\users\\himel\\appdata\\roaming\\python\\python39\\site-packages (from ydata-profiling==4.1.2) (1.22.4)\n"
     ]
    },
    {
     "name": "stderr",
     "output_type": "stream",
     "text": [
      "WARNING: visions 0.7.5 does not provide the extra 'type-image-path'\n"
     ]
    },
    {
     "name": "stdout",
     "output_type": "stream",
     "text": [
      "Requirement already satisfied: htmlmin==0.1.12 in c:\\users\\himel\\appdata\\roaming\\python\\python39\\site-packages (from ydata-profiling==4.1.2) (0.1.12)\n",
      "Requirement already satisfied: phik<0.13,>=0.11.1 in c:\\users\\himel\\appdata\\roaming\\python\\python39\\site-packages (from ydata-profiling==4.1.2) (0.12.3)\n",
      "Requirement already satisfied: requests<2.29,>=2.24.0 in g:\\himel.conda\\lib\\site-packages (from ydata-profiling==4.1.2) (2.27.1)\n",
      "Requirement already satisfied: tqdm<4.65,>=4.48.2 in g:\\himel.conda\\lib\\site-packages (from ydata-profiling==4.1.2) (4.64.0)\n",
      "Requirement already satisfied: seaborn<0.13,>=0.10.1 in g:\\himel.conda\\lib\\site-packages (from ydata-profiling==4.1.2) (0.11.2)\n",
      "Requirement already satisfied: multimethod<1.10,>=1.4 in c:\\users\\himel\\appdata\\roaming\\python\\python39\\site-packages (from ydata-profiling==4.1.2) (1.9.1)\n",
      "Requirement already satisfied: statsmodels<0.14,>=0.13.2 in g:\\himel.conda\\lib\\site-packages (from ydata-profiling==4.1.2) (0.13.2)\n",
      "Requirement already satisfied: typeguard<2.14,>=2.13.2 in c:\\users\\himel\\appdata\\roaming\\python\\python39\\site-packages (from ydata-profiling==4.1.2) (2.13.3)\n",
      "Requirement already satisfied: imagehash==4.3.1 in c:\\users\\himel\\appdata\\roaming\\python\\python39\\site-packages (from ydata-profiling==4.1.2) (4.3.1)\n",
      "Requirement already satisfied: PyWavelets in g:\\himel.conda\\lib\\site-packages (from imagehash==4.3.1->ydata-profiling==4.1.2) (1.3.0)\n",
      "Requirement already satisfied: pillow in g:\\himel.conda\\lib\\site-packages (from imagehash==4.3.1->ydata-profiling==4.1.2) (9.0.1)\n",
      "Requirement already satisfied: attrs>=19.3.0 in g:\\himel.conda\\lib\\site-packages (from visions==0.7.5->visions[type_image_path]==0.7.5->ydata-profiling==4.1.2) (21.4.0)\n",
      "Requirement already satisfied: networkx>=2.4 in g:\\himel.conda\\lib\\site-packages (from visions==0.7.5->visions[type_image_path]==0.7.5->ydata-profiling==4.1.2) (2.7.1)\n",
      "Requirement already satisfied: tangled-up-in-unicode>=0.0.4 in c:\\users\\himel\\appdata\\roaming\\python\\python39\\site-packages (from visions==0.7.5->visions[type_image_path]==0.7.5->ydata-profiling==4.1.2) (0.2.0)\n",
      "Requirement already satisfied: MarkupSafe>=2.0 in c:\\users\\himel\\appdata\\roaming\\python\\python39\\site-packages (from jinja2<3.2,>=2.11.1->ydata-profiling==4.1.2) (2.1.3)\n",
      "Requirement already satisfied: cycler>=0.10 in g:\\himel.conda\\lib\\site-packages (from matplotlib<3.7,>=3.2->ydata-profiling==4.1.2) (0.11.0)\n",
      "Requirement already satisfied: fonttools>=4.22.0 in g:\\himel.conda\\lib\\site-packages (from matplotlib<3.7,>=3.2->ydata-profiling==4.1.2) (4.25.0)\n",
      "Requirement already satisfied: kiwisolver>=1.0.1 in g:\\himel.conda\\lib\\site-packages (from matplotlib<3.7,>=3.2->ydata-profiling==4.1.2) (1.3.2)\n",
      "Requirement already satisfied: packaging>=20.0 in g:\\himel.conda\\lib\\site-packages (from matplotlib<3.7,>=3.2->ydata-profiling==4.1.2) (21.3)\n",
      "Requirement already satisfied: pyparsing>=2.2.1 in g:\\himel.conda\\lib\\site-packages (from matplotlib<3.7,>=3.2->ydata-profiling==4.1.2) (3.0.4)\n",
      "Requirement already satisfied: python-dateutil>=2.7 in g:\\himel.conda\\lib\\site-packages (from matplotlib<3.7,>=3.2->ydata-profiling==4.1.2) (2.8.2)\n",
      "Requirement already satisfied: pytz>=2020.1 in g:\\himel.conda\\lib\\site-packages (from pandas!=1.4.0,<1.6,>1.1->ydata-profiling==4.1.2) (2021.3)\n",
      "Requirement already satisfied: joblib>=0.14.1 in g:\\himel.conda\\lib\\site-packages (from phik<0.13,>=0.11.1->ydata-profiling==4.1.2) (1.1.0)\n",
      "Requirement already satisfied: typing-extensions>=4.2.0 in c:\\users\\himel\\appdata\\roaming\\python\\python39\\site-packages (from pydantic<1.11,>=1.8.1->ydata-profiling==4.1.2) (4.7.1)\n",
      "Requirement already satisfied: urllib3<1.27,>=1.21.1 in g:\\himel.conda\\lib\\site-packages (from requests<2.29,>=2.24.0->ydata-profiling==4.1.2) (1.26.9)\n",
      "Requirement already satisfied: certifi>=2017.4.17 in g:\\himel.conda\\lib\\site-packages (from requests<2.29,>=2.24.0->ydata-profiling==4.1.2) (2021.10.8)\n",
      "Requirement already satisfied: charset-normalizer~=2.0.0 in g:\\himel.conda\\lib\\site-packages (from requests<2.29,>=2.24.0->ydata-profiling==4.1.2) (2.0.4)\n",
      "Requirement already satisfied: idna<4,>=2.5 in g:\\himel.conda\\lib\\site-packages (from requests<2.29,>=2.24.0->ydata-profiling==4.1.2) (3.3)\n",
      "Requirement already satisfied: patsy>=0.5.2 in g:\\himel.conda\\lib\\site-packages (from statsmodels<0.14,>=0.13.2->ydata-profiling==4.1.2) (0.5.2)\n",
      "Requirement already satisfied: colorama in g:\\himel.conda\\lib\\site-packages (from tqdm<4.65,>=4.48.2->ydata-profiling==4.1.2) (0.4.4)\n",
      "Requirement already satisfied: six in g:\\himel.conda\\lib\\site-packages (from patsy>=0.5.2->statsmodels<0.14,>=0.13.2->ydata-profiling==4.1.2) (1.16.0)\n"
     ]
    }
   ],
   "source": [
    "!pip install ydata-profiling==4.1.2"
   ]
  },
  {
   "cell_type": "code",
   "execution_count": 5,
   "id": "f8ce40a1",
   "metadata": {},
   "outputs": [],
   "source": [
    "from ydata_profiling import ProfileReport\n",
    "profile = ProfileReport(df,explorative=True)"
   ]
  },
  {
   "cell_type": "markdown",
   "id": "2a029e0d",
   "metadata": {},
   "source": [
    "## Now it's work"
   ]
  },
  {
   "cell_type": "code",
   "execution_count": 6,
   "id": "fd64adfe",
   "metadata": {},
   "outputs": [
    {
     "data": {
      "application/vnd.jupyter.widget-view+json": {
       "model_id": "fe4768a27e644211a848c012ef8bc8dc",
       "version_major": 2,
       "version_minor": 0
      },
      "text/plain": [
       "Summarize dataset:   0%|          | 0/5 [00:00<?, ?it/s]"
      ]
     },
     "metadata": {},
     "output_type": "display_data"
    },
    {
     "data": {
      "application/vnd.jupyter.widget-view+json": {
       "model_id": "3b15009a1a804f01912713c7e35cafa3",
       "version_major": 2,
       "version_minor": 0
      },
      "text/plain": [
       "Generate report structure:   0%|          | 0/1 [00:00<?, ?it/s]"
      ]
     },
     "metadata": {},
     "output_type": "display_data"
    },
    {
     "data": {
      "application/vnd.jupyter.widget-view+json": {
       "model_id": "2bb58b5532b2487888ad82e968bd13c0",
       "version_major": 2,
       "version_minor": 0
      },
      "text/plain": [
       "Render HTML:   0%|          | 0/1 [00:00<?, ?it/s]"
      ]
     },
     "metadata": {},
     "output_type": "display_data"
    },
    {
     "data": {
      "application/vnd.jupyter.widget-view+json": {
       "model_id": "3185959943ff405db29f729777b42d24",
       "version_major": 2,
       "version_minor": 0
      },
      "text/plain": [
       "Export report to file:   0%|          | 0/1 [00:00<?, ?it/s]"
      ]
     },
     "metadata": {},
     "output_type": "display_data"
    }
   ],
   "source": [
    "profile.to_file('output.html')"
   ]
  },
  {
   "cell_type": "markdown",
   "id": "5978f606",
   "metadata": {},
   "source": [
    "## look at your folder it create a html file "
   ]
  },
  {
   "cell_type": "markdown",
   "id": "3b8a909f",
   "metadata": {},
   "source": [
    "## Okey lets try another one "
   ]
  },
  {
   "cell_type": "code",
   "execution_count": 6,
   "id": "38a54059",
   "metadata": {},
   "outputs": [
    {
     "data": {
      "text/html": [
       "<div>\n",
       "<style scoped>\n",
       "    .dataframe tbody tr th:only-of-type {\n",
       "        vertical-align: middle;\n",
       "    }\n",
       "\n",
       "    .dataframe tbody tr th {\n",
       "        vertical-align: top;\n",
       "    }\n",
       "\n",
       "    .dataframe thead th {\n",
       "        text-align: right;\n",
       "    }\n",
       "</style>\n",
       "<table border=\"1\" class=\"dataframe\">\n",
       "  <thead>\n",
       "    <tr style=\"text-align: right;\">\n",
       "      <th></th>\n",
       "      <th>survived</th>\n",
       "      <th>pclass</th>\n",
       "      <th>sex</th>\n",
       "      <th>age</th>\n",
       "      <th>sibsp</th>\n",
       "      <th>parch</th>\n",
       "      <th>fare</th>\n",
       "      <th>embarked</th>\n",
       "      <th>class</th>\n",
       "      <th>who</th>\n",
       "      <th>adult_male</th>\n",
       "      <th>deck</th>\n",
       "      <th>embark_town</th>\n",
       "      <th>alive</th>\n",
       "      <th>alone</th>\n",
       "    </tr>\n",
       "  </thead>\n",
       "  <tbody>\n",
       "    <tr>\n",
       "      <th>0</th>\n",
       "      <td>0</td>\n",
       "      <td>3</td>\n",
       "      <td>male</td>\n",
       "      <td>22.0</td>\n",
       "      <td>1</td>\n",
       "      <td>0</td>\n",
       "      <td>7.2500</td>\n",
       "      <td>S</td>\n",
       "      <td>Third</td>\n",
       "      <td>man</td>\n",
       "      <td>True</td>\n",
       "      <td>NaN</td>\n",
       "      <td>Southampton</td>\n",
       "      <td>no</td>\n",
       "      <td>False</td>\n",
       "    </tr>\n",
       "    <tr>\n",
       "      <th>1</th>\n",
       "      <td>1</td>\n",
       "      <td>1</td>\n",
       "      <td>female</td>\n",
       "      <td>38.0</td>\n",
       "      <td>1</td>\n",
       "      <td>0</td>\n",
       "      <td>71.2833</td>\n",
       "      <td>C</td>\n",
       "      <td>First</td>\n",
       "      <td>woman</td>\n",
       "      <td>False</td>\n",
       "      <td>C</td>\n",
       "      <td>Cherbourg</td>\n",
       "      <td>yes</td>\n",
       "      <td>False</td>\n",
       "    </tr>\n",
       "    <tr>\n",
       "      <th>2</th>\n",
       "      <td>1</td>\n",
       "      <td>3</td>\n",
       "      <td>female</td>\n",
       "      <td>26.0</td>\n",
       "      <td>0</td>\n",
       "      <td>0</td>\n",
       "      <td>7.9250</td>\n",
       "      <td>S</td>\n",
       "      <td>Third</td>\n",
       "      <td>woman</td>\n",
       "      <td>False</td>\n",
       "      <td>NaN</td>\n",
       "      <td>Southampton</td>\n",
       "      <td>yes</td>\n",
       "      <td>True</td>\n",
       "    </tr>\n",
       "    <tr>\n",
       "      <th>3</th>\n",
       "      <td>1</td>\n",
       "      <td>1</td>\n",
       "      <td>female</td>\n",
       "      <td>35.0</td>\n",
       "      <td>1</td>\n",
       "      <td>0</td>\n",
       "      <td>53.1000</td>\n",
       "      <td>S</td>\n",
       "      <td>First</td>\n",
       "      <td>woman</td>\n",
       "      <td>False</td>\n",
       "      <td>C</td>\n",
       "      <td>Southampton</td>\n",
       "      <td>yes</td>\n",
       "      <td>False</td>\n",
       "    </tr>\n",
       "    <tr>\n",
       "      <th>4</th>\n",
       "      <td>0</td>\n",
       "      <td>3</td>\n",
       "      <td>male</td>\n",
       "      <td>35.0</td>\n",
       "      <td>0</td>\n",
       "      <td>0</td>\n",
       "      <td>8.0500</td>\n",
       "      <td>S</td>\n",
       "      <td>Third</td>\n",
       "      <td>man</td>\n",
       "      <td>True</td>\n",
       "      <td>NaN</td>\n",
       "      <td>Southampton</td>\n",
       "      <td>no</td>\n",
       "      <td>True</td>\n",
       "    </tr>\n",
       "  </tbody>\n",
       "</table>\n",
       "</div>"
      ],
      "text/plain": [
       "   survived  pclass     sex   age  sibsp  parch     fare embarked  class  \\\n",
       "0         0       3    male  22.0      1      0   7.2500        S  Third   \n",
       "1         1       1  female  38.0      1      0  71.2833        C  First   \n",
       "2         1       3  female  26.0      0      0   7.9250        S  Third   \n",
       "3         1       1  female  35.0      1      0  53.1000        S  First   \n",
       "4         0       3    male  35.0      0      0   8.0500        S  Third   \n",
       "\n",
       "     who  adult_male deck  embark_town alive  alone  \n",
       "0    man        True  NaN  Southampton    no  False  \n",
       "1  woman       False    C    Cherbourg   yes  False  \n",
       "2  woman       False  NaN  Southampton   yes   True  \n",
       "3  woman       False    C  Southampton   yes  False  \n",
       "4    man        True  NaN  Southampton    no   True  "
      ]
     },
     "execution_count": 6,
     "metadata": {},
     "output_type": "execute_result"
    }
   ],
   "source": [
    "df1 = sns.load_dataset('titanic')\n",
    "df1.head()"
   ]
  },
  {
   "cell_type": "code",
   "execution_count": 7,
   "id": "f17aa121",
   "metadata": {},
   "outputs": [],
   "source": [
    "p = ProfileReport(df1,explorative=True,dark_mode=True)"
   ]
  },
  {
   "cell_type": "code",
   "execution_count": null,
   "id": "f2a96c66",
   "metadata": {},
   "outputs": [
    {
     "data": {
      "application/vnd.jupyter.widget-view+json": {
       "model_id": "a6c5a4337a894a74b2c3cbf8e467cd28",
       "version_major": 2,
       "version_minor": 0
      },
      "text/plain": [
       "Summarize dataset:   0%|          | 0/5 [00:00<?, ?it/s]"
      ]
     },
     "metadata": {},
     "output_type": "display_data"
    }
   ],
   "source": [
    "p.to_file('h.html')"
   ]
  },
  {
   "cell_type": "markdown",
   "id": "46d52967",
   "metadata": {},
   "source": [
    "## D-Tale\n",
    "D-Tale is the combination of a Flask back-end and a React front-end to bring you an easy way to view & analyze Pandas data structures. It integrates seamlessly with ipython notebooks & python/ipython terminals. Currently this tool supports such Pandas objects as DataFrame, Series, MultiIndex, DatetimeIndex & RangeIndex."
   ]
  },
  {
   "cell_type": "code",
   "execution_count": 44,
   "id": "495a7e5c",
   "metadata": {},
   "outputs": [
    {
     "name": "stdout",
     "output_type": "stream",
     "text": [
      "Defaulting to user installation because normal site-packages is not writeable\n",
      "Requirement already satisfied: dtale in c:\\users\\himel\\appdata\\roaming\\python\\python39\\site-packages (3.7.0)\n",
      "Requirement already satisfied: scikit-learn in g:\\himel.conda\\lib\\site-packages (from dtale) (1.0.2)\n",
      "Requirement already satisfied: openpyxl!=3.2.0b1 in g:\\himel.conda\\lib\\site-packages (from dtale) (3.0.9)\n",
      "Requirement already satisfied: dash in c:\\users\\himel\\appdata\\roaming\\python\\python39\\site-packages (from dtale) (2.14.1)\n",
      "Requirement already satisfied: dash-bootstrap-components<=1.3.1 in c:\\users\\himel\\appdata\\roaming\\python\\python39\\site-packages (from dtale) (1.3.1)\n",
      "Requirement already satisfied: scipy in g:\\himel.conda\\lib\\site-packages (from dtale) (1.7.3)\n",
      "Requirement already satisfied: beautifulsoup4 in g:\\himel.conda\\lib\\site-packages (from dtale) (4.11.1)\n",
      "Requirement already satisfied: certifi in g:\\himel.conda\\lib\\site-packages (from dtale) (2021.10.8)\n",
      "Requirement already satisfied: seaborn in g:\\himel.conda\\lib\\site-packages (from dtale) (0.11.2)\n",
      "Requirement already satisfied: missingno in c:\\users\\himel\\appdata\\roaming\\python\\python39\\site-packages (from dtale) (0.5.2)\n",
      "Requirement already satisfied: Flask-Compress in c:\\users\\himel\\appdata\\roaming\\python\\python39\\site-packages (from dtale) (1.14)\n",
      "Requirement already satisfied: et-xmlfile in g:\\himel.conda\\lib\\site-packages (from dtale) (1.1.0)\n",
      "Requirement already satisfied: lz4 in c:\\users\\himel\\appdata\\roaming\\python\\python39\\site-packages (from dtale) (4.3.2)\n",
      "Requirement already satisfied: networkx in g:\\himel.conda\\lib\\site-packages (from dtale) (2.7.1)\n",
      "Requirement already satisfied: itsdangerous in g:\\himel.conda\\lib\\site-packages (from dtale) (2.0.1)\n",
      "Requirement already satisfied: werkzeug<2.3 in g:\\himel.conda\\lib\\site-packages (from dtale) (2.0.3)\n",
      "Requirement already satisfied: six in g:\\himel.conda\\lib\\site-packages (from dtale) (1.16.0)\n",
      "Requirement already satisfied: dash-colorscales in c:\\users\\himel\\appdata\\roaming\\python\\python39\\site-packages (from dtale) (0.0.4)\n",
      "Requirement already satisfied: kaleido in c:\\users\\himel\\appdata\\roaming\\python\\python39\\site-packages (from dtale) (0.2.1)\n",
      "Requirement already satisfied: plotly in g:\\himel.conda\\lib\\site-packages (from dtale) (5.6.0)\n",
      "Requirement already satisfied: future>=0.14.0 in g:\\himel.conda\\lib\\site-packages (from dtale) (0.18.2)\n",
      "Requirement already satisfied: xlrd in g:\\himel.conda\\lib\\site-packages (from dtale) (2.0.1)\n",
      "Requirement already satisfied: flask-ngrok in c:\\users\\himel\\appdata\\roaming\\python\\python39\\site-packages (from dtale) (0.0.25)\n",
      "Requirement already satisfied: squarify in c:\\users\\himel\\appdata\\roaming\\python\\python39\\site-packages (from dtale) (0.4.3)\n",
      "Requirement already satisfied: matplotlib in g:\\himel.conda\\lib\\site-packages (from dtale) (3.5.1)\n",
      "Requirement already satisfied: Flask<2.3 in g:\\himel.conda\\lib\\site-packages (from dtale) (1.1.2)\n",
      "Requirement already satisfied: strsimpy in c:\\users\\himel\\appdata\\roaming\\python\\python39\\site-packages (from dtale) (0.2.1)\n",
      "Requirement already satisfied: cycler in g:\\himel.conda\\lib\\site-packages (from dtale) (0.11.0)\n",
      "Requirement already satisfied: xarray in g:\\himel.conda\\lib\\site-packages (from dtale) (0.20.1)\n",
      "Requirement already satisfied: pandas in g:\\himel.conda\\lib\\site-packages (from dtale) (1.4.2)\n",
      "Requirement already satisfied: dash-daq in c:\\users\\himel\\appdata\\roaming\\python\\python39\\site-packages (from dtale) (0.5.0)\n",
      "Requirement already satisfied: numpy in c:\\users\\himel\\appdata\\roaming\\python\\python39\\site-packages (from dtale) (1.22.4)\n",
      "Requirement already satisfied: statsmodels in g:\\himel.conda\\lib\\site-packages (from dtale) (0.13.2)\n",
      "Requirement already satisfied: requests in g:\\himel.conda\\lib\\site-packages (from dtale) (2.27.1)\n",
      "Requirement already satisfied: dash-core-components==2.0.0 in c:\\users\\himel\\appdata\\roaming\\python\\python39\\site-packages (from dash->dtale) (2.0.0)\n",
      "Requirement already satisfied: dash-table==5.0.0 in c:\\users\\himel\\appdata\\roaming\\python\\python39\\site-packages (from dash->dtale) (5.0.0)\n",
      "Requirement already satisfied: importlib-metadata in g:\\himel.conda\\lib\\site-packages (from dash->dtale) (4.11.3)\n",
      "Requirement already satisfied: typing-extensions>=4.1.1 in c:\\users\\himel\\appdata\\roaming\\python\\python39\\site-packages (from dash->dtale) (4.7.1)\n",
      "Requirement already satisfied: ansi2html in c:\\users\\himel\\appdata\\roaming\\python\\python39\\site-packages (from dash->dtale) (1.8.0)\n",
      "Requirement already satisfied: retrying in c:\\users\\himel\\appdata\\roaming\\python\\python39\\site-packages (from dash->dtale) (1.3.4)\n",
      "Requirement already satisfied: dash-html-components==2.0.0 in c:\\users\\himel\\appdata\\roaming\\python\\python39\\site-packages (from dash->dtale) (2.0.0)\n",
      "Requirement already satisfied: nest-asyncio in g:\\himel.conda\\lib\\site-packages (from dash->dtale) (1.5.5)\n",
      "Requirement already satisfied: setuptools in g:\\himel.conda\\lib\\site-packages (from dash->dtale) (61.2.0)\n",
      "Requirement already satisfied: click>=5.1 in g:\\himel.conda\\lib\\site-packages (from Flask<2.3->dtale) (8.0.4)\n",
      "Requirement already satisfied: Jinja2>=2.10.1 in c:\\users\\himel\\appdata\\roaming\\python\\python39\\site-packages (from Flask<2.3->dtale) (3.1.2)\n",
      "Requirement already satisfied: colorama in g:\\himel.conda\\lib\\site-packages (from click>=5.1->Flask<2.3->dtale) (0.4.4)\n",
      "Requirement already satisfied: MarkupSafe>=2.0 in g:\\himel.conda\\lib\\site-packages (from Jinja2>=2.10.1->Flask<2.3->dtale) (2.0.1)\n",
      "Requirement already satisfied: tenacity>=6.2.0 in g:\\himel.conda\\lib\\site-packages (from plotly->dtale) (8.0.1)\n",
      "Requirement already satisfied: soupsieve>1.2 in g:\\himel.conda\\lib\\site-packages (from beautifulsoup4->dtale) (2.3.1)\n",
      "Requirement already satisfied: brotli in c:\\users\\himel\\appdata\\roaming\\python\\python39\\site-packages (from Flask-Compress->dtale) (1.1.0)\n",
      "Requirement already satisfied: zipp>=0.5 in g:\\himel.conda\\lib\\site-packages (from importlib-metadata->dash->dtale) (3.7.0)\n",
      "Requirement already satisfied: pillow>=6.2.0 in g:\\himel.conda\\lib\\site-packages (from matplotlib->dtale) (9.0.1)\n",
      "Requirement already satisfied: pyparsing>=2.2.1 in g:\\himel.conda\\lib\\site-packages (from matplotlib->dtale) (3.0.4)\n",
      "Requirement already satisfied: packaging>=20.0 in g:\\himel.conda\\lib\\site-packages (from matplotlib->dtale) (21.3)\n",
      "Requirement already satisfied: python-dateutil>=2.7 in g:\\himel.conda\\lib\\site-packages (from matplotlib->dtale) (2.8.2)\n",
      "Requirement already satisfied: fonttools>=4.22.0 in g:\\himel.conda\\lib\\site-packages (from matplotlib->dtale) (4.25.0)\n",
      "Requirement already satisfied: kiwisolver>=1.0.1 in g:\\himel.conda\\lib\\site-packages (from matplotlib->dtale) (1.3.2)\n",
      "Requirement already satisfied: pytz>=2020.1 in g:\\himel.conda\\lib\\site-packages (from pandas->dtale) (2021.3)\n",
      "Requirement already satisfied: urllib3<1.27,>=1.21.1 in g:\\himel.conda\\lib\\site-packages (from requests->dtale) (1.26.9)\n",
      "Requirement already satisfied: idna<4,>=2.5 in g:\\himel.conda\\lib\\site-packages (from requests->dtale) (3.3)\n",
      "Requirement already satisfied: charset-normalizer~=2.0.0 in g:\\himel.conda\\lib\\site-packages (from requests->dtale) (2.0.4)\n",
      "Requirement already satisfied: joblib>=0.11 in g:\\himel.conda\\lib\\site-packages (from scikit-learn->dtale) (1.1.0)\n",
      "Requirement already satisfied: threadpoolctl>=2.0.0 in g:\\himel.conda\\lib\\site-packages (from scikit-learn->dtale) (2.2.0)\n",
      "Requirement already satisfied: patsy>=0.5.2 in g:\\himel.conda\\lib\\site-packages (from statsmodels->dtale) (0.5.2)\n"
     ]
    }
   ],
   "source": [
    "!pip install dtale"
   ]
  },
  {
   "cell_type": "code",
   "execution_count": 7,
   "id": "66e239e2",
   "metadata": {},
   "outputs": [],
   "source": [
    "import dtale\n",
    "import pandas as pd\n",
    "import seaborn as sns"
   ]
  },
  {
   "cell_type": "code",
   "execution_count": 8,
   "id": "ade76aef",
   "metadata": {},
   "outputs": [],
   "source": [
    "df2 = sns.load_dataset('titanic')"
   ]
  },
  {
   "cell_type": "code",
   "execution_count": 9,
   "id": "4e57901d",
   "metadata": {},
   "outputs": [
    {
     "name": "stderr",
     "output_type": "stream",
     "text": [
      "C:\\Users\\Himel\\AppData\\Roaming\\Python\\Python39\\site-packages\\dtale\\views.py:785: FutureWarning:\n",
      "\n",
      "['embarked', 'class', 'deck', 'embark_town'] did not aggregate successfully. If any error is raised this will raise in a future version of pandas. Drop these columns/ops to avoid this warning.\n",
      "\n"
     ]
    },
    {
     "data": {
      "text/html": [
       "\n",
       "        <iframe\n",
       "            width=\"100%\"\n",
       "            height=\"475\"\n",
       "            src=\"http://DESKTOP-ROC9789:40000/dtale/iframe/1\"\n",
       "            frameborder=\"0\"\n",
       "            allowfullscreen\n",
       "            \n",
       "        ></iframe>\n",
       "        "
      ],
      "text/plain": [
       "<IPython.lib.display.IFrame at 0x1ad1e3980d0>"
      ]
     },
     "metadata": {},
     "output_type": "display_data"
    },
    {
     "data": {
      "text/plain": []
     },
     "execution_count": 9,
     "metadata": {},
     "output_type": "execute_result"
    }
   ],
   "source": [
    "dtale.show(df2)\n",
    "# it need an allow access just give the permission"
   ]
  },
  {
   "cell_type": "markdown",
   "id": "6268dbe2",
   "metadata": {},
   "source": [
    "## For automatic visualization \n",
    "## you can use 'SweetViz'"
   ]
  },
  {
   "cell_type": "code",
   "execution_count": 10,
   "id": "fee0b90c",
   "metadata": {},
   "outputs": [
    {
     "name": "stdout",
     "output_type": "stream",
     "text": [
      "Defaulting to user installation because normal site-packages is not writeable\n",
      "Requirement already satisfied: sweetviz in c:\\users\\himel\\appdata\\roaming\\python\\python39\\site-packages (2.2.1)\n",
      "Requirement already satisfied: pandas!=1.0.0,!=1.0.1,!=1.0.2,>=0.25.3 in g:\\himel.conda\\lib\\site-packages (from sweetviz) (1.4.2)\n",
      "Requirement already satisfied: numpy>=1.16.0 in c:\\users\\himel\\appdata\\roaming\\python\\python39\\site-packages (from sweetviz) (1.22.4)\n",
      "Requirement already satisfied: matplotlib>=3.1.3 in g:\\himel.conda\\lib\\site-packages (from sweetviz) (3.5.1)\n",
      "Requirement already satisfied: tqdm>=4.43.0 in g:\\himel.conda\\lib\\site-packages (from sweetviz) (4.64.0)\n",
      "Requirement already satisfied: scipy>=1.3.2 in c:\\users\\himel\\appdata\\roaming\\python\\python39\\site-packages (from sweetviz) (1.9.3)\n",
      "Requirement already satisfied: jinja2>=2.11.1 in c:\\users\\himel\\appdata\\roaming\\python\\python39\\site-packages (from sweetviz) (3.0.3)\n",
      "Requirement already satisfied: importlib-resources>=1.2.0 in c:\\users\\himel\\appdata\\roaming\\python\\python39\\site-packages (from sweetviz) (6.1.0)\n",
      "Requirement already satisfied: zipp>=3.1.0 in g:\\himel.conda\\lib\\site-packages (from importlib-resources>=1.2.0->sweetviz) (3.7.0)\n",
      "Requirement already satisfied: MarkupSafe>=2.0 in c:\\users\\himel\\appdata\\roaming\\python\\python39\\site-packages (from jinja2>=2.11.1->sweetviz) (2.1.3)\n",
      "Requirement already satisfied: cycler>=0.10 in g:\\himel.conda\\lib\\site-packages (from matplotlib>=3.1.3->sweetviz) (0.11.0)\n",
      "Requirement already satisfied: fonttools>=4.22.0 in g:\\himel.conda\\lib\\site-packages (from matplotlib>=3.1.3->sweetviz) (4.25.0)\n",
      "Requirement already satisfied: kiwisolver>=1.0.1 in g:\\himel.conda\\lib\\site-packages (from matplotlib>=3.1.3->sweetviz) (1.3.2)\n",
      "Requirement already satisfied: packaging>=20.0 in g:\\himel.conda\\lib\\site-packages (from matplotlib>=3.1.3->sweetviz) (21.3)\n",
      "Requirement already satisfied: pillow>=6.2.0 in g:\\himel.conda\\lib\\site-packages (from matplotlib>=3.1.3->sweetviz) (9.0.1)\n",
      "Requirement already satisfied: pyparsing>=2.2.1 in g:\\himel.conda\\lib\\site-packages (from matplotlib>=3.1.3->sweetviz) (3.0.4)\n",
      "Requirement already satisfied: python-dateutil>=2.7 in g:\\himel.conda\\lib\\site-packages (from matplotlib>=3.1.3->sweetviz) (2.8.2)\n",
      "Requirement already satisfied: pytz>=2020.1 in g:\\himel.conda\\lib\\site-packages (from pandas!=1.0.0,!=1.0.1,!=1.0.2,>=0.25.3->sweetviz) (2021.3)\n",
      "Requirement already satisfied: colorama in g:\\himel.conda\\lib\\site-packages (from tqdm>=4.43.0->sweetviz) (0.4.4)\n",
      "Requirement already satisfied: six>=1.5 in g:\\himel.conda\\lib\\site-packages (from python-dateutil>=2.7->matplotlib>=3.1.3->sweetviz) (1.16.0)\n"
     ]
    }
   ],
   "source": [
    "!pip install sweetviz"
   ]
  },
  {
   "cell_type": "markdown",
   "id": "b0ba10a2",
   "metadata": {},
   "source": [
    "## Here is another similar library \"autoviz\"\n",
    "search on google autoviz pypi then learn how to install it and how to call it "
   ]
  },
  {
   "cell_type": "code",
   "execution_count": 11,
   "id": "114ad974",
   "metadata": {},
   "outputs": [
    {
     "data": {
      "application/vnd.jupyter.widget-view+json": {
       "model_id": "94d03d5ec34e4263a8176cdb8f827d89",
       "version_major": 2,
       "version_minor": 0
      },
      "text/plain": [
       "                                             |                                             | [  0%]   00:00 ->…"
      ]
     },
     "metadata": {},
     "output_type": "display_data"
    }
   ],
   "source": [
    "import sweetviz as sv\n",
    "report = sv.analyze(df2)\n"
   ]
  },
  {
   "cell_type": "code",
   "execution_count": 12,
   "id": "d0ad4ad4",
   "metadata": {},
   "outputs": [
    {
     "name": "stdout",
     "output_type": "stream",
     "text": [
      "Report newReport.html was generated! NOTEBOOK/COLAB USERS: the web browser MAY not pop up, regardless, the report IS saved in your notebook/colab files.\n"
     ]
    }
   ],
   "source": [
    "report.show_html('newReport.html')"
   ]
  },
  {
   "cell_type": "markdown",
   "id": "bc47a8d2",
   "metadata": {},
   "source": [
    "Now cheack the folder you see a file alreadey created named \"newReport.html\" click on it and enjoy"
   ]
  },
  {
   "cell_type": "code",
   "execution_count": null,
   "id": "f8661817",
   "metadata": {},
   "outputs": [],
   "source": []
  },
  {
   "cell_type": "code",
   "execution_count": null,
   "id": "24514912",
   "metadata": {},
   "outputs": [],
   "source": []
  },
  {
   "cell_type": "markdown",
   "id": "d09ebf5c",
   "metadata": {},
   "source": [
    "## Data prepare "
   ]
  },
  {
   "cell_type": "code",
   "execution_count": 64,
   "id": "631ce83b",
   "metadata": {},
   "outputs": [
    {
     "name": "stdout",
     "output_type": "stream",
     "text": [
      "Requirement already satisfied: PyYAML>=3.10 in g:\\himel.conda\\lib\\site-packages (from bokeh<3,>=2->dataprep) (6.0)\n",
      "Requirement already satisfied: cloudpickle>=1.5.0 in g:\\himel.conda\\lib\\site-packages (from dask[array,dataframe,delayed]>=2022.3.0->dataprep) (2.0.0)\n",
      "Requirement already satisfied: toolz>=0.10.0 in g:\\himel.conda\\lib\\site-packages (from dask[array,dataframe,delayed]>=2022.3.0->dataprep) (0.11.2)\n",
      "Requirement already satisfied: fsspec>=2021.09.0 in g:\\himel.conda\\lib\\site-packages (from dask[array,dataframe,delayed]>=2022.3.0->dataprep) (2022.2.0)\n",
      "Collecting importlib-metadata>=4.13.0\n",
      "  Downloading importlib_metadata-6.8.0-py3-none-any.whl (22 kB)\n",
      "Requirement already satisfied: partd>=1.2.0 in g:\\himel.conda\\lib\\site-packages (from dask[array,dataframe,delayed]>=2022.3.0->dataprep) (1.2.0)\n",
      "Requirement already satisfied: click>=8.0 in g:\\himel.conda\\lib\\site-packages (from dask[array,dataframe,delayed]>=2022.3.0->dataprep) (8.0.4)\n",
      "Requirement already satisfied: colorama in g:\\himel.conda\\lib\\site-packages (from click>=8.0->dask[array,dataframe,delayed]>=2022.3.0->dataprep) (0.4.4)\n",
      "Collecting Werkzeug>=2.3.7\n",
      "  Downloading werkzeug-3.0.1-py3-none-any.whl (226 kB)\n",
      "Collecting itsdangerous>=2.1.2\n",
      "  Using cached itsdangerous-2.1.2-py3-none-any.whl (15 kB)\n",
      "Collecting flask<3,>=2\n",
      "  Downloading Flask-2.3.2-py3-none-any.whl (96 kB)\n",
      "  Downloading Flask-2.3.1-py3-none-any.whl (96 kB)\n",
      "  Downloading Flask-2.3.0-py3-none-any.whl (96 kB)\n",
      "  Downloading Flask-2.2.5-py3-none-any.whl (101 kB)\n",
      "Requirement already satisfied: itsdangerous>=2.0 in g:\\himel.conda\\lib\\site-packages (from flask<3,>=2->dataprep) (2.0.1)\n",
      "Requirement already satisfied: Six in g:\\himel.conda\\lib\\site-packages (from flask_cors<4.0.0,>=3.0.10->dataprep) (1.16.0)\n",
      "Requirement already satisfied: zipp>=0.5 in g:\\himel.conda\\lib\\site-packages (from importlib-metadata>=4.13.0->dask[array,dataframe,delayed]>=2022.3.0->dataprep) (3.7.0)\n",
      "Requirement already satisfied: nbformat>=4.2.0 in g:\\himel.conda\\lib\\site-packages (from ipywidgets<8.0,>=7.5->dataprep) (5.3.0)\n",
      "Requirement already satisfied: ipykernel>=4.5.1 in g:\\himel.conda\\lib\\site-packages (from ipywidgets<8.0,>=7.5->dataprep) (6.9.1)\n",
      "Requirement already satisfied: ipython>=4.0.0 in g:\\himel.conda\\lib\\site-packages (from ipywidgets<8.0,>=7.5->dataprep) (8.2.0)\n",
      "Requirement already satisfied: jupyterlab-widgets>=1.0.0 in g:\\himel.conda\\lib\\site-packages (from ipywidgets<8.0,>=7.5->dataprep) (1.0.0)\n",
      "Requirement already satisfied: traitlets>=4.3.1 in g:\\himel.conda\\lib\\site-packages (from ipywidgets<8.0,>=7.5->dataprep) (5.1.1)\n",
      "Requirement already satisfied: widgetsnbextension~=3.5.0 in g:\\himel.conda\\lib\\site-packages (from ipywidgets<8.0,>=7.5->dataprep) (3.5.2)\n",
      "Requirement already satisfied: ipython-genutils~=0.2.0 in g:\\himel.conda\\lib\\site-packages (from ipywidgets<8.0,>=7.5->dataprep) (0.2.0)\n",
      "Requirement already satisfied: nest-asyncio in g:\\himel.conda\\lib\\site-packages (from ipykernel>=4.5.1->ipywidgets<8.0,>=7.5->dataprep) (1.5.5)\n",
      "Requirement already satisfied: jupyter-client<8.0 in g:\\himel.conda\\lib\\site-packages (from ipykernel>=4.5.1->ipywidgets<8.0,>=7.5->dataprep) (6.1.12)\n",
      "Requirement already satisfied: matplotlib-inline<0.2.0,>=0.1.0 in g:\\himel.conda\\lib\\site-packages (from ipykernel>=4.5.1->ipywidgets<8.0,>=7.5->dataprep) (0.1.2)\n",
      "Requirement already satisfied: debugpy<2.0,>=1.0.0 in g:\\himel.conda\\lib\\site-packages (from ipykernel>=4.5.1->ipywidgets<8.0,>=7.5->dataprep) (1.5.1)\n",
      "Requirement already satisfied: backcall in g:\\himel.conda\\lib\\site-packages (from ipython>=4.0.0->ipywidgets<8.0,>=7.5->dataprep) (0.2.0)\n",
      "Requirement already satisfied: decorator in g:\\himel.conda\\lib\\site-packages (from ipython>=4.0.0->ipywidgets<8.0,>=7.5->dataprep) (5.1.1)\n",
      "Requirement already satisfied: prompt-toolkit!=3.0.0,!=3.0.1,<3.1.0,>=2.0.0 in g:\\himel.conda\\lib\\site-packages (from ipython>=4.0.0->ipywidgets<8.0,>=7.5->dataprep) (3.0.20)\n",
      "Requirement already satisfied: stack-data in g:\\himel.conda\\lib\\site-packages (from ipython>=4.0.0->ipywidgets<8.0,>=7.5->dataprep) (0.2.0)\n",
      "Requirement already satisfied: setuptools>=18.5 in g:\\himel.conda\\lib\\site-packages (from ipython>=4.0.0->ipywidgets<8.0,>=7.5->dataprep) (61.2.0)\n",
      "Requirement already satisfied: pygments>=2.4.0 in g:\\himel.conda\\lib\\site-packages (from ipython>=4.0.0->ipywidgets<8.0,>=7.5->dataprep) (2.11.2)\n",
      "Requirement already satisfied: jedi>=0.16 in g:\\himel.conda\\lib\\site-packages (from ipython>=4.0.0->ipywidgets<8.0,>=7.5->dataprep) (0.18.1)\n",
      "Requirement already satisfied: pickleshare in g:\\himel.conda\\lib\\site-packages (from ipython>=4.0.0->ipywidgets<8.0,>=7.5->dataprep) (0.7.5)\n",
      "Requirement already satisfied: parso<0.9.0,>=0.8.0 in g:\\himel.conda\\lib\\site-packages (from jedi>=0.16->ipython>=4.0.0->ipywidgets<8.0,>=7.5->dataprep) (0.8.3)\n",
      "Requirement already satisfied: MarkupSafe>=2.0 in g:\\himel.conda\\lib\\site-packages (from jinja2<3.1,>=3.0->dataprep) (2.0.1)\n",
      "Requirement already satisfied: ply in c:\\users\\himel\\appdata\\roaming\\python\\python39\\site-packages (from jsonpath-ng<2.0,>=1.5->dataprep) (3.11)\n",
      "Requirement already satisfied: jupyter-core>=4.6.0 in g:\\himel.conda\\lib\\site-packages (from jupyter-client<8.0->ipykernel>=4.5.1->ipywidgets<8.0,>=7.5->dataprep) (4.9.2)\n",
      "Requirement already satisfied: python-dateutil>=2.1 in g:\\himel.conda\\lib\\site-packages (from jupyter-client<8.0->ipykernel>=4.5.1->ipywidgets<8.0,>=7.5->dataprep) (2.8.2)\n",
      "Requirement already satisfied: pyzmq>=13 in g:\\himel.conda\\lib\\site-packages (from jupyter-client<8.0->ipykernel>=4.5.1->ipywidgets<8.0,>=7.5->dataprep) (22.3.0)\n",
      "Requirement already satisfied: pywin32>=1.0 in g:\\himel.conda\\lib\\site-packages (from jupyter-core>=4.6.0->jupyter-client<8.0->ipykernel>=4.5.1->ipywidgets<8.0,>=7.5->dataprep) (302)\n",
      "Requirement already satisfied: jsonschema>=2.6 in g:\\himel.conda\\lib\\site-packages (from nbformat>=4.2.0->ipywidgets<8.0,>=7.5->dataprep) (4.4.0)\n",
      "Requirement already satisfied: fastjsonschema in g:\\himel.conda\\lib\\site-packages (from nbformat>=4.2.0->ipywidgets<8.0,>=7.5->dataprep) (2.15.1)\n",
      "Requirement already satisfied: pyrsistent!=0.17.0,!=0.17.1,!=0.17.2,>=0.14.0 in g:\\himel.conda\\lib\\site-packages (from jsonschema>=2.6->nbformat>=4.2.0->ipywidgets<8.0,>=7.5->dataprep) (0.18.0)\n",
      "Requirement already satisfied: joblib in g:\\himel.conda\\lib\\site-packages (from nltk<4.0.0,>=3.6.7->dataprep) (1.1.0)\n",
      "Requirement already satisfied: pyparsing!=3.0.5,>=2.0.2 in g:\\himel.conda\\lib\\site-packages (from packaging>=16.8->bokeh<3,>=2->dataprep) (3.0.4)\n",
      "Requirement already satisfied: pytz>=2020.1 in g:\\himel.conda\\lib\\site-packages (from pandas<2.0,>=1.1->dataprep) (2021.3)\n",
      "Requirement already satisfied: locket in g:\\himel.conda\\lib\\site-packages (from partd>=1.2.0->dask[array,dataframe,delayed]>=2022.3.0->dataprep) (0.2.1)\n",
      "Requirement already satisfied: wcwidth in g:\\himel.conda\\lib\\site-packages (from prompt-toolkit!=3.0.0,!=3.0.1,<3.1.0,>=2.0.0->ipython>=4.0.0->ipywidgets<8.0,>=7.5->dataprep) (0.2.5)\n",
      "Requirement already satisfied: executing<0.9.0,>=0.8.3 in g:\\himel.conda\\lib\\site-packages (from varname<0.9.0,>=0.8.1->dataprep) (0.8.3)\n",
      "Requirement already satisfied: pure_eval<1.0.0 in g:\\himel.conda\\lib\\site-packages (from varname<0.9.0,>=0.8.1->dataprep) (0.2.2)\n",
      "Requirement already satisfied: asttokens<3.0.0,>=2.0.0 in g:\\himel.conda\\lib\\site-packages (from varname<0.9.0,>=0.8.1->dataprep) (2.0.5)\n",
      "Collecting MarkupSafe>=2.0\n",
      "  Downloading MarkupSafe-2.1.3-cp39-cp39-win_amd64.whl (17 kB)\n",
      "Requirement already satisfied: notebook>=4.4.1 in g:\\himel.conda\\lib\\site-packages (from widgetsnbextension~=3.5.0->ipywidgets<8.0,>=7.5->dataprep) (6.4.8)\n",
      "Requirement already satisfied: Send2Trash>=1.8.0 in g:\\himel.conda\\lib\\site-packages (from notebook>=4.4.1->widgetsnbextension~=3.5.0->ipywidgets<8.0,>=7.5->dataprep) (1.8.0)\n",
      "Requirement already satisfied: terminado>=0.8.3 in g:\\himel.conda\\lib\\site-packages (from notebook>=4.4.1->widgetsnbextension~=3.5.0->ipywidgets<8.0,>=7.5->dataprep) (0.13.1)\n",
      "Requirement already satisfied: prometheus-client in g:\\himel.conda\\lib\\site-packages (from notebook>=4.4.1->widgetsnbextension~=3.5.0->ipywidgets<8.0,>=7.5->dataprep) (0.13.1)\n",
      "Requirement already satisfied: argon2-cffi in g:\\himel.conda\\lib\\site-packages (from notebook>=4.4.1->widgetsnbextension~=3.5.0->ipywidgets<8.0,>=7.5->dataprep) (21.3.0)\n",
      "Requirement already satisfied: nbconvert in g:\\himel.conda\\lib\\site-packages (from notebook>=4.4.1->widgetsnbextension~=3.5.0->ipywidgets<8.0,>=7.5->dataprep) (6.4.4)\n",
      "Requirement already satisfied: pywinpty>=1.1.0 in g:\\himel.conda\\lib\\site-packages (from terminado>=0.8.3->notebook>=4.4.1->widgetsnbextension~=3.5.0->ipywidgets<8.0,>=7.5->dataprep) (2.0.2)\n",
      "Requirement already satisfied: matplotlib in g:\\himel.conda\\lib\\site-packages (from wordcloud<2.0,>=1.8->dataprep) (3.5.1)\n",
      "Requirement already satisfied: idna>=2.0 in g:\\himel.conda\\lib\\site-packages (from yarl<2.0,>=1.0->aiohttp<4.0,>=3.6->dataprep) (3.3)\n",
      "Requirement already satisfied: argon2-cffi-bindings in g:\\himel.conda\\lib\\site-packages (from argon2-cffi->notebook>=4.4.1->widgetsnbextension~=3.5.0->ipywidgets<8.0,>=7.5->dataprep) (21.2.0)\n",
      "Requirement already satisfied: cffi>=1.0.1 in g:\\himel.conda\\lib\\site-packages (from argon2-cffi-bindings->argon2-cffi->notebook>=4.4.1->widgetsnbextension~=3.5.0->ipywidgets<8.0,>=7.5->dataprep) (1.15.0)\n",
      "Requirement already satisfied: pycparser in g:\\himel.conda\\lib\\site-packages (from cffi>=1.0.1->argon2-cffi-bindings->argon2-cffi->notebook>=4.4.1->widgetsnbextension~=3.5.0->ipywidgets<8.0,>=7.5->dataprep) (2.21)\n",
      "Requirement already satisfied: fonttools>=4.22.0 in g:\\himel.conda\\lib\\site-packages (from matplotlib->wordcloud<2.0,>=1.8->dataprep) (4.25.0)\n",
      "Requirement already satisfied: cycler>=0.10 in g:\\himel.conda\\lib\\site-packages (from matplotlib->wordcloud<2.0,>=1.8->dataprep) (0.11.0)\n",
      "Requirement already satisfied: kiwisolver>=1.0.1 in g:\\himel.conda\\lib\\site-packages (from matplotlib->wordcloud<2.0,>=1.8->dataprep) (1.3.2)\n",
      "Requirement already satisfied: beautifulsoup4 in g:\\himel.conda\\lib\\site-packages (from nbconvert->notebook>=4.4.1->widgetsnbextension~=3.5.0->ipywidgets<8.0,>=7.5->dataprep) (4.11.1)\n",
      "Requirement already satisfied: entrypoints>=0.2.2 in g:\\himel.conda\\lib\\site-packages (from nbconvert->notebook>=4.4.1->widgetsnbextension~=3.5.0->ipywidgets<8.0,>=7.5->dataprep) (0.4)\n",
      "Requirement already satisfied: pandocfilters>=1.4.1 in g:\\himel.conda\\lib\\site-packages (from nbconvert->notebook>=4.4.1->widgetsnbextension~=3.5.0->ipywidgets<8.0,>=7.5->dataprep) (1.5.0)\n",
      "Requirement already satisfied: jupyterlab-pygments in g:\\himel.conda\\lib\\site-packages (from nbconvert->notebook>=4.4.1->widgetsnbextension~=3.5.0->ipywidgets<8.0,>=7.5->dataprep) (0.1.2)\n",
      "Requirement already satisfied: defusedxml in g:\\himel.conda\\lib\\site-packages (from nbconvert->notebook>=4.4.1->widgetsnbextension~=3.5.0->ipywidgets<8.0,>=7.5->dataprep) (0.7.1)\n",
      "Requirement already satisfied: testpath in g:\\himel.conda\\lib\\site-packages (from nbconvert->notebook>=4.4.1->widgetsnbextension~=3.5.0->ipywidgets<8.0,>=7.5->dataprep) (0.5.0)\n",
      "Requirement already satisfied: nbclient<0.6.0,>=0.5.0 in g:\\himel.conda\\lib\\site-packages (from nbconvert->notebook>=4.4.1->widgetsnbextension~=3.5.0->ipywidgets<8.0,>=7.5->dataprep) (0.5.13)\n",
      "Requirement already satisfied: bleach in g:\\himel.conda\\lib\\site-packages (from nbconvert->notebook>=4.4.1->widgetsnbextension~=3.5.0->ipywidgets<8.0,>=7.5->dataprep) (4.1.0)\n",
      "Requirement already satisfied: mistune<2,>=0.8.1 in g:\\himel.conda\\lib\\site-packages (from nbconvert->notebook>=4.4.1->widgetsnbextension~=3.5.0->ipywidgets<8.0,>=7.5->dataprep) (0.8.4)\n",
      "Requirement already satisfied: soupsieve>1.2 in g:\\himel.conda\\lib\\site-packages (from beautifulsoup4->nbconvert->notebook>=4.4.1->widgetsnbextension~=3.5.0->ipywidgets<8.0,>=7.5->dataprep) (2.3.1)\n",
      "Requirement already satisfied: webencodings in g:\\himel.conda\\lib\\site-packages (from bleach->nbconvert->notebook>=4.4.1->widgetsnbextension~=3.5.0->ipywidgets<8.0,>=7.5->dataprep) (0.5.1)\n",
      "Building wheels for collected packages: metaphone\n",
      "  Building wheel for metaphone (setup.py): started\n",
      "  Building wheel for metaphone (setup.py): finished with status 'done'\n",
      "  Created wheel for metaphone: filename=Metaphone-0.6-py3-none-any.whl size=13918 sha256=acf484a78bd4dcdf3878b38f152858c02b867a13483c8b33e039b8bdd8d93d5e\n",
      "  Stored in directory: c:\\users\\himel\\appdata\\local\\pip\\cache\\wheels\\b2\\9e\\d9\\26be7687b8fe36cd6cacbec34e825a3dbcd3bae54017cfb385\n",
      "Successfully built metaphone\n",
      "Installing collected packages: MarkupSafe, jinja2, importlib-metadata, Werkzeug, dask, regex, flask, varname, sqlalchemy, scipy, rapidfuzz, python-stdnum, python-crfsuite, pydot, metaphone, jsonpath-ng, flask-cors, dataprep\n",
      "  Attempting uninstall: jinja2\n",
      "    Found existing installation: Jinja2 3.1.2\n",
      "    Uninstalling Jinja2-3.1.2:\n",
      "      Successfully uninstalled Jinja2-3.1.2\n"
     ]
    },
    {
     "name": "stdout",
     "output_type": "stream",
     "text": [
      "Successfully installed MarkupSafe-2.1.3 Werkzeug-3.0.1 dask-2023.10.1 dataprep-0.4.5 flask-2.2.5 flask-cors-3.0.10 importlib-metadata-6.8.0 jinja2-3.0.3 jsonpath-ng-1.6.0 metaphone-0.6 pydot-1.4.2 python-crfsuite-0.9.8 python-stdnum-1.19 rapidfuzz-2.15.2 regex-2021.11.10 scipy-1.11.3 sqlalchemy-1.3.24 varname-0.8.3\n",
      "Defaulting to user installation because normal site-packages is not writeable\n",
      "Requirement already satisfied: dataprep in c:\\users\\himel\\appdata\\roaming\\python\\python39\\site-packages (0.4.5)\n",
      "Requirement already satisfied: pandas<2.0,>=1.1 in g:\\himel.conda\\lib\\site-packages (from dataprep) (1.4.2)\n",
      "Requirement already satisfied: jsonpath-ng<2.0,>=1.5 in c:\\users\\himel\\appdata\\roaming\\python\\python39\\site-packages (from dataprep) (1.6.0)\n",
      "Requirement already satisfied: pydantic<2.0,>=1.6 in c:\\users\\himel\\appdata\\roaming\\python\\python39\\site-packages (from dataprep) (1.10.13)\n",
      "Requirement already satisfied: python-stdnum<2.0,>=1.16 in c:\\users\\himel\\appdata\\roaming\\python\\python39\\site-packages (from dataprep) (1.19)\n",
      "Requirement already satisfied: flask<3,>=2 in c:\\users\\himel\\appdata\\roaming\\python\\python39\\site-packages (from dataprep) (2.2.5)\n",
      "Requirement already satisfied: dask[array,dataframe,delayed]>=2022.3.0 in c:\\users\\himel\\appdata\\roaming\\python\\python39\\site-packages (from dataprep) (2023.10.1)\n",
      "Requirement already satisfied: rapidfuzz<3.0.0,>=2.1.2 in c:\\users\\himel\\appdata\\roaming\\python\\python39\\site-packages (from dataprep) (2.15.2)\n",
      "Requirement already satisfied: python-crfsuite==0.9.8 in c:\\users\\himel\\appdata\\roaming\\python\\python39\\site-packages (from dataprep) (0.9.8)\n",
      "Requirement already satisfied: wordcloud<2.0,>=1.8 in c:\\users\\himel\\appdata\\roaming\\python\\python39\\site-packages (from dataprep) (1.9.2)\n",
      "Requirement already satisfied: sqlalchemy==1.3.24 in c:\\users\\himel\\appdata\\roaming\\python\\python39\\site-packages (from dataprep) (1.3.24)\n",
      "Requirement already satisfied: varname<0.9.0,>=0.8.1 in c:\\users\\himel\\appdata\\roaming\\python\\python39\\site-packages (from dataprep) (0.8.3)\n",
      "Requirement already satisfied: numpy<2.0,>=1.21 in c:\\users\\himel\\appdata\\roaming\\python\\python39\\site-packages (from dataprep) (1.22.4)\n",
      "Requirement already satisfied: tqdm<5.0,>=4.48 in g:\\himel.conda\\lib\\site-packages (from dataprep) (4.64.0)\n",
      "Requirement already satisfied: ipywidgets<8.0,>=7.5 in g:\\himel.conda\\lib\\site-packages (from dataprep) (7.6.5)\n",
      "Requirement already satisfied: regex<2022.0.0,>=2021.8.3 in c:\\users\\himel\\appdata\\roaming\\python\\python39\\site-packages (from dataprep) (2021.11.10)\n",
      "Requirement already satisfied: pydot<2.0.0,>=1.4.2 in c:\\users\\himel\\appdata\\roaming\\python\\python39\\site-packages (from dataprep) (1.4.2)\n",
      "Requirement already satisfied: bokeh<3,>=2 in g:\\himel.conda\\lib\\site-packages (from dataprep) (2.4.2)\n",
      "Requirement already satisfied: aiohttp<4.0,>=3.6 in g:\\himel.conda\\lib\\site-packages (from dataprep) (3.8.1)\n",
      "Requirement already satisfied: jinja2<3.1,>=3.0 in c:\\users\\himel\\appdata\\roaming\\python\\python39\\site-packages (from dataprep) (3.0.3)\n",
      "Requirement already satisfied: flask_cors<4.0.0,>=3.0.10 in c:\\users\\himel\\appdata\\roaming\\python\\python39\\site-packages (from dataprep) (3.0.10)\n",
      "Requirement already satisfied: metaphone<0.7,>=0.6 in c:\\users\\himel\\appdata\\roaming\\python\\python39\\site-packages (from dataprep) (0.6)\n",
      "Requirement already satisfied: nltk<4.0.0,>=3.6.7 in g:\\himel.conda\\lib\\site-packages (from dataprep) (3.7)\n",
      "Requirement already satisfied: scipy<2.0,>=1.8 in c:\\users\\himel\\appdata\\roaming\\python\\python39\\site-packages (from dataprep) (1.11.3)\n",
      "Requirement already satisfied: yarl<2.0,>=1.0 in g:\\himel.conda\\lib\\site-packages (from aiohttp<4.0,>=3.6->dataprep) (1.6.3)\n",
      "Requirement already satisfied: aiosignal>=1.1.2 in g:\\himel.conda\\lib\\site-packages (from aiohttp<4.0,>=3.6->dataprep) (1.2.0)\n",
      "Requirement already satisfied: charset-normalizer<3.0,>=2.0 in g:\\himel.conda\\lib\\site-packages (from aiohttp<4.0,>=3.6->dataprep) (2.0.4)\n",
      "Requirement already satisfied: async-timeout<5.0,>=4.0.0a3 in g:\\himel.conda\\lib\\site-packages (from aiohttp<4.0,>=3.6->dataprep) (4.0.1)\n",
      "Requirement already satisfied: frozenlist>=1.1.1 in g:\\himel.conda\\lib\\site-packages (from aiohttp<4.0,>=3.6->dataprep) (1.2.0)\n",
      "Requirement already satisfied: attrs>=17.3.0 in g:\\himel.conda\\lib\\site-packages (from aiohttp<4.0,>=3.6->dataprep) (21.4.0)\n",
      "Requirement already satisfied: multidict<7.0,>=4.5 in g:\\himel.conda\\lib\\site-packages (from aiohttp<4.0,>=3.6->dataprep) (5.1.0)\n",
      "Requirement already satisfied: typing-extensions>=3.6.5 in c:\\users\\himel\\appdata\\roaming\\python\\python39\\site-packages (from async-timeout<5.0,>=4.0.0a3->aiohttp<4.0,>=3.6->dataprep) (4.7.1)\n",
      "Requirement already satisfied: pillow>=7.1.0 in g:\\himel.conda\\lib\\site-packages (from bokeh<3,>=2->dataprep) (9.0.1)\n",
      "Requirement already satisfied: packaging>=16.8 in g:\\himel.conda\\lib\\site-packages (from bokeh<3,>=2->dataprep) (21.3)\n",
      "Requirement already satisfied: tornado>=5.1 in g:\\himel.conda\\lib\\site-packages (from bokeh<3,>=2->dataprep) (6.1)\n",
      "Requirement already satisfied: PyYAML>=3.10 in g:\\himel.conda\\lib\\site-packages (from bokeh<3,>=2->dataprep) (6.0)\n",
      "Requirement already satisfied: partd>=1.2.0 in g:\\himel.conda\\lib\\site-packages (from dask[array,dataframe,delayed]>=2022.3.0->dataprep) (1.2.0)\n",
      "Requirement already satisfied: fsspec>=2021.09.0 in g:\\himel.conda\\lib\\site-packages (from dask[array,dataframe,delayed]>=2022.3.0->dataprep) (2022.2.0)\n",
      "Requirement already satisfied: cloudpickle>=1.5.0 in g:\\himel.conda\\lib\\site-packages (from dask[array,dataframe,delayed]>=2022.3.0->dataprep) (2.0.0)\n",
      "Requirement already satisfied: toolz>=0.10.0 in g:\\himel.conda\\lib\\site-packages (from dask[array,dataframe,delayed]>=2022.3.0->dataprep) (0.11.2)\n",
      "Requirement already satisfied: click>=8.0 in g:\\himel.conda\\lib\\site-packages (from dask[array,dataframe,delayed]>=2022.3.0->dataprep) (8.0.4)\n",
      "Requirement already satisfied: importlib-metadata>=4.13.0 in c:\\users\\himel\\appdata\\roaming\\python\\python39\\site-packages (from dask[array,dataframe,delayed]>=2022.3.0->dataprep) (6.8.0)\n",
      "Requirement already satisfied: colorama in g:\\himel.conda\\lib\\site-packages (from click>=8.0->dask[array,dataframe,delayed]>=2022.3.0->dataprep) (0.4.4)\n",
      "Requirement already satisfied: Werkzeug>=2.2.2 in c:\\users\\himel\\appdata\\roaming\\python\\python39\\site-packages (from flask<3,>=2->dataprep) (3.0.1)\n",
      "Requirement already satisfied: itsdangerous>=2.0 in g:\\himel.conda\\lib\\site-packages (from flask<3,>=2->dataprep) (2.0.1)\n",
      "Requirement already satisfied: Six in g:\\himel.conda\\lib\\site-packages (from flask_cors<4.0.0,>=3.0.10->dataprep) (1.16.0)\n",
      "Requirement already satisfied: zipp>=0.5 in g:\\himel.conda\\lib\\site-packages (from importlib-metadata>=4.13.0->dask[array,dataframe,delayed]>=2022.3.0->dataprep) (3.7.0)\n",
      "Requirement already satisfied: ipython>=4.0.0 in g:\\himel.conda\\lib\\site-packages (from ipywidgets<8.0,>=7.5->dataprep) (8.2.0)\n",
      "Requirement already satisfied: jupyterlab-widgets>=1.0.0 in g:\\himel.conda\\lib\\site-packages (from ipywidgets<8.0,>=7.5->dataprep) (1.0.0)\n",
      "Requirement already satisfied: widgetsnbextension~=3.5.0 in g:\\himel.conda\\lib\\site-packages (from ipywidgets<8.0,>=7.5->dataprep) (3.5.2)\n",
      "Requirement already satisfied: ipython-genutils~=0.2.0 in g:\\himel.conda\\lib\\site-packages (from ipywidgets<8.0,>=7.5->dataprep) (0.2.0)\n",
      "Requirement already satisfied: traitlets>=4.3.1 in g:\\himel.conda\\lib\\site-packages (from ipywidgets<8.0,>=7.5->dataprep) (5.1.1)\n",
      "Requirement already satisfied: ipykernel>=4.5.1 in g:\\himel.conda\\lib\\site-packages (from ipywidgets<8.0,>=7.5->dataprep) (6.9.1)\n",
      "Requirement already satisfied: nbformat>=4.2.0 in g:\\himel.conda\\lib\\site-packages (from ipywidgets<8.0,>=7.5->dataprep) (5.3.0)\n",
      "Requirement already satisfied: jupyter-client<8.0 in g:\\himel.conda\\lib\\site-packages (from ipykernel>=4.5.1->ipywidgets<8.0,>=7.5->dataprep) (6.1.12)\n",
      "Requirement already satisfied: matplotlib-inline<0.2.0,>=0.1.0 in g:\\himel.conda\\lib\\site-packages (from ipykernel>=4.5.1->ipywidgets<8.0,>=7.5->dataprep) (0.1.2)\n",
      "Requirement already satisfied: debugpy<2.0,>=1.0.0 in g:\\himel.conda\\lib\\site-packages (from ipykernel>=4.5.1->ipywidgets<8.0,>=7.5->dataprep) (1.5.1)\n",
      "Requirement already satisfied: nest-asyncio in g:\\himel.conda\\lib\\site-packages (from ipykernel>=4.5.1->ipywidgets<8.0,>=7.5->dataprep) (1.5.5)\n",
      "Requirement already satisfied: pickleshare in g:\\himel.conda\\lib\\site-packages (from ipython>=4.0.0->ipywidgets<8.0,>=7.5->dataprep) (0.7.5)\n",
      "Requirement already satisfied: setuptools>=18.5 in g:\\himel.conda\\lib\\site-packages (from ipython>=4.0.0->ipywidgets<8.0,>=7.5->dataprep) (61.2.0)\n",
      "Requirement already satisfied: jedi>=0.16 in g:\\himel.conda\\lib\\site-packages (from ipython>=4.0.0->ipywidgets<8.0,>=7.5->dataprep) (0.18.1)\n",
      "Requirement already satisfied: stack-data in g:\\himel.conda\\lib\\site-packages (from ipython>=4.0.0->ipywidgets<8.0,>=7.5->dataprep) (0.2.0)\n",
      "Requirement already satisfied: backcall in g:\\himel.conda\\lib\\site-packages (from ipython>=4.0.0->ipywidgets<8.0,>=7.5->dataprep) (0.2.0)\n",
      "Requirement already satisfied: pygments>=2.4.0 in g:\\himel.conda\\lib\\site-packages (from ipython>=4.0.0->ipywidgets<8.0,>=7.5->dataprep) (2.11.2)\n",
      "Requirement already satisfied: decorator in g:\\himel.conda\\lib\\site-packages (from ipython>=4.0.0->ipywidgets<8.0,>=7.5->dataprep) (5.1.1)\n",
      "Requirement already satisfied: prompt-toolkit!=3.0.0,!=3.0.1,<3.1.0,>=2.0.0 in g:\\himel.conda\\lib\\site-packages (from ipython>=4.0.0->ipywidgets<8.0,>=7.5->dataprep) (3.0.20)\n",
      "Requirement already satisfied: parso<0.9.0,>=0.8.0 in g:\\himel.conda\\lib\\site-packages (from jedi>=0.16->ipython>=4.0.0->ipywidgets<8.0,>=7.5->dataprep) (0.8.3)\n",
      "Requirement already satisfied: MarkupSafe>=2.0 in c:\\users\\himel\\appdata\\roaming\\python\\python39\\site-packages (from jinja2<3.1,>=3.0->dataprep) (2.1.3)\n",
      "Requirement already satisfied: ply in c:\\users\\himel\\appdata\\roaming\\python\\python39\\site-packages (from jsonpath-ng<2.0,>=1.5->dataprep) (3.11)\n",
      "Requirement already satisfied: python-dateutil>=2.1 in g:\\himel.conda\\lib\\site-packages (from jupyter-client<8.0->ipykernel>=4.5.1->ipywidgets<8.0,>=7.5->dataprep) (2.8.2)\n",
      "Requirement already satisfied: pyzmq>=13 in g:\\himel.conda\\lib\\site-packages (from jupyter-client<8.0->ipykernel>=4.5.1->ipywidgets<8.0,>=7.5->dataprep) (22.3.0)\n",
      "Requirement already satisfied: jupyter-core>=4.6.0 in g:\\himel.conda\\lib\\site-packages (from jupyter-client<8.0->ipykernel>=4.5.1->ipywidgets<8.0,>=7.5->dataprep) (4.9.2)\n",
      "Requirement already satisfied: pywin32>=1.0 in g:\\himel.conda\\lib\\site-packages (from jupyter-core>=4.6.0->jupyter-client<8.0->ipykernel>=4.5.1->ipywidgets<8.0,>=7.5->dataprep) (302)\n",
      "Requirement already satisfied: fastjsonschema in g:\\himel.conda\\lib\\site-packages (from nbformat>=4.2.0->ipywidgets<8.0,>=7.5->dataprep) (2.15.1)\n",
      "Requirement already satisfied: jsonschema>=2.6 in g:\\himel.conda\\lib\\site-packages (from nbformat>=4.2.0->ipywidgets<8.0,>=7.5->dataprep) (4.4.0)\n",
      "Requirement already satisfied: pyrsistent!=0.17.0,!=0.17.1,!=0.17.2,>=0.14.0 in g:\\himel.conda\\lib\\site-packages (from jsonschema>=2.6->nbformat>=4.2.0->ipywidgets<8.0,>=7.5->dataprep) (0.18.0)\n",
      "Requirement already satisfied: joblib in g:\\himel.conda\\lib\\site-packages (from nltk<4.0.0,>=3.6.7->dataprep) (1.1.0)\n",
      "Requirement already satisfied: pyparsing!=3.0.5,>=2.0.2 in g:\\himel.conda\\lib\\site-packages (from packaging>=16.8->bokeh<3,>=2->dataprep) (3.0.4)\n",
      "Requirement already satisfied: pytz>=2020.1 in g:\\himel.conda\\lib\\site-packages (from pandas<2.0,>=1.1->dataprep) (2021.3)\n",
      "Requirement already satisfied: locket in g:\\himel.conda\\lib\\site-packages (from partd>=1.2.0->dask[array,dataframe,delayed]>=2022.3.0->dataprep) (0.2.1)\n",
      "Requirement already satisfied: wcwidth in g:\\himel.conda\\lib\\site-packages (from prompt-toolkit!=3.0.0,!=3.0.1,<3.1.0,>=2.0.0->ipython>=4.0.0->ipywidgets<8.0,>=7.5->dataprep) (0.2.5)\n",
      "Requirement already satisfied: pure_eval<1.0.0 in g:\\himel.conda\\lib\\site-packages (from varname<0.9.0,>=0.8.1->dataprep) (0.2.2)\n",
      "Requirement already satisfied: executing<0.9.0,>=0.8.3 in g:\\himel.conda\\lib\\site-packages (from varname<0.9.0,>=0.8.1->dataprep) (0.8.3)\n",
      "Requirement already satisfied: asttokens<3.0.0,>=2.0.0 in g:\\himel.conda\\lib\\site-packages (from varname<0.9.0,>=0.8.1->dataprep) (2.0.5)\n",
      "Requirement already satisfied: notebook>=4.4.1 in g:\\himel.conda\\lib\\site-packages (from widgetsnbextension~=3.5.0->ipywidgets<8.0,>=7.5->dataprep) (6.4.8)\n",
      "Requirement already satisfied: prometheus-client in g:\\himel.conda\\lib\\site-packages (from notebook>=4.4.1->widgetsnbextension~=3.5.0->ipywidgets<8.0,>=7.5->dataprep) (0.13.1)\n",
      "Requirement already satisfied: Send2Trash>=1.8.0 in g:\\himel.conda\\lib\\site-packages (from notebook>=4.4.1->widgetsnbextension~=3.5.0->ipywidgets<8.0,>=7.5->dataprep) (1.8.0)\n",
      "Requirement already satisfied: argon2-cffi in g:\\himel.conda\\lib\\site-packages (from notebook>=4.4.1->widgetsnbextension~=3.5.0->ipywidgets<8.0,>=7.5->dataprep) (21.3.0)\n",
      "Requirement already satisfied: nbconvert in g:\\himel.conda\\lib\\site-packages (from notebook>=4.4.1->widgetsnbextension~=3.5.0->ipywidgets<8.0,>=7.5->dataprep) (6.4.4)\n",
      "Requirement already satisfied: terminado>=0.8.3 in g:\\himel.conda\\lib\\site-packages (from notebook>=4.4.1->widgetsnbextension~=3.5.0->ipywidgets<8.0,>=7.5->dataprep) (0.13.1)\n",
      "Requirement already satisfied: pywinpty>=1.1.0 in g:\\himel.conda\\lib\\site-packages (from terminado>=0.8.3->notebook>=4.4.1->widgetsnbextension~=3.5.0->ipywidgets<8.0,>=7.5->dataprep) (2.0.2)\n",
      "Requirement already satisfied: matplotlib in g:\\himel.conda\\lib\\site-packages (from wordcloud<2.0,>=1.8->dataprep) (3.5.1)\n",
      "Requirement already satisfied: idna>=2.0 in g:\\himel.conda\\lib\\site-packages (from yarl<2.0,>=1.0->aiohttp<4.0,>=3.6->dataprep) (3.3)\n",
      "Requirement already satisfied: argon2-cffi-bindings in g:\\himel.conda\\lib\\site-packages (from argon2-cffi->notebook>=4.4.1->widgetsnbextension~=3.5.0->ipywidgets<8.0,>=7.5->dataprep) (21.2.0)\n",
      "Requirement already satisfied: cffi>=1.0.1 in g:\\himel.conda\\lib\\site-packages (from argon2-cffi-bindings->argon2-cffi->notebook>=4.4.1->widgetsnbextension~=3.5.0->ipywidgets<8.0,>=7.5->dataprep) (1.15.0)\n",
      "Requirement already satisfied: pycparser in g:\\himel.conda\\lib\\site-packages (from cffi>=1.0.1->argon2-cffi-bindings->argon2-cffi->notebook>=4.4.1->widgetsnbextension~=3.5.0->ipywidgets<8.0,>=7.5->dataprep) (2.21)\n",
      "Requirement already satisfied: kiwisolver>=1.0.1 in g:\\himel.conda\\lib\\site-packages (from matplotlib->wordcloud<2.0,>=1.8->dataprep) (1.3.2)\n",
      "Requirement already satisfied: cycler>=0.10 in g:\\himel.conda\\lib\\site-packages (from matplotlib->wordcloud<2.0,>=1.8->dataprep) (0.11.0)\n",
      "Requirement already satisfied: fonttools>=4.22.0 in g:\\himel.conda\\lib\\site-packages (from matplotlib->wordcloud<2.0,>=1.8->dataprep) (4.25.0)\n",
      "Requirement already satisfied: pandocfilters>=1.4.1 in g:\\himel.conda\\lib\\site-packages (from nbconvert->notebook>=4.4.1->widgetsnbextension~=3.5.0->ipywidgets<8.0,>=7.5->dataprep) (1.5.0)\n",
      "Requirement already satisfied: testpath in g:\\himel.conda\\lib\\site-packages (from nbconvert->notebook>=4.4.1->widgetsnbextension~=3.5.0->ipywidgets<8.0,>=7.5->dataprep) (0.5.0)\n",
      "Requirement already satisfied: entrypoints>=0.2.2 in g:\\himel.conda\\lib\\site-packages (from nbconvert->notebook>=4.4.1->widgetsnbextension~=3.5.0->ipywidgets<8.0,>=7.5->dataprep) (0.4)\n",
      "Requirement already satisfied: bleach in g:\\himel.conda\\lib\\site-packages (from nbconvert->notebook>=4.4.1->widgetsnbextension~=3.5.0->ipywidgets<8.0,>=7.5->dataprep) (4.1.0)\n",
      "Requirement already satisfied: jupyterlab-pygments in g:\\himel.conda\\lib\\site-packages (from nbconvert->notebook>=4.4.1->widgetsnbextension~=3.5.0->ipywidgets<8.0,>=7.5->dataprep) (0.1.2)\n",
      "Requirement already satisfied: defusedxml in g:\\himel.conda\\lib\\site-packages (from nbconvert->notebook>=4.4.1->widgetsnbextension~=3.5.0->ipywidgets<8.0,>=7.5->dataprep) (0.7.1)\n",
      "Requirement already satisfied: mistune<2,>=0.8.1 in g:\\himel.conda\\lib\\site-packages (from nbconvert->notebook>=4.4.1->widgetsnbextension~=3.5.0->ipywidgets<8.0,>=7.5->dataprep) (0.8.4)\n",
      "Requirement already satisfied: beautifulsoup4 in g:\\himel.conda\\lib\\site-packages (from nbconvert->notebook>=4.4.1->widgetsnbextension~=3.5.0->ipywidgets<8.0,>=7.5->dataprep) (4.11.1)\n",
      "Requirement already satisfied: nbclient<0.6.0,>=0.5.0 in g:\\himel.conda\\lib\\site-packages (from nbconvert->notebook>=4.4.1->widgetsnbextension~=3.5.0->ipywidgets<8.0,>=7.5->dataprep) (0.5.13)\n",
      "Requirement already satisfied: soupsieve>1.2 in g:\\himel.conda\\lib\\site-packages (from beautifulsoup4->nbconvert->notebook>=4.4.1->widgetsnbextension~=3.5.0->ipywidgets<8.0,>=7.5->dataprep) (2.3.1)\n",
      "Requirement already satisfied: webencodings in g:\\himel.conda\\lib\\site-packages (from bleach->nbconvert->notebook>=4.4.1->widgetsnbextension~=3.5.0->ipywidgets<8.0,>=7.5->dataprep) (0.5.1)\n"
     ]
    }
   ],
   "source": [
    "!pip install dataprep"
   ]
  },
  {
   "cell_type": "code",
   "execution_count": 67,
   "id": "aa6df52a",
   "metadata": {},
   "outputs": [
    {
     "name": "stdout",
     "output_type": "stream",
     "text": [
      "Defaulting to user installation because normal site-packages is not writeable"
     ]
    },
    {
     "name": "stderr",
     "output_type": "stream",
     "text": [
      "  WARNING: The scripts pip.exe, pip3.11.exe, pip3.9.exe and pip3.exe are installed in 'C:\\Users\\Himel\\AppData\\Roaming\\Python\\Python39\\Scripts' which is not on PATH.\n",
      "  Consider adding this directory to PATH or, if you prefer to suppress this warning, use --no-warn-script-location.\n"
     ]
    },
    {
     "name": "stdout",
     "output_type": "stream",
     "text": [
      "\n",
      "Requirement already satisfied: pip in g:\\himel.conda\\lib\\site-packages (21.2.4)\n",
      "Collecting pip\n",
      "  Downloading pip-23.3.1-py3-none-any.whl (2.1 MB)\n",
      "Installing collected packages: pip\n",
      "Successfully installed pip-23.3.1\n"
     ]
    }
   ],
   "source": [
    "!pip3 install --upgrade pip"
   ]
  },
  {
   "cell_type": "code",
   "execution_count": 68,
   "id": "ffb93e04",
   "metadata": {},
   "outputs": [
    {
     "name": "stdout",
     "output_type": "stream",
     "text": [
      "Defaulting to user installation because normal site-packages is not writeable"
     ]
    },
    {
     "name": "stderr",
     "output_type": "stream",
     "text": [
      "ERROR: Could not find a version that satisfies the requirement dataprep.eda (from versions: none)"
     ]
    },
    {
     "name": "stdout",
     "output_type": "stream",
     "text": [
      "\n",
      "Requirement already satisfied: pydantic in c:\\users\\himel\\appdata\\roaming\\python\\python39\\site-packages (1.10.13)\n"
     ]
    },
    {
     "name": "stderr",
     "output_type": "stream",
     "text": [
      "\n",
      "ERROR: No matching distribution found for dataprep.eda\n"
     ]
    }
   ],
   "source": [
    "!pip install pydantic dataprep.eda\n",
    "# !pip3 install pydantic dataprep.eda"
   ]
  },
  {
   "cell_type": "code",
   "execution_count": 69,
   "id": "799f2393",
   "metadata": {},
   "outputs": [
    {
     "ename": "ModuleNotFoundError",
     "evalue": "No module named 'pydantic._internal._std_types_schema'",
     "output_type": "error",
     "traceback": [
      "\u001b[1;31m---------------------------------------------------------------------------\u001b[0m",
      "\u001b[1;31mModuleNotFoundError\u001b[0m                       Traceback (most recent call last)",
      "Input \u001b[1;32mIn [69]\u001b[0m, in \u001b[0;36m<cell line: 1>\u001b[1;34m()\u001b[0m\n\u001b[1;32m----> 1\u001b[0m \u001b[38;5;28;01mfrom\u001b[39;00m \u001b[38;5;21;01mdataprep\u001b[39;00m\u001b[38;5;21;01m.\u001b[39;00m\u001b[38;5;21;01meda\u001b[39;00m \u001b[38;5;28;01mimport\u001b[39;00m create_report\n",
      "File \u001b[1;32m~\\AppData\\Roaming\\Python\\Python39\\site-packages\\dataprep\\eda\\__init__.py:8\u001b[0m, in \u001b[0;36m<module>\u001b[1;34m\u001b[0m\n\u001b[0;32m      5\u001b[0m \u001b[38;5;28;01mfrom\u001b[39;00m \u001b[38;5;21;01mbokeh\u001b[39;00m\u001b[38;5;21;01m.\u001b[39;00m\u001b[38;5;21;01mio\u001b[39;00m \u001b[38;5;28;01mimport\u001b[39;00m output_notebook\n\u001b[0;32m      7\u001b[0m \u001b[38;5;28;01mfrom\u001b[39;00m \u001b[38;5;21;01m.\u001b[39;00m\u001b[38;5;21;01m.\u001b[39;00m\u001b[38;5;21;01mutils\u001b[39;00m \u001b[38;5;28;01mimport\u001b[39;00m is_notebook\n\u001b[1;32m----> 8\u001b[0m \u001b[38;5;28;01mfrom\u001b[39;00m \u001b[38;5;21;01m.\u001b[39;00m\u001b[38;5;21;01mcorrelation\u001b[39;00m \u001b[38;5;28;01mimport\u001b[39;00m compute_correlation, plot_correlation, render_correlation\n\u001b[0;32m      9\u001b[0m \u001b[38;5;28;01mfrom\u001b[39;00m \u001b[38;5;21;01m.\u001b[39;00m\u001b[38;5;21;01mcreate_report\u001b[39;00m \u001b[38;5;28;01mimport\u001b[39;00m create_report\n\u001b[0;32m     10\u001b[0m \u001b[38;5;28;01mfrom\u001b[39;00m \u001b[38;5;21;01m.\u001b[39;00m\u001b[38;5;21;01mcreate_db_report\u001b[39;00m \u001b[38;5;28;01mimport\u001b[39;00m create_db_report\n",
      "File \u001b[1;32m~\\AppData\\Roaming\\Python\\Python39\\site-packages\\dataprep\\eda\\correlation\\__init__.py:10\u001b[0m, in \u001b[0;36m<module>\u001b[1;34m\u001b[0m\n\u001b[0;32m      7\u001b[0m \u001b[38;5;28;01mimport\u001b[39;00m \u001b[38;5;21;01mdask\u001b[39;00m\u001b[38;5;21;01m.\u001b[39;00m\u001b[38;5;21;01mdataframe\u001b[39;00m \u001b[38;5;28;01mas\u001b[39;00m \u001b[38;5;21;01mdd\u001b[39;00m\n\u001b[0;32m      8\u001b[0m \u001b[38;5;28;01mimport\u001b[39;00m \u001b[38;5;21;01mpandas\u001b[39;00m \u001b[38;5;28;01mas\u001b[39;00m \u001b[38;5;21;01mpd\u001b[39;00m\n\u001b[1;32m---> 10\u001b[0m \u001b[38;5;28;01mfrom\u001b[39;00m \u001b[38;5;21;01m.\u001b[39;00m\u001b[38;5;21;01m.\u001b[39;00m\u001b[38;5;21;01mconfigs\u001b[39;00m \u001b[38;5;28;01mimport\u001b[39;00m Config\n\u001b[0;32m     11\u001b[0m \u001b[38;5;28;01mfrom\u001b[39;00m \u001b[38;5;21;01m.\u001b[39;00m\u001b[38;5;21;01m.\u001b[39;00m\u001b[38;5;21;01mcontainer\u001b[39;00m \u001b[38;5;28;01mimport\u001b[39;00m Container\n\u001b[0;32m     12\u001b[0m \u001b[38;5;28;01mfrom\u001b[39;00m \u001b[38;5;21;01m.\u001b[39;00m\u001b[38;5;21;01m.\u001b[39;00m\u001b[38;5;21;01m.\u001b[39;00m\u001b[38;5;21;01mprogress_bar\u001b[39;00m \u001b[38;5;28;01mimport\u001b[39;00m ProgressBar\n",
      "File \u001b[1;32m~\\AppData\\Roaming\\Python\\Python39\\site-packages\\dataprep\\eda\\configs.py:66\u001b[0m, in \u001b[0;36m<module>\u001b[1;34m\u001b[0m\n\u001b[0;32m     56\u001b[0m \u001b[38;5;66;03m# This dictionary map is used for session control in create_report\u001b[39;00m\n\u001b[0;32m     57\u001b[0m DISPLAY_REPORT_MAP \u001b[38;5;241m=\u001b[39m {\n\u001b[0;32m     58\u001b[0m     \u001b[38;5;124m\"\u001b[39m\u001b[38;5;124mOverview\u001b[39m\u001b[38;5;124m\"\u001b[39m: \u001b[38;5;124m\"\u001b[39m\u001b[38;5;124moverview\u001b[39m\u001b[38;5;124m\"\u001b[39m,\n\u001b[0;32m     59\u001b[0m     \u001b[38;5;124m\"\u001b[39m\u001b[38;5;124mVariables\u001b[39m\u001b[38;5;124m\"\u001b[39m: \u001b[38;5;124m\"\u001b[39m\u001b[38;5;124mvariables\u001b[39m\u001b[38;5;124m\"\u001b[39m,\n\u001b[1;32m   (...)\u001b[0m\n\u001b[0;32m     62\u001b[0m     \u001b[38;5;124m\"\u001b[39m\u001b[38;5;124mMissing Values\u001b[39m\u001b[38;5;124m\"\u001b[39m: \u001b[38;5;124m\"\u001b[39m\u001b[38;5;124mmissingvalues\u001b[39m\u001b[38;5;124m\"\u001b[39m,\n\u001b[0;32m     63\u001b[0m }\n\u001b[1;32m---> 66\u001b[0m \u001b[38;5;28;01mclass\u001b[39;00m \u001b[38;5;21;01mPlot\u001b[39;00m(BaseModel):\n\u001b[0;32m     67\u001b[0m     \u001b[38;5;124;03m\"\"\"\u001b[39;00m\n\u001b[0;32m     68\u001b[0m \u001b[38;5;124;03m    Class containing global parameters for the plots\u001b[39;00m\n\u001b[0;32m     69\u001b[0m \u001b[38;5;124;03m    \"\"\"\u001b[39;00m\n\u001b[0;32m     71\u001b[0m     width: Union[\u001b[38;5;28mint\u001b[39m, \u001b[38;5;28;01mNone\u001b[39;00m] \u001b[38;5;241m=\u001b[39m \u001b[38;5;28;01mNone\u001b[39;00m\n",
      "File \u001b[1;32m~\\AppData\\Roaming\\Python\\Python39\\site-packages\\pydantic\\_internal\\_model_construction.py:184\u001b[0m, in \u001b[0;36m__new__\u001b[1;34m(mcs, cls_name, bases, namespace, __pydantic_generic_metadata__, __pydantic_reset_parent_namespace__, **kwargs)\u001b[0m\n",
      "File \u001b[1;32m~\\AppData\\Roaming\\Python\\Python39\\site-packages\\pydantic\\_internal\\_model_construction.py:481\u001b[0m, in \u001b[0;36mcomplete_model_class\u001b[1;34m(cls, cls_name, config_wrapper, raise_errors, types_namespace)\u001b[0m\n",
      "File \u001b[1;32m~\\AppData\\Roaming\\Python\\Python39\\site-packages\\pydantic\\main.py:576\u001b[0m, in \u001b[0;36m__get_pydantic_core_schema__\u001b[1;34m(cls, _BaseModel__source, _BaseModel__handler)\u001b[0m\n\u001b[0;32m    574\u001b[0m     \u001b[38;5;28;01mraise\u001b[39;00m ConfigError(\u001b[38;5;124m'\u001b[39m\u001b[38;5;124mYou must have the config attribute orm_mode=True to use from_orm\u001b[39m\u001b[38;5;124m'\u001b[39m)\n\u001b[0;32m    575\u001b[0m obj \u001b[38;5;241m=\u001b[39m {ROOT_KEY: obj} \u001b[38;5;28;01mif\u001b[39;00m \u001b[38;5;28mcls\u001b[39m\u001b[38;5;241m.\u001b[39m__custom_root_type__ \u001b[38;5;28;01melse\u001b[39;00m \u001b[38;5;28mcls\u001b[39m\u001b[38;5;241m.\u001b[39m_decompose_class(obj)\n\u001b[1;32m--> 576\u001b[0m m \u001b[38;5;241m=\u001b[39m \u001b[38;5;28mcls\u001b[39m\u001b[38;5;241m.\u001b[39m\u001b[38;5;21m__new__\u001b[39m(\u001b[38;5;28mcls\u001b[39m)\n\u001b[0;32m    577\u001b[0m values, fields_set, validation_error \u001b[38;5;241m=\u001b[39m validate_model(\u001b[38;5;28mcls\u001b[39m, obj)\n\u001b[0;32m    578\u001b[0m \u001b[38;5;28;01mif\u001b[39;00m validation_error:\n",
      "File \u001b[1;32m~\\AppData\\Roaming\\Python\\Python39\\site-packages\\pydantic\\_internal\\_schema_generation_shared.py:82\u001b[0m, in \u001b[0;36m__call__\u001b[1;34m(self, _CallbackGetCoreSchemaHandler__source_type)\u001b[0m\n",
      "File \u001b[1;32m~\\AppData\\Roaming\\Python\\Python39\\site-packages\\pydantic\\_internal\\_generate_schema.py:452\u001b[0m, in \u001b[0;36mgenerate_schema\u001b[1;34m(self, obj, from_dunder_get_core_schema)\u001b[0m\n",
      "File \u001b[1;32m~\\AppData\\Roaming\\Python\\Python39\\site-packages\\pydantic\\_internal\\_generate_schema.py:684\u001b[0m, in \u001b[0;36m_generate_schema\u001b[1;34m(self, obj)\u001b[0m\n",
      "File \u001b[1;32m~\\AppData\\Roaming\\Python\\Python39\\site-packages\\pydantic\\_internal\\_generate_schema.py:706\u001b[0m, in \u001b[0;36m_generate_schema_inner\u001b[1;34m(self, obj)\u001b[0m\n",
      "File \u001b[1;32m~\\AppData\\Roaming\\Python\\Python39\\site-packages\\pydantic\\_internal\\_generate_schema.py:525\u001b[0m, in \u001b[0;36m_model_schema\u001b[1;34m(self, cls)\u001b[0m\n",
      "File \u001b[1;32m~\\AppData\\Roaming\\Python\\Python39\\site-packages\\pydantic\\_internal\\_generate_schema.py:525\u001b[0m, in \u001b[0;36m<dictcomp>\u001b[1;34m(.0)\u001b[0m\n",
      "File \u001b[1;32m~\\AppData\\Roaming\\Python\\Python39\\site-packages\\pydantic\\_internal\\_generate_schema.py:870\u001b[0m, in \u001b[0;36m_generate_md_field_schema\u001b[1;34m(self, name, field_info, decorators)\u001b[0m\n",
      "File \u001b[1;32m~\\AppData\\Roaming\\Python\\Python39\\site-packages\\pydantic\\_internal\\_generate_schema.py:923\u001b[0m, in \u001b[0;36m_common_field_schema\u001b[1;34m(self, name, field_info, decorators)\u001b[0m\n",
      "File \u001b[1;32m~\\AppData\\Roaming\\Python\\Python39\\site-packages\\pydantic\\_internal\\_generate_schema.py:1564\u001b[0m, in \u001b[0;36m_apply_annotations\u001b[1;34m(self, source_type, annotations, transform_inner_schema)\u001b[0m\n",
      "File \u001b[1;32m~\\AppData\\Roaming\\Python\\Python39\\site-packages\\pydantic\\_internal\\_generate_schema.py:1535\u001b[0m, in \u001b[0;36m_get_prepare_pydantic_annotations_for_known_type\u001b[1;34m(self, obj, annotations)\u001b[0m\n",
      "\u001b[1;31mModuleNotFoundError\u001b[0m: No module named 'pydantic._internal._std_types_schema'"
     ]
    }
   ],
   "source": [
    "from dataprep.eda import create_report"
   ]
  },
  {
   "cell_type": "code",
   "execution_count": null,
   "id": "4e8e4ce6",
   "metadata": {},
   "outputs": [],
   "source": [
    "create_report(df2)"
   ]
  },
  {
   "cell_type": "markdown",
   "id": "986c132c",
   "metadata": {},
   "source": [
    "## Here i face some error because of i am using the updated version \n",
    "You can try to downgrade your Python version to 3.8 or lower,\n",
    "or wait for the package to support Python 3.9 in the future. Alternatively, \n",
    "you can try to install the package directly from the source code by downloading it from GitHub and running \n",
    "!pip install \n",
    "or \n",
    "!pip3 install"
   ]
  },
  {
   "cell_type": "markdown",
   "id": "3e5d2bb5",
   "metadata": {},
   "source": [
    "## sometimes jupyternotebook has some issue \n",
    "### you can also try this in google colab i think if you try on google colab you \n",
    "### can fix it easily ..... "
   ]
  },
  {
   "cell_type": "code",
   "execution_count": null,
   "id": "5c9865e4",
   "metadata": {},
   "outputs": [],
   "source": [
    "'''\n",
    "\n",
    "1st cell: !pip install dataprep\n",
    "2nd cell: from dataprep.eda import create_report\n",
    "            create_report(df)\n",
    "'''"
   ]
  },
  {
   "cell_type": "code",
   "execution_count": null,
   "id": "10b45a63",
   "metadata": {},
   "outputs": [],
   "source": []
  },
  {
   "cell_type": "markdown",
   "id": "4d85016b",
   "metadata": {},
   "source": [
    "# LUX Visualzation"
   ]
  },
  {
   "cell_type": "code",
   "execution_count": 70,
   "id": "00ce2379",
   "metadata": {},
   "outputs": [
    {
     "name": "stdout",
     "output_type": "stream",
     "text": [
      "Defaulting to user installation because normal site-packages is not writeable\n",
      "Collecting lux\n",
      "  Downloading lux-0.5.1.tar.gz (14 kB)\n",
      "  Preparing metadata (setup.py): started\n",
      "  Preparing metadata (setup.py): finished with status 'done'\n",
      "Collecting lux-api (from lux)\n",
      "  Downloading lux-api-0.5.1.tar.gz (127 kB)\n",
      "     ------------------------------------ 127.0/127.0 kB 678.9 kB/s eta 0:00:00\n",
      "  Installing build dependencies: started\n",
      "  Installing build dependencies: finished with status 'done'\n",
      "  Getting requirements to build wheel: started\n",
      "  Getting requirements to build wheel: finished with status 'done'\n",
      "  Preparing metadata (pyproject.toml): started\n",
      "  Preparing metadata (pyproject.toml): finished with status 'done'\n",
      "Collecting lux-widget (from lux)\n",
      "  Downloading lux-widget-0.1.11.tar.gz (2.5 MB)\n",
      "     ---------------------------------------- 2.5/2.5 MB 366.7 kB/s eta 0:00:00\n",
      "  Preparing metadata (setup.py): started\n",
      "  Preparing metadata (setup.py): finished with status 'done'\n",
      "Requirement already satisfied: scipy>=1.3.3 in c:\\users\\himel\\appdata\\roaming\\python\\python39\\site-packages (from lux-api->lux) (1.11.3)\n",
      "Collecting altair>=4.0.0 (from lux-api->lux)\n",
      "  Downloading altair-5.1.2-py3-none-any.whl.metadata (8.6 kB)\n",
      "Requirement already satisfied: numpy>=1.16.5 in c:\\users\\himel\\appdata\\roaming\\python\\python39\\site-packages (from lux-api->lux) (1.22.4)\n",
      "Requirement already satisfied: pandas in g:\\himel.conda\\lib\\site-packages (from lux-api->lux) (1.4.2)\n",
      "Requirement already satisfied: scikit-learn>=0.22 in g:\\himel.conda\\lib\\site-packages (from lux-api->lux) (1.0.2)\n",
      "Requirement already satisfied: matplotlib>=3.0.0 in g:\\himel.conda\\lib\\site-packages (from lux-api->lux) (3.5.1)\n",
      "Requirement already satisfied: autopep8>=1.5 in g:\\himel.conda\\lib\\site-packages (from lux-api->lux) (1.6.0)\n",
      "Collecting iso3166 (from lux-api->lux)\n",
      "  Downloading iso3166-2.1.1-py3-none-any.whl (9.8 kB)\n",
      "Collecting psutil>=5.9.0 (from lux-api->lux)\n",
      "  Downloading psutil-5.9.6-cp37-abi3-win_amd64.whl.metadata (22 kB)\n",
      "Collecting sh (from lux-api->lux)\n",
      "  Downloading sh-2.0.6-py3-none-any.whl.metadata (3.3 kB)\n",
      "Requirement already satisfied: notebook>=4.0.0 in g:\\himel.conda\\lib\\site-packages (from lux-widget->lux) (6.4.8)\n",
      "Requirement already satisfied: ipywidgets>=7.5.0 in g:\\himel.conda\\lib\\site-packages (from lux-widget->lux) (7.6.5)\n",
      "Requirement already satisfied: jinja2 in c:\\users\\himel\\appdata\\roaming\\python\\python39\\site-packages (from altair>=4.0.0->lux-api->lux) (3.0.3)\n",
      "Requirement already satisfied: jsonschema>=3.0 in g:\\himel.conda\\lib\\site-packages (from altair>=4.0.0->lux-api->lux) (4.4.0)\n",
      "Requirement already satisfied: packaging in g:\\himel.conda\\lib\\site-packages (from altair>=4.0.0->lux-api->lux) (21.3)\n",
      "Requirement already satisfied: toolz in g:\\himel.conda\\lib\\site-packages (from altair>=4.0.0->lux-api->lux) (0.11.2)\n",
      "Requirement already satisfied: typing-extensions>=4.0.1 in c:\\users\\himel\\appdata\\roaming\\python\\python39\\site-packages (from altair>=4.0.0->lux-api->lux) (4.7.1)\n",
      "Collecting pycodestyle>=2.8.0 (from autopep8>=1.5->lux-api->lux)\n",
      "  Downloading pycodestyle-2.11.1-py2.py3-none-any.whl.metadata (4.5 kB)\n",
      "Requirement already satisfied: toml in g:\\himel.conda\\lib\\site-packages (from autopep8>=1.5->lux-api->lux) (0.10.2)\n",
      "Requirement already satisfied: ipykernel>=4.5.1 in g:\\himel.conda\\lib\\site-packages (from ipywidgets>=7.5.0->lux-widget->lux) (6.9.1)\n",
      "Requirement already satisfied: ipython-genutils~=0.2.0 in g:\\himel.conda\\lib\\site-packages (from ipywidgets>=7.5.0->lux-widget->lux) (0.2.0)\n",
      "Requirement already satisfied: traitlets>=4.3.1 in g:\\himel.conda\\lib\\site-packages (from ipywidgets>=7.5.0->lux-widget->lux) (5.1.1)\n",
      "Requirement already satisfied: nbformat>=4.2.0 in g:\\himel.conda\\lib\\site-packages (from ipywidgets>=7.5.0->lux-widget->lux) (5.3.0)\n",
      "Requirement already satisfied: widgetsnbextension~=3.5.0 in g:\\himel.conda\\lib\\site-packages (from ipywidgets>=7.5.0->lux-widget->lux) (3.5.2)\n",
      "Requirement already satisfied: ipython>=4.0.0 in g:\\himel.conda\\lib\\site-packages (from ipywidgets>=7.5.0->lux-widget->lux) (8.2.0)\n",
      "Requirement already satisfied: jupyterlab-widgets>=1.0.0 in g:\\himel.conda\\lib\\site-packages (from ipywidgets>=7.5.0->lux-widget->lux) (1.0.0)\n",
      "Requirement already satisfied: cycler>=0.10 in g:\\himel.conda\\lib\\site-packages (from matplotlib>=3.0.0->lux-api->lux) (0.11.0)\n",
      "Requirement already satisfied: fonttools>=4.22.0 in g:\\himel.conda\\lib\\site-packages (from matplotlib>=3.0.0->lux-api->lux) (4.25.0)\n",
      "Requirement already satisfied: kiwisolver>=1.0.1 in g:\\himel.conda\\lib\\site-packages (from matplotlib>=3.0.0->lux-api->lux) (1.3.2)\n",
      "Requirement already satisfied: pillow>=6.2.0 in g:\\himel.conda\\lib\\site-packages (from matplotlib>=3.0.0->lux-api->lux) (9.0.1)\n",
      "Requirement already satisfied: pyparsing>=2.2.1 in g:\\himel.conda\\lib\\site-packages (from matplotlib>=3.0.0->lux-api->lux) (3.0.4)\n",
      "Requirement already satisfied: python-dateutil>=2.7 in g:\\himel.conda\\lib\\site-packages (from matplotlib>=3.0.0->lux-api->lux) (2.8.2)\n",
      "Requirement already satisfied: tornado>=6.1 in g:\\himel.conda\\lib\\site-packages (from notebook>=4.0.0->lux-widget->lux) (6.1)\n",
      "Requirement already satisfied: pyzmq>=17 in g:\\himel.conda\\lib\\site-packages (from notebook>=4.0.0->lux-widget->lux) (22.3.0)\n",
      "Requirement already satisfied: argon2-cffi in g:\\himel.conda\\lib\\site-packages (from notebook>=4.0.0->lux-widget->lux) (21.3.0)\n",
      "Requirement already satisfied: jupyter-core>=4.6.1 in g:\\himel.conda\\lib\\site-packages (from notebook>=4.0.0->lux-widget->lux) (4.9.2)\n",
      "Requirement already satisfied: jupyter-client>=5.3.4 in g:\\himel.conda\\lib\\site-packages (from notebook>=4.0.0->lux-widget->lux) (6.1.12)\n",
      "Requirement already satisfied: nbconvert in g:\\himel.conda\\lib\\site-packages (from notebook>=4.0.0->lux-widget->lux) (6.4.4)\n",
      "Requirement already satisfied: nest-asyncio>=1.5 in g:\\himel.conda\\lib\\site-packages (from notebook>=4.0.0->lux-widget->lux) (1.5.5)\n",
      "Requirement already satisfied: Send2Trash>=1.8.0 in g:\\himel.conda\\lib\\site-packages (from notebook>=4.0.0->lux-widget->lux) (1.8.0)\n",
      "Requirement already satisfied: terminado>=0.8.3 in g:\\himel.conda\\lib\\site-packages (from notebook>=4.0.0->lux-widget->lux) (0.13.1)\n",
      "Requirement already satisfied: prometheus-client in g:\\himel.conda\\lib\\site-packages (from notebook>=4.0.0->lux-widget->lux) (0.13.1)\n",
      "Requirement already satisfied: pytz>=2020.1 in g:\\himel.conda\\lib\\site-packages (from pandas->lux-api->lux) (2021.3)\n",
      "Requirement already satisfied: joblib>=0.11 in g:\\himel.conda\\lib\\site-packages (from scikit-learn>=0.22->lux-api->lux) (1.1.0)\n",
      "Requirement already satisfied: threadpoolctl>=2.0.0 in g:\\himel.conda\\lib\\site-packages (from scikit-learn>=0.22->lux-api->lux) (2.2.0)\n",
      "Requirement already satisfied: debugpy<2.0,>=1.0.0 in g:\\himel.conda\\lib\\site-packages (from ipykernel>=4.5.1->ipywidgets>=7.5.0->lux-widget->lux) (1.5.1)\n",
      "Requirement already satisfied: matplotlib-inline<0.2.0,>=0.1.0 in g:\\himel.conda\\lib\\site-packages (from ipykernel>=4.5.1->ipywidgets>=7.5.0->lux-widget->lux) (0.1.2)\n",
      "Requirement already satisfied: backcall in g:\\himel.conda\\lib\\site-packages (from ipython>=4.0.0->ipywidgets>=7.5.0->lux-widget->lux) (0.2.0)\n",
      "Requirement already satisfied: decorator in g:\\himel.conda\\lib\\site-packages (from ipython>=4.0.0->ipywidgets>=7.5.0->lux-widget->lux) (5.1.1)\n",
      "Requirement already satisfied: jedi>=0.16 in g:\\himel.conda\\lib\\site-packages (from ipython>=4.0.0->ipywidgets>=7.5.0->lux-widget->lux) (0.18.1)\n",
      "Requirement already satisfied: pickleshare in g:\\himel.conda\\lib\\site-packages (from ipython>=4.0.0->ipywidgets>=7.5.0->lux-widget->lux) (0.7.5)\n",
      "Requirement already satisfied: prompt-toolkit!=3.0.0,!=3.0.1,<3.1.0,>=2.0.0 in g:\\himel.conda\\lib\\site-packages (from ipython>=4.0.0->ipywidgets>=7.5.0->lux-widget->lux) (3.0.20)\n",
      "Requirement already satisfied: pygments>=2.4.0 in g:\\himel.conda\\lib\\site-packages (from ipython>=4.0.0->ipywidgets>=7.5.0->lux-widget->lux) (2.11.2)\n",
      "Requirement already satisfied: setuptools>=18.5 in g:\\himel.conda\\lib\\site-packages (from ipython>=4.0.0->ipywidgets>=7.5.0->lux-widget->lux) (61.2.0)\n",
      "Requirement already satisfied: stack-data in g:\\himel.conda\\lib\\site-packages (from ipython>=4.0.0->ipywidgets>=7.5.0->lux-widget->lux) (0.2.0)\n",
      "Requirement already satisfied: colorama in g:\\himel.conda\\lib\\site-packages (from ipython>=4.0.0->ipywidgets>=7.5.0->lux-widget->lux) (0.4.4)\n",
      "Requirement already satisfied: attrs>=17.4.0 in g:\\himel.conda\\lib\\site-packages (from jsonschema>=3.0->altair>=4.0.0->lux-api->lux) (21.4.0)\n",
      "Requirement already satisfied: pyrsistent!=0.17.0,!=0.17.1,!=0.17.2,>=0.14.0 in g:\\himel.conda\\lib\\site-packages (from jsonschema>=3.0->altair>=4.0.0->lux-api->lux) (0.18.0)\n",
      "Requirement already satisfied: pywin32>=1.0 in g:\\himel.conda\\lib\\site-packages (from jupyter-core>=4.6.1->notebook>=4.0.0->lux-widget->lux) (302)\n",
      "Requirement already satisfied: fastjsonschema in g:\\himel.conda\\lib\\site-packages (from nbformat>=4.2.0->ipywidgets>=7.5.0->lux-widget->lux) (2.15.1)\n",
      "Requirement already satisfied: six>=1.5 in g:\\himel.conda\\lib\\site-packages (from python-dateutil>=2.7->matplotlib>=3.0.0->lux-api->lux) (1.16.0)\n",
      "Requirement already satisfied: pywinpty>=1.1.0 in g:\\himel.conda\\lib\\site-packages (from terminado>=0.8.3->notebook>=4.0.0->lux-widget->lux) (2.0.2)\n",
      "Requirement already satisfied: argon2-cffi-bindings in g:\\himel.conda\\lib\\site-packages (from argon2-cffi->notebook>=4.0.0->lux-widget->lux) (21.2.0)\n",
      "Requirement already satisfied: MarkupSafe>=2.0 in c:\\users\\himel\\appdata\\roaming\\python\\python39\\site-packages (from jinja2->altair>=4.0.0->lux-api->lux) (2.1.3)\n",
      "Requirement already satisfied: mistune<2,>=0.8.1 in g:\\himel.conda\\lib\\site-packages (from nbconvert->notebook>=4.0.0->lux-widget->lux) (0.8.4)\n",
      "Requirement already satisfied: jupyterlab-pygments in g:\\himel.conda\\lib\\site-packages (from nbconvert->notebook>=4.0.0->lux-widget->lux) (0.1.2)\n",
      "Requirement already satisfied: entrypoints>=0.2.2 in g:\\himel.conda\\lib\\site-packages (from nbconvert->notebook>=4.0.0->lux-widget->lux) (0.4)\n",
      "Requirement already satisfied: bleach in g:\\himel.conda\\lib\\site-packages (from nbconvert->notebook>=4.0.0->lux-widget->lux) (4.1.0)\n",
      "Requirement already satisfied: pandocfilters>=1.4.1 in g:\\himel.conda\\lib\\site-packages (from nbconvert->notebook>=4.0.0->lux-widget->lux) (1.5.0)\n",
      "Requirement already satisfied: testpath in g:\\himel.conda\\lib\\site-packages (from nbconvert->notebook>=4.0.0->lux-widget->lux) (0.5.0)\n",
      "Requirement already satisfied: defusedxml in g:\\himel.conda\\lib\\site-packages (from nbconvert->notebook>=4.0.0->lux-widget->lux) (0.7.1)\n",
      "Requirement already satisfied: beautifulsoup4 in g:\\himel.conda\\lib\\site-packages (from nbconvert->notebook>=4.0.0->lux-widget->lux) (4.11.1)\n",
      "Requirement already satisfied: nbclient<0.6.0,>=0.5.0 in g:\\himel.conda\\lib\\site-packages (from nbconvert->notebook>=4.0.0->lux-widget->lux) (0.5.13)\n",
      "Requirement already satisfied: parso<0.9.0,>=0.8.0 in g:\\himel.conda\\lib\\site-packages (from jedi>=0.16->ipython>=4.0.0->ipywidgets>=7.5.0->lux-widget->lux) (0.8.3)\n",
      "Requirement already satisfied: wcwidth in g:\\himel.conda\\lib\\site-packages (from prompt-toolkit!=3.0.0,!=3.0.1,<3.1.0,>=2.0.0->ipython>=4.0.0->ipywidgets>=7.5.0->lux-widget->lux) (0.2.5)\n",
      "Requirement already satisfied: cffi>=1.0.1 in g:\\himel.conda\\lib\\site-packages (from argon2-cffi-bindings->argon2-cffi->notebook>=4.0.0->lux-widget->lux) (1.15.0)\n",
      "Requirement already satisfied: soupsieve>1.2 in g:\\himel.conda\\lib\\site-packages (from beautifulsoup4->nbconvert->notebook>=4.0.0->lux-widget->lux) (2.3.1)\n",
      "Requirement already satisfied: webencodings in g:\\himel.conda\\lib\\site-packages (from bleach->nbconvert->notebook>=4.0.0->lux-widget->lux) (0.5.1)\n",
      "Requirement already satisfied: executing in g:\\himel.conda\\lib\\site-packages (from stack-data->ipython>=4.0.0->ipywidgets>=7.5.0->lux-widget->lux) (0.8.3)\n",
      "Requirement already satisfied: asttokens in g:\\himel.conda\\lib\\site-packages (from stack-data->ipython>=4.0.0->ipywidgets>=7.5.0->lux-widget->lux) (2.0.5)\n",
      "Requirement already satisfied: pure-eval in g:\\himel.conda\\lib\\site-packages (from stack-data->ipython>=4.0.0->ipywidgets>=7.5.0->lux-widget->lux) (0.2.2)\n",
      "Requirement already satisfied: pycparser in g:\\himel.conda\\lib\\site-packages (from cffi>=1.0.1->argon2-cffi-bindings->argon2-cffi->notebook>=4.0.0->lux-widget->lux) (2.21)\n",
      "Downloading altair-5.1.2-py3-none-any.whl (516 kB)\n",
      "   -------------------------------------- 516.2/516.2 kB 399.9 kB/s eta 0:00:00\n",
      "Downloading psutil-5.9.6-cp37-abi3-win_amd64.whl (252 kB)\n",
      "   -------------------------------------- 252.3/252.3 kB 500.2 kB/s eta 0:00:00\n",
      "Downloading sh-2.0.6-py3-none-any.whl (38 kB)\n",
      "Downloading pycodestyle-2.11.1-py2.py3-none-any.whl (31 kB)\n",
      "Building wheels for collected packages: lux, lux-api, lux-widget\n",
      "  Building wheel for lux (setup.py): started\n",
      "  Building wheel for lux (setup.py): finished with status 'done'\n",
      "  Created wheel for lux: filename=lux-0.5.1-py3-none-any.whl size=11979 sha256=cbbf8987f455e809b6054b97c9a7235cfa24961bafc4ec81f8d1765c26a2f187\n",
      "  Stored in directory: c:\\users\\himel\\appdata\\local\\pip\\cache\\wheels\\eb\\1a\\ea\\63737a35e77092f9238a1b023851b69f34270754063317527d\n",
      "  Building wheel for lux-api (pyproject.toml): started\n",
      "  Building wheel for lux-api (pyproject.toml): finished with status 'done'\n",
      "  Created wheel for lux-api: filename=lux_api-0.5.1-py3-none-any.whl size=185638 sha256=5752d8e94ce2bc0dc174b4ae8fc980aad20e583701b832544ec10174fda7b820\n",
      "  Stored in directory: c:\\users\\himel\\appdata\\local\\pip\\cache\\wheels\\bd\\05\\a4\\441d23d1cece85d6cd3cec43b38896e88a729e8048138825bd\n",
      "  Building wheel for lux-widget (setup.py): started\n",
      "  Building wheel for lux-widget (setup.py): finished with status 'done'\n",
      "  Created wheel for lux-widget: filename=lux_widget-0.1.11-py3-none-any.whl size=2540459 sha256=9239c0c4e3e0f30c8f8ba3b9280f693f49f9f0f1cb4c16b70270a664cd5c2e26\n",
      "  Stored in directory: c:\\users\\himel\\appdata\\local\\pip\\cache\\wheels\\03\\dd\\c3\\286c3ca89a08533a99b0eb3f6e9a4b4c23476202c5a3fd622e\n",
      "Successfully built lux lux-api lux-widget\n",
      "Installing collected packages: sh, pycodestyle, psutil, iso3166, altair, lux-widget, lux-api, lux\n"
     ]
    },
    {
     "name": "stderr",
     "output_type": "stream",
     "text": [
      "  WARNING: The script pycodestyle.exe is installed in 'C:\\Users\\Himel\\AppData\\Roaming\\Python\\Python39\\Scripts' which is not on PATH.\n",
      "  Consider adding this directory to PATH or, if you prefer to suppress this warning, use --no-warn-script-location.\n",
      "ERROR: pip's dependency resolver does not currently take into account all the packages that are installed. This behaviour is the source of the following dependency conflicts.\n",
      "spyder 5.1.5 requires pyqt5<5.13, which is not installed.\n",
      "spyder 5.1.5 requires pyqtwebengine<5.13, which is not installed.\n",
      "distributed 2022.2.1 requires dask==2022.02.1, but you have dask 2023.10.1 which is incompatible.\n",
      "flake8 3.9.2 requires pycodestyle<2.8.0,>=2.7.0, but you have pycodestyle 2.11.1 which is incompatible.\n"
     ]
    },
    {
     "name": "stdout",
     "output_type": "stream",
     "text": [
      "Successfully installed altair-5.1.2 iso3166-2.1.1 lux-0.5.1 lux-api-0.5.1 lux-widget-0.1.11 psutil-5.9.6 pycodestyle-2.11.1 sh-2.0.6\n"
     ]
    }
   ],
   "source": [
    "!pip install lux"
   ]
  },
  {
   "cell_type": "code",
   "execution_count": 75,
   "id": "c09be868",
   "metadata": {},
   "outputs": [
    {
     "name": "stderr",
     "output_type": "stream",
     "text": [
      "Installing C:\\Users\\Himel\\AppData\\Roaming\\Python\\Python39\\site-packages\\luxwidget\\nbextension/static -> luxwidget\n",
      "Making directory: C:\\ProgramData\\jupyter\\nbextensions\\luxwidget\\\n",
      "Copying: C:\\Users\\Himel\\AppData\\Roaming\\Python\\Python39\\site-packages\\luxwidget\\nbextension\\static\\extension.js -> C:\\ProgramData\\jupyter\\nbextensions\\luxwidget\\extension.js\n",
      "Copying: C:\\Users\\Himel\\AppData\\Roaming\\Python\\Python39\\site-packages\\luxwidget\\nbextension\\static\\index.js -> C:\\ProgramData\\jupyter\\nbextensions\\luxwidget\\index.js\n",
      "Copying: C:\\Users\\Himel\\AppData\\Roaming\\Python\\Python39\\site-packages\\luxwidget\\nbextension\\static\\index.js.map -> C:\\ProgramData\\jupyter\\nbextensions\\luxwidget\\index.js.map\n",
      "- Validating: ok\n",
      "\n",
      "    To initialize this nbextension in the browser every time the notebook (or other app) loads:\n",
      "    \n",
      "          jupyter nbextension enable luxwidget --py\n",
      "    \n"
     ]
    }
   ],
   "source": [
    "!jupyter nbextension install --py luxwidget"
   ]
  },
  {
   "cell_type": "code",
   "execution_count": 76,
   "id": "2aa2a21f",
   "metadata": {},
   "outputs": [
    {
     "name": "stderr",
     "output_type": "stream",
     "text": [
      "Enabling notebook extension luxwidget/extension...\n",
      "      - Validating: ok\n"
     ]
    }
   ],
   "source": [
    "!jupyter nbextension enable --py luxwidget"
   ]
  },
  {
   "cell_type": "code",
   "execution_count": 13,
   "id": "2403ceaf",
   "metadata": {},
   "outputs": [
    {
     "data": {
      "application/vnd.jupyter.widget-view+json": {
       "model_id": "e8826c990f3a4e43806bf77d1576b79a",
       "version_major": 2,
       "version_minor": 0
      },
      "text/plain": [
       "Button(description='Toggle Pandas/Lux', layout=Layout(top='5px', width='140px'), style=ButtonStyle())"
      ]
     },
     "metadata": {},
     "output_type": "display_data"
    },
    {
     "data": {
      "application/vnd.jupyter.widget-view+json": {
       "model_id": "f51fe46f60054908b6e26873d8d037d9",
       "version_major": 2,
       "version_minor": 0
      },
      "text/plain": [
       "Output()"
      ]
     },
     "metadata": {},
     "output_type": "display_data"
    }
   ],
   "source": [
    "import lux\n",
    "import pandas as pd\n",
    "\n",
    "df = pd.read_csv(\"https://raw.githubusercontent.com/plotly/datasets/master/gapminderDataFiveYear.csv\", parse_dates=[\"year\"])\n",
    "df\n",
    "\n",
    "# type Toggle Pandas/Lux"
   ]
  },
  {
   "cell_type": "code",
   "execution_count": null,
   "id": "45a6e977",
   "metadata": {},
   "outputs": [],
   "source": []
  },
  {
   "cell_type": "markdown",
   "id": "99112f80",
   "metadata": {},
   "source": [
    "# one last library \"Pandas visualozation\""
   ]
  },
  {
   "cell_type": "code",
   "execution_count": 79,
   "id": "9d2e8924",
   "metadata": {},
   "outputs": [
    {
     "name": "stdout",
     "output_type": "stream",
     "text": [
      "Defaulting to user installation because normal site-packages is not writeable\n",
      "Collecting pandas_visual_analysis\n",
      "  Downloading pandas_visual_analysis-0.0.4-py3-none-any.whl (34 kB)\n",
      "Requirement already satisfied: setuptools>=49.2.0 in g:\\himel.conda\\lib\\site-packages (from pandas_visual_analysis) (61.2.0)\n",
      "Requirement already satisfied: pandas>=1.1.0 in g:\\himel.conda\\lib\\site-packages (from pandas_visual_analysis) (1.4.2)\n",
      "Requirement already satisfied: ipywidgets>=7.5.1 in g:\\himel.conda\\lib\\site-packages (from pandas_visual_analysis) (7.6.5)\n",
      "Requirement already satisfied: numpy>=1.19.1 in c:\\users\\himel\\appdata\\roaming\\python\\python39\\site-packages (from pandas_visual_analysis) (1.22.4)\n",
      "Requirement already satisfied: plotly>=4.10.0 in g:\\himel.conda\\lib\\site-packages (from pandas_visual_analysis) (5.6.0)\n",
      "Collecting blinker>=1.4 (from pandas_visual_analysis)\n",
      "  Downloading blinker-1.6.3-py3-none-any.whl.metadata (1.9 kB)\n",
      "Requirement already satisfied: ipykernel>=4.5.1 in g:\\himel.conda\\lib\\site-packages (from ipywidgets>=7.5.1->pandas_visual_analysis) (6.9.1)\n",
      "Requirement already satisfied: ipython-genutils~=0.2.0 in g:\\himel.conda\\lib\\site-packages (from ipywidgets>=7.5.1->pandas_visual_analysis) (0.2.0)\n",
      "Requirement already satisfied: traitlets>=4.3.1 in g:\\himel.conda\\lib\\site-packages (from ipywidgets>=7.5.1->pandas_visual_analysis) (5.1.1)\n",
      "Requirement already satisfied: nbformat>=4.2.0 in g:\\himel.conda\\lib\\site-packages (from ipywidgets>=7.5.1->pandas_visual_analysis) (5.3.0)\n",
      "Requirement already satisfied: widgetsnbextension~=3.5.0 in g:\\himel.conda\\lib\\site-packages (from ipywidgets>=7.5.1->pandas_visual_analysis) (3.5.2)\n",
      "Requirement already satisfied: ipython>=4.0.0 in g:\\himel.conda\\lib\\site-packages (from ipywidgets>=7.5.1->pandas_visual_analysis) (8.2.0)\n",
      "Requirement already satisfied: jupyterlab-widgets>=1.0.0 in g:\\himel.conda\\lib\\site-packages (from ipywidgets>=7.5.1->pandas_visual_analysis) (1.0.0)\n",
      "Requirement already satisfied: python-dateutil>=2.8.1 in g:\\himel.conda\\lib\\site-packages (from pandas>=1.1.0->pandas_visual_analysis) (2.8.2)\n",
      "Requirement already satisfied: pytz>=2020.1 in g:\\himel.conda\\lib\\site-packages (from pandas>=1.1.0->pandas_visual_analysis) (2021.3)\n",
      "Requirement already satisfied: tenacity>=6.2.0 in g:\\himel.conda\\lib\\site-packages (from plotly>=4.10.0->pandas_visual_analysis) (8.0.1)\n",
      "Requirement already satisfied: six in g:\\himel.conda\\lib\\site-packages (from plotly>=4.10.0->pandas_visual_analysis) (1.16.0)\n",
      "Requirement already satisfied: debugpy<2.0,>=1.0.0 in g:\\himel.conda\\lib\\site-packages (from ipykernel>=4.5.1->ipywidgets>=7.5.1->pandas_visual_analysis) (1.5.1)\n",
      "Requirement already satisfied: jupyter-client<8.0 in g:\\himel.conda\\lib\\site-packages (from ipykernel>=4.5.1->ipywidgets>=7.5.1->pandas_visual_analysis) (6.1.12)\n",
      "Requirement already satisfied: tornado<7.0,>=4.2 in g:\\himel.conda\\lib\\site-packages (from ipykernel>=4.5.1->ipywidgets>=7.5.1->pandas_visual_analysis) (6.1)\n",
      "Requirement already satisfied: matplotlib-inline<0.2.0,>=0.1.0 in g:\\himel.conda\\lib\\site-packages (from ipykernel>=4.5.1->ipywidgets>=7.5.1->pandas_visual_analysis) (0.1.2)\n",
      "Requirement already satisfied: nest-asyncio in g:\\himel.conda\\lib\\site-packages (from ipykernel>=4.5.1->ipywidgets>=7.5.1->pandas_visual_analysis) (1.5.5)\n",
      "Requirement already satisfied: backcall in g:\\himel.conda\\lib\\site-packages (from ipython>=4.0.0->ipywidgets>=7.5.1->pandas_visual_analysis) (0.2.0)\n",
      "Requirement already satisfied: decorator in g:\\himel.conda\\lib\\site-packages (from ipython>=4.0.0->ipywidgets>=7.5.1->pandas_visual_analysis) (5.1.1)\n",
      "Requirement already satisfied: jedi>=0.16 in g:\\himel.conda\\lib\\site-packages (from ipython>=4.0.0->ipywidgets>=7.5.1->pandas_visual_analysis) (0.18.1)\n",
      "Requirement already satisfied: pickleshare in g:\\himel.conda\\lib\\site-packages (from ipython>=4.0.0->ipywidgets>=7.5.1->pandas_visual_analysis) (0.7.5)\n",
      "Requirement already satisfied: prompt-toolkit!=3.0.0,!=3.0.1,<3.1.0,>=2.0.0 in g:\\himel.conda\\lib\\site-packages (from ipython>=4.0.0->ipywidgets>=7.5.1->pandas_visual_analysis) (3.0.20)\n",
      "Requirement already satisfied: pygments>=2.4.0 in g:\\himel.conda\\lib\\site-packages (from ipython>=4.0.0->ipywidgets>=7.5.1->pandas_visual_analysis) (2.11.2)\n",
      "Requirement already satisfied: stack-data in g:\\himel.conda\\lib\\site-packages (from ipython>=4.0.0->ipywidgets>=7.5.1->pandas_visual_analysis) (0.2.0)\n",
      "Requirement already satisfied: colorama in g:\\himel.conda\\lib\\site-packages (from ipython>=4.0.0->ipywidgets>=7.5.1->pandas_visual_analysis) (0.4.4)\n",
      "Requirement already satisfied: jsonschema>=2.6 in g:\\himel.conda\\lib\\site-packages (from nbformat>=4.2.0->ipywidgets>=7.5.1->pandas_visual_analysis) (4.4.0)\n",
      "Requirement already satisfied: jupyter-core in g:\\himel.conda\\lib\\site-packages (from nbformat>=4.2.0->ipywidgets>=7.5.1->pandas_visual_analysis) (4.9.2)\n",
      "Requirement already satisfied: fastjsonschema in g:\\himel.conda\\lib\\site-packages (from nbformat>=4.2.0->ipywidgets>=7.5.1->pandas_visual_analysis) (2.15.1)\n",
      "Requirement already satisfied: notebook>=4.4.1 in g:\\himel.conda\\lib\\site-packages (from widgetsnbextension~=3.5.0->ipywidgets>=7.5.1->pandas_visual_analysis) (6.4.8)\n",
      "Requirement already satisfied: parso<0.9.0,>=0.8.0 in g:\\himel.conda\\lib\\site-packages (from jedi>=0.16->ipython>=4.0.0->ipywidgets>=7.5.1->pandas_visual_analysis) (0.8.3)\n",
      "Requirement already satisfied: attrs>=17.4.0 in g:\\himel.conda\\lib\\site-packages (from jsonschema>=2.6->nbformat>=4.2.0->ipywidgets>=7.5.1->pandas_visual_analysis) (21.4.0)\n",
      "Requirement already satisfied: pyrsistent!=0.17.0,!=0.17.1,!=0.17.2,>=0.14.0 in g:\\himel.conda\\lib\\site-packages (from jsonschema>=2.6->nbformat>=4.2.0->ipywidgets>=7.5.1->pandas_visual_analysis) (0.18.0)\n",
      "Requirement already satisfied: pyzmq>=13 in g:\\himel.conda\\lib\\site-packages (from jupyter-client<8.0->ipykernel>=4.5.1->ipywidgets>=7.5.1->pandas_visual_analysis) (22.3.0)\n",
      "Requirement already satisfied: pywin32>=1.0 in g:\\himel.conda\\lib\\site-packages (from jupyter-core->nbformat>=4.2.0->ipywidgets>=7.5.1->pandas_visual_analysis) (302)\n",
      "Requirement already satisfied: jinja2 in c:\\users\\himel\\appdata\\roaming\\python\\python39\\site-packages (from notebook>=4.4.1->widgetsnbextension~=3.5.0->ipywidgets>=7.5.1->pandas_visual_analysis) (3.0.3)\n",
      "Requirement already satisfied: argon2-cffi in g:\\himel.conda\\lib\\site-packages (from notebook>=4.4.1->widgetsnbextension~=3.5.0->ipywidgets>=7.5.1->pandas_visual_analysis) (21.3.0)\n",
      "Requirement already satisfied: nbconvert in g:\\himel.conda\\lib\\site-packages (from notebook>=4.4.1->widgetsnbextension~=3.5.0->ipywidgets>=7.5.1->pandas_visual_analysis) (6.4.4)\n",
      "Requirement already satisfied: Send2Trash>=1.8.0 in g:\\himel.conda\\lib\\site-packages (from notebook>=4.4.1->widgetsnbextension~=3.5.0->ipywidgets>=7.5.1->pandas_visual_analysis) (1.8.0)\n",
      "Requirement already satisfied: terminado>=0.8.3 in g:\\himel.conda\\lib\\site-packages (from notebook>=4.4.1->widgetsnbextension~=3.5.0->ipywidgets>=7.5.1->pandas_visual_analysis) (0.13.1)\n",
      "Requirement already satisfied: prometheus-client in g:\\himel.conda\\lib\\site-packages (from notebook>=4.4.1->widgetsnbextension~=3.5.0->ipywidgets>=7.5.1->pandas_visual_analysis) (0.13.1)\n",
      "Requirement already satisfied: wcwidth in g:\\himel.conda\\lib\\site-packages (from prompt-toolkit!=3.0.0,!=3.0.1,<3.1.0,>=2.0.0->ipython>=4.0.0->ipywidgets>=7.5.1->pandas_visual_analysis) (0.2.5)\n",
      "Requirement already satisfied: executing in g:\\himel.conda\\lib\\site-packages (from stack-data->ipython>=4.0.0->ipywidgets>=7.5.1->pandas_visual_analysis) (0.8.3)\n",
      "Requirement already satisfied: asttokens in g:\\himel.conda\\lib\\site-packages (from stack-data->ipython>=4.0.0->ipywidgets>=7.5.1->pandas_visual_analysis) (2.0.5)\n",
      "Requirement already satisfied: pure-eval in g:\\himel.conda\\lib\\site-packages (from stack-data->ipython>=4.0.0->ipywidgets>=7.5.1->pandas_visual_analysis) (0.2.2)\n",
      "Requirement already satisfied: pywinpty>=1.1.0 in g:\\himel.conda\\lib\\site-packages (from terminado>=0.8.3->notebook>=4.4.1->widgetsnbextension~=3.5.0->ipywidgets>=7.5.1->pandas_visual_analysis) (2.0.2)\n",
      "Requirement already satisfied: argon2-cffi-bindings in g:\\himel.conda\\lib\\site-packages (from argon2-cffi->notebook>=4.4.1->widgetsnbextension~=3.5.0->ipywidgets>=7.5.1->pandas_visual_analysis) (21.2.0)\n",
      "Requirement already satisfied: MarkupSafe>=2.0 in c:\\users\\himel\\appdata\\roaming\\python\\python39\\site-packages (from jinja2->notebook>=4.4.1->widgetsnbextension~=3.5.0->ipywidgets>=7.5.1->pandas_visual_analysis) (2.1.3)\n",
      "Requirement already satisfied: mistune<2,>=0.8.1 in g:\\himel.conda\\lib\\site-packages (from nbconvert->notebook>=4.4.1->widgetsnbextension~=3.5.0->ipywidgets>=7.5.1->pandas_visual_analysis) (0.8.4)\n",
      "Requirement already satisfied: jupyterlab-pygments in g:\\himel.conda\\lib\\site-packages (from nbconvert->notebook>=4.4.1->widgetsnbextension~=3.5.0->ipywidgets>=7.5.1->pandas_visual_analysis) (0.1.2)\n",
      "Requirement already satisfied: entrypoints>=0.2.2 in g:\\himel.conda\\lib\\site-packages (from nbconvert->notebook>=4.4.1->widgetsnbextension~=3.5.0->ipywidgets>=7.5.1->pandas_visual_analysis) (0.4)\n",
      "Requirement already satisfied: bleach in g:\\himel.conda\\lib\\site-packages (from nbconvert->notebook>=4.4.1->widgetsnbextension~=3.5.0->ipywidgets>=7.5.1->pandas_visual_analysis) (4.1.0)\n",
      "Requirement already satisfied: pandocfilters>=1.4.1 in g:\\himel.conda\\lib\\site-packages (from nbconvert->notebook>=4.4.1->widgetsnbextension~=3.5.0->ipywidgets>=7.5.1->pandas_visual_analysis) (1.5.0)\n",
      "Requirement already satisfied: testpath in g:\\himel.conda\\lib\\site-packages (from nbconvert->notebook>=4.4.1->widgetsnbextension~=3.5.0->ipywidgets>=7.5.1->pandas_visual_analysis) (0.5.0)\n",
      "Requirement already satisfied: defusedxml in g:\\himel.conda\\lib\\site-packages (from nbconvert->notebook>=4.4.1->widgetsnbextension~=3.5.0->ipywidgets>=7.5.1->pandas_visual_analysis) (0.7.1)\n",
      "Requirement already satisfied: beautifulsoup4 in g:\\himel.conda\\lib\\site-packages (from nbconvert->notebook>=4.4.1->widgetsnbextension~=3.5.0->ipywidgets>=7.5.1->pandas_visual_analysis) (4.11.1)\n",
      "Requirement already satisfied: nbclient<0.6.0,>=0.5.0 in g:\\himel.conda\\lib\\site-packages (from nbconvert->notebook>=4.4.1->widgetsnbextension~=3.5.0->ipywidgets>=7.5.1->pandas_visual_analysis) (0.5.13)\n",
      "Requirement already satisfied: cffi>=1.0.1 in g:\\himel.conda\\lib\\site-packages (from argon2-cffi-bindings->argon2-cffi->notebook>=4.4.1->widgetsnbextension~=3.5.0->ipywidgets>=7.5.1->pandas_visual_analysis) (1.15.0)\n",
      "Requirement already satisfied: soupsieve>1.2 in g:\\himel.conda\\lib\\site-packages (from beautifulsoup4->nbconvert->notebook>=4.4.1->widgetsnbextension~=3.5.0->ipywidgets>=7.5.1->pandas_visual_analysis) (2.3.1)\n",
      "Requirement already satisfied: packaging in g:\\himel.conda\\lib\\site-packages (from bleach->nbconvert->notebook>=4.4.1->widgetsnbextension~=3.5.0->ipywidgets>=7.5.1->pandas_visual_analysis) (21.3)\n",
      "Requirement already satisfied: webencodings in g:\\himel.conda\\lib\\site-packages (from bleach->nbconvert->notebook>=4.4.1->widgetsnbextension~=3.5.0->ipywidgets>=7.5.1->pandas_visual_analysis) (0.5.1)\n",
      "Requirement already satisfied: pycparser in g:\\himel.conda\\lib\\site-packages (from cffi>=1.0.1->argon2-cffi-bindings->argon2-cffi->notebook>=4.4.1->widgetsnbextension~=3.5.0->ipywidgets>=7.5.1->pandas_visual_analysis) (2.21)\n",
      "Requirement already satisfied: pyparsing!=3.0.5,>=2.0.2 in g:\\himel.conda\\lib\\site-packages (from packaging->bleach->nbconvert->notebook>=4.4.1->widgetsnbextension~=3.5.0->ipywidgets>=7.5.1->pandas_visual_analysis) (3.0.4)\n",
      "Downloading blinker-1.6.3-py3-none-any.whl (13 kB)\n",
      "Installing collected packages: blinker, pandas_visual_analysis\n",
      "Successfully installed blinker-1.6.3 pandas_visual_analysis-0.0.4\n"
     ]
    }
   ],
   "source": [
    "!pip install pandas_visual_analysis"
   ]
  },
  {
   "cell_type": "code",
   "execution_count": 14,
   "id": "950c8ecc",
   "metadata": {},
   "outputs": [
    {
     "data": {
      "application/vnd.jupyter.widget-view+json": {
       "model_id": "e7a1128e51644c17bd79ccc16128cea3",
       "version_major": 2,
       "version_minor": 0
      },
      "text/plain": [
       "Button(description='Toggle Pandas/Lux', layout=Layout(top='5px', width='140px'), style=ButtonStyle())"
      ]
     },
     "metadata": {},
     "output_type": "display_data"
    },
    {
     "data": {
      "application/vnd.jupyter.widget-view+json": {
       "model_id": "72e7f480d71d4563b2cc9cc510617791",
       "version_major": 2,
       "version_minor": 0
      },
      "text/plain": [
       "Output()"
      ]
     },
     "metadata": {},
     "output_type": "display_data"
    }
   ],
   "source": [
    "import pandas as pd\n",
    "df3 = pd.read_csv('titanic.csv')\n",
    "df3"
   ]
  },
  {
   "cell_type": "code",
   "execution_count": 15,
   "id": "340945fa",
   "metadata": {},
   "outputs": [
    {
     "data": {
      "application/vnd.jupyter.widget-view+json": {
       "model_id": "5c00be8f1861452198be0f6440fad254",
       "version_major": 2,
       "version_minor": 0
      },
      "text/plain": [
       "VBox(children=(ToggleButtons(_dom_classes=('layout-80669410c96e47f7bb5df42e0a5cb680',), description='Selection…"
      ]
     },
     "metadata": {},
     "output_type": "display_data"
    }
   ],
   "source": [
    "from pandas_visual_analysis import VisualAnalysis\n",
    "VisualAnalysis(df3)"
   ]
  },
  {
   "cell_type": "markdown",
   "id": "0455e7e7",
   "metadata": {},
   "source": [
    "# Okey great !!\n",
    "here i am using multiple method but my personal favourite is 'dtale'"
   ]
  },
  {
   "cell_type": "code",
   "execution_count": null,
   "id": "652276cf",
   "metadata": {},
   "outputs": [],
   "source": []
  }
 ],
 "metadata": {
  "kernelspec": {
   "display_name": "Python 3 (ipykernel)",
   "language": "python",
   "name": "python3"
  },
  "language_info": {
   "codemirror_mode": {
    "name": "ipython",
    "version": 3
   },
   "file_extension": ".py",
   "mimetype": "text/x-python",
   "name": "python",
   "nbconvert_exporter": "python",
   "pygments_lexer": "ipython3",
   "version": "3.9.12"
  }
 },
 "nbformat": 4,
 "nbformat_minor": 5
}
