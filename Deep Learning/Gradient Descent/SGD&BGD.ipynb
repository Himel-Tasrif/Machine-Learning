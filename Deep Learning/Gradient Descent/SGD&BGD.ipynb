{
 "cells": [
  {
   "cell_type": "code",
   "execution_count": 63,
   "id": "f900a1b1-ecdc-498d-868e-71d35bbeef6e",
   "metadata": {},
   "outputs": [],
   "source": [
    "import pandas as pd\n",
    "import numpy as np \n",
    "import matplotlib.pyplot as plt\n",
    "import tensorflow as tf\n",
    "from tensorflow import keras\n",
    "%matplotlib inline"
   ]
  },
  {
   "cell_type": "code",
   "execution_count": 64,
   "id": "93f50fcf-010b-4fb5-b8b4-7608ed0e8f25",
   "metadata": {},
   "outputs": [
    {
     "data": {
      "text/html": [
       "<div>\n",
       "<style scoped>\n",
       "    .dataframe tbody tr th:only-of-type {\n",
       "        vertical-align: middle;\n",
       "    }\n",
       "\n",
       "    .dataframe tbody tr th {\n",
       "        vertical-align: top;\n",
       "    }\n",
       "\n",
       "    .dataframe thead th {\n",
       "        text-align: right;\n",
       "    }\n",
       "</style>\n",
       "<table border=\"1\" class=\"dataframe\">\n",
       "  <thead>\n",
       "    <tr style=\"text-align: right;\">\n",
       "      <th></th>\n",
       "      <th>area</th>\n",
       "      <th>bedrooms</th>\n",
       "      <th>price</th>\n",
       "    </tr>\n",
       "  </thead>\n",
       "  <tbody>\n",
       "    <tr>\n",
       "      <th>0</th>\n",
       "      <td>1056</td>\n",
       "      <td>2</td>\n",
       "      <td>39.07</td>\n",
       "    </tr>\n",
       "    <tr>\n",
       "      <th>1</th>\n",
       "      <td>2600</td>\n",
       "      <td>4</td>\n",
       "      <td>120.00</td>\n",
       "    </tr>\n",
       "    <tr>\n",
       "      <th>2</th>\n",
       "      <td>1440</td>\n",
       "      <td>3</td>\n",
       "      <td>62.00</td>\n",
       "    </tr>\n",
       "    <tr>\n",
       "      <th>3</th>\n",
       "      <td>1521</td>\n",
       "      <td>3</td>\n",
       "      <td>75.00</td>\n",
       "    </tr>\n",
       "    <tr>\n",
       "      <th>4</th>\n",
       "      <td>1200</td>\n",
       "      <td>2</td>\n",
       "      <td>51.00</td>\n",
       "    </tr>\n",
       "  </tbody>\n",
       "</table>\n",
       "</div>"
      ],
      "text/plain": [
       "   area  bedrooms   price\n",
       "0  1056         2   39.07\n",
       "1  2600         4  120.00\n",
       "2  1440         3   62.00\n",
       "3  1521         3   75.00\n",
       "4  1200         2   51.00"
      ]
     },
     "execution_count": 64,
     "metadata": {},
     "output_type": "execute_result"
    }
   ],
   "source": [
    "df = pd.read_csv('homeprices_banglore.csv')\n",
    "df.head()"
   ]
  },
  {
   "cell_type": "code",
   "execution_count": 65,
   "id": "31996297-4b09-449a-8fe2-d196e5894d8f",
   "metadata": {},
   "outputs": [],
   "source": [
    "from sklearn.preprocessing import MinMaxScaler"
   ]
  },
  {
   "cell_type": "code",
   "execution_count": 66,
   "id": "d2b9c587-5110-4ef1-befc-971a76cb5a15",
   "metadata": {},
   "outputs": [
    {
     "data": {
      "text/plain": [
       "0     39.07\n",
       "1    120.00\n",
       "2     62.00\n",
       "3     75.00\n",
       "4     51.00\n",
       "Name: price, dtype: float64"
      ]
     },
     "execution_count": 66,
     "metadata": {},
     "output_type": "execute_result"
    }
   ],
   "source": [
    "df.price[:5]"
   ]
  },
  {
   "cell_type": "code",
   "execution_count": 67,
   "id": "8184b944-fb43-462e-a029-82409ea0a889",
   "metadata": {},
   "outputs": [
    {
     "data": {
      "text/plain": [
       "20"
      ]
     },
     "execution_count": 67,
     "metadata": {},
     "output_type": "execute_result"
    }
   ],
   "source": [
    "df.shape[0]"
   ]
  },
  {
   "cell_type": "code",
   "execution_count": 68,
   "id": "0fa6221b-629b-480a-a5d5-a54c733129aa",
   "metadata": {},
   "outputs": [
    {
     "data": {
      "text/plain": [
       "array([[ 39.07],\n",
       "       [120.  ],\n",
       "       [ 62.  ],\n",
       "       [ 75.  ],\n",
       "       [ 51.  ],\n",
       "       [ 38.  ],\n",
       "       [135.  ],\n",
       "       [155.  ],\n",
       "       [ 50.  ],\n",
       "       [167.  ],\n",
       "       [ 82.  ],\n",
       "       [140.  ],\n",
       "       [ 38.  ],\n",
       "       [ 40.  ],\n",
       "       [101.  ],\n",
       "       [ 42.  ],\n",
       "       [ 48.  ],\n",
       "       [ 60.  ],\n",
       "       [102.  ],\n",
       "       [ 32.  ]])"
      ]
     },
     "execution_count": 68,
     "metadata": {},
     "output_type": "execute_result"
    }
   ],
   "source": [
    "df.price.values.reshape(len(df.price),1)"
   ]
  },
  {
   "cell_type": "code",
   "execution_count": 69,
   "id": "91412213-b5f7-438e-96ef-75238ce01ec7",
   "metadata": {},
   "outputs": [
    {
     "data": {
      "text/plain": [
       "array([[ 39.07],\n",
       "       [120.  ],\n",
       "       [ 62.  ],\n",
       "       [ 75.  ],\n",
       "       [ 51.  ],\n",
       "       [ 38.  ],\n",
       "       [135.  ],\n",
       "       [155.  ],\n",
       "       [ 50.  ],\n",
       "       [167.  ],\n",
       "       [ 82.  ],\n",
       "       [140.  ],\n",
       "       [ 38.  ],\n",
       "       [ 40.  ],\n",
       "       [101.  ],\n",
       "       [ 42.  ],\n",
       "       [ 48.  ],\n",
       "       [ 60.  ],\n",
       "       [102.  ],\n",
       "       [ 32.  ]])"
      ]
     },
     "execution_count": 69,
     "metadata": {},
     "output_type": "execute_result"
    }
   ],
   "source": [
    "# df.price.values.reshape(-1,1)\n",
    "# df.price.values.reshape(len(df.price),1)\n",
    "# df.price.values.reshape(20,1)\n",
    "df.price.values.reshape(df.shape[0],1)"
   ]
  },
  {
   "cell_type": "code",
   "execution_count": 70,
   "id": "dcef99b8-0680-4592-8124-f2022e125515",
   "metadata": {},
   "outputs": [],
   "source": [
    "mm_x = MinMaxScaler()\n",
    "mm_y = MinMaxScaler()\n",
    "\n",
    "x_scaled = mm_x.fit_transform(df.drop('price', axis = 'columns'))\n",
    "y_scaled = mm_y.fit_transform(df.price.values.reshape(df.shape[0],1))"
   ]
  },
  {
   "cell_type": "code",
   "execution_count": 71,
   "id": "cda6e09d-ff5e-4b6a-9c88-af286ee0672c",
   "metadata": {},
   "outputs": [
    {
     "data": {
      "text/plain": [
       "array([[0.08827586, 0.25      ],\n",
       "       [0.62068966, 0.75      ],\n",
       "       [0.22068966, 0.5       ],\n",
       "       [0.24862069, 0.5       ],\n",
       "       [0.13793103, 0.25      ]])"
      ]
     },
     "execution_count": 71,
     "metadata": {},
     "output_type": "execute_result"
    }
   ],
   "source": [
    "x_scaled[:5]"
   ]
  },
  {
   "cell_type": "code",
   "execution_count": 72,
   "id": "0a220048-53c1-4c17-b03a-a43207caf2e9",
   "metadata": {},
   "outputs": [
    {
     "data": {
      "text/plain": [
       "array([[0.05237037],\n",
       "       [0.65185185],\n",
       "       [0.22222222],\n",
       "       [0.31851852],\n",
       "       [0.14074074]])"
      ]
     },
     "execution_count": 72,
     "metadata": {},
     "output_type": "execute_result"
    }
   ],
   "source": [
    "y_scaled[:5]"
   ]
  },
  {
   "cell_type": "code",
   "execution_count": 73,
   "id": "06b71142-c5ac-4952-927b-9e81a5a34405",
   "metadata": {},
   "outputs": [],
   "source": [
    "q = np.ones(shape=(2))"
   ]
  },
  {
   "cell_type": "code",
   "execution_count": 74,
   "id": "fd777c80-4b2f-42ff-b68e-160cde229a1f",
   "metadata": {},
   "outputs": [
    {
     "data": {
      "text/plain": [
       "array([[0.08827586, 0.62068966, 0.22068966, 0.24862069, 0.13793103,\n",
       "        0.12758621, 0.6662069 , 0.86206897, 0.17586207, 1.        ,\n",
       "        0.34482759, 0.68448276, 0.06896552, 0.10344828, 0.5       ,\n",
       "        0.12931034, 0.13103448, 0.25517241, 0.67931034, 0.        ],\n",
       "       [0.25      , 0.75      , 0.5       , 0.5       , 0.25      ,\n",
       "        0.25      , 0.75      , 0.75      , 0.5       , 1.        ,\n",
       "        0.5       , 0.75      , 0.25      , 0.25      , 0.5       ,\n",
       "        0.25      , 0.5       , 0.5       , 0.5       , 0.        ]])"
      ]
     },
     "execution_count": 74,
     "metadata": {},
     "output_type": "execute_result"
    }
   ],
   "source": [
    "x_scaled.T"
   ]
  },
  {
   "cell_type": "code",
   "execution_count": 75,
   "id": "db96fefb-a090-4192-abd7-8e96d8097524",
   "metadata": {},
   "outputs": [
    {
     "data": {
      "text/plain": [
       "array([0.33827586, 1.37068966, 0.72068966, 0.74862069, 0.38793103,\n",
       "       0.37758621, 1.4162069 , 1.61206897, 0.67586207, 2.        ,\n",
       "       0.84482759, 1.43448276, 0.31896552, 0.35344828, 1.        ,\n",
       "       0.37931034, 0.63103448, 0.75517241, 1.17931034, 0.        ])"
      ]
     },
     "execution_count": 75,
     "metadata": {},
     "output_type": "execute_result"
    }
   ],
   "source": [
    "np.dot(q, x_scaled.T)"
   ]
  },
  {
   "cell_type": "code",
   "execution_count": 76,
   "id": "e7dfe0d8-d589-4b80-9602-8907ff3120fc",
   "metadata": {},
   "outputs": [
    {
     "data": {
      "text/plain": [
       "3"
      ]
     },
     "execution_count": 76,
     "metadata": {},
     "output_type": "execute_result"
    }
   ],
   "source": [
    "df.shape[1]"
   ]
  },
  {
   "cell_type": "code",
   "execution_count": 77,
   "id": "bf3deb5d-b360-4fd7-936c-b37dabde8857",
   "metadata": {},
   "outputs": [
    {
     "data": {
      "text/plain": [
       "array([[0.08827586, 0.25      ],\n",
       "       [0.62068966, 0.75      ],\n",
       "       [0.22068966, 0.5       ],\n",
       "       [0.24862069, 0.5       ],\n",
       "       [0.13793103, 0.25      ]])"
      ]
     },
     "execution_count": 77,
     "metadata": {},
     "output_type": "execute_result"
    }
   ],
   "source": [
    "x_scaled[:5]"
   ]
  },
  {
   "cell_type": "code",
   "execution_count": null,
   "id": "0f94d652-6e52-412a-b93c-0d75e47e8e48",
   "metadata": {},
   "outputs": [],
   "source": []
  },
  {
   "cell_type": "markdown",
   "id": "ab21a8e1-d89d-4a42-9874-cbddc0ed0c92",
   "metadata": {},
   "source": [
    "## Batch Gradient Descent"
   ]
  },
  {
   "cell_type": "code",
   "execution_count": 78,
   "id": "2f77ad11-2969-4fe7-b926-463d7f43411b",
   "metadata": {},
   "outputs": [],
   "source": [
    "def batch_gradient_descent(x, y_true, epochs, learning_rate = 0.1):\n",
    "\n",
    "    number_of_features = x.shape[1]\n",
    "    w = np.ones(shape=(number_of_features))\n",
    "    bias = 0\n",
    "    total_sample = x.shape[0]\n",
    "\n",
    "\n",
    "    cost_list = []\n",
    "    epoch_list = []\n",
    "    for i in range(epochs):\n",
    "        y_predicted = np.dot(w, x.T) + bias #w1*area + w2*bedrooms\n",
    "\n",
    "        w_grad = -(2/total_sample)*(x.T.dot(y_true-y_predicted))\n",
    "        b_grad = -(2/total_sample)*np.sum(y_true-y_predicted)\n",
    "\n",
    "        w = w - learning_rate * w_grad\n",
    "        bias = bias - learning_rate * b_grad\n",
    "\n",
    "        cost = np.mean(np.square(y_true-y_predicted))\n",
    "\n",
    "        if i%10 == 0:\n",
    "            cost_list.append(cost)\n",
    "            epoch_list.append(i)\n",
    "\n",
    "    return w,bias,cost, cost_list, epoch_list"
   ]
  },
  {
   "cell_type": "code",
   "execution_count": 79,
   "id": "9754cf97-749a-4386-89fa-62cf59d6ad9d",
   "metadata": {},
   "outputs": [
    {
     "data": {
      "text/plain": [
       "array([[0.08827586, 0.25      ],\n",
       "       [0.62068966, 0.75      ],\n",
       "       [0.22068966, 0.5       ],\n",
       "       [0.24862069, 0.5       ],\n",
       "       [0.13793103, 0.25      ],\n",
       "       [0.12758621, 0.25      ],\n",
       "       [0.6662069 , 0.75      ],\n",
       "       [0.86206897, 0.75      ],\n",
       "       [0.17586207, 0.5       ],\n",
       "       [1.        , 1.        ],\n",
       "       [0.34482759, 0.5       ],\n",
       "       [0.68448276, 0.75      ],\n",
       "       [0.06896552, 0.25      ],\n",
       "       [0.10344828, 0.25      ],\n",
       "       [0.5       , 0.5       ],\n",
       "       [0.12931034, 0.25      ],\n",
       "       [0.13103448, 0.5       ],\n",
       "       [0.25517241, 0.5       ],\n",
       "       [0.67931034, 0.5       ],\n",
       "       [0.        , 0.        ]])"
      ]
     },
     "execution_count": 79,
     "metadata": {},
     "output_type": "execute_result"
    }
   ],
   "source": [
    "x_scaled"
   ]
  },
  {
   "cell_type": "code",
   "execution_count": 80,
   "id": "a626b73e-a487-4e6c-b5a0-5c4cd0cceb72",
   "metadata": {},
   "outputs": [
    {
     "data": {
      "text/plain": [
       "(20, 1)"
      ]
     },
     "execution_count": 80,
     "metadata": {},
     "output_type": "execute_result"
    }
   ],
   "source": [
    "y_scaled.shape"
   ]
  },
  {
   "cell_type": "code",
   "execution_count": 81,
   "id": "c6188543-fbad-492c-8737-1e2f920beec1",
   "metadata": {},
   "outputs": [
    {
     "data": {
      "text/plain": [
       "array([0.05237037, 0.65185185, 0.22222222, 0.31851852, 0.14074074,\n",
       "       0.04444444, 0.76296296, 0.91111111, 0.13333333, 1.        ,\n",
       "       0.37037037, 0.8       , 0.04444444, 0.05925926, 0.51111111,\n",
       "       0.07407407, 0.11851852, 0.20740741, 0.51851852, 0.        ])"
      ]
     },
     "execution_count": 81,
     "metadata": {},
     "output_type": "execute_result"
    }
   ],
   "source": [
    "y_scaled.reshape(y_scaled.shape[0],)"
   ]
  },
  {
   "cell_type": "code",
   "execution_count": 82,
   "id": "254377b9-2271-4252-b24f-af9e20aeabe3",
   "metadata": {},
   "outputs": [],
   "source": [
    "w,bias,cost, cost_list, epoch_list = batch_gradient_descent(x_scaled, y_scaled.reshape(y_scaled.shape[0],), 500)"
   ]
  },
  {
   "cell_type": "code",
   "execution_count": 83,
   "id": "47682574-c7e4-4700-ac64-7f5920efc27e",
   "metadata": {},
   "outputs": [
    {
     "data": {
      "text/plain": [
       "-0.11682769564715854"
      ]
     },
     "execution_count": 83,
     "metadata": {},
     "output_type": "execute_result"
    }
   ],
   "source": [
    "bias"
   ]
  },
  {
   "cell_type": "code",
   "execution_count": 84,
   "id": "6614054c-8e45-4221-91c3-b26724027974",
   "metadata": {},
   "outputs": [
    {
     "data": {
      "text/plain": [
       "array([0.75550442, 0.41573953])"
      ]
     },
     "execution_count": 84,
     "metadata": {},
     "output_type": "execute_result"
    }
   ],
   "source": [
    "w"
   ]
  },
  {
   "cell_type": "code",
   "execution_count": 85,
   "id": "417034dc-b709-4c58-8663-f16d3ba10f9a",
   "metadata": {},
   "outputs": [
    {
     "data": {
      "text/plain": [
       "0.0034268126227234427"
      ]
     },
     "execution_count": 85,
     "metadata": {},
     "output_type": "execute_result"
    }
   ],
   "source": [
    "cost"
   ]
  },
  {
   "cell_type": "code",
   "execution_count": 86,
   "id": "b55d2436-a642-4457-bef7-5132e9740b37",
   "metadata": {},
   "outputs": [
    {
     "data": {
      "text/plain": [
       "[0.2768777174681,\n",
       " 0.015142621848227952,\n",
       " 0.011521234789028046,\n",
       " 0.009330879304359014,\n",
       " 0.007840283515760608,\n",
       " 0.006820371823619059,\n",
       " 0.006117481579662426,\n",
       " 0.00562826367938331,\n",
       " 0.005283203883426208,\n",
       " 0.005035541760450724,\n",
       " 0.004853818836824448,\n",
       " 0.004716867331443864,\n",
       " 0.004610440146799713,\n",
       " 0.004524944579903571,\n",
       " 0.004453918268119953,\n",
       " 0.004393004276824817,\n",
       " 0.004339261852527164,\n",
       " 0.004290702906107087,\n",
       " 0.004245980296333711,\n",
       " 0.004204178196978447,\n",
       " 0.0041646711138110986,\n",
       " 0.004127029067815048,\n",
       " 0.004090953824696992,\n",
       " 0.004056236002768403,\n",
       " 0.0040227262214208555,\n",
       " 0.003990315691889016,\n",
       " 0.0039589231580051615,\n",
       " 0.003928486107418249,\n",
       " 0.003898954854822059,\n",
       " 0.003870288556747384,\n",
       " 0.0038424525254782916,\n",
       " 0.003815416416781356,\n",
       " 0.003789153005427738,\n",
       " 0.0037636373561593826,\n",
       " 0.003738846260743099,\n",
       " 0.0037147578541180054,\n",
       " 0.0036913513511295988,\n",
       " 0.003668606864501245,\n",
       " 0.003646505277577384,\n",
       " 0.0036250281540366252,\n",
       " 0.0036041576725994264,\n",
       " 0.0035838765786734375,\n",
       " 0.0035641681475146424,\n",
       " 0.0035450161552547065,\n",
       " 0.0035264048553367198,\n",
       " 0.0035083189587032278,\n",
       " 0.0034907436166195147,\n",
       " 0.0034736644053778394,\n",
       " 0.003457067312372303,\n",
       " 0.003440938723198123]"
      ]
     },
     "execution_count": 86,
     "metadata": {},
     "output_type": "execute_result"
    }
   ],
   "source": [
    "cost_list"
   ]
  },
  {
   "cell_type": "code",
   "execution_count": 87,
   "id": "097d3001-6274-4df8-bc71-7f6d7d8e28ff",
   "metadata": {},
   "outputs": [
    {
     "data": {
      "text/plain": [
       "[<matplotlib.lines.Line2D at 0x290edb74340>]"
      ]
     },
     "execution_count": 87,
     "metadata": {},
     "output_type": "execute_result"
    },
    {
     "data": {
      "image/png": "[encoded data removed]",
      "text/plain": [
       "<Figure size 640x480 with 1 Axes>"
      ]
     },
     "metadata": {},
     "output_type": "display_data"
    }
   ],
   "source": [
    "plt.xlabel(\"epoch\")\n",
    "plt.ylabel(\"cost\")\n",
    "plt.plot(epoch_list,cost_list)"
   ]
  },
  {
   "cell_type": "code",
   "execution_count": null,
   "id": "66659e49-147b-4f32-96c1-68c7b3a0e3e4",
   "metadata": {},
   "outputs": [],
   "source": []
  },
  {
   "cell_type": "code",
   "execution_count": 88,
   "id": "8bbc28df-60be-4f9b-b016-53b1d3115f56",
   "metadata": {},
   "outputs": [
    {
     "name": "stderr",
     "output_type": "stream",
     "text": [
      "C:\\Users\\Himel\\.conda\\envs\\my_env\\lib\\site-packages\\sklearn\\base.py:465: UserWarning: X does not have valid feature names, but MinMaxScaler was fitted with feature names\n",
      "  warnings.warn(\n"
     ]
    },
    {
     "data": {
      "text/plain": [
       "array([[0.62068966, 0.75      ]])"
      ]
     },
     "execution_count": 88,
     "metadata": {},
     "output_type": "execute_result"
    }
   ],
   "source": [
    "mm_x.transform([[2600, 4]])"
   ]
  },
  {
   "cell_type": "code",
   "execution_count": 90,
   "id": "9f34f577-37f4-406b-9791-7826b246cd81",
   "metadata": {},
   "outputs": [
    {
     "name": "stderr",
     "output_type": "stream",
     "text": [
      "C:\\Users\\Himel\\.conda\\envs\\my_env\\lib\\site-packages\\sklearn\\base.py:465: UserWarning: X does not have valid feature names, but MinMaxScaler was fitted with feature names\n",
      "  warnings.warn(\n"
     ]
    },
    {
     "data": {
      "text/plain": [
       "121.6279485426776"
      ]
     },
     "execution_count": 90,
     "metadata": {},
     "output_type": "execute_result"
    }
   ],
   "source": [
    "def predict(area,bedrooms,w,b):\n",
    "    scaled_X = mm_x.transform([[area, bedrooms]])[0] # 2D array and i wanw to get 1D\n",
    "    # here w1 = w[0] , w2 = w[1], w3 = w[2] and bias is b\n",
    "    # equation for price is w1*area + w2*bedrooms + w3*age + bias\n",
    "    # scaled_X[0] is area\n",
    "    # scaled_X[1] is bedrooms\n",
    "    scaled_price = w[0] * scaled_X[0] + w[1] * scaled_X[1] + b\n",
    "    # once we get price prediction we need to to rescal it back to original value\n",
    "    # also since it returns 2D array, to get single value we need to do value[0][0]\n",
    "    predict_price = mm_y.inverse_transform([[scaled_price]])[0][0]\n",
    "    return predict_price\n",
    "\n",
    "predict(2600,4,w,bias)"
   ]
  },
  {
   "cell_type": "code",
   "execution_count": 93,
   "id": "c5fb05b7-e4ee-4a6a-a77f-44ef3b93d6a7",
   "metadata": {},
   "outputs": [
    {
     "data": {
      "text/html": [
       "<div>\n",
       "<style scoped>\n",
       "    .dataframe tbody tr th:only-of-type {\n",
       "        vertical-align: middle;\n",
       "    }\n",
       "\n",
       "    .dataframe tbody tr th {\n",
       "        vertical-align: top;\n",
       "    }\n",
       "\n",
       "    .dataframe thead th {\n",
       "        text-align: right;\n",
       "    }\n",
       "</style>\n",
       "<table border=\"1\" class=\"dataframe\">\n",
       "  <thead>\n",
       "    <tr style=\"text-align: right;\">\n",
       "      <th></th>\n",
       "      <th>area</th>\n",
       "      <th>bedrooms</th>\n",
       "      <th>price</th>\n",
       "    </tr>\n",
       "  </thead>\n",
       "  <tbody>\n",
       "    <tr>\n",
       "      <th>0</th>\n",
       "      <td>1056</td>\n",
       "      <td>2</td>\n",
       "      <td>39.07</td>\n",
       "    </tr>\n",
       "    <tr>\n",
       "      <th>1</th>\n",
       "      <td>2600</td>\n",
       "      <td>4</td>\n",
       "      <td>120.00</td>\n",
       "    </tr>\n",
       "    <tr>\n",
       "      <th>2</th>\n",
       "      <td>1440</td>\n",
       "      <td>3</td>\n",
       "      <td>62.00</td>\n",
       "    </tr>\n",
       "    <tr>\n",
       "      <th>3</th>\n",
       "      <td>1521</td>\n",
       "      <td>3</td>\n",
       "      <td>75.00</td>\n",
       "    </tr>\n",
       "    <tr>\n",
       "      <th>4</th>\n",
       "      <td>1200</td>\n",
       "      <td>2</td>\n",
       "      <td>51.00</td>\n",
       "    </tr>\n",
       "  </tbody>\n",
       "</table>\n",
       "</div>"
      ],
      "text/plain": [
       "   area  bedrooms   price\n",
       "0  1056         2   39.07\n",
       "1  2600         4  120.00\n",
       "2  1440         3   62.00\n",
       "3  1521         3   75.00\n",
       "4  1200         2   51.00"
      ]
     },
     "execution_count": 93,
     "metadata": {},
     "output_type": "execute_result"
    }
   ],
   "source": [
    "df.head()"
   ]
  },
  {
   "cell_type": "code",
   "execution_count": 94,
   "id": "b8772231-9d50-4286-891d-c2457d3fa54c",
   "metadata": {},
   "outputs": [
    {
     "name": "stderr",
     "output_type": "stream",
     "text": [
      "C:\\Users\\Himel\\.conda\\envs\\my_env\\lib\\site-packages\\sklearn\\base.py:465: UserWarning: X does not have valid feature names, but MinMaxScaler was fitted with feature names\n",
      "  warnings.warn(\n"
     ]
    },
    {
     "data": {
      "text/plain": [
       "44.32748360770947"
      ]
     },
     "execution_count": 94,
     "metadata": {},
     "output_type": "execute_result"
    }
   ],
   "source": [
    "predict(1200,2,w,bias)"
   ]
  },
  {
   "cell_type": "code",
   "execution_count": 95,
   "id": "0d74f508-f6aa-40ae-ad60-cc52f02cff71",
   "metadata": {},
   "outputs": [
    {
     "name": "stderr",
     "output_type": "stream",
     "text": [
      "C:\\Users\\Himel\\.conda\\envs\\my_env\\lib\\site-packages\\sklearn\\base.py:465: UserWarning: X does not have valid feature names, but MinMaxScaler was fitted with feature names\n",
      "  warnings.warn(\n"
     ]
    },
    {
     "data": {
      "text/plain": [
       "39.26299883295353"
      ]
     },
     "execution_count": 95,
     "metadata": {},
     "output_type": "execute_result"
    }
   ],
   "source": [
    "predict(1056,2,w,bias)"
   ]
  },
  {
   "cell_type": "code",
   "execution_count": null,
   "id": "ee38bb97-baeb-4373-97ee-e45ca2590395",
   "metadata": {},
   "outputs": [],
   "source": []
  },
  {
   "cell_type": "markdown",
   "id": "b3bb38a0-ba95-4b41-95d0-0960299b5d3d",
   "metadata": {},
   "source": [
    "## Stochastic Gradient Descent"
   ]
  },
  {
   "cell_type": "code",
   "execution_count": 108,
   "id": "a5b37127-651a-407d-bf13-9d8bddb888a9",
   "metadata": {},
   "outputs": [
    {
     "data": {
      "text/plain": [
       "3"
      ]
     },
     "execution_count": 108,
     "metadata": {},
     "output_type": "execute_result"
    }
   ],
   "source": [
    "import random\n",
    "random.randint(0,6)"
   ]
  },
  {
   "cell_type": "code",
   "execution_count": 110,
   "id": "a1c2c881-5e2d-45dc-80fd-5c9cf3beae54",
   "metadata": {},
   "outputs": [],
   "source": [
    "def stochastic_gradient_descent(x, y_true, epochs, learning_rate = 0.1):\n",
    "    number_of_feature = x.shape[1]\n",
    "    bias = 0\n",
    "    w = np.ones(shape=(number_of_feature))\n",
    "    total_sample = x.shape[0]\n",
    "\n",
    "    cost_list = []\n",
    "    epoch_list = []\n",
    "\n",
    "    for i in range(epochs):\n",
    "        random_index = random.randint(0, (total_sample -1))\n",
    "        sample_x = x[random_index]\n",
    "        sample_y = y_true[random_index]\n",
    "\n",
    "        y_predicted = np.dot(w, sample_x.T) + bias\n",
    "\n",
    "        w_gred = -(2/total_sample)*sample_x.T.dot(sample_y - y_predicted)\n",
    "        b_gred = -(2/total_sample)*np.sum(sample_y - y_predicted)\n",
    "\n",
    "        w = w - learning_rate*w_gred\n",
    "        bias = bias - learning_rate*b_gred\n",
    "\n",
    "        cost = np.mean(np.square(sample_y - y_predicted))\n",
    "\n",
    "        if i%100 == 0:\n",
    "            cost_list.append(cost)\n",
    "            epoch_list.append(i)\n",
    "\n",
    "    return w, bias, cost, cost_list, epoch_list"
   ]
  },
  {
   "cell_type": "code",
   "execution_count": 114,
   "id": "2d9866de-3355-4d96-b869-b34da63d93b6",
   "metadata": {},
   "outputs": [],
   "source": [
    "w_sgd, bias_sgd, cost_sgd, cost_list_sgd, epoch_list_sgd = stochastic_gradient_descent(x_scaled, y_scaled.reshape(y_scaled.shape[0],), 10000)"
   ]
  },
  {
   "cell_type": "code",
   "execution_count": 115,
   "id": "093f7db3-ab5e-4c04-898d-6fde4463181b",
   "metadata": {},
   "outputs": [
    {
     "data": {
      "text/plain": [
       "array([0.76026178, 0.41722999])"
      ]
     },
     "execution_count": 115,
     "metadata": {},
     "output_type": "execute_result"
    }
   ],
   "source": [
    "w_sgd"
   ]
  },
  {
   "cell_type": "code",
   "execution_count": 116,
   "id": "6a98c880-fb8c-420c-a287-c4591f6d878e",
   "metadata": {},
   "outputs": [
    {
     "data": {
      "text/plain": [
       "-0.11596136796139364"
      ]
     },
     "execution_count": 116,
     "metadata": {},
     "output_type": "execute_result"
    }
   ],
   "source": [
    "bias_sgd"
   ]
  },
  {
   "cell_type": "code",
   "execution_count": 117,
   "id": "812249df-c8cb-40a9-9e79-319736d72a10",
   "metadata": {},
   "outputs": [
    {
     "data": {
      "text/plain": [
       "0.008879011016462383"
      ]
     },
     "execution_count": 117,
     "metadata": {},
     "output_type": "execute_result"
    }
   ],
   "source": [
    "cost_sgd"
   ]
  },
  {
   "cell_type": "code",
   "execution_count": 118,
   "id": "f4f2753c-5fc7-448c-8156-717ff4483867",
   "metadata": {},
   "outputs": [
    {
     "data": {
      "text/plain": [
       "[<matplotlib.lines.Line2D at 0x290eb809c00>]"
      ]
     },
     "execution_count": 118,
     "metadata": {},
     "output_type": "execute_result"
    },
    {
     "data": {
      "image/png": "[encoded data removed]",
      "text/plain": [
       "<Figure size 640x480 with 1 Axes>"
      ]
     },
     "metadata": {},
     "output_type": "display_data"
    }
   ],
   "source": [
    "plt.xlabel('epochs')\n",
    "plt.ylabel('cost')\n",
    "plt.plot(epoch_list_sgd, cost_list_sgd)"
   ]
  },
  {
   "cell_type": "code",
   "execution_count": 119,
   "id": "86cfeffe-9c2a-4124-a672-d7193a755565",
   "metadata": {},
   "outputs": [
    {
     "data": {
      "text/html": [
       "<div>\n",
       "<style scoped>\n",
       "    .dataframe tbody tr th:only-of-type {\n",
       "        vertical-align: middle;\n",
       "    }\n",
       "\n",
       "    .dataframe tbody tr th {\n",
       "        vertical-align: top;\n",
       "    }\n",
       "\n",
       "    .dataframe thead th {\n",
       "        text-align: right;\n",
       "    }\n",
       "</style>\n",
       "<table border=\"1\" class=\"dataframe\">\n",
       "  <thead>\n",
       "    <tr style=\"text-align: right;\">\n",
       "      <th></th>\n",
       "      <th>area</th>\n",
       "      <th>bedrooms</th>\n",
       "      <th>price</th>\n",
       "    </tr>\n",
       "  </thead>\n",
       "  <tbody>\n",
       "    <tr>\n",
       "      <th>0</th>\n",
       "      <td>1056</td>\n",
       "      <td>2</td>\n",
       "      <td>39.07</td>\n",
       "    </tr>\n",
       "    <tr>\n",
       "      <th>1</th>\n",
       "      <td>2600</td>\n",
       "      <td>4</td>\n",
       "      <td>120.00</td>\n",
       "    </tr>\n",
       "    <tr>\n",
       "      <th>2</th>\n",
       "      <td>1440</td>\n",
       "      <td>3</td>\n",
       "      <td>62.00</td>\n",
       "    </tr>\n",
       "    <tr>\n",
       "      <th>3</th>\n",
       "      <td>1521</td>\n",
       "      <td>3</td>\n",
       "      <td>75.00</td>\n",
       "    </tr>\n",
       "    <tr>\n",
       "      <th>4</th>\n",
       "      <td>1200</td>\n",
       "      <td>2</td>\n",
       "      <td>51.00</td>\n",
       "    </tr>\n",
       "  </tbody>\n",
       "</table>\n",
       "</div>"
      ],
      "text/plain": [
       "   area  bedrooms   price\n",
       "0  1056         2   39.07\n",
       "1  2600         4  120.00\n",
       "2  1440         3   62.00\n",
       "3  1521         3   75.00\n",
       "4  1200         2   51.00"
      ]
     },
     "execution_count": 119,
     "metadata": {},
     "output_type": "execute_result"
    }
   ],
   "source": [
    "df.head()"
   ]
  },
  {
   "cell_type": "code",
   "execution_count": 133,
   "id": "3dd75e7f-485c-486d-bc10-84c894e096ec",
   "metadata": {},
   "outputs": [
    {
     "name": "stderr",
     "output_type": "stream",
     "text": [
      "C:\\Users\\Himel\\.conda\\envs\\my_env\\lib\\site-packages\\sklearn\\base.py:465: UserWarning: X does not have valid feature names, but MinMaxScaler was fitted with feature names\n",
      "  warnings.warn(\n"
     ]
    },
    {
     "data": {
      "text/plain": [
       "array([0.08827586, 0.25      ])"
      ]
     },
     "execution_count": 133,
     "metadata": {},
     "output_type": "execute_result"
    }
   ],
   "source": [
    "mm_x.transform([[1056, 2]])[0]"
   ]
  },
  {
   "cell_type": "code",
   "execution_count": 121,
   "id": "e4ca1973-f65d-444f-91de-f9bd918533ac",
   "metadata": {},
   "outputs": [
    {
     "data": {
      "text/plain": [
       "array([[0.08827586, 0.25      ]])"
      ]
     },
     "execution_count": 121,
     "metadata": {},
     "output_type": "execute_result"
    }
   ],
   "source": [
    "x_scaled[:1]"
   ]
  },
  {
   "cell_type": "code",
   "execution_count": 136,
   "id": "7373fe12-4e0d-434d-9e43-827aa21f902a",
   "metadata": {},
   "outputs": [
    {
     "data": {
      "text/html": [
       "<div>\n",
       "<style scoped>\n",
       "    .dataframe tbody tr th:only-of-type {\n",
       "        vertical-align: middle;\n",
       "    }\n",
       "\n",
       "    .dataframe tbody tr th {\n",
       "        vertical-align: top;\n",
       "    }\n",
       "\n",
       "    .dataframe thead th {\n",
       "        text-align: right;\n",
       "    }\n",
       "</style>\n",
       "<table border=\"1\" class=\"dataframe\">\n",
       "  <thead>\n",
       "    <tr style=\"text-align: right;\">\n",
       "      <th></th>\n",
       "      <th>area</th>\n",
       "      <th>bedrooms</th>\n",
       "      <th>price</th>\n",
       "    </tr>\n",
       "  </thead>\n",
       "  <tbody>\n",
       "    <tr>\n",
       "      <th>0</th>\n",
       "      <td>1056</td>\n",
       "      <td>2</td>\n",
       "      <td>39.07</td>\n",
       "    </tr>\n",
       "    <tr>\n",
       "      <th>1</th>\n",
       "      <td>2600</td>\n",
       "      <td>4</td>\n",
       "      <td>120.00</td>\n",
       "    </tr>\n",
       "    <tr>\n",
       "      <th>2</th>\n",
       "      <td>1440</td>\n",
       "      <td>3</td>\n",
       "      <td>62.00</td>\n",
       "    </tr>\n",
       "    <tr>\n",
       "      <th>3</th>\n",
       "      <td>1521</td>\n",
       "      <td>3</td>\n",
       "      <td>75.00</td>\n",
       "    </tr>\n",
       "    <tr>\n",
       "      <th>4</th>\n",
       "      <td>1200</td>\n",
       "      <td>2</td>\n",
       "      <td>51.00</td>\n",
       "    </tr>\n",
       "  </tbody>\n",
       "</table>\n",
       "</div>"
      ],
      "text/plain": [
       "   area  bedrooms   price\n",
       "0  1056         2   39.07\n",
       "1  2600         4  120.00\n",
       "2  1440         3   62.00\n",
       "3  1521         3   75.00\n",
       "4  1200         2   51.00"
      ]
     },
     "execution_count": 136,
     "metadata": {},
     "output_type": "execute_result"
    }
   ],
   "source": [
    "df.head()"
   ]
  },
  {
   "cell_type": "code",
   "execution_count": 143,
   "id": "a9cc90cf-9e54-4d1d-a48f-301678c41f00",
   "metadata": {},
   "outputs": [],
   "source": [
    "def predict_sgd(area, bedrooms, w,b):\n",
    "    scaled_x = mm_x.transform([[area, bedrooms]])[0]\n",
    "    scaled_price = w[0]*scaled_x[0] + w[1]*scaled_x[1] + b\n",
    "    predicted_price = mm_y.inverse_transform([[scaled_price]])[0][0]\n",
    "    return predicted_price"
   ]
  },
  {
   "cell_type": "code",
   "execution_count": 144,
   "id": "27381209-7fcf-40cc-a4ce-bcadddd19eec",
   "metadata": {},
   "outputs": [
    {
     "name": "stderr",
     "output_type": "stream",
     "text": [
      "C:\\Users\\Himel\\.conda\\envs\\my_env\\lib\\site-packages\\sklearn\\base.py:465: UserWarning: X does not have valid feature names, but MinMaxScaler was fitted with feature names\n",
      "  warnings.warn(\n"
     ]
    },
    {
     "data": {
      "text/plain": [
       "39.48695077884579"
      ]
     },
     "execution_count": 144,
     "metadata": {},
     "output_type": "execute_result"
    }
   ],
   "source": [
    "predict_sgd(1056, 2, w_sgd, bias_sgd)"
   ]
  },
  {
   "cell_type": "code",
   "execution_count": null,
   "id": "418406cd-3b76-44b1-9e32-c7facb6d320c",
   "metadata": {},
   "outputs": [],
   "source": []
  },
  {
   "cell_type": "markdown",
   "id": "3b0c85e7-6bae-4e84-b4fe-7b89f0e0ec20",
   "metadata": {},
   "source": [
    "## Mini Batch Gradient Descent"
   ]
  },
  {
   "cell_type": "code",
   "execution_count": null,
   "id": "5108cc4a-f8ba-419f-a224-898cc7fbec9d",
   "metadata": {},
   "outputs": [],
   "source": []
  }
 ],
 "metadata": {
  "kernelspec": {
   "display_name": "Python 3 (ipykernel)",
   "language": "python",
   "name": "python3"
  },
  "language_info": {
   "codemirror_mode": {
    "name": "ipython",
    "version": 3
   },
   "file_extension": ".py",
   "mimetype": "text/x-python",
   "name": "python",
   "nbconvert_exporter": "python",
   "pygments_lexer": "ipython3",
   "version": "3.10.13"
  }
 },
 "nbformat": 4,
 "nbformat_minor": 5
}
