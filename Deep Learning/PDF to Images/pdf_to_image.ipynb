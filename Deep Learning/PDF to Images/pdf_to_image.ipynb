{
 "cells": [
  {
   "cell_type": "code",
   "execution_count": null,
   "id": "c28db726",
   "metadata": {},
   "outputs": [],
   "source": [
    "%pip install -U pypdfium2"
   ]
  },
  {
   "cell_type": "code",
   "execution_count": null,
   "id": "e362b9e0",
   "metadata": {},
   "outputs": [],
   "source": [
    "import pypdfium2 as pdfium\n",
    "import matplotlib.pyplot as plt\n",
    "from PIL import Image\n",
    "from io import BytesIO"
   ]
  },
  {
   "cell_type": "code",
   "execution_count": null,
   "id": "5bb8a934",
   "metadata": {},
   "outputs": [],
   "source": [
    "def convert_pdf_to_images(file_path, scale=300/72):\n",
    "    \n",
    "    pdf_file = pdfium.PdfDocument(file_path)  \n",
    "    page_indices = [i for i in range(len(pdf_file))]\n",
    "    \n",
    "    renderer = pdf_file.render(\n",
    "        pdfium.PdfBitmap.to_pil,\n",
    "        page_indices = page_indices, \n",
    "        scale = scale,\n",
    "    )\n",
    "    \n",
    "    list_final_images = [] \n",
    "    \n",
    "    for i, image in zip(page_indices, renderer):\n",
    "        \n",
    "        image_byte_array = BytesIO()\n",
    "        image.save(image_byte_array, format='jpeg', optimize=True)\n",
    "        image_byte_array = image_byte_array.getvalue()\n",
    "        list_final_images.append(dict({i:image_byte_array}))\n",
    "    \n",
    "    return list_final_images"
   ]
  },
  {
   "cell_type": "code",
   "execution_count": null,
   "id": "312c563e",
   "metadata": {},
   "outputs": [],
   "source": [
    "def display_images(list_dict_final_images):\n",
    "    \n",
    "    all_images = [list(data.values())[0] for data in list_dict_final_images]\n",
    "\n",
    "    for index, image_bytes in enumerate(all_images):\n",
    "\n",
    "        image = Image.open(BytesIO(image_bytes))\n",
    "        figure = plt.figure(figsize = (image.width / 100, image.height / 100))\n",
    "\n",
    "        plt.title(f\"----- Page Number {index+1} -----\")\n",
    "        plt.imshow(image)\n",
    "        plt.axis(\"off\")\n",
    "        plt.show()"
   ]
  },
  {
   "cell_type": "code",
   "execution_count": null,
   "id": "f7d727cf",
   "metadata": {},
   "outputs": [],
   "source": [
    "convert_pdf_to_images = convert_pdf_to_images('Your PDF file')"
   ]
  },
  {
   "cell_type": "code",
   "execution_count": null,
   "id": "44723496",
   "metadata": {},
   "outputs": [],
   "source": [
    "display_images(convert_pdf_to_images)"
   ]
  },
  {
   "cell_type": "code",
   "execution_count": null,
   "id": "24d04232",
   "metadata": {},
   "outputs": [],
   "source": []
  }
 ],
 "metadata": {
  "kernelspec": {
   "display_name": "Python 3 (ipykernel)",
   "language": "python",
   "name": "python3"
  },
  "language_info": {
   "codemirror_mode": {
    "name": "ipython",
    "version": 3
   },
   "file_extension": ".py",
   "mimetype": "text/x-python",
   "name": "python",
   "nbconvert_exporter": "python",
   "pygments_lexer": "ipython3",
   "version": "3.11.7"
  }
 },
 "nbformat": 4,
 "nbformat_minor": 5
}
