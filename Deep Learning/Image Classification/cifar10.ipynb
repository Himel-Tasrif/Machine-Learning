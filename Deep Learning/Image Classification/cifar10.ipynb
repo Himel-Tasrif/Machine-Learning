{
 "cells": [
  {
   "cell_type": "code",
   "execution_count": 1,
   "id": "46fe2f8a-d48a-4ae5-804c-a51b594dfc07",
   "metadata": {},
   "outputs": [
    {
     "name": "stdout",
     "output_type": "stream",
     "text": [
      "fuck you\n"
     ]
    }
   ],
   "source": [
    "print(\"fuck you\")"
   ]
  },
  {
   "cell_type": "code",
   "execution_count": 2,
   "id": "0aff476a-8330-4730-b7b2-94168738f68f",
   "metadata": {},
   "outputs": [
    {
     "name": "stdout",
     "output_type": "stream",
     "text": [
      "WARNING:tensorflow:From C:\\Users\\Himel\\.conda\\envs\\my_env\\lib\\site-packages\\keras\\src\\losses.py:2976: The name tf.losses.sparse_softmax_cross_entropy is deprecated. Please use tf.compat.v1.losses.sparse_softmax_cross_entropy instead.\n",
      "\n"
     ]
    }
   ],
   "source": [
    "import pandas as pd\n",
    "import numpy as np\n",
    "import tensorflow as tf\n",
    "from tensorflow import keras"
   ]
  },
  {
   "cell_type": "code",
   "execution_count": 3,
   "id": "9321d9f5-91db-4419-88f8-9b50525922c3",
   "metadata": {},
   "outputs": [
    {
     "name": "stdout",
     "output_type": "stream",
     "text": [
      "A local file was found, but it seems to be incomplete or outdated because the auto file hash does not match the original value of 6d958be074577803d12ecdefd02955f39262c83c16fe9348329d7fe0b5c001ce so we will re-download the data.\n",
      "Downloading data from https://www.cs.toronto.edu/~kriz/cifar-10-python.tar.gz\n"
     ]
    },
    {
     "ename": "Exception",
     "evalue": "URL fetch failure on https://www.cs.toronto.edu/~kriz/cifar-10-python.tar.gz: None -- [SSL: CERTIFICATE_VERIFY_FAILED] certificate verify failed: certificate has expired (_ssl.c:1007)",
     "output_type": "error",
     "traceback": [
      "\u001b[1;31m---------------------------------------------------------------------------\u001b[0m",
      "\u001b[1;31mSSLCertVerificationError\u001b[0m                  Traceback (most recent call last)",
      "File \u001b[1;32m~\\.conda\\envs\\my_env\\lib\\urllib\\request.py:1348\u001b[0m, in \u001b[0;36mAbstractHTTPHandler.do_open\u001b[1;34m(self, http_class, req, **http_conn_args)\u001b[0m\n\u001b[0;32m   1347\u001b[0m \u001b[38;5;28;01mtry\u001b[39;00m:\n\u001b[1;32m-> 1348\u001b[0m     \u001b[43mh\u001b[49m\u001b[38;5;241;43m.\u001b[39;49m\u001b[43mrequest\u001b[49m\u001b[43m(\u001b[49m\u001b[43mreq\u001b[49m\u001b[38;5;241;43m.\u001b[39;49m\u001b[43mget_method\u001b[49m\u001b[43m(\u001b[49m\u001b[43m)\u001b[49m\u001b[43m,\u001b[49m\u001b[43m \u001b[49m\u001b[43mreq\u001b[49m\u001b[38;5;241;43m.\u001b[39;49m\u001b[43mselector\u001b[49m\u001b[43m,\u001b[49m\u001b[43m \u001b[49m\u001b[43mreq\u001b[49m\u001b[38;5;241;43m.\u001b[39;49m\u001b[43mdata\u001b[49m\u001b[43m,\u001b[49m\u001b[43m \u001b[49m\u001b[43mheaders\u001b[49m\u001b[43m,\u001b[49m\n\u001b[0;32m   1349\u001b[0m \u001b[43m              \u001b[49m\u001b[43mencode_chunked\u001b[49m\u001b[38;5;241;43m=\u001b[39;49m\u001b[43mreq\u001b[49m\u001b[38;5;241;43m.\u001b[39;49m\u001b[43mhas_header\u001b[49m\u001b[43m(\u001b[49m\u001b[38;5;124;43m'\u001b[39;49m\u001b[38;5;124;43mTransfer-encoding\u001b[39;49m\u001b[38;5;124;43m'\u001b[39;49m\u001b[43m)\u001b[49m\u001b[43m)\u001b[49m\n\u001b[0;32m   1350\u001b[0m \u001b[38;5;28;01mexcept\u001b[39;00m \u001b[38;5;167;01mOSError\u001b[39;00m \u001b[38;5;28;01mas\u001b[39;00m err: \u001b[38;5;66;03m# timeout error\u001b[39;00m\n",
      "File \u001b[1;32m~\\.conda\\envs\\my_env\\lib\\http\\client.py:1283\u001b[0m, in \u001b[0;36mHTTPConnection.request\u001b[1;34m(self, method, url, body, headers, encode_chunked)\u001b[0m\n\u001b[0;32m   1282\u001b[0m \u001b[38;5;250m\u001b[39m\u001b[38;5;124;03m\"\"\"Send a complete request to the server.\"\"\"\u001b[39;00m\n\u001b[1;32m-> 1283\u001b[0m \u001b[38;5;28;43mself\u001b[39;49m\u001b[38;5;241;43m.\u001b[39;49m\u001b[43m_send_request\u001b[49m\u001b[43m(\u001b[49m\u001b[43mmethod\u001b[49m\u001b[43m,\u001b[49m\u001b[43m \u001b[49m\u001b[43murl\u001b[49m\u001b[43m,\u001b[49m\u001b[43m \u001b[49m\u001b[43mbody\u001b[49m\u001b[43m,\u001b[49m\u001b[43m \u001b[49m\u001b[43mheaders\u001b[49m\u001b[43m,\u001b[49m\u001b[43m \u001b[49m\u001b[43mencode_chunked\u001b[49m\u001b[43m)\u001b[49m\n",
      "File \u001b[1;32m~\\.conda\\envs\\my_env\\lib\\http\\client.py:1329\u001b[0m, in \u001b[0;36mHTTPConnection._send_request\u001b[1;34m(self, method, url, body, headers, encode_chunked)\u001b[0m\n\u001b[0;32m   1328\u001b[0m     body \u001b[38;5;241m=\u001b[39m _encode(body, \u001b[38;5;124m'\u001b[39m\u001b[38;5;124mbody\u001b[39m\u001b[38;5;124m'\u001b[39m)\n\u001b[1;32m-> 1329\u001b[0m \u001b[38;5;28;43mself\u001b[39;49m\u001b[38;5;241;43m.\u001b[39;49m\u001b[43mendheaders\u001b[49m\u001b[43m(\u001b[49m\u001b[43mbody\u001b[49m\u001b[43m,\u001b[49m\u001b[43m \u001b[49m\u001b[43mencode_chunked\u001b[49m\u001b[38;5;241;43m=\u001b[39;49m\u001b[43mencode_chunked\u001b[49m\u001b[43m)\u001b[49m\n",
      "File \u001b[1;32m~\\.conda\\envs\\my_env\\lib\\http\\client.py:1278\u001b[0m, in \u001b[0;36mHTTPConnection.endheaders\u001b[1;34m(self, message_body, encode_chunked)\u001b[0m\n\u001b[0;32m   1277\u001b[0m     \u001b[38;5;28;01mraise\u001b[39;00m CannotSendHeader()\n\u001b[1;32m-> 1278\u001b[0m \u001b[38;5;28;43mself\u001b[39;49m\u001b[38;5;241;43m.\u001b[39;49m\u001b[43m_send_output\u001b[49m\u001b[43m(\u001b[49m\u001b[43mmessage_body\u001b[49m\u001b[43m,\u001b[49m\u001b[43m \u001b[49m\u001b[43mencode_chunked\u001b[49m\u001b[38;5;241;43m=\u001b[39;49m\u001b[43mencode_chunked\u001b[49m\u001b[43m)\u001b[49m\n",
      "File \u001b[1;32m~\\.conda\\envs\\my_env\\lib\\http\\client.py:1038\u001b[0m, in \u001b[0;36mHTTPConnection._send_output\u001b[1;34m(self, message_body, encode_chunked)\u001b[0m\n\u001b[0;32m   1037\u001b[0m \u001b[38;5;28;01mdel\u001b[39;00m \u001b[38;5;28mself\u001b[39m\u001b[38;5;241m.\u001b[39m_buffer[:]\n\u001b[1;32m-> 1038\u001b[0m \u001b[38;5;28;43mself\u001b[39;49m\u001b[38;5;241;43m.\u001b[39;49m\u001b[43msend\u001b[49m\u001b[43m(\u001b[49m\u001b[43mmsg\u001b[49m\u001b[43m)\u001b[49m\n\u001b[0;32m   1040\u001b[0m \u001b[38;5;28;01mif\u001b[39;00m message_body \u001b[38;5;129;01mis\u001b[39;00m \u001b[38;5;129;01mnot\u001b[39;00m \u001b[38;5;28;01mNone\u001b[39;00m:\n\u001b[0;32m   1041\u001b[0m \n\u001b[0;32m   1042\u001b[0m     \u001b[38;5;66;03m# create a consistent interface to message_body\u001b[39;00m\n",
      "File \u001b[1;32m~\\.conda\\envs\\my_env\\lib\\http\\client.py:976\u001b[0m, in \u001b[0;36mHTTPConnection.send\u001b[1;34m(self, data)\u001b[0m\n\u001b[0;32m    975\u001b[0m \u001b[38;5;28;01mif\u001b[39;00m \u001b[38;5;28mself\u001b[39m\u001b[38;5;241m.\u001b[39mauto_open:\n\u001b[1;32m--> 976\u001b[0m     \u001b[38;5;28;43mself\u001b[39;49m\u001b[38;5;241;43m.\u001b[39;49m\u001b[43mconnect\u001b[49m\u001b[43m(\u001b[49m\u001b[43m)\u001b[49m\n\u001b[0;32m    977\u001b[0m \u001b[38;5;28;01melse\u001b[39;00m:\n",
      "File \u001b[1;32m~\\.conda\\envs\\my_env\\lib\\http\\client.py:1455\u001b[0m, in \u001b[0;36mHTTPSConnection.connect\u001b[1;34m(self)\u001b[0m\n\u001b[0;32m   1453\u001b[0m     server_hostname \u001b[38;5;241m=\u001b[39m \u001b[38;5;28mself\u001b[39m\u001b[38;5;241m.\u001b[39mhost\n\u001b[1;32m-> 1455\u001b[0m \u001b[38;5;28mself\u001b[39m\u001b[38;5;241m.\u001b[39msock \u001b[38;5;241m=\u001b[39m \u001b[38;5;28;43mself\u001b[39;49m\u001b[38;5;241;43m.\u001b[39;49m\u001b[43m_context\u001b[49m\u001b[38;5;241;43m.\u001b[39;49m\u001b[43mwrap_socket\u001b[49m\u001b[43m(\u001b[49m\u001b[38;5;28;43mself\u001b[39;49m\u001b[38;5;241;43m.\u001b[39;49m\u001b[43msock\u001b[49m\u001b[43m,\u001b[49m\n\u001b[0;32m   1456\u001b[0m \u001b[43m                                      \u001b[49m\u001b[43mserver_hostname\u001b[49m\u001b[38;5;241;43m=\u001b[39;49m\u001b[43mserver_hostname\u001b[49m\u001b[43m)\u001b[49m\n",
      "File \u001b[1;32m~\\.conda\\envs\\my_env\\lib\\ssl.py:513\u001b[0m, in \u001b[0;36mSSLContext.wrap_socket\u001b[1;34m(self, sock, server_side, do_handshake_on_connect, suppress_ragged_eofs, server_hostname, session)\u001b[0m\n\u001b[0;32m    507\u001b[0m \u001b[38;5;28;01mdef\u001b[39;00m \u001b[38;5;21mwrap_socket\u001b[39m(\u001b[38;5;28mself\u001b[39m, sock, server_side\u001b[38;5;241m=\u001b[39m\u001b[38;5;28;01mFalse\u001b[39;00m,\n\u001b[0;32m    508\u001b[0m                 do_handshake_on_connect\u001b[38;5;241m=\u001b[39m\u001b[38;5;28;01mTrue\u001b[39;00m,\n\u001b[0;32m    509\u001b[0m                 suppress_ragged_eofs\u001b[38;5;241m=\u001b[39m\u001b[38;5;28;01mTrue\u001b[39;00m,\n\u001b[0;32m    510\u001b[0m                 server_hostname\u001b[38;5;241m=\u001b[39m\u001b[38;5;28;01mNone\u001b[39;00m, session\u001b[38;5;241m=\u001b[39m\u001b[38;5;28;01mNone\u001b[39;00m):\n\u001b[0;32m    511\u001b[0m     \u001b[38;5;66;03m# SSLSocket class handles server_hostname encoding before it calls\u001b[39;00m\n\u001b[0;32m    512\u001b[0m     \u001b[38;5;66;03m# ctx._wrap_socket()\u001b[39;00m\n\u001b[1;32m--> 513\u001b[0m     \u001b[38;5;28;01mreturn\u001b[39;00m \u001b[38;5;28;43mself\u001b[39;49m\u001b[38;5;241;43m.\u001b[39;49m\u001b[43msslsocket_class\u001b[49m\u001b[38;5;241;43m.\u001b[39;49m\u001b[43m_create\u001b[49m\u001b[43m(\u001b[49m\n\u001b[0;32m    514\u001b[0m \u001b[43m        \u001b[49m\u001b[43msock\u001b[49m\u001b[38;5;241;43m=\u001b[39;49m\u001b[43msock\u001b[49m\u001b[43m,\u001b[49m\n\u001b[0;32m    515\u001b[0m \u001b[43m        \u001b[49m\u001b[43mserver_side\u001b[49m\u001b[38;5;241;43m=\u001b[39;49m\u001b[43mserver_side\u001b[49m\u001b[43m,\u001b[49m\n\u001b[0;32m    516\u001b[0m \u001b[43m        \u001b[49m\u001b[43mdo_handshake_on_connect\u001b[49m\u001b[38;5;241;43m=\u001b[39;49m\u001b[43mdo_handshake_on_connect\u001b[49m\u001b[43m,\u001b[49m\n\u001b[0;32m    517\u001b[0m \u001b[43m        \u001b[49m\u001b[43msuppress_ragged_eofs\u001b[49m\u001b[38;5;241;43m=\u001b[39;49m\u001b[43msuppress_ragged_eofs\u001b[49m\u001b[43m,\u001b[49m\n\u001b[0;32m    518\u001b[0m \u001b[43m        \u001b[49m\u001b[43mserver_hostname\u001b[49m\u001b[38;5;241;43m=\u001b[39;49m\u001b[43mserver_hostname\u001b[49m\u001b[43m,\u001b[49m\n\u001b[0;32m    519\u001b[0m \u001b[43m        \u001b[49m\u001b[43mcontext\u001b[49m\u001b[38;5;241;43m=\u001b[39;49m\u001b[38;5;28;43mself\u001b[39;49m\u001b[43m,\u001b[49m\n\u001b[0;32m    520\u001b[0m \u001b[43m        \u001b[49m\u001b[43msession\u001b[49m\u001b[38;5;241;43m=\u001b[39;49m\u001b[43msession\u001b[49m\n\u001b[0;32m    521\u001b[0m \u001b[43m    \u001b[49m\u001b[43m)\u001b[49m\n",
      "File \u001b[1;32m~\\.conda\\envs\\my_env\\lib\\ssl.py:1104\u001b[0m, in \u001b[0;36mSSLSocket._create\u001b[1;34m(cls, sock, server_side, do_handshake_on_connect, suppress_ragged_eofs, server_hostname, context, session)\u001b[0m\n\u001b[0;32m   1103\u001b[0m             \u001b[38;5;28;01mraise\u001b[39;00m \u001b[38;5;167;01mValueError\u001b[39;00m(\u001b[38;5;124m\"\u001b[39m\u001b[38;5;124mdo_handshake_on_connect should not be specified for non-blocking sockets\u001b[39m\u001b[38;5;124m\"\u001b[39m)\n\u001b[1;32m-> 1104\u001b[0m         \u001b[38;5;28;43mself\u001b[39;49m\u001b[38;5;241;43m.\u001b[39;49m\u001b[43mdo_handshake\u001b[49m\u001b[43m(\u001b[49m\u001b[43m)\u001b[49m\n\u001b[0;32m   1105\u001b[0m \u001b[38;5;28;01mexcept\u001b[39;00m (\u001b[38;5;167;01mOSError\u001b[39;00m, \u001b[38;5;167;01mValueError\u001b[39;00m):\n",
      "File \u001b[1;32m~\\.conda\\envs\\my_env\\lib\\ssl.py:1375\u001b[0m, in \u001b[0;36mSSLSocket.do_handshake\u001b[1;34m(self, block)\u001b[0m\n\u001b[0;32m   1374\u001b[0m         \u001b[38;5;28mself\u001b[39m\u001b[38;5;241m.\u001b[39msettimeout(\u001b[38;5;28;01mNone\u001b[39;00m)\n\u001b[1;32m-> 1375\u001b[0m     \u001b[38;5;28;43mself\u001b[39;49m\u001b[38;5;241;43m.\u001b[39;49m\u001b[43m_sslobj\u001b[49m\u001b[38;5;241;43m.\u001b[39;49m\u001b[43mdo_handshake\u001b[49m\u001b[43m(\u001b[49m\u001b[43m)\u001b[49m\n\u001b[0;32m   1376\u001b[0m \u001b[38;5;28;01mfinally\u001b[39;00m:\n",
      "\u001b[1;31mSSLCertVerificationError\u001b[0m: [SSL: CERTIFICATE_VERIFY_FAILED] certificate verify failed: certificate has expired (_ssl.c:1007)",
      "\nDuring handling of the above exception, another exception occurred:\n",
      "\u001b[1;31mURLError\u001b[0m                                  Traceback (most recent call last)",
      "File \u001b[1;32m~\\.conda\\envs\\my_env\\lib\\site-packages\\keras\\src\\utils\\data_utils.py:347\u001b[0m, in \u001b[0;36mget_file\u001b[1;34m(fname, origin, untar, md5_hash, file_hash, cache_subdir, hash_algorithm, extract, archive_format, cache_dir)\u001b[0m\n\u001b[0;32m    346\u001b[0m \u001b[38;5;28;01mtry\u001b[39;00m:\n\u001b[1;32m--> 347\u001b[0m     \u001b[43murlretrieve\u001b[49m\u001b[43m(\u001b[49m\u001b[43morigin\u001b[49m\u001b[43m,\u001b[49m\u001b[43m \u001b[49m\u001b[43mfpath\u001b[49m\u001b[43m,\u001b[49m\u001b[43m \u001b[49m\u001b[43mDLProgbar\u001b[49m\u001b[43m(\u001b[49m\u001b[43m)\u001b[49m\u001b[43m)\u001b[49m\n\u001b[0;32m    348\u001b[0m \u001b[38;5;28;01mexcept\u001b[39;00m urllib\u001b[38;5;241m.\u001b[39merror\u001b[38;5;241m.\u001b[39mHTTPError \u001b[38;5;28;01mas\u001b[39;00m e:\n",
      "File \u001b[1;32m~\\.conda\\envs\\my_env\\lib\\site-packages\\keras\\src\\utils\\data_utils.py:85\u001b[0m, in \u001b[0;36murlretrieve\u001b[1;34m(url, filename, reporthook, data)\u001b[0m\n\u001b[0;32m     83\u001b[0m             \u001b[38;5;28;01mbreak\u001b[39;00m\n\u001b[1;32m---> 85\u001b[0m response \u001b[38;5;241m=\u001b[39m \u001b[43murlopen\u001b[49m\u001b[43m(\u001b[49m\u001b[43murl\u001b[49m\u001b[43m,\u001b[49m\u001b[43m \u001b[49m\u001b[43mdata\u001b[49m\u001b[43m)\u001b[49m\n\u001b[0;32m     86\u001b[0m \u001b[38;5;28;01mwith\u001b[39;00m \u001b[38;5;28mopen\u001b[39m(filename, \u001b[38;5;124m\"\u001b[39m\u001b[38;5;124mwb\u001b[39m\u001b[38;5;124m\"\u001b[39m) \u001b[38;5;28;01mas\u001b[39;00m fd:\n",
      "File \u001b[1;32m~\\.conda\\envs\\my_env\\lib\\urllib\\request.py:216\u001b[0m, in \u001b[0;36murlopen\u001b[1;34m(url, data, timeout, cafile, capath, cadefault, context)\u001b[0m\n\u001b[0;32m    215\u001b[0m     opener \u001b[38;5;241m=\u001b[39m _opener\n\u001b[1;32m--> 216\u001b[0m \u001b[38;5;28;01mreturn\u001b[39;00m \u001b[43mopener\u001b[49m\u001b[38;5;241;43m.\u001b[39;49m\u001b[43mopen\u001b[49m\u001b[43m(\u001b[49m\u001b[43murl\u001b[49m\u001b[43m,\u001b[49m\u001b[43m \u001b[49m\u001b[43mdata\u001b[49m\u001b[43m,\u001b[49m\u001b[43m \u001b[49m\u001b[43mtimeout\u001b[49m\u001b[43m)\u001b[49m\n",
      "File \u001b[1;32m~\\.conda\\envs\\my_env\\lib\\urllib\\request.py:519\u001b[0m, in \u001b[0;36mOpenerDirector.open\u001b[1;34m(self, fullurl, data, timeout)\u001b[0m\n\u001b[0;32m    518\u001b[0m sys\u001b[38;5;241m.\u001b[39maudit(\u001b[38;5;124m'\u001b[39m\u001b[38;5;124murllib.Request\u001b[39m\u001b[38;5;124m'\u001b[39m, req\u001b[38;5;241m.\u001b[39mfull_url, req\u001b[38;5;241m.\u001b[39mdata, req\u001b[38;5;241m.\u001b[39mheaders, req\u001b[38;5;241m.\u001b[39mget_method())\n\u001b[1;32m--> 519\u001b[0m response \u001b[38;5;241m=\u001b[39m \u001b[38;5;28;43mself\u001b[39;49m\u001b[38;5;241;43m.\u001b[39;49m\u001b[43m_open\u001b[49m\u001b[43m(\u001b[49m\u001b[43mreq\u001b[49m\u001b[43m,\u001b[49m\u001b[43m \u001b[49m\u001b[43mdata\u001b[49m\u001b[43m)\u001b[49m\n\u001b[0;32m    521\u001b[0m \u001b[38;5;66;03m# post-process response\u001b[39;00m\n",
      "File \u001b[1;32m~\\.conda\\envs\\my_env\\lib\\urllib\\request.py:536\u001b[0m, in \u001b[0;36mOpenerDirector._open\u001b[1;34m(self, req, data)\u001b[0m\n\u001b[0;32m    535\u001b[0m protocol \u001b[38;5;241m=\u001b[39m req\u001b[38;5;241m.\u001b[39mtype\n\u001b[1;32m--> 536\u001b[0m result \u001b[38;5;241m=\u001b[39m \u001b[38;5;28;43mself\u001b[39;49m\u001b[38;5;241;43m.\u001b[39;49m\u001b[43m_call_chain\u001b[49m\u001b[43m(\u001b[49m\u001b[38;5;28;43mself\u001b[39;49m\u001b[38;5;241;43m.\u001b[39;49m\u001b[43mhandle_open\u001b[49m\u001b[43m,\u001b[49m\u001b[43m \u001b[49m\u001b[43mprotocol\u001b[49m\u001b[43m,\u001b[49m\u001b[43m \u001b[49m\u001b[43mprotocol\u001b[49m\u001b[43m \u001b[49m\u001b[38;5;241;43m+\u001b[39;49m\n\u001b[0;32m    537\u001b[0m \u001b[43m                          \u001b[49m\u001b[38;5;124;43m'\u001b[39;49m\u001b[38;5;124;43m_open\u001b[39;49m\u001b[38;5;124;43m'\u001b[39;49m\u001b[43m,\u001b[49m\u001b[43m \u001b[49m\u001b[43mreq\u001b[49m\u001b[43m)\u001b[49m\n\u001b[0;32m    538\u001b[0m \u001b[38;5;28;01mif\u001b[39;00m result:\n",
      "File \u001b[1;32m~\\.conda\\envs\\my_env\\lib\\urllib\\request.py:496\u001b[0m, in \u001b[0;36mOpenerDirector._call_chain\u001b[1;34m(self, chain, kind, meth_name, *args)\u001b[0m\n\u001b[0;32m    495\u001b[0m func \u001b[38;5;241m=\u001b[39m \u001b[38;5;28mgetattr\u001b[39m(handler, meth_name)\n\u001b[1;32m--> 496\u001b[0m result \u001b[38;5;241m=\u001b[39m \u001b[43mfunc\u001b[49m\u001b[43m(\u001b[49m\u001b[38;5;241;43m*\u001b[39;49m\u001b[43margs\u001b[49m\u001b[43m)\u001b[49m\n\u001b[0;32m    497\u001b[0m \u001b[38;5;28;01mif\u001b[39;00m result \u001b[38;5;129;01mis\u001b[39;00m \u001b[38;5;129;01mnot\u001b[39;00m \u001b[38;5;28;01mNone\u001b[39;00m:\n",
      "File \u001b[1;32m~\\.conda\\envs\\my_env\\lib\\urllib\\request.py:1391\u001b[0m, in \u001b[0;36mHTTPSHandler.https_open\u001b[1;34m(self, req)\u001b[0m\n\u001b[0;32m   1390\u001b[0m \u001b[38;5;28;01mdef\u001b[39;00m \u001b[38;5;21mhttps_open\u001b[39m(\u001b[38;5;28mself\u001b[39m, req):\n\u001b[1;32m-> 1391\u001b[0m     \u001b[38;5;28;01mreturn\u001b[39;00m \u001b[38;5;28;43mself\u001b[39;49m\u001b[38;5;241;43m.\u001b[39;49m\u001b[43mdo_open\u001b[49m\u001b[43m(\u001b[49m\u001b[43mhttp\u001b[49m\u001b[38;5;241;43m.\u001b[39;49m\u001b[43mclient\u001b[49m\u001b[38;5;241;43m.\u001b[39;49m\u001b[43mHTTPSConnection\u001b[49m\u001b[43m,\u001b[49m\u001b[43m \u001b[49m\u001b[43mreq\u001b[49m\u001b[43m,\u001b[49m\n\u001b[0;32m   1392\u001b[0m \u001b[43m        \u001b[49m\u001b[43mcontext\u001b[49m\u001b[38;5;241;43m=\u001b[39;49m\u001b[38;5;28;43mself\u001b[39;49m\u001b[38;5;241;43m.\u001b[39;49m\u001b[43m_context\u001b[49m\u001b[43m,\u001b[49m\u001b[43m \u001b[49m\u001b[43mcheck_hostname\u001b[49m\u001b[38;5;241;43m=\u001b[39;49m\u001b[38;5;28;43mself\u001b[39;49m\u001b[38;5;241;43m.\u001b[39;49m\u001b[43m_check_hostname\u001b[49m\u001b[43m)\u001b[49m\n",
      "File \u001b[1;32m~\\.conda\\envs\\my_env\\lib\\urllib\\request.py:1351\u001b[0m, in \u001b[0;36mAbstractHTTPHandler.do_open\u001b[1;34m(self, http_class, req, **http_conn_args)\u001b[0m\n\u001b[0;32m   1350\u001b[0m \u001b[38;5;28;01mexcept\u001b[39;00m \u001b[38;5;167;01mOSError\u001b[39;00m \u001b[38;5;28;01mas\u001b[39;00m err: \u001b[38;5;66;03m# timeout error\u001b[39;00m\n\u001b[1;32m-> 1351\u001b[0m     \u001b[38;5;28;01mraise\u001b[39;00m URLError(err)\n\u001b[0;32m   1352\u001b[0m r \u001b[38;5;241m=\u001b[39m h\u001b[38;5;241m.\u001b[39mgetresponse()\n",
      "\u001b[1;31mURLError\u001b[0m: <urlopen error [SSL: CERTIFICATE_VERIFY_FAILED] certificate verify failed: certificate has expired (_ssl.c:1007)>",
      "\nDuring handling of the above exception, another exception occurred:\n",
      "\u001b[1;31mException\u001b[0m                                 Traceback (most recent call last)",
      "Cell \u001b[1;32mIn[3], line 1\u001b[0m\n\u001b[1;32m----> 1\u001b[0m (x_train, y_train), (x_test, y_test) \u001b[38;5;241m=\u001b[39m \u001b[43mkeras\u001b[49m\u001b[38;5;241;43m.\u001b[39;49m\u001b[43mdatasets\u001b[49m\u001b[38;5;241;43m.\u001b[39;49m\u001b[43mcifar10\u001b[49m\u001b[38;5;241;43m.\u001b[39;49m\u001b[43mload_data\u001b[49m\u001b[43m(\u001b[49m\u001b[43m)\u001b[49m\n",
      "File \u001b[1;32m~\\.conda\\envs\\my_env\\lib\\site-packages\\keras\\src\\datasets\\cifar10.py:81\u001b[0m, in \u001b[0;36mload_data\u001b[1;34m()\u001b[0m\n\u001b[0;32m     79\u001b[0m dirname \u001b[38;5;241m=\u001b[39m \u001b[38;5;124m\"\u001b[39m\u001b[38;5;124mcifar-10-batches-py\u001b[39m\u001b[38;5;124m\"\u001b[39m\n\u001b[0;32m     80\u001b[0m origin \u001b[38;5;241m=\u001b[39m \u001b[38;5;124m\"\u001b[39m\u001b[38;5;124mhttps://www.cs.toronto.edu/~kriz/cifar-10-python.tar.gz\u001b[39m\u001b[38;5;124m\"\u001b[39m\n\u001b[1;32m---> 81\u001b[0m path \u001b[38;5;241m=\u001b[39m \u001b[43mget_file\u001b[49m\u001b[43m(\u001b[49m\n\u001b[0;32m     82\u001b[0m \u001b[43m    \u001b[49m\u001b[43mdirname\u001b[49m\u001b[43m,\u001b[49m\n\u001b[0;32m     83\u001b[0m \u001b[43m    \u001b[49m\u001b[43morigin\u001b[49m\u001b[38;5;241;43m=\u001b[39;49m\u001b[43morigin\u001b[49m\u001b[43m,\u001b[49m\n\u001b[0;32m     84\u001b[0m \u001b[43m    \u001b[49m\u001b[43muntar\u001b[49m\u001b[38;5;241;43m=\u001b[39;49m\u001b[38;5;28;43;01mTrue\u001b[39;49;00m\u001b[43m,\u001b[49m\n\u001b[0;32m     85\u001b[0m \u001b[43m    \u001b[49m\u001b[43mfile_hash\u001b[49m\u001b[38;5;241;43m=\u001b[39;49m\u001b[43m(\u001b[49m\u001b[43m  \u001b[49m\u001b[38;5;66;43;03m# noqa: E501\u001b[39;49;00m\n\u001b[0;32m     86\u001b[0m \u001b[43m        \u001b[49m\u001b[38;5;124;43m\"\u001b[39;49m\u001b[38;5;124;43m6d958be074577803d12ecdefd02955f39262c83c16fe9348329d7fe0b5c001ce\u001b[39;49m\u001b[38;5;124;43m\"\u001b[39;49m\n\u001b[0;32m     87\u001b[0m \u001b[43m    \u001b[49m\u001b[43m)\u001b[49m\u001b[43m,\u001b[49m\n\u001b[0;32m     88\u001b[0m \u001b[43m\u001b[49m\u001b[43m)\u001b[49m\n\u001b[0;32m     90\u001b[0m num_train_samples \u001b[38;5;241m=\u001b[39m \u001b[38;5;241m50000\u001b[39m\n\u001b[0;32m     92\u001b[0m x_train \u001b[38;5;241m=\u001b[39m np\u001b[38;5;241m.\u001b[39mempty((num_train_samples, \u001b[38;5;241m3\u001b[39m, \u001b[38;5;241m32\u001b[39m, \u001b[38;5;241m32\u001b[39m), dtype\u001b[38;5;241m=\u001b[39m\u001b[38;5;124m\"\u001b[39m\u001b[38;5;124muint8\u001b[39m\u001b[38;5;124m\"\u001b[39m)\n",
      "File \u001b[1;32m~\\.conda\\envs\\my_env\\lib\\site-packages\\keras\\src\\utils\\data_utils.py:351\u001b[0m, in \u001b[0;36mget_file\u001b[1;34m(fname, origin, untar, md5_hash, file_hash, cache_subdir, hash_algorithm, extract, archive_format, cache_dir)\u001b[0m\n\u001b[0;32m    349\u001b[0m         \u001b[38;5;28;01mraise\u001b[39;00m \u001b[38;5;167;01mException\u001b[39;00m(error_msg\u001b[38;5;241m.\u001b[39mformat(origin, e\u001b[38;5;241m.\u001b[39mcode, e\u001b[38;5;241m.\u001b[39mmsg))\n\u001b[0;32m    350\u001b[0m     \u001b[38;5;28;01mexcept\u001b[39;00m urllib\u001b[38;5;241m.\u001b[39merror\u001b[38;5;241m.\u001b[39mURLError \u001b[38;5;28;01mas\u001b[39;00m e:\n\u001b[1;32m--> 351\u001b[0m         \u001b[38;5;28;01mraise\u001b[39;00m \u001b[38;5;167;01mException\u001b[39;00m(error_msg\u001b[38;5;241m.\u001b[39mformat(origin, e\u001b[38;5;241m.\u001b[39merrno, e\u001b[38;5;241m.\u001b[39mreason))\n\u001b[0;32m    352\u001b[0m \u001b[38;5;28;01mexcept\u001b[39;00m (\u001b[38;5;167;01mException\u001b[39;00m, \u001b[38;5;167;01mKeyboardInterrupt\u001b[39;00m):\n\u001b[0;32m    353\u001b[0m     \u001b[38;5;28;01mif\u001b[39;00m os\u001b[38;5;241m.\u001b[39mpath\u001b[38;5;241m.\u001b[39mexists(fpath):\n",
      "\u001b[1;31mException\u001b[0m: URL fetch failure on https://www.cs.toronto.edu/~kriz/cifar-10-python.tar.gz: None -- [SSL: CERTIFICATE_VERIFY_FAILED] certificate verify failed: certificate has expired (_ssl.c:1007)"
     ]
    }
   ],
   "source": [
    "(x_train, y_train), (x_test, y_test) = keras.datasets.cifar10.load_data()"
   ]
  },
  {
   "cell_type": "code",
   "execution_count": 4,
   "id": "edec1b75-da04-4007-b4ae-26168bc261b0",
   "metadata": {},
   "outputs": [
    {
     "name": "stdout",
     "output_type": "stream",
     "text": [
      "Downloading data from https://www.cs.toronto.edu/~kriz/cifar-10-python.tar.gz\n",
      "170498071/170498071 [==============================] - 457s 3us/step\n"
     ]
    }
   ],
   "source": [
    "import ssl\n",
    "\n",
    "\n",
    "ssl._create_default_https_context = ssl._create_unverified_context\n",
    "\n",
    "\n",
    "(x_train, y_train), (x_test, y_test) = keras.datasets.cifar10.load_data()\n"
   ]
  },
  {
   "cell_type": "code",
   "execution_count": 5,
   "id": "81b528a6-44fe-45d2-9d88-6bbb19ea919f",
   "metadata": {},
   "outputs": [
    {
     "data": {
      "text/plain": [
       "(50000, 32, 32, 3)"
      ]
     },
     "execution_count": 5,
     "metadata": {},
     "output_type": "execute_result"
    }
   ],
   "source": [
    "x_train.shape"
   ]
  },
  {
   "cell_type": "code",
   "execution_count": 7,
   "id": "07be8a48-bae0-4d44-90ff-3461afe2c8cc",
   "metadata": {},
   "outputs": [],
   "source": [
    "import matplotlib.pyplot as plt\n",
    "%matplotlib inline"
   ]
  },
  {
   "cell_type": "code",
   "execution_count": 9,
   "id": "9a558449-b761-4550-9c6d-ca6d11b10c63",
   "metadata": {},
   "outputs": [
    {
     "data": {
      "text/plain": [
       "<matplotlib.image.AxesImage at 0x2a3baeb6350>"
      ]
     },
     "execution_count": 9,
     "metadata": {},
     "output_type": "execute_result"
    },
    {
     "data": {
      "image/png": "[encoded data removed]",
      "text/plain": [
       "<Figure size 640x480 with 1 Axes>"
      ]
     },
     "metadata": {},
     "output_type": "display_data"
    }
   ],
   "source": [
    "plt.imshow(x_train[0])"
   ]
  },
  {
   "cell_type": "code",
   "execution_count": 18,
   "id": "123c216d-ae67-44df-ad6e-e3418b6e235e",
   "metadata": {},
   "outputs": [],
   "source": [
    "def sample(i):\n",
    "    plt.figure(figsize=(12,1.5))\n",
    "    plt.imshow(x_train[i])"
   ]
  },
  {
   "cell_type": "code",
   "execution_count": 19,
   "id": "313e9f71-6620-471d-80fe-0ab634cc0fc4",
   "metadata": {},
   "outputs": [
    {
     "data": {
      "image/png": "[encoded data removed]",
      "text/plain": [
       "<Figure size 1200x150 with 1 Axes>"
      ]
     },
     "metadata": {},
     "output_type": "display_data"
    }
   ],
   "source": [
    "sample(1)"
   ]
  },
  {
   "cell_type": "code",
   "execution_count": 20,
   "id": "984288e2-6be4-48d3-b2bf-df07f3bcab52",
   "metadata": {},
   "outputs": [
    {
     "data": {
      "image/png": "[encoded data removed]",
      "text/plain": [
       "<Figure size 1200x150 with 1 Axes>"
      ]
     },
     "metadata": {},
     "output_type": "display_data"
    }
   ],
   "source": [
    "sample(0)"
   ]
  },
  {
   "cell_type": "code",
   "execution_count": 23,
   "id": "3fa6b0e9-f19b-4cca-8de7-1cc8229a49a9",
   "metadata": {},
   "outputs": [
    {
     "data": {
      "image/png": "[encoded data removed]",
      "text/plain": [
       "<Figure size 1200x150 with 1 Axes>"
      ]
     },
     "metadata": {},
     "output_type": "display_data"
    }
   ],
   "source": [
    "sample(3)"
   ]
  },
  {
   "cell_type": "code",
   "execution_count": 31,
   "id": "ee051445-4c02-4aeb-b28b-75b7fb0ec101",
   "metadata": {},
   "outputs": [
    {
     "data": {
      "text/plain": [
       "array([4], dtype=uint8)"
      ]
     },
     "execution_count": 31,
     "metadata": {},
     "output_type": "execute_result"
    }
   ],
   "source": [
    "y_train[3]"
   ]
  },
  {
   "cell_type": "code",
   "execution_count": 32,
   "id": "72c1037e-e34c-40b2-b5e3-ec37144c2f9d",
   "metadata": {},
   "outputs": [
    {
     "data": {
      "text/plain": [
       "4"
      ]
     },
     "execution_count": 32,
     "metadata": {},
     "output_type": "execute_result"
    }
   ],
   "source": [
    "y_train[3][0]"
   ]
  },
  {
   "cell_type": "code",
   "execution_count": 25,
   "id": "e5f55894-1dd1-446a-9ef5-9f656cf05254",
   "metadata": {},
   "outputs": [],
   "source": [
    "classes = [\"airplane\",\"automobile\",\"bird\",\"cat\",\"deer\",\"dog\",\"frog\",\"horse\",\"ship\",\"truck\"]"
   ]
  },
  {
   "cell_type": "code",
   "execution_count": 33,
   "id": "f1c17417-ecd9-457d-b9ff-940f63e24e8b",
   "metadata": {},
   "outputs": [
    {
     "data": {
      "text/plain": [
       "'deer'"
      ]
     },
     "execution_count": 33,
     "metadata": {},
     "output_type": "execute_result"
    }
   ],
   "source": [
    "classes[y_train[3][0]]"
   ]
  },
  {
   "cell_type": "code",
   "execution_count": 36,
   "id": "05ebebe2-fa9f-4001-bc4e-8a80eee2f5a8",
   "metadata": {},
   "outputs": [
    {
     "data": {
      "text/plain": [
       "6"
      ]
     },
     "execution_count": 36,
     "metadata": {},
     "output_type": "execute_result"
    }
   ],
   "source": [
    "y_train[0][0]"
   ]
  },
  {
   "cell_type": "code",
   "execution_count": 35,
   "id": "60ba55b5-e226-4b6a-b0d6-3c31a3e860e5",
   "metadata": {},
   "outputs": [
    {
     "data": {
      "text/plain": [
       "'frog'"
      ]
     },
     "execution_count": 35,
     "metadata": {},
     "output_type": "execute_result"
    }
   ],
   "source": [
    "classes[y_train[0][0]]"
   ]
  },
  {
   "cell_type": "code",
   "execution_count": 37,
   "id": "59572de0-c98b-454e-b83d-72f006f9bef5",
   "metadata": {},
   "outputs": [
    {
     "data": {
      "text/plain": [
       "(50000, 32, 32, 3)"
      ]
     },
     "execution_count": 37,
     "metadata": {},
     "output_type": "execute_result"
    }
   ],
   "source": [
    "x_train.shape"
   ]
  },
  {
   "cell_type": "code",
   "execution_count": 38,
   "id": "f580415b-17ab-4733-8a3c-f832bcba85f8",
   "metadata": {},
   "outputs": [
    {
     "data": {
      "text/plain": [
       "array([[[ 59,  62,  63],\n",
       "        [ 43,  46,  45],\n",
       "        [ 50,  48,  43],\n",
       "        ...,\n",
       "        [158, 132, 108],\n",
       "        [152, 125, 102],\n",
       "        [148, 124, 103]],\n",
       "\n",
       "       [[ 16,  20,  20],\n",
       "        [  0,   0,   0],\n",
       "        [ 18,   8,   0],\n",
       "        ...,\n",
       "        [123,  88,  55],\n",
       "        [119,  83,  50],\n",
       "        [122,  87,  57]],\n",
       "\n",
       "       [[ 25,  24,  21],\n",
       "        [ 16,   7,   0],\n",
       "        [ 49,  27,   8],\n",
       "        ...,\n",
       "        [118,  84,  50],\n",
       "        [120,  84,  50],\n",
       "        [109,  73,  42]],\n",
       "\n",
       "       ...,\n",
       "\n",
       "       [[208, 170,  96],\n",
       "        [201, 153,  34],\n",
       "        [198, 161,  26],\n",
       "        ...,\n",
       "        [160, 133,  70],\n",
       "        [ 56,  31,   7],\n",
       "        [ 53,  34,  20]],\n",
       "\n",
       "       [[180, 139,  96],\n",
       "        [173, 123,  42],\n",
       "        [186, 144,  30],\n",
       "        ...,\n",
       "        [184, 148,  94],\n",
       "        [ 97,  62,  34],\n",
       "        [ 83,  53,  34]],\n",
       "\n",
       "       [[177, 144, 116],\n",
       "        [168, 129,  94],\n",
       "        [179, 142,  87],\n",
       "        ...,\n",
       "        [216, 184, 140],\n",
       "        [151, 118,  84],\n",
       "        [123,  92,  72]]], dtype=uint8)"
      ]
     },
     "execution_count": 38,
     "metadata": {},
     "output_type": "execute_result"
    }
   ],
   "source": [
    "x_train[0]"
   ]
  },
  {
   "cell_type": "code",
   "execution_count": 39,
   "id": "e3360dec-3bde-4611-ab8f-d5f4133af3f4",
   "metadata": {},
   "outputs": [],
   "source": [
    "x_train = x_train / 255\n",
    "x_test = x_test / 255"
   ]
  },
  {
   "cell_type": "code",
   "execution_count": 40,
   "id": "61fa21ce-a9ab-4dc4-8c03-25f19cae7fa5",
   "metadata": {},
   "outputs": [
    {
     "data": {
      "text/plain": [
       "array([[[0.23137255, 0.24313725, 0.24705882],\n",
       "        [0.16862745, 0.18039216, 0.17647059],\n",
       "        [0.19607843, 0.18823529, 0.16862745],\n",
       "        ...,\n",
       "        [0.61960784, 0.51764706, 0.42352941],\n",
       "        [0.59607843, 0.49019608, 0.4       ],\n",
       "        [0.58039216, 0.48627451, 0.40392157]],\n",
       "\n",
       "       [[0.0627451 , 0.07843137, 0.07843137],\n",
       "        [0.        , 0.        , 0.        ],\n",
       "        [0.07058824, 0.03137255, 0.        ],\n",
       "        ...,\n",
       "        [0.48235294, 0.34509804, 0.21568627],\n",
       "        [0.46666667, 0.3254902 , 0.19607843],\n",
       "        [0.47843137, 0.34117647, 0.22352941]],\n",
       "\n",
       "       [[0.09803922, 0.09411765, 0.08235294],\n",
       "        [0.0627451 , 0.02745098, 0.        ],\n",
       "        [0.19215686, 0.10588235, 0.03137255],\n",
       "        ...,\n",
       "        [0.4627451 , 0.32941176, 0.19607843],\n",
       "        [0.47058824, 0.32941176, 0.19607843],\n",
       "        [0.42745098, 0.28627451, 0.16470588]],\n",
       "\n",
       "       ...,\n",
       "\n",
       "       [[0.81568627, 0.66666667, 0.37647059],\n",
       "        [0.78823529, 0.6       , 0.13333333],\n",
       "        [0.77647059, 0.63137255, 0.10196078],\n",
       "        ...,\n",
       "        [0.62745098, 0.52156863, 0.2745098 ],\n",
       "        [0.21960784, 0.12156863, 0.02745098],\n",
       "        [0.20784314, 0.13333333, 0.07843137]],\n",
       "\n",
       "       [[0.70588235, 0.54509804, 0.37647059],\n",
       "        [0.67843137, 0.48235294, 0.16470588],\n",
       "        [0.72941176, 0.56470588, 0.11764706],\n",
       "        ...,\n",
       "        [0.72156863, 0.58039216, 0.36862745],\n",
       "        [0.38039216, 0.24313725, 0.13333333],\n",
       "        [0.3254902 , 0.20784314, 0.13333333]],\n",
       "\n",
       "       [[0.69411765, 0.56470588, 0.45490196],\n",
       "        [0.65882353, 0.50588235, 0.36862745],\n",
       "        [0.70196078, 0.55686275, 0.34117647],\n",
       "        ...,\n",
       "        [0.84705882, 0.72156863, 0.54901961],\n",
       "        [0.59215686, 0.4627451 , 0.32941176],\n",
       "        [0.48235294, 0.36078431, 0.28235294]]])"
      ]
     },
     "execution_count": 40,
     "metadata": {},
     "output_type": "execute_result"
    }
   ],
   "source": [
    "x_train[0]"
   ]
  },
  {
   "cell_type": "code",
   "execution_count": 42,
   "id": "72cb8df9-6a40-4e27-b39c-a5821462a72c",
   "metadata": {},
   "outputs": [
    {
     "data": {
      "text/plain": [
       "array([6], dtype=uint8)"
      ]
     },
     "execution_count": 42,
     "metadata": {},
     "output_type": "execute_result"
    }
   ],
   "source": [
    "y_train[0]"
   ]
  },
  {
   "cell_type": "code",
   "execution_count": 43,
   "id": "a484fa0f-da6a-4e63-b8da-d6e6ed7e3b48",
   "metadata": {},
   "outputs": [],
   "source": [
    "y_train_cate = keras.utils.to_categorical(y_train, num_classes=10, dtype='float32')\n",
    "\n",
    "y_test_cate = keras.utils.to_categorical(y_test, num_classes=10, dtype='float32')"
   ]
  },
  {
   "cell_type": "code",
   "execution_count": 45,
   "id": "9515ab7e-1072-4016-9cd1-47077886f5d4",
   "metadata": {},
   "outputs": [
    {
     "data": {
      "text/plain": [
       "array([0., 0., 0., 0., 0., 0., 1., 0., 0., 0.], dtype=float32)"
      ]
     },
     "execution_count": 45,
     "metadata": {},
     "output_type": "execute_result"
    }
   ],
   "source": [
    "y_train_cate[0]"
   ]
  },
  {
   "cell_type": "code",
   "execution_count": 46,
   "id": "514fab2c-a73e-420c-88e0-522ea852ebcb",
   "metadata": {},
   "outputs": [
    {
     "data": {
      "text/plain": [
       "array([[6],\n",
       "       [9],\n",
       "       [9],\n",
       "       [4],\n",
       "       [1]], dtype=uint8)"
      ]
     },
     "execution_count": 46,
     "metadata": {},
     "output_type": "execute_result"
    }
   ],
   "source": [
    "y_train[:5]"
   ]
  },
  {
   "cell_type": "code",
   "execution_count": 47,
   "id": "2a68609b-f6a5-442d-991a-477ec8e7d48e",
   "metadata": {},
   "outputs": [
    {
     "data": {
      "text/plain": [
       "array([[0., 0., 0., 0., 0., 0., 1., 0., 0., 0.],\n",
       "       [0., 0., 0., 0., 0., 0., 0., 0., 0., 1.],\n",
       "       [0., 0., 0., 0., 0., 0., 0., 0., 0., 1.],\n",
       "       [0., 0., 0., 0., 1., 0., 0., 0., 0., 0.],\n",
       "       [0., 1., 0., 0., 0., 0., 0., 0., 0., 0.]], dtype=float32)"
      ]
     },
     "execution_count": 47,
     "metadata": {},
     "output_type": "execute_result"
    }
   ],
   "source": [
    "y_train_cate[:5]"
   ]
  },
  {
   "cell_type": "code",
   "execution_count": 48,
   "id": "76270f06-0c43-49b3-a1f5-f8b1bae928b6",
   "metadata": {},
   "outputs": [
    {
     "data": {
      "text/plain": [
       "(50000, 32, 32, 3)"
      ]
     },
     "execution_count": 48,
     "metadata": {},
     "output_type": "execute_result"
    }
   ],
   "source": [
    "x_train.shape"
   ]
  },
  {
   "cell_type": "code",
   "execution_count": null,
   "id": "88300716-b6a7-4829-b485-21f34f33d2c5",
   "metadata": {},
   "outputs": [],
   "source": []
  },
  {
   "cell_type": "code",
   "execution_count": 54,
   "id": "a077a614-0579-4129-bb86-8819d5570922",
   "metadata": {},
   "outputs": [
    {
     "name": "stdout",
     "output_type": "stream",
     "text": [
      "Epoch 1/100\n",
      "1563/1563 [==============================] - 108s 51ms/step - loss: 1.8127 - accuracy: 0.3545\n",
      "Epoch 2/100\n",
      "1563/1563 [==============================] - 75s 48ms/step - loss: 1.6180 - accuracy: 0.4304\n",
      "Epoch 3/100\n",
      "1563/1563 [==============================] - 76s 48ms/step - loss: 1.5407 - accuracy: 0.4563\n",
      "Epoch 4/100\n",
      "1563/1563 [==============================] - 75s 48ms/step - loss: 1.4820 - accuracy: 0.4788\n",
      "Epoch 5/100\n",
      "1563/1563 [==============================] - 75s 48ms/step - loss: 1.4373 - accuracy: 0.4945\n",
      "Epoch 6/100\n",
      "1563/1563 [==============================] - 75s 48ms/step - loss: 1.3985 - accuracy: 0.5080\n",
      "Epoch 7/100\n",
      "1563/1563 [==============================] - 75s 48ms/step - loss: 1.3632 - accuracy: 0.5203\n",
      "Epoch 8/100\n",
      "1563/1563 [==============================] - 75s 48ms/step - loss: 1.3306 - accuracy: 0.5320\n",
      "Epoch 9/100\n",
      "1563/1563 [==============================] - 75s 48ms/step - loss: 1.3037 - accuracy: 0.5389\n",
      "Epoch 10/100\n",
      "1563/1563 [==============================] - 75s 48ms/step - loss: 1.2768 - accuracy: 0.5518\n",
      "Epoch 11/100\n",
      "1563/1563 [==============================] - 75s 48ms/step - loss: 1.2550 - accuracy: 0.5563\n",
      "Epoch 12/100\n",
      "1563/1563 [==============================] - 75s 48ms/step - loss: 1.2294 - accuracy: 0.5661\n",
      "Epoch 13/100\n",
      "1563/1563 [==============================] - 75s 48ms/step - loss: 1.2053 - accuracy: 0.5735\n",
      "Epoch 14/100\n",
      "1563/1563 [==============================] - 74s 47ms/step - loss: 1.1846 - accuracy: 0.5820\n",
      "Epoch 15/100\n",
      "1563/1563 [==============================] - 74s 47ms/step - loss: 1.1606 - accuracy: 0.5917\n",
      "Epoch 16/100\n",
      "1563/1563 [==============================] - 74s 48ms/step - loss: 1.1372 - accuracy: 0.5987\n",
      "Epoch 17/100\n",
      "1563/1563 [==============================] - 74s 48ms/step - loss: 1.1187 - accuracy: 0.6079\n",
      "Epoch 18/100\n",
      "1563/1563 [==============================] - 74s 48ms/step - loss: 1.0952 - accuracy: 0.6151\n",
      "Epoch 19/100\n",
      "1563/1563 [==============================] - 74s 48ms/step - loss: 1.0784 - accuracy: 0.6209\n",
      "Epoch 20/100\n",
      "1563/1563 [==============================] - 74s 47ms/step - loss: 1.0567 - accuracy: 0.6272\n",
      "Epoch 21/100\n",
      "1563/1563 [==============================] - 74s 47ms/step - loss: 1.0341 - accuracy: 0.6357\n",
      "Epoch 22/100\n",
      "1563/1563 [==============================] - 73s 47ms/step - loss: 1.0167 - accuracy: 0.6397\n",
      "Epoch 23/100\n",
      "1563/1563 [==============================] - 73s 47ms/step - loss: 0.9965 - accuracy: 0.6485\n",
      "Epoch 24/100\n",
      "1563/1563 [==============================] - 74s 47ms/step - loss: 0.9747 - accuracy: 0.6555\n",
      "Epoch 25/100\n",
      "1563/1563 [==============================] - 74s 48ms/step - loss: 0.9538 - accuracy: 0.6642\n",
      "Epoch 26/100\n",
      "1563/1563 [==============================] - 74s 47ms/step - loss: 0.9370 - accuracy: 0.6678\n",
      "Epoch 27/100\n",
      "1563/1563 [==============================] - 74s 47ms/step - loss: 0.9173 - accuracy: 0.6764\n",
      "Epoch 28/100\n",
      "1563/1563 [==============================] - 74s 47ms/step - loss: 0.8988 - accuracy: 0.6826\n",
      "Epoch 29/100\n",
      "1563/1563 [==============================] - 74s 47ms/step - loss: 0.8793 - accuracy: 0.6897\n",
      "Epoch 30/100\n",
      "1563/1563 [==============================] - 73s 47ms/step - loss: 0.8614 - accuracy: 0.6966\n",
      "Epoch 31/100\n",
      "1563/1563 [==============================] - 73s 47ms/step - loss: 0.8389 - accuracy: 0.7037\n",
      "Epoch 32/100\n",
      "1563/1563 [==============================] - 74s 47ms/step - loss: 0.8255 - accuracy: 0.7086\n",
      "Epoch 33/100\n",
      "1563/1563 [==============================] - 74s 48ms/step - loss: 0.8038 - accuracy: 0.7156\n",
      "Epoch 34/100\n",
      "1563/1563 [==============================] - 75s 48ms/step - loss: 0.7834 - accuracy: 0.7251\n",
      "Epoch 35/100\n",
      "1563/1563 [==============================] - 74s 47ms/step - loss: 0.7657 - accuracy: 0.7299\n",
      "Epoch 36/100\n",
      "1563/1563 [==============================] - 74s 47ms/step - loss: 0.7537 - accuracy: 0.7326\n",
      "Epoch 37/100\n",
      "1563/1563 [==============================] - 74s 48ms/step - loss: 0.7332 - accuracy: 0.7429\n",
      "Epoch 38/100\n",
      "1563/1563 [==============================] - 73s 47ms/step - loss: 0.7167 - accuracy: 0.7503\n",
      "Epoch 39/100\n",
      "1563/1563 [==============================] - 73s 47ms/step - loss: 0.6987 - accuracy: 0.7524\n",
      "Epoch 40/100\n",
      "1563/1563 [==============================] - 73s 47ms/step - loss: 0.6829 - accuracy: 0.7575\n",
      "Epoch 41/100\n",
      "1563/1563 [==============================] - 73s 47ms/step - loss: 0.6652 - accuracy: 0.7665\n",
      "Epoch 42/100\n",
      "1563/1563 [==============================] - 73s 47ms/step - loss: 0.6499 - accuracy: 0.7712\n",
      "Epoch 43/100\n",
      "1563/1563 [==============================] - 73s 47ms/step - loss: 0.6362 - accuracy: 0.7774\n",
      "Epoch 44/100\n",
      "1563/1563 [==============================] - 74s 47ms/step - loss: 0.6156 - accuracy: 0.7826\n",
      "Epoch 45/100\n",
      "1563/1563 [==============================] - 74s 47ms/step - loss: 0.5952 - accuracy: 0.7892\n",
      "Epoch 46/100\n",
      "1563/1563 [==============================] - 75s 48ms/step - loss: 0.5808 - accuracy: 0.7955\n",
      "Epoch 47/100\n",
      "1563/1563 [==============================] - 76s 49ms/step - loss: 0.5741 - accuracy: 0.7986\n",
      "Epoch 48/100\n",
      "1563/1563 [==============================] - 73s 47ms/step - loss: 0.5564 - accuracy: 0.8029\n",
      "Epoch 49/100\n",
      "1563/1563 [==============================] - 74s 47ms/step - loss: 0.5418 - accuracy: 0.8097\n",
      "Epoch 50/100\n",
      "1563/1563 [==============================] - 73s 47ms/step - loss: 0.5218 - accuracy: 0.8170\n",
      "Epoch 51/100\n",
      "1563/1563 [==============================] - 73s 47ms/step - loss: 0.5165 - accuracy: 0.8166\n",
      "Epoch 52/100\n",
      "1563/1563 [==============================] - 73s 47ms/step - loss: 0.4966 - accuracy: 0.8245\n",
      "Epoch 53/100\n",
      "1563/1563 [==============================] - 73s 47ms/step - loss: 0.4906 - accuracy: 0.8288\n",
      "Epoch 54/100\n",
      "1563/1563 [==============================] - 73s 47ms/step - loss: 0.4716 - accuracy: 0.8333\n",
      "Epoch 55/100\n",
      "1563/1563 [==============================] - 73s 47ms/step - loss: 0.4581 - accuracy: 0.8391\n",
      "Epoch 56/100\n",
      "1563/1563 [==============================] - 73s 47ms/step - loss: 0.4453 - accuracy: 0.8439\n",
      "Epoch 57/100\n",
      "1563/1563 [==============================] - 73s 47ms/step - loss: 0.4345 - accuracy: 0.8468\n",
      "Epoch 58/100\n",
      "1563/1563 [==============================] - 73s 47ms/step - loss: 0.4278 - accuracy: 0.8496\n",
      "Epoch 59/100\n",
      "1563/1563 [==============================] - 73s 47ms/step - loss: 0.4136 - accuracy: 0.8543\n",
      "Epoch 60/100\n",
      "1563/1563 [==============================] - 73s 46ms/step - loss: 0.3944 - accuracy: 0.8621\n",
      "Epoch 61/100\n",
      "1563/1563 [==============================] - 74s 47ms/step - loss: 0.3930 - accuracy: 0.8614\n",
      "Epoch 62/100\n",
      "1563/1563 [==============================] - 74s 47ms/step - loss: 0.3784 - accuracy: 0.8673\n",
      "Epoch 63/100\n",
      "1563/1563 [==============================] - 73s 47ms/step - loss: 0.3681 - accuracy: 0.8704\n",
      "Epoch 64/100\n",
      "1563/1563 [==============================] - 73s 47ms/step - loss: 0.3621 - accuracy: 0.8720\n",
      "Epoch 65/100\n",
      "1563/1563 [==============================] - 73s 47ms/step - loss: 0.3506 - accuracy: 0.8770\n",
      "Epoch 66/100\n",
      "1563/1563 [==============================] - 72s 46ms/step - loss: 0.3245 - accuracy: 0.8875\n",
      "Epoch 67/100\n",
      "1563/1563 [==============================] - 71s 46ms/step - loss: 0.3282 - accuracy: 0.8844\n",
      "Epoch 68/100\n",
      "1563/1563 [==============================] - 75s 48ms/step - loss: 0.3145 - accuracy: 0.8907\n",
      "Epoch 69/100\n",
      "1563/1563 [==============================] - 73s 47ms/step - loss: 0.3103 - accuracy: 0.8923\n",
      "Epoch 70/100\n",
      "1563/1563 [==============================] - 74s 47ms/step - loss: 0.2947 - accuracy: 0.8985\n",
      "Epoch 71/100\n",
      "1563/1563 [==============================] - 73s 47ms/step - loss: 0.3002 - accuracy: 0.8940\n",
      "Epoch 72/100\n",
      "1563/1563 [==============================] - 73s 47ms/step - loss: 0.2878 - accuracy: 0.9018\n",
      "Epoch 73/100\n",
      "1563/1563 [==============================] - 74s 47ms/step - loss: 0.2748 - accuracy: 0.9059\n",
      "Epoch 74/100\n",
      "1563/1563 [==============================] - 74s 47ms/step - loss: 0.2699 - accuracy: 0.9052\n",
      "Epoch 75/100\n",
      "1563/1563 [==============================] - 73s 47ms/step - loss: 0.2593 - accuracy: 0.9103\n",
      "Epoch 76/100\n",
      "1563/1563 [==============================] - 74s 47ms/step - loss: 0.2502 - accuracy: 0.9143\n",
      "Epoch 77/100\n",
      "1563/1563 [==============================] - 73s 47ms/step - loss: 0.2424 - accuracy: 0.9162\n",
      "Epoch 78/100\n",
      "1563/1563 [==============================] - 74s 47ms/step - loss: 0.2359 - accuracy: 0.9185\n",
      "Epoch 79/100\n",
      "1563/1563 [==============================] - 76s 49ms/step - loss: 0.2236 - accuracy: 0.9226\n",
      "Epoch 80/100\n",
      "1563/1563 [==============================] - 74s 47ms/step - loss: 0.2173 - accuracy: 0.9261\n",
      "Epoch 81/100\n",
      "1563/1563 [==============================] - 74s 47ms/step - loss: 0.2232 - accuracy: 0.9242\n",
      "Epoch 82/100\n",
      "1563/1563 [==============================] - 74s 48ms/step - loss: 0.2118 - accuracy: 0.9278\n",
      "Epoch 83/100\n",
      "1563/1563 [==============================] - 74s 47ms/step - loss: 0.1997 - accuracy: 0.9317\n",
      "Epoch 84/100\n",
      "1563/1563 [==============================] - 73s 47ms/step - loss: 0.1973 - accuracy: 0.9324\n",
      "Epoch 85/100\n",
      "1563/1563 [==============================] - 73s 47ms/step - loss: 0.1992 - accuracy: 0.9317\n",
      "Epoch 86/100\n",
      "1563/1563 [==============================] - 74s 47ms/step - loss: 0.1854 - accuracy: 0.9374\n",
      "Epoch 87/100\n",
      "1563/1563 [==============================] - 74s 47ms/step - loss: 0.1728 - accuracy: 0.9420\n",
      "Epoch 88/100\n",
      "1563/1563 [==============================] - 73s 47ms/step - loss: 0.1697 - accuracy: 0.9427\n",
      "Epoch 89/100\n",
      "1563/1563 [==============================] - 75s 48ms/step - loss: 0.1747 - accuracy: 0.9399\n",
      "Epoch 90/100\n",
      "1563/1563 [==============================] - 74s 47ms/step - loss: 0.1766 - accuracy: 0.9399\n",
      "Epoch 91/100\n",
      "1563/1563 [==============================] - 73s 47ms/step - loss: 0.1600 - accuracy: 0.9471\n",
      "Epoch 92/100\n",
      "1563/1563 [==============================] - 73s 47ms/step - loss: 0.1622 - accuracy: 0.9445\n",
      "Epoch 93/100\n",
      "1563/1563 [==============================] - 74s 47ms/step - loss: 0.1387 - accuracy: 0.9541\n",
      "Epoch 94/100\n",
      "1563/1563 [==============================] - 73s 47ms/step - loss: 0.1627 - accuracy: 0.9456\n",
      "Epoch 95/100\n",
      "1563/1563 [==============================] - 74s 47ms/step - loss: 0.1421 - accuracy: 0.9519\n",
      "Epoch 96/100\n",
      "1563/1563 [==============================] - 74s 48ms/step - loss: 0.1358 - accuracy: 0.9532\n",
      "Epoch 97/100\n",
      "1563/1563 [==============================] - 73s 47ms/step - loss: 0.1558 - accuracy: 0.9472\n",
      "Epoch 98/100\n",
      "1563/1563 [==============================] - 74s 47ms/step - loss: 0.1412 - accuracy: 0.9530\n",
      "Epoch 99/100\n",
      "1563/1563 [==============================] - 74s 47ms/step - loss: 0.1277 - accuracy: 0.9575\n",
      "Epoch 100/100\n",
      "1563/1563 [==============================] - 76s 49ms/step - loss: 0.1199 - accuracy: 0.9613\n"
     ]
    },
    {
     "data": {
      "text/plain": [
       "<keras.src.callbacks.History at 0x2a442079b70>"
      ]
     },
     "execution_count": 54,
     "metadata": {},
     "output_type": "execute_result"
    }
   ],
   "source": [
    "model = keras.Sequential([\n",
    "    keras.layers.Flatten(input_shape=(32, 32, 3)),\n",
    "    #keras.layers.Dense(2000, activation = 'softmax'),\n",
    "    keras.layers.Dense(2000, activation = 'relu'),\n",
    "    keras.layers.Dense(1000, activation = 'tanh'),\n",
    "    keras.layers.Dense(10, activation = 'sigmoid')\n",
    "])\n",
    "\n",
    "model.compile(\n",
    "    optimizer = 'SGD',\n",
    "    loss = 'categorical_crossentropy',\n",
    "    metrics = ['accuracy']\n",
    ")\n",
    "\n",
    "model.fit(x_train, y_train_cate, epochs = 100)"
   ]
  },
  {
   "cell_type": "code",
   "execution_count": 55,
   "id": "ee3034f1-a059-448d-95ce-c41eaded76a6",
   "metadata": {},
   "outputs": [
    {
     "name": "stdout",
     "output_type": "stream",
     "text": [
      "313/313 [==============================] - 71s 18ms/step - loss: 2.5801 - accuracy: 0.5501\n"
     ]
    },
    {
     "data": {
      "text/plain": [
       "[2.5801074504852295, 0.5501000285148621]"
      ]
     },
     "execution_count": 55,
     "metadata": {},
     "output_type": "execute_result"
    }
   ],
   "source": [
    "model.evaluate(x_test, y_test_cate)"
   ]
  },
  {
   "cell_type": "code",
   "execution_count": 60,
   "id": "fa1da134-04fe-4342-b820-c0c413d05ab9",
   "metadata": {},
   "outputs": [
    {
     "name": "stdout",
     "output_type": "stream",
     "text": [
      "313/313 [==============================] - 5s 8ms/step\n"
     ]
    }
   ],
   "source": [
    "p = model.predict(x_test)[0]"
   ]
  },
  {
   "cell_type": "code",
   "execution_count": 61,
   "id": "7a076891-2099-499a-b86a-22d52f35ea52",
   "metadata": {},
   "outputs": [
    {
     "data": {
      "text/plain": [
       "3"
      ]
     },
     "execution_count": 61,
     "metadata": {},
     "output_type": "execute_result"
    }
   ],
   "source": [
    "np.argmax(p)"
   ]
  },
  {
   "cell_type": "code",
   "execution_count": 62,
   "id": "a54f3081-d89b-40ba-bd21-a753f2f1c92c",
   "metadata": {},
   "outputs": [
    {
     "data": {
      "text/plain": [
       "array([3], dtype=uint8)"
      ]
     },
     "execution_count": 62,
     "metadata": {},
     "output_type": "execute_result"
    }
   ],
   "source": [
    "y_test[0]"
   ]
  },
  {
   "cell_type": "code",
   "execution_count": 63,
   "id": "77cb7155-0cfb-4f75-b9d5-e03d74cc71e5",
   "metadata": {},
   "outputs": [
    {
     "data": {
      "text/plain": [
       "'cat'"
      ]
     },
     "execution_count": 63,
     "metadata": {},
     "output_type": "execute_result"
    }
   ],
   "source": [
    "classes[y_test[0][0]]"
   ]
  },
  {
   "cell_type": "code",
   "execution_count": 64,
   "id": "1c2851cd-ff3d-4866-8fa8-48f644f57f2a",
   "metadata": {},
   "outputs": [],
   "source": [
    "def pred(i):\n",
    "    plt.figure(figsize=(12,1.5))\n",
    "    plt.imshow(x_test[i])"
   ]
  },
  {
   "cell_type": "code",
   "execution_count": 65,
   "id": "e1d5f542-5c49-4b7d-b9ed-fc8731fe9181",
   "metadata": {},
   "outputs": [
    {
     "data": {
      "image/png": "[encoded data removed]",
      "text/plain": [
       "<Figure size 1200x150 with 1 Axes>"
      ]
     },
     "metadata": {},
     "output_type": "display_data"
    }
   ],
   "source": [
    "pred(0)"
   ]
  },
  {
   "cell_type": "code",
   "execution_count": null,
   "id": "a5bbcc1d-756b-4e11-a6f2-a875bab7dce3",
   "metadata": {},
   "outputs": [],
   "source": []
  },
  {
   "cell_type": "code",
   "execution_count": null,
   "id": "3bb60f88-2744-4d75-8d60-40ec825aa343",
   "metadata": {},
   "outputs": [],
   "source": []
  },
  {
   "cell_type": "markdown",
   "id": "9b05acf6-980a-4e39-89ef-0236766e4142",
   "metadata": {},
   "source": [
    "# Excercise"
   ]
  },
  {
   "cell_type": "code",
   "execution_count": 66,
   "id": "71c54cc0-f128-4a91-902a-f732af6b3c06",
   "metadata": {},
   "outputs": [],
   "source": [
    "import pandas as pd \n",
    "import numpy as np \n",
    "import matplotlib.pyplot as plt\n",
    "import tensorflow as tf\n",
    "from tensorflow import keras\n",
    "%matplotlib inline"
   ]
  },
  {
   "cell_type": "code",
   "execution_count": 67,
   "id": "629bb997-0471-4dfa-98ab-9e8ade67ca4e",
   "metadata": {},
   "outputs": [
    {
     "name": "stdout",
     "output_type": "stream",
     "text": [
      "Downloading data from https://storage.googleapis.com/tensorflow/tf-keras-datasets/train-labels-idx1-ubyte.gz\n",
      "29515/29515 [==============================] - 0s 12us/step\n",
      "Downloading data from https://storage.googleapis.com/tensorflow/tf-keras-datasets/train-images-idx3-ubyte.gz\n",
      "26421880/26421880 [==============================] - 68s 3us/step\n",
      "Downloading data from https://storage.googleapis.com/tensorflow/tf-keras-datasets/t10k-labels-idx1-ubyte.gz\n",
      "5148/5148 [==============================] - 0s 0s/step\n",
      "Downloading data from https://storage.googleapis.com/tensorflow/tf-keras-datasets/t10k-images-idx3-ubyte.gz\n",
      "4422102/4422102 [==============================] - 11s 2us/step\n"
     ]
    }
   ],
   "source": [
    "(x_train, y_train), (x_test, y_test) = keras.datasets.fashion_mnist.load_data()"
   ]
  },
  {
   "cell_type": "code",
   "execution_count": 68,
   "id": "42005ad0-4492-46d3-8760-59d317a021ad",
   "metadata": {},
   "outputs": [
    {
     "data": {
      "text/plain": [
       "array([[  0,   0,   0,   0,   0,   0,   0,   0,   0,   0,   0,   0,   0,\n",
       "          0,   0,   0,   0,   0,   0,   0,   0,   0,   0,   0,   0,   0,\n",
       "          0,   0],\n",
       "       [  0,   0,   0,   0,   0,   0,   0,   0,   0,   0,   0,   0,   0,\n",
       "          0,   0,   0,   0,   0,   0,   0,   0,   0,   0,   0,   0,   0,\n",
       "          0,   0],\n",
       "       [  0,   0,   0,   0,   0,   0,   0,   0,   0,   0,   0,   0,   0,\n",
       "          0,   0,   0,   0,   0,   0,   0,   0,   0,   0,   0,   0,   0,\n",
       "          0,   0],\n",
       "       [  0,   0,   0,   0,   0,   0,   0,   0,   0,   0,   0,   0,   1,\n",
       "          0,   0,  13,  73,   0,   0,   1,   4,   0,   0,   0,   0,   1,\n",
       "          1,   0],\n",
       "       [  0,   0,   0,   0,   0,   0,   0,   0,   0,   0,   0,   0,   3,\n",
       "          0,  36, 136, 127,  62,  54,   0,   0,   0,   1,   3,   4,   0,\n",
       "          0,   3],\n",
       "       [  0,   0,   0,   0,   0,   0,   0,   0,   0,   0,   0,   0,   6,\n",
       "          0, 102, 204, 176, 134, 144, 123,  23,   0,   0,   0,   0,  12,\n",
       "         10,   0],\n",
       "       [  0,   0,   0,   0,   0,   0,   0,   0,   0,   0,   0,   0,   0,\n",
       "          0, 155, 236, 207, 178, 107, 156, 161, 109,  64,  23,  77, 130,\n",
       "         72,  15],\n",
       "       [  0,   0,   0,   0,   0,   0,   0,   0,   0,   0,   0,   1,   0,\n",
       "         69, 207, 223, 218, 216, 216, 163, 127, 121, 122, 146, 141,  88,\n",
       "        172,  66],\n",
       "       [  0,   0,   0,   0,   0,   0,   0,   0,   0,   1,   1,   1,   0,\n",
       "        200, 232, 232, 233, 229, 223, 223, 215, 213, 164, 127, 123, 196,\n",
       "        229,   0],\n",
       "       [  0,   0,   0,   0,   0,   0,   0,   0,   0,   0,   0,   0,   0,\n",
       "        183, 225, 216, 223, 228, 235, 227, 224, 222, 224, 221, 223, 245,\n",
       "        173,   0],\n",
       "       [  0,   0,   0,   0,   0,   0,   0,   0,   0,   0,   0,   0,   0,\n",
       "        193, 228, 218, 213, 198, 180, 212, 210, 211, 213, 223, 220, 243,\n",
       "        202,   0],\n",
       "       [  0,   0,   0,   0,   0,   0,   0,   0,   0,   1,   3,   0,  12,\n",
       "        219, 220, 212, 218, 192, 169, 227, 208, 218, 224, 212, 226, 197,\n",
       "        209,  52],\n",
       "       [  0,   0,   0,   0,   0,   0,   0,   0,   0,   0,   6,   0,  99,\n",
       "        244, 222, 220, 218, 203, 198, 221, 215, 213, 222, 220, 245, 119,\n",
       "        167,  56],\n",
       "       [  0,   0,   0,   0,   0,   0,   0,   0,   0,   4,   0,   0,  55,\n",
       "        236, 228, 230, 228, 240, 232, 213, 218, 223, 234, 217, 217, 209,\n",
       "         92,   0],\n",
       "       [  0,   0,   1,   4,   6,   7,   2,   0,   0,   0,   0,   0, 237,\n",
       "        226, 217, 223, 222, 219, 222, 221, 216, 223, 229, 215, 218, 255,\n",
       "         77,   0],\n",
       "       [  0,   3,   0,   0,   0,   0,   0,   0,   0,  62, 145, 204, 228,\n",
       "        207, 213, 221, 218, 208, 211, 218, 224, 223, 219, 215, 224, 244,\n",
       "        159,   0],\n",
       "       [  0,   0,   0,   0,  18,  44,  82, 107, 189, 228, 220, 222, 217,\n",
       "        226, 200, 205, 211, 230, 224, 234, 176, 188, 250, 248, 233, 238,\n",
       "        215,   0],\n",
       "       [  0,  57, 187, 208, 224, 221, 224, 208, 204, 214, 208, 209, 200,\n",
       "        159, 245, 193, 206, 223, 255, 255, 221, 234, 221, 211, 220, 232,\n",
       "        246,   0],\n",
       "       [  3, 202, 228, 224, 221, 211, 211, 214, 205, 205, 205, 220, 240,\n",
       "         80, 150, 255, 229, 221, 188, 154, 191, 210, 204, 209, 222, 228,\n",
       "        225,   0],\n",
       "       [ 98, 233, 198, 210, 222, 229, 229, 234, 249, 220, 194, 215, 217,\n",
       "        241,  65,  73, 106, 117, 168, 219, 221, 215, 217, 223, 223, 224,\n",
       "        229,  29],\n",
       "       [ 75, 204, 212, 204, 193, 205, 211, 225, 216, 185, 197, 206, 198,\n",
       "        213, 240, 195, 227, 245, 239, 223, 218, 212, 209, 222, 220, 221,\n",
       "        230,  67],\n",
       "       [ 48, 203, 183, 194, 213, 197, 185, 190, 194, 192, 202, 214, 219,\n",
       "        221, 220, 236, 225, 216, 199, 206, 186, 181, 177, 172, 181, 205,\n",
       "        206, 115],\n",
       "       [  0, 122, 219, 193, 179, 171, 183, 196, 204, 210, 213, 207, 211,\n",
       "        210, 200, 196, 194, 191, 195, 191, 198, 192, 176, 156, 167, 177,\n",
       "        210,  92],\n",
       "       [  0,   0,  74, 189, 212, 191, 175, 172, 175, 181, 185, 188, 189,\n",
       "        188, 193, 198, 204, 209, 210, 210, 211, 188, 188, 194, 192, 216,\n",
       "        170,   0],\n",
       "       [  2,   0,   0,   0,  66, 200, 222, 237, 239, 242, 246, 243, 244,\n",
       "        221, 220, 193, 191, 179, 182, 182, 181, 176, 166, 168,  99,  58,\n",
       "          0,   0],\n",
       "       [  0,   0,   0,   0,   0,   0,   0,  40,  61,  44,  72,  41,  35,\n",
       "          0,   0,   0,   0,   0,   0,   0,   0,   0,   0,   0,   0,   0,\n",
       "          0,   0],\n",
       "       [  0,   0,   0,   0,   0,   0,   0,   0,   0,   0,   0,   0,   0,\n",
       "          0,   0,   0,   0,   0,   0,   0,   0,   0,   0,   0,   0,   0,\n",
       "          0,   0],\n",
       "       [  0,   0,   0,   0,   0,   0,   0,   0,   0,   0,   0,   0,   0,\n",
       "          0,   0,   0,   0,   0,   0,   0,   0,   0,   0,   0,   0,   0,\n",
       "          0,   0]], dtype=uint8)"
      ]
     },
     "execution_count": 68,
     "metadata": {},
     "output_type": "execute_result"
    }
   ],
   "source": [
    "x_train[0]"
   ]
  },
  {
   "cell_type": "code",
   "execution_count": 69,
   "id": "fa0d2e24-985a-4fd1-90ec-875dbd5904c8",
   "metadata": {},
   "outputs": [
    {
     "data": {
      "text/plain": [
       "(60000, 28, 28)"
      ]
     },
     "execution_count": 69,
     "metadata": {},
     "output_type": "execute_result"
    }
   ],
   "source": [
    "x_train.shape"
   ]
  },
  {
   "cell_type": "code",
   "execution_count": 70,
   "id": "5237314c-2b36-4ee9-9d25-6d025b5b4090",
   "metadata": {},
   "outputs": [
    {
     "data": {
      "text/plain": [
       "<matplotlib.image.AxesImage at 0x2a44d057cd0>"
      ]
     },
     "execution_count": 70,
     "metadata": {},
     "output_type": "execute_result"
    },
    {
     "data": {
      "image/png": "[encoded data removed]",
      "text/plain": [
       "<Figure size 640x480 with 1 Axes>"
      ]
     },
     "metadata": {},
     "output_type": "display_data"
    }
   ],
   "source": [
    "plt.imshow(x_train[0])"
   ]
  },
  {
   "cell_type": "code",
   "execution_count": 71,
   "id": "853814fa-9811-4ffd-af5b-d4c9dbe641b0",
   "metadata": {},
   "outputs": [],
   "source": [
    "def view(i):\n",
    "    plt.imshow(x_train[i])"
   ]
  },
  {
   "cell_type": "code",
   "execution_count": 72,
   "id": "14fd3022-6eee-40ee-bd2b-4d772956313c",
   "metadata": {},
   "outputs": [
    {
     "data": {
      "image/png": "[encoded data removed]",
      "text/plain": [
       "<Figure size 640x480 with 1 Axes>"
      ]
     },
     "metadata": {},
     "output_type": "display_data"
    }
   ],
   "source": [
    "view(1)"
   ]
  },
  {
   "cell_type": "code",
   "execution_count": 73,
   "id": "636071c1-c0a3-4b08-8153-0e49c46284fb",
   "metadata": {},
   "outputs": [
    {
     "data": {
      "text/plain": [
       "(60000,)"
      ]
     },
     "execution_count": 73,
     "metadata": {},
     "output_type": "execute_result"
    }
   ],
   "source": [
    "y_train.shape"
   ]
  },
  {
   "cell_type": "code",
   "execution_count": 74,
   "id": "bc60f93c-66ec-4429-8960-424c8332e805",
   "metadata": {},
   "outputs": [
    {
     "data": {
      "text/plain": [
       "9"
      ]
     },
     "execution_count": 74,
     "metadata": {},
     "output_type": "execute_result"
    }
   ],
   "source": [
    "y_train[0]"
   ]
  },
  {
   "cell_type": "code",
   "execution_count": 75,
   "id": "df83e7cf-6039-4682-b06d-2e3a6af52f9a",
   "metadata": {},
   "outputs": [],
   "source": [
    "item = ['T-shirt/top', 'Trouser', 'Pullover', 'Dress', 'Coat', 'Sandal', 'Shirt', 'Sneaker', 'Bag', 'Ankle boot']"
   ]
  },
  {
   "cell_type": "code",
   "execution_count": 76,
   "id": "1b05cf09-55b0-424b-95ed-e22010e1dfac",
   "metadata": {},
   "outputs": [
    {
     "data": {
      "text/plain": [
       "'Ankle boot'"
      ]
     },
     "execution_count": 76,
     "metadata": {},
     "output_type": "execute_result"
    }
   ],
   "source": [
    "item[y_train[0]]"
   ]
  },
  {
   "cell_type": "code",
   "execution_count": 77,
   "id": "c28de2ae-b3dc-48cf-ae3a-84ac7265a0e9",
   "metadata": {},
   "outputs": [
    {
     "data": {
      "text/plain": [
       "'T-shirt/top'"
      ]
     },
     "execution_count": 77,
     "metadata": {},
     "output_type": "execute_result"
    }
   ],
   "source": [
    "item[y_train[1]]"
   ]
  },
  {
   "cell_type": "code",
   "execution_count": 78,
   "id": "ddd0d772-f6c8-4423-9348-ad3b41b8ede9",
   "metadata": {},
   "outputs": [],
   "source": [
    "x_train_scaled = x_train / 255\n",
    "\n",
    "x_test_scaled = x_test / 255"
   ]
  },
  {
   "cell_type": "code",
   "execution_count": 79,
   "id": "709d2796-b277-4fb0-bfe8-a2fedfbfabf9",
   "metadata": {},
   "outputs": [],
   "source": [
    "y_train_cat = keras.utils.to_categorical(y_train, num_classes = 10, dtype='float32')\n",
    "y_test_cat = keras.utils.to_categorical(y_test, num_classes = 10, dtype='float32')"
   ]
  },
  {
   "cell_type": "code",
   "execution_count": 80,
   "id": "158e8b2c-b64d-4734-9b74-b04e7591cb9e",
   "metadata": {},
   "outputs": [
    {
     "data": {
      "text/plain": [
       "array([0., 0., 0., 0., 0., 0., 0., 0., 0., 1.], dtype=float32)"
      ]
     },
     "execution_count": 80,
     "metadata": {},
     "output_type": "execute_result"
    }
   ],
   "source": [
    "y_train_cat[0]"
   ]
  },
  {
   "cell_type": "code",
   "execution_count": 82,
   "id": "077df51d-2673-4d40-b394-5f8a03d9f8a2",
   "metadata": {},
   "outputs": [
    {
     "name": "stdout",
     "output_type": "stream",
     "text": [
      "Epoch 1/50\n",
      "1875/1875 [==============================] - 341s 17ms/step - loss: 0.4913 - accuracy: 0.8225\n",
      "Epoch 2/50\n",
      "1875/1875 [==============================] - 29s 15ms/step - loss: 0.3786 - accuracy: 0.8601\n",
      "Epoch 3/50\n",
      "1875/1875 [==============================] - 31s 16ms/step - loss: 0.3461 - accuracy: 0.8716\n",
      "Epoch 4/50\n",
      "1875/1875 [==============================] - 31s 17ms/step - loss: 0.3229 - accuracy: 0.8809\n",
      "Epoch 5/50\n",
      "1875/1875 [==============================] - 32s 17ms/step - loss: 0.3058 - accuracy: 0.8851\n",
      "Epoch 6/50\n",
      "1875/1875 [==============================] - 33s 17ms/step - loss: 0.2919 - accuracy: 0.8915\n",
      "Epoch 7/50\n",
      "1875/1875 [==============================] - 33s 18ms/step - loss: 0.2876 - accuracy: 0.8927\n",
      "Epoch 8/50\n",
      "1875/1875 [==============================] - 33s 18ms/step - loss: 0.2734 - accuracy: 0.8989\n",
      "Epoch 9/50\n",
      "1875/1875 [==============================] - 31s 17ms/step - loss: 0.2656 - accuracy: 0.9008\n",
      "Epoch 10/50\n",
      "1875/1875 [==============================] - 33s 18ms/step - loss: 0.2594 - accuracy: 0.9023\n",
      "Epoch 11/50\n",
      "1875/1875 [==============================] - 33s 18ms/step - loss: 0.2556 - accuracy: 0.9030\n",
      "Epoch 12/50\n",
      "1875/1875 [==============================] - 32s 17ms/step - loss: 0.2493 - accuracy: 0.9056\n",
      "Epoch 13/50\n",
      "1875/1875 [==============================] - 34s 18ms/step - loss: 0.2431 - accuracy: 0.9085\n",
      "Epoch 14/50\n",
      "1875/1875 [==============================] - 33s 18ms/step - loss: 0.2389 - accuracy: 0.9100\n",
      "Epoch 15/50\n",
      "1875/1875 [==============================] - 34s 18ms/step - loss: 0.2342 - accuracy: 0.9120\n",
      "Epoch 16/50\n",
      "1875/1875 [==============================] - 33s 18ms/step - loss: 0.2281 - accuracy: 0.9138\n",
      "Epoch 17/50\n",
      "1875/1875 [==============================] - 32s 17ms/step - loss: 0.2248 - accuracy: 0.9146\n",
      "Epoch 18/50\n",
      "1875/1875 [==============================] - 33s 18ms/step - loss: 0.2197 - accuracy: 0.9172\n",
      "Epoch 19/50\n",
      "1875/1875 [==============================] - 34s 18ms/step - loss: 0.2194 - accuracy: 0.9170\n",
      "Epoch 20/50\n",
      "1875/1875 [==============================] - 34s 18ms/step - loss: 0.2138 - accuracy: 0.9196\n",
      "Epoch 21/50\n",
      "1875/1875 [==============================] - 34s 18ms/step - loss: 0.2098 - accuracy: 0.9205\n",
      "Epoch 22/50\n",
      "1875/1875 [==============================] - 35s 19ms/step - loss: 0.2051 - accuracy: 0.9220\n",
      "Epoch 23/50\n",
      "1875/1875 [==============================] - 35s 19ms/step - loss: 0.2080 - accuracy: 0.9209\n",
      "Epoch 24/50\n",
      "1875/1875 [==============================] - 35s 18ms/step - loss: 0.2013 - accuracy: 0.9242\n",
      "Epoch 25/50\n",
      "1875/1875 [==============================] - 35s 19ms/step - loss: 0.1989 - accuracy: 0.9250\n",
      "Epoch 26/50\n",
      "1875/1875 [==============================] - 34s 18ms/step - loss: 0.1967 - accuracy: 0.9254\n",
      "Epoch 27/50\n",
      "1875/1875 [==============================] - 34s 18ms/step - loss: 0.1943 - accuracy: 0.9276\n",
      "Epoch 28/50\n",
      "1875/1875 [==============================] - 35s 19ms/step - loss: 0.1906 - accuracy: 0.9278\n",
      "Epoch 29/50\n",
      "1875/1875 [==============================] - 33s 18ms/step - loss: 0.1881 - accuracy: 0.9297\n",
      "Epoch 30/50\n",
      "1875/1875 [==============================] - 33s 18ms/step - loss: 0.1861 - accuracy: 0.9291\n",
      "Epoch 31/50\n",
      "1875/1875 [==============================] - 34s 18ms/step - loss: 0.1811 - accuracy: 0.9323\n",
      "Epoch 32/50\n",
      "1875/1875 [==============================] - 34s 18ms/step - loss: 0.1798 - accuracy: 0.9320\n",
      "Epoch 33/50\n",
      "1875/1875 [==============================] - 35s 18ms/step - loss: 0.1773 - accuracy: 0.9325\n",
      "Epoch 34/50\n",
      "1875/1875 [==============================] - 35s 19ms/step - loss: 0.1781 - accuracy: 0.9322\n",
      "Epoch 35/50\n",
      "1875/1875 [==============================] - 34s 18ms/step - loss: 0.1783 - accuracy: 0.9332\n",
      "Epoch 36/50\n",
      "1875/1875 [==============================] - 35s 18ms/step - loss: 0.1742 - accuracy: 0.9344\n",
      "Epoch 37/50\n",
      "1875/1875 [==============================] - 34s 18ms/step - loss: 0.1714 - accuracy: 0.9347\n",
      "Epoch 38/50\n",
      "1875/1875 [==============================] - 34s 18ms/step - loss: 0.1689 - accuracy: 0.9361\n",
      "Epoch 39/50\n",
      "1875/1875 [==============================] - 35s 18ms/step - loss: 0.1695 - accuracy: 0.9349\n",
      "Epoch 40/50\n",
      "1875/1875 [==============================] - 34s 18ms/step - loss: 0.1645 - accuracy: 0.9378\n",
      "Epoch 41/50\n",
      "1875/1875 [==============================] - 33s 18ms/step - loss: 0.1609 - accuracy: 0.9391\n",
      "Epoch 42/50\n",
      "1875/1875 [==============================] - 34s 18ms/step - loss: 0.1642 - accuracy: 0.9395\n",
      "Epoch 43/50\n",
      "1875/1875 [==============================] - 33s 18ms/step - loss: 0.1628 - accuracy: 0.9373\n",
      "Epoch 44/50\n",
      "1875/1875 [==============================] - 33s 18ms/step - loss: 0.1585 - accuracy: 0.9395\n",
      "Epoch 45/50\n",
      "1875/1875 [==============================] - 33s 18ms/step - loss: 0.1555 - accuracy: 0.9411\n",
      "Epoch 46/50\n",
      "1875/1875 [==============================] - 33s 18ms/step - loss: 0.1559 - accuracy: 0.9403\n",
      "Epoch 47/50\n",
      "1875/1875 [==============================] - 33s 18ms/step - loss: 0.1548 - accuracy: 0.9417\n",
      "Epoch 48/50\n",
      "1875/1875 [==============================] - 34s 18ms/step - loss: 0.1538 - accuracy: 0.9416\n",
      "Epoch 49/50\n",
      "1875/1875 [==============================] - 33s 18ms/step - loss: 0.1525 - accuracy: 0.9406\n",
      "Epoch 50/50\n",
      "1875/1875 [==============================] - 32s 17ms/step - loss: 0.1470 - accuracy: 0.9448\n"
     ]
    },
    {
     "data": {
      "text/plain": [
       "<keras.src.callbacks.History at 0x2a457398460>"
      ]
     },
     "execution_count": 82,
     "metadata": {},
     "output_type": "execute_result"
    }
   ],
   "source": [
    "model = keras.Sequential([\n",
    "    keras.layers.Flatten(input_shape=(28, 28)),\n",
    "    keras.layers.Dense(1000, activation = 'tanh'),\n",
    "    keras.layers.Dense(100, activation = 'relu'),\n",
    "    keras.layers.Dense(10, activation = 'sigmoid')\n",
    "])\n",
    "\n",
    "model.compile(\n",
    "    optimizer = 'adam',\n",
    "    loss = 'sparse_categorical_crossentropy',\n",
    "    metrics = ['accuracy']\n",
    ")\n",
    "\n",
    "model.fit(x_train_scaled, y_train, epochs = 50)"
   ]
  },
  {
   "cell_type": "markdown",
   "id": "f88847a3-9e52-4d04-8151-844c7defed7f",
   "metadata": {},
   "source": [
    "### sparse_categorical_crossentropy for discrete value of y_train\n",
    "### and only categorical_crossentropy for continuous valye of y_train"
   ]
  },
  {
   "cell_type": "code",
   "execution_count": 85,
   "id": "dc27b0e2-e474-4357-b006-fb34ea02b88f",
   "metadata": {},
   "outputs": [
    {
     "name": "stdout",
     "output_type": "stream",
     "text": [
      "Epoch 1/50\n",
      "1875/1875 [==============================] - 43s 7ms/step - loss: 0.6193 - accuracy: 0.7952\n",
      "Epoch 2/50\n",
      "1875/1875 [==============================] - 14s 7ms/step - loss: 0.4518 - accuracy: 0.8433\n",
      "Epoch 3/50\n",
      "1875/1875 [==============================] - 12s 7ms/step - loss: 0.4143 - accuracy: 0.8547\n",
      "Epoch 4/50\n",
      "1875/1875 [==============================] - 13s 7ms/step - loss: 0.3924 - accuracy: 0.8608\n",
      "Epoch 5/50\n",
      "1875/1875 [==============================] - 13s 7ms/step - loss: 0.3761 - accuracy: 0.8669\n",
      "Epoch 6/50\n",
      "1875/1875 [==============================] - 13s 7ms/step - loss: 0.3627 - accuracy: 0.8707\n",
      "Epoch 7/50\n",
      "1875/1875 [==============================] - 13s 7ms/step - loss: 0.3524 - accuracy: 0.8753\n",
      "Epoch 8/50\n",
      "1875/1875 [==============================] - 13s 7ms/step - loss: 0.3433 - accuracy: 0.8779\n",
      "Epoch 9/50\n",
      "1875/1875 [==============================] - 13s 7ms/step - loss: 0.3337 - accuracy: 0.8812\n",
      "Epoch 10/50\n",
      "1875/1875 [==============================] - 13s 7ms/step - loss: 0.3266 - accuracy: 0.8828\n",
      "Epoch 11/50\n",
      "1875/1875 [==============================] - 13s 7ms/step - loss: 0.3193 - accuracy: 0.8861\n",
      "Epoch 12/50\n",
      "1875/1875 [==============================] - 14s 7ms/step - loss: 0.3125 - accuracy: 0.8877\n",
      "Epoch 13/50\n",
      "1875/1875 [==============================] - 14s 8ms/step - loss: 0.3058 - accuracy: 0.8906\n",
      "Epoch 14/50\n",
      "1875/1875 [==============================] - 13s 7ms/step - loss: 0.3008 - accuracy: 0.8914\n",
      "Epoch 15/50\n",
      "1875/1875 [==============================] - 14s 7ms/step - loss: 0.2951 - accuracy: 0.8934\n",
      "Epoch 16/50\n",
      "1875/1875 [==============================] - 13s 7ms/step - loss: 0.2901 - accuracy: 0.8944\n",
      "Epoch 17/50\n",
      "1875/1875 [==============================] - 13s 7ms/step - loss: 0.2851 - accuracy: 0.8970\n",
      "Epoch 18/50\n",
      "1875/1875 [==============================] - 13s 7ms/step - loss: 0.2800 - accuracy: 0.8994\n",
      "Epoch 19/50\n",
      "1875/1875 [==============================] - 13s 7ms/step - loss: 0.2759 - accuracy: 0.9000\n",
      "Epoch 20/50\n",
      "1875/1875 [==============================] - 13s 7ms/step - loss: 0.2720 - accuracy: 0.9009\n",
      "Epoch 21/50\n",
      "1875/1875 [==============================] - 13s 7ms/step - loss: 0.2680 - accuracy: 0.9029\n",
      "Epoch 22/50\n",
      "1875/1875 [==============================] - 14s 7ms/step - loss: 0.2639 - accuracy: 0.9042\n",
      "Epoch 23/50\n",
      "1875/1875 [==============================] - 14s 8ms/step - loss: 0.2608 - accuracy: 0.9062\n",
      "Epoch 24/50\n",
      "1875/1875 [==============================] - 14s 7ms/step - loss: 0.2570 - accuracy: 0.9073\n",
      "Epoch 25/50\n",
      "1875/1875 [==============================] - 14s 7ms/step - loss: 0.2538 - accuracy: 0.9086\n",
      "Epoch 26/50\n",
      "1875/1875 [==============================] - 14s 8ms/step - loss: 0.2507 - accuracy: 0.9100\n",
      "Epoch 27/50\n",
      "1875/1875 [==============================] - 14s 7ms/step - loss: 0.2471 - accuracy: 0.9107\n",
      "Epoch 28/50\n",
      "1875/1875 [==============================] - 14s 7ms/step - loss: 0.2451 - accuracy: 0.9118\n",
      "Epoch 29/50\n",
      "1875/1875 [==============================] - 14s 7ms/step - loss: 0.2416 - accuracy: 0.9114\n",
      "Epoch 30/50\n",
      "1875/1875 [==============================] - 14s 7ms/step - loss: 0.2383 - accuracy: 0.9140\n",
      "Epoch 31/50\n",
      "1875/1875 [==============================] - 14s 7ms/step - loss: 0.2352 - accuracy: 0.9151\n",
      "Epoch 32/50\n",
      "1875/1875 [==============================] - 14s 7ms/step - loss: 0.2327 - accuracy: 0.9151\n",
      "Epoch 33/50\n",
      "1875/1875 [==============================] - 14s 7ms/step - loss: 0.2302 - accuracy: 0.9164\n",
      "Epoch 34/50\n",
      "1875/1875 [==============================] - 15s 8ms/step - loss: 0.2276 - accuracy: 0.9174\n",
      "Epoch 35/50\n",
      "1875/1875 [==============================] - 14s 8ms/step - loss: 0.2242 - accuracy: 0.9189\n",
      "Epoch 36/50\n",
      "1875/1875 [==============================] - 14s 8ms/step - loss: 0.2222 - accuracy: 0.9194\n",
      "Epoch 37/50\n",
      "1875/1875 [==============================] - 14s 7ms/step - loss: 0.2199 - accuracy: 0.9211\n",
      "Epoch 38/50\n",
      "1875/1875 [==============================] - 14s 7ms/step - loss: 0.2175 - accuracy: 0.9207\n",
      "Epoch 39/50\n",
      "1875/1875 [==============================] - 14s 7ms/step - loss: 0.2143 - accuracy: 0.9222\n",
      "Epoch 40/50\n",
      "1875/1875 [==============================] - 14s 7ms/step - loss: 0.2120 - accuracy: 0.9233\n",
      "Epoch 41/50\n",
      "1875/1875 [==============================] - 14s 7ms/step - loss: 0.2101 - accuracy: 0.9244\n",
      "Epoch 42/50\n",
      "1875/1875 [==============================] - 14s 7ms/step - loss: 0.2081 - accuracy: 0.9250\n",
      "Epoch 43/50\n",
      "1875/1875 [==============================] - 13s 7ms/step - loss: 0.2052 - accuracy: 0.9261\n",
      "Epoch 44/50\n",
      "1875/1875 [==============================] - 13s 7ms/step - loss: 0.2029 - accuracy: 0.9271\n",
      "Epoch 45/50\n",
      "1875/1875 [==============================] - 13s 7ms/step - loss: 0.2003 - accuracy: 0.9287\n",
      "Epoch 46/50\n",
      "1875/1875 [==============================] - 13s 7ms/step - loss: 0.1987 - accuracy: 0.9286\n",
      "Epoch 47/50\n",
      "1875/1875 [==============================] - 13s 7ms/step - loss: 0.1962 - accuracy: 0.9294\n",
      "Epoch 48/50\n",
      "1875/1875 [==============================] - 13s 7ms/step - loss: 0.1944 - accuracy: 0.9301\n",
      "Epoch 49/50\n",
      "1875/1875 [==============================] - 13s 7ms/step - loss: 0.1920 - accuracy: 0.9311\n",
      "Epoch 50/50\n",
      "1875/1875 [==============================] - 12s 7ms/step - loss: 0.1912 - accuracy: 0.9316\n"
     ]
    },
    {
     "data": {
      "text/plain": [
       "<keras.src.callbacks.History at 0x2a3bb05a380>"
      ]
     },
     "execution_count": 85,
     "metadata": {},
     "output_type": "execute_result"
    }
   ],
   "source": [
    "model01 = keras.Sequential([\n",
    "    keras.layers.Flatten(input_shape=(28, 28)),\n",
    "    keras.layers.Dense(1000, activation = 'tanh'),\n",
    "    keras.layers.Dense(100, activation = 'relu'),\n",
    "    keras.layers.Dense(10, activation = 'sigmoid')\n",
    "])\n",
    "\n",
    "model01.compile(\n",
    "    optimizer = 'SGD',\n",
    "    loss = 'categorical_crossentropy',\n",
    "    metrics = ['accuracy']\n",
    ")\n",
    "\n",
    "model01.fit(x_train_scaled, y_train_cat, epochs = 50)"
   ]
  },
  {
   "cell_type": "code",
   "execution_count": 87,
   "id": "e4dfb3c8-162c-4b2e-be88-e03bb4eb6a21",
   "metadata": {},
   "outputs": [
    {
     "name": "stdout",
     "output_type": "stream",
     "text": [
      "313/313 [==============================] - 1s 4ms/step\n"
     ]
    }
   ],
   "source": [
    "pred = model.predict(x_test_scaled)"
   ]
  },
  {
   "cell_type": "code",
   "execution_count": 88,
   "id": "59feb122-9338-44c9-a9fb-070ac8dd5746",
   "metadata": {},
   "outputs": [
    {
     "data": {
      "text/plain": [
       "array([7.53675877e-08, 6.90957904e-08, 1.76606147e-12, 3.04442381e-07,\n",
       "       6.01636518e-11, 2.06817780e-03, 1.04428076e-13, 8.71036410e-01,\n",
       "       1.72217474e-09, 9.99990582e-01], dtype=float32)"
      ]
     },
     "execution_count": 88,
     "metadata": {},
     "output_type": "execute_result"
    }
   ],
   "source": [
    "pred[0]"
   ]
  },
  {
   "cell_type": "code",
   "execution_count": 90,
   "id": "6bbcbd75-f8ed-4bdc-b126-9c5357b9ec87",
   "metadata": {},
   "outputs": [
    {
     "data": {
      "text/plain": [
       "array([9, 2, 1, 1, 6], dtype=uint8)"
      ]
     },
     "execution_count": 90,
     "metadata": {},
     "output_type": "execute_result"
    }
   ],
   "source": [
    "y_test[:5]"
   ]
  },
  {
   "cell_type": "code",
   "execution_count": 91,
   "id": "18a4779c-2a88-4093-8e81-da6ce6d5309e",
   "metadata": {},
   "outputs": [],
   "source": [
    "predict = [np.argmax(i) for i in pred]"
   ]
  },
  {
   "cell_type": "code",
   "execution_count": 98,
   "id": "edcdb518-3255-4268-a34f-effca60c9bff",
   "metadata": {},
   "outputs": [
    {
     "data": {
      "text/plain": [
       "[9, 2, 1, 1, 6]"
      ]
     },
     "execution_count": 98,
     "metadata": {},
     "output_type": "execute_result"
    }
   ],
   "source": [
    "predict[:5]"
   ]
  },
  {
   "cell_type": "code",
   "execution_count": null,
   "id": "9d9df66f-c7fd-45f5-a45b-956b1a2ca42c",
   "metadata": {},
   "outputs": [],
   "source": []
  },
  {
   "cell_type": "code",
   "execution_count": 103,
   "id": "fb697915-7931-42f0-aa18-d54ff0bef7a3",
   "metadata": {},
   "outputs": [
    {
     "name": "stdout",
     "output_type": "stream",
     "text": [
      "['Ankle boot', 'Pullover', 'Trouser', 'Trouser', 'Shirt']\n"
     ]
    }
   ],
   "source": [
    "print([item[i] for i in predict[:5]])"
   ]
  },
  {
   "cell_type": "code",
   "execution_count": null,
   "id": "3501d78d-f15f-493e-8a09-e5d0983781c0",
   "metadata": {},
   "outputs": [],
   "source": []
  }
 ],
 "metadata": {
  "kernelspec": {
   "display_name": "Python 3 (ipykernel)",
   "language": "python",
   "name": "python3"
  },
  "language_info": {
   "codemirror_mode": {
    "name": "ipython",
    "version": 3
   },
   "file_extension": ".py",
   "mimetype": "text/x-python",
   "name": "python",
   "nbconvert_exporter": "python",
   "pygments_lexer": "ipython3",
   "version": "3.10.13"
  }
 },
 "nbformat": 4,
 "nbformat_minor": 5
}
